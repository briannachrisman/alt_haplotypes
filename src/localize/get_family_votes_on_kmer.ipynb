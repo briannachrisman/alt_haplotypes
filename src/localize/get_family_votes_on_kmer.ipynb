{
 "cells": [
  {
   "cell_type": "code",
   "execution_count": 1,
   "metadata": {},
   "outputs": [],
   "source": [
    "import pandas as pd\n",
    "from collections import Counter\n",
    "import numpy as np\n",
    "import matplotlib.pyplot as plt\n",
    "from glob import glob\n",
    "import json\n",
    "\n",
    "PHASINGS_DIR='/home/groups/dpwall/briannac/alt_haplotypes/data/phasings/'\n",
    "BAM_MAPPINGS_FILE = '/home/groups/dpwall/briannac/general_data/bam_mappings.csv'\n",
    "KMER_COUNTS_FILE = '/home/groups/dpwall/briannac/alt_haplotypes/results/kmers/query_counts.unmapped_reads/query_counts.unmapped_reads.1000.tsv.gz'"
   ]
  },
  {
   "cell_type": "code",
   "execution_count": 2,
   "metadata": {},
   "outputs": [],
   "source": [
    "# Load in family region/global region conversion data.\n",
    "fam_region_to_idx = np.load(PHASINGS_DIR +  'fam_region_to_idx.npy', allow_pickle=True).item()\n",
    "idx_to_fam_region = np.load(PHASINGS_DIR +  'idx_to_fam_region.npy', allow_pickle=True).item()\n",
    "global_region_to_idx = np.load(PHASINGS_DIR +  'global_region_to_idx.npy', allow_pickle=True).item()\n",
    "idx_to_global_region = np.load(PHASINGS_DIR +  'idx_to_global_region.npy', allow_pickle=True).item()\n",
    "fam_region_to_global_region = np.load(PHASINGS_DIR + 'fam_regions_to_global_regions.npy', allow_pickle=True)"
   ]
  },
  {
   "cell_type": "markdown",
   "metadata": {},
   "source": [
    "# Test pipeline on a family"
   ]
  },
  {
   "cell_type": "code",
   "execution_count": 3,
   "metadata": {},
   "outputs": [],
   "source": [
    "bam_mappings = pd.read_csv(BAM_MAPPINGS_FILE, sep='\\t', index_col=1)\n",
    "bam_mappings = bam_mappings[bam_mappings['status']=='Passed_QC_analysis_ready']\n",
    "sample_id_to_participant = {sample_id:participant_id for participant_id, sample_id in zip(bam_mappings.participant_id, bam_mappings.index)}\n",
    "\n",
    "fam_number = 1 #int(sys.argv[1])\n",
    "family_info = pd.read_pickle(PHASINGS_DIR + 'fam_list.df')\n",
    "fam = family_info.iloc[fam_number].fam\n",
    "mom = sample_id_to_participant[family_info.iloc[fam_number].mother_sample]\n",
    "dad = sample_id_to_participant[family_info.iloc[fam_number].father_sample]\n",
    "children = [sample_id_to_participant[s] for s in family_info.iloc[fam_number].sib_samples]"
   ]
  },
  {
   "cell_type": "code",
   "execution_count": 15,
   "metadata": {},
   "outputs": [],
   "source": [
    "for chunk in pd.read_table(KMER_COUNTS_FILE, chunksize=1000):\n",
    "    kmer_counts = chunk\n",
    "    break\n",
    "kmer_counts.drop('Unnamed: 3741', axis=1, inplace=True)\n",
    "kmer_counts.columns = [sample_id_to_participant[c] for c in kmer_counts.columns]"
   ]
  },
  {
   "cell_type": "code",
   "execution_count": 18,
   "metadata": {},
   "outputs": [
    {
     "ename": "TypeError",
     "evalue": "only integer scalar arrays can be converted to a scalar index",
     "output_type": "error",
     "traceback": [
      "\u001b[0;31m---------------------------------------------------------------------------\u001b[0m",
      "\u001b[0;31mTypeError\u001b[0m                                 Traceback (most recent call last)",
      "\u001b[0;32m<ipython-input-18-2b36700b55dd>\u001b[0m in \u001b[0;36m<module>\u001b[0;34m\u001b[0m\n\u001b[1;32m     25\u001b[0m \u001b[0;31m# Compute sib sets for maternally inherited.\u001b[0m\u001b[0;34m\u001b[0m\u001b[0;34m\u001b[0m\u001b[0m\n\u001b[1;32m     26\u001b[0m \u001b[0mdf_mat\u001b[0m\u001b[0;34m=\u001b[0m\u001b[0mdf_mat\u001b[0m\u001b[0;34m.\u001b[0m\u001b[0mgroupby\u001b[0m\u001b[0;34m(\u001b[0m\u001b[0mlist\u001b[0m\u001b[0;34m(\u001b[0m\u001b[0mchildren\u001b[0m\u001b[0;34m)\u001b[0m\u001b[0;34m)\u001b[0m\u001b[0;34m.\u001b[0m\u001b[0maggregate\u001b[0m\u001b[0;34m(\u001b[0m\u001b[0mlist\u001b[0m\u001b[0;34m)\u001b[0m\u001b[0;34m\u001b[0m\u001b[0m\n\u001b[0;32m---> 27\u001b[0;31m \u001b[0mdf_mat\u001b[0m\u001b[0;34m[\u001b[0m\u001b[0;34m'sets'\u001b[0m\u001b[0;34m]\u001b[0m \u001b[0;34m=\u001b[0m \u001b[0;34m[\u001b[0m\u001b[0mfrozenset\u001b[0m\u001b[0;34m(\u001b[0m\u001b[0;34m[\u001b[0m\u001b[0mfrozenset\u001b[0m\u001b[0;34m(\u001b[0m\u001b[0mchildren\u001b[0m\u001b[0;34m[\u001b[0m\u001b[0mnp\u001b[0m\u001b[0;34m.\u001b[0m\u001b[0mwhere\u001b[0m\u001b[0;34m(\u001b[0m\u001b[0mnp\u001b[0m\u001b[0;34m.\u001b[0m\u001b[0marray\u001b[0m\u001b[0;34m(\u001b[0m\u001b[0mi\u001b[0m\u001b[0;34m)\u001b[0m\u001b[0;34m==\u001b[0m\u001b[0;32mTrue\u001b[0m\u001b[0;34m)\u001b[0m\u001b[0;34m[\u001b[0m\u001b[0;36m0\u001b[0m\u001b[0;34m]\u001b[0m\u001b[0;34m]\u001b[0m\u001b[0;34m)\u001b[0m\u001b[0;34m,\u001b[0m \u001b[0mfrozenset\u001b[0m\u001b[0;34m(\u001b[0m\u001b[0mchildren\u001b[0m\u001b[0;34m[\u001b[0m\u001b[0mnp\u001b[0m\u001b[0;34m.\u001b[0m\u001b[0mwhere\u001b[0m\u001b[0;34m(\u001b[0m\u001b[0mnp\u001b[0m\u001b[0;34m.\u001b[0m\u001b[0marray\u001b[0m\u001b[0;34m(\u001b[0m\u001b[0mi\u001b[0m\u001b[0;34m)\u001b[0m\u001b[0;34m==\u001b[0m\u001b[0;32mFalse\u001b[0m\u001b[0;34m)\u001b[0m\u001b[0;34m[\u001b[0m\u001b[0;36m0\u001b[0m\u001b[0;34m]\u001b[0m\u001b[0;34m]\u001b[0m\u001b[0;34m)\u001b[0m\u001b[0;34m]\u001b[0m\u001b[0;34m)\u001b[0m \u001b[0;32mfor\u001b[0m \u001b[0mi\u001b[0m \u001b[0;32min\u001b[0m \u001b[0mdf_mat\u001b[0m\u001b[0;34m.\u001b[0m\u001b[0mindex\u001b[0m\u001b[0;34m]\u001b[0m\u001b[0;34m\u001b[0m\u001b[0m\n\u001b[0m\u001b[1;32m     28\u001b[0m \u001b[0mdf_mat\u001b[0m \u001b[0;34m=\u001b[0m \u001b[0mdf_mat\u001b[0m\u001b[0;34m.\u001b[0m\u001b[0mgroupby\u001b[0m\u001b[0;34m(\u001b[0m\u001b[0;34m'sets'\u001b[0m\u001b[0;34m)\u001b[0m\u001b[0;34m.\u001b[0m\u001b[0maggregate\u001b[0m\u001b[0;34m(\u001b[0m\u001b[0;32mlambda\u001b[0m \u001b[0mx\u001b[0m\u001b[0;34m:\u001b[0m \u001b[0mlist\u001b[0m\u001b[0;34m(\u001b[0m\u001b[0mx\u001b[0m\u001b[0;34m)\u001b[0m\u001b[0;34m)\u001b[0m\u001b[0;34m\u001b[0m\u001b[0m\n\u001b[1;32m     29\u001b[0m \u001b[0mdf_mat\u001b[0m\u001b[0;34m[\u001b[0m\u001b[0;34m'kmer'\u001b[0m\u001b[0;34m]\u001b[0m \u001b[0;34m=\u001b[0m \u001b[0;34m[\u001b[0m\u001b[0mset\u001b[0m\u001b[0;34m(\u001b[0m\u001b[0mnp\u001b[0m\u001b[0;34m.\u001b[0m\u001b[0mconcatenate\u001b[0m\u001b[0;34m(\u001b[0m\u001b[0mk\u001b[0m\u001b[0;34m)\u001b[0m\u001b[0;34m)\u001b[0m \u001b[0;32mfor\u001b[0m \u001b[0mk\u001b[0m \u001b[0;32min\u001b[0m \u001b[0mdf_mat\u001b[0m\u001b[0;34m[\u001b[0m\u001b[0;34m'kmer'\u001b[0m\u001b[0;34m]\u001b[0m\u001b[0;34m]\u001b[0m\u001b[0;34m\u001b[0m\u001b[0m\n",
      "\u001b[0;32m<ipython-input-18-2b36700b55dd>\u001b[0m in \u001b[0;36m<listcomp>\u001b[0;34m(.0)\u001b[0m\n\u001b[1;32m     25\u001b[0m \u001b[0;31m# Compute sib sets for maternally inherited.\u001b[0m\u001b[0;34m\u001b[0m\u001b[0;34m\u001b[0m\u001b[0m\n\u001b[1;32m     26\u001b[0m \u001b[0mdf_mat\u001b[0m\u001b[0;34m=\u001b[0m\u001b[0mdf_mat\u001b[0m\u001b[0;34m.\u001b[0m\u001b[0mgroupby\u001b[0m\u001b[0;34m(\u001b[0m\u001b[0mlist\u001b[0m\u001b[0;34m(\u001b[0m\u001b[0mchildren\u001b[0m\u001b[0;34m)\u001b[0m\u001b[0;34m)\u001b[0m\u001b[0;34m.\u001b[0m\u001b[0maggregate\u001b[0m\u001b[0;34m(\u001b[0m\u001b[0mlist\u001b[0m\u001b[0;34m)\u001b[0m\u001b[0;34m\u001b[0m\u001b[0m\n\u001b[0;32m---> 27\u001b[0;31m \u001b[0mdf_mat\u001b[0m\u001b[0;34m[\u001b[0m\u001b[0;34m'sets'\u001b[0m\u001b[0;34m]\u001b[0m \u001b[0;34m=\u001b[0m \u001b[0;34m[\u001b[0m\u001b[0mfrozenset\u001b[0m\u001b[0;34m(\u001b[0m\u001b[0;34m[\u001b[0m\u001b[0mfrozenset\u001b[0m\u001b[0;34m(\u001b[0m\u001b[0mchildren\u001b[0m\u001b[0;34m[\u001b[0m\u001b[0mnp\u001b[0m\u001b[0;34m.\u001b[0m\u001b[0mwhere\u001b[0m\u001b[0;34m(\u001b[0m\u001b[0mnp\u001b[0m\u001b[0;34m.\u001b[0m\u001b[0marray\u001b[0m\u001b[0;34m(\u001b[0m\u001b[0mi\u001b[0m\u001b[0;34m)\u001b[0m\u001b[0;34m==\u001b[0m\u001b[0;32mTrue\u001b[0m\u001b[0;34m)\u001b[0m\u001b[0;34m[\u001b[0m\u001b[0;36m0\u001b[0m\u001b[0;34m]\u001b[0m\u001b[0;34m]\u001b[0m\u001b[0;34m)\u001b[0m\u001b[0;34m,\u001b[0m \u001b[0mfrozenset\u001b[0m\u001b[0;34m(\u001b[0m\u001b[0mchildren\u001b[0m\u001b[0;34m[\u001b[0m\u001b[0mnp\u001b[0m\u001b[0;34m.\u001b[0m\u001b[0mwhere\u001b[0m\u001b[0;34m(\u001b[0m\u001b[0mnp\u001b[0m\u001b[0;34m.\u001b[0m\u001b[0marray\u001b[0m\u001b[0;34m(\u001b[0m\u001b[0mi\u001b[0m\u001b[0;34m)\u001b[0m\u001b[0;34m==\u001b[0m\u001b[0;32mFalse\u001b[0m\u001b[0;34m)\u001b[0m\u001b[0;34m[\u001b[0m\u001b[0;36m0\u001b[0m\u001b[0;34m]\u001b[0m\u001b[0;34m]\u001b[0m\u001b[0;34m)\u001b[0m\u001b[0;34m]\u001b[0m\u001b[0;34m)\u001b[0m \u001b[0;32mfor\u001b[0m \u001b[0mi\u001b[0m \u001b[0;32min\u001b[0m \u001b[0mdf_mat\u001b[0m\u001b[0;34m.\u001b[0m\u001b[0mindex\u001b[0m\u001b[0;34m]\u001b[0m\u001b[0;34m\u001b[0m\u001b[0m\n\u001b[0m\u001b[1;32m     28\u001b[0m \u001b[0mdf_mat\u001b[0m \u001b[0;34m=\u001b[0m \u001b[0mdf_mat\u001b[0m\u001b[0;34m.\u001b[0m\u001b[0mgroupby\u001b[0m\u001b[0;34m(\u001b[0m\u001b[0;34m'sets'\u001b[0m\u001b[0;34m)\u001b[0m\u001b[0;34m.\u001b[0m\u001b[0maggregate\u001b[0m\u001b[0;34m(\u001b[0m\u001b[0;32mlambda\u001b[0m \u001b[0mx\u001b[0m\u001b[0;34m:\u001b[0m \u001b[0mlist\u001b[0m\u001b[0;34m(\u001b[0m\u001b[0mx\u001b[0m\u001b[0;34m)\u001b[0m\u001b[0;34m)\u001b[0m\u001b[0;34m\u001b[0m\u001b[0m\n\u001b[1;32m     29\u001b[0m \u001b[0mdf_mat\u001b[0m\u001b[0;34m[\u001b[0m\u001b[0;34m'kmer'\u001b[0m\u001b[0;34m]\u001b[0m \u001b[0;34m=\u001b[0m \u001b[0;34m[\u001b[0m\u001b[0mset\u001b[0m\u001b[0;34m(\u001b[0m\u001b[0mnp\u001b[0m\u001b[0;34m.\u001b[0m\u001b[0mconcatenate\u001b[0m\u001b[0;34m(\u001b[0m\u001b[0mk\u001b[0m\u001b[0;34m)\u001b[0m\u001b[0;34m)\u001b[0m \u001b[0;32mfor\u001b[0m \u001b[0mk\u001b[0m \u001b[0;32min\u001b[0m \u001b[0mdf_mat\u001b[0m\u001b[0;34m[\u001b[0m\u001b[0;34m'kmer'\u001b[0m\u001b[0;34m]\u001b[0m\u001b[0;34m]\u001b[0m\u001b[0;34m\u001b[0m\u001b[0m\n",
      "\u001b[0;31mTypeError\u001b[0m: only integer scalar arrays can be converted to a scalar index"
     ]
    }
   ],
   "source": [
    "######### Come up with possible phasings that correspond to k-mers #######\n",
    "\n",
    "df_all = kmer_counts[np.append(children, [mom, dad])].copy()\n",
    "df_all[pd.isna(df_all)] = 0\n",
    "df_all = df_all>0\n",
    "\n",
    "# Impossible inheritance patterns, kmer is something weird.\n",
    "df_impossible = df_all[(df_all[mom]==False) & (df_all[dad]==False)] \n",
    "df_all = df_all[(df_all[mom]==True) | (df_all[dad]==True)]\n",
    "\n",
    "# Unclassifieable: Kmer is in all siblings, so parent could be homozygous kmer.\n",
    "df_unclassifiable = df_all[(df_all[children]).sum(axis=1)==len(children)]\n",
    "df_all = df_all[(df_all[children]).sum(axis=1)!=len(children)]\n",
    "\n",
    "df_all['kmer'] = df_all.index\n",
    "\n",
    "\n",
    "### Perform aggregation to get sets of sibs with shared maternal/paternal k-mer ####\n",
    "### Final index is {sibs_with_kmer, sibs_without_kmer}, value is kmers.\n",
    "# Extract maternally inherited, paternally inherited, and either inherited\n",
    "df_mat = df_all[(df_all[mom]==True) & (df_all[dad]==False)].drop([mom, dad], axis=1)\n",
    "df_pat = df_all[(df_all[mom]==False) & (df_all[dad]==True)].drop([mom, dad], axis=1)\n",
    "df_both = df_all[(df_all[mom]==True) & (df_all[dad]==True)].drop([mom, dad], axis=1)\n",
    "\n",
    "# Compute sib sets for maternally inherited.\n",
    "df_mat=df_mat.groupby(list(children)).aggregate(list) \n",
    "df_mat['sets'] = [frozenset([frozenset(children[np.where(np.array(i)==True)[0]]), frozenset(children[np.where(np.array(i)==False)[0]])]) for i in df_mat.index]\n",
    "df_mat = df_mat.groupby('sets').aggregate(lambda x: list(x))\n",
    "df_mat['kmer'] = [set(np.concatenate(k)) for k in df_mat['kmer']]\n",
    "df_mat['n_kmers'] = [len(k) for k in df_mat.kmer]\n",
    "\n",
    "# Compute sib sets for paternally inherited: \n",
    "df_pat=df_pat.groupby(list(children)).aggregate(list)\n",
    "df_pat['sets'] = [frozenset([frozenset(children[np.where(np.array(i)==True)[0]]), frozenset(children[np.where(np.array(i)==False)[0]])]) for i in df_pat.index]\n",
    "df_pat = df_pat.groupby('sets').aggregate(lambda x: list(x))\n",
    "df_pat['kmer'] = [set(np.concatenate(k)) for k in df_pat['kmer']]\n",
    "df_pat['n_kmers'] = [len(k) for k in df_pat.kmer]\n",
    "\n",
    "# Compute sib sets for both.  This has a slightly different structure: Index is [{sibs_with_kmer}, {sibs_without_kmer}]\n",
    "df_both=df_both.groupby(list(children)).aggregate(list)\n",
    "df_both['sets'] = [(frozenset(children[np.where(np.array(i)==True)[0]]), frozenset(children[np.where(np.array(i)==False)[0]])) for i in df_both.index]\n",
    "df_both = df_both.groupby('sets').aggregate(lambda x: list(x))\n",
    "df_both['kmer'] = [set(np.concatenate(k)) for k in df_both['kmer']]\n",
    "df_both['n_kmers'] = [len(k) for k in df_both.kmer]\n",
    "\n",
    "df_mat = df_mat.sort_values('n_kmers', ascending=False)\n",
    "df_pat = df_pat.sort_values('n_kmers', ascending=False)\n",
    "df_both = df_both.sort_values('n_kmers', ascending=False)"
   ]
  },
  {
   "cell_type": "code",
   "execution_count": null,
   "metadata": {},
   "outputs": [],
   "source": [
    "[frozenset([frozenset(children[np.where(np.array(i)==True)[0]]), frozenset(children[np.where(np.array(i)==False)[0]])]) for i in df_mat.index]\n"
   ]
  },
  {
   "cell_type": "markdown",
   "metadata": {},
   "source": [
    "# Phasing"
   ]
  },
  {
   "cell_type": "code",
   "execution_count": 37,
   "metadata": {},
   "outputs": [],
   "source": [
    "phased_fam = pd.read_csv('/oak/stanford/groups/dpwall/users/kpaskov/PhasingFamilies/phased_ihart/%s.phased.txt' % fam, sep='\\t')\n",
    "phased_fam['region'] = ['%s.%i.%i' % (chrom.replace('chr', ''), int(i),int(j)) for chrom,i,j in zip(phased_fam.chrom, phased_fam.start_pos, phased_fam.end_pos)]\n",
    "phased_fam.drop([mom+'_mat', dad + '_mat', mom + '_pat', dad + '_pat'], axis=1, inplace=True)\n",
    "# Get phased groupings\n",
    "for i in children:\n",
    "    phased_fam[i] = [(i,j) for i,j in zip(phased_fam[i+'_mat'].replace(np.nan,-1), phased_fam[i+ '_pat'].replace(np.nan,-1))]\n",
    "    \n",
    "# Phased from mat groupings\n",
    "phased_fam_mat = phased_fam[[s for s in phased_fam.columns if 'mat' in s] + ['region']].groupby([s for s in phased_fam.columns if 'mat' in s]).aggregate(list)\n",
    "phased_fam_mat['sets'] = [(frozenset(children[np.where(np.array(i)==0)[0]]), frozenset(children[np.where(np.array(i)==1)[0]])) for i in phased_fam_mat.index]\n",
    "phased_fam_mat = phased_fam_mat.groupby('sets').aggregate(list)\n",
    "phased_fam_mat['region'] = [[i for j in k for i in j] for k in phased_fam_mat['region']]\n",
    "\n",
    "# Phased fam pat\n",
    "phased_fam_pat = phased_fam[[s for s in phased_fam.columns if 'pat' in s] + ['region']].groupby([s for s in phased_fam.columns if 'pat' in s]).aggregate(list)\n",
    "phased_fam_pat['sets'] = [(frozenset(children[np.where(np.array(i)==2)[0]]), frozenset(children[np.where(np.array(i)==3)[0]])) for i in phased_fam_pat.index]\n",
    "phased_fam_pat = phased_fam_pat.groupby('sets').aggregate(list)\n",
    "phased_fam_pat['region'] = [[i for j in k for i in j] for k in phased_fam_pat['region']]\n",
    "\n",
    "# Phased fam both\n",
    "phased_fam_both = phased_fam[list(children) + ['region']].groupby(list(children)).aggregate(list)\n",
    "\n",
    "\n",
    "# Process regions/kmers inherited from both/either parent. \n",
    "sample_name_to_num = {j:i for i,j in enumerate(phased_fam_both.index.names)}\n",
    "possible_regions_both = [[] for i in df_both.index]\n",
    "for i_kmer,child_with_kmer_index in enumerate(df_both.index):\n",
    "    possible_regions_ = []\n",
    "    \n",
    "    # Edge case where both parents have k-mer and no children do.\n",
    "    if len(child_with_kmer_index[0])==0:\n",
    "        for phased_fam_index,region in zip(phased_fam_both.index, phased_fam_both.region):\n",
    "            if (((1.0 not in {float(i[0]) for i in phased_fam_index}) or  (0.0 not in {float(i[0]) for i in phased_fam_index})) &\n",
    "                ((2.0 not in {float(i[1]) for i in phased_fam_index}) or  (3.0 not in {float(i[1]) for i in phased_fam_index}))):\n",
    "                possible_regions_ = possible_regions_ + region\n",
    "                \n",
    "    for phased_fam_index,region in zip(phased_fam_both.index, phased_fam_both.region):\n",
    "        if sum([phased_fam_index[sample_name_to_num[has_kmer]]==phased_fam_index[sample_name_to_num[no_kmer]] for has_kmer in child_with_kmer_index[0] for no_kmer in child_with_kmer_index[1]])==0:\n",
    "            possible_regions_ = possible_regions_ + region\n",
    "    possible_regions_both[i_kmer] = possible_regions_\n",
    "    \n",
    "# Process regions/kmers inherited from mom.\n",
    "sample_name_to_num = {j:i for i,j in enumerate(phased_fam_mat.index.names)}\n",
    "possible_regions_mat = [[] for i in df_mat.index]\n",
    "for i_kmer,child_with_kmer_index in enumerate(df_mat.index):\n",
    "    possible_regions_ = []\n",
    "    child_kmer_sets = list(child_with_kmer_index)\n",
    "    children_with_kmer = child_kmer_sets[0]\n",
    "    children_without_kmer = child_kmer_sets[1]\n",
    "    for phased_fam_index,region in zip(phased_fam_mat.index, phased_fam_mat.region):\n",
    "        child_set_1 = phased_fam_index[0]\n",
    "        child_set_2 = phased_fam_index[1]\n",
    "        if (\n",
    "            (len(child_set_1.difference(children_with_kmer))==0) & (len(child_set_2.difference(children_without_kmer))==0)\n",
    "        ) or (\n",
    "            (len(child_set_2.difference(children_with_kmer))==0) & (len(child_set_1.difference(children_without_kmer))==0)\n",
    "        ):\n",
    "            possible_regions_ = possible_regions_ + region\n",
    "    possible_regions_mat[i_kmer] = possible_regions_\n",
    "    \n",
    "# Process regions/kmers inherited from dad.\n",
    "sample_name_to_num = {j:i for i,j in enumerate(phased_fam_pat.index.names)}\n",
    "possible_regions_pat = [[] for i in df_pat.index]\n",
    "for i_kmer,child_with_kmer_index in enumerate(df_pat.index):\n",
    "    possible_regions_ = []\n",
    "    child_kmer_sets = list(child_with_kmer_index)\n",
    "    children_with_kmer = child_kmer_sets[0]\n",
    "    children_without_kmer = child_kmer_sets[1]\n",
    "    for phased_fam_index,region in zip(phased_fam_pat.index, phased_fam_pat.region):\n",
    "        child_set_1 = phased_fam_index[0]\n",
    "        child_set_2 = phased_fam_index[1]\n",
    "        if (\n",
    "            (len(child_set_1.difference(children_with_kmer))==0) & (len(child_set_2.difference(children_without_kmer))==0)\n",
    "        ) or (\n",
    "            (len(child_set_2.difference(children_with_kmer))==0) & (len(child_set_1.difference(children_without_kmer))==0)\n",
    "        ):\n",
    "            possible_regions_ = possible_regions_ + region\n",
    "    possible_regions_pat[i_kmer] = possible_regions_\n",
    "    \n",
    "    \n",
    "    \n",
    "##### Create family vote matrix #####\n",
    "family_vote = pd.DataFrame(np.zeros((len(kmer_counts), len(phased_fam.region)+2)))\n",
    "family_vote.columns = list(phased_fam.region) + ['impossible', 'ambigious']\n",
    "family_vote.index = kmer_counts.index\n",
    "family_vote.loc[df_impossible.index,'impossible']=1\n",
    "family_vote.loc[df_unclassifiable.index,'ambigious']=1\n",
    "for i in range(len(df_pat)):\n",
    "    family_vote.loc[df_pat.iloc[i].kmer, possible_regions_pat[i]] = 1\n",
    "for i in range(len(df_mat)):\n",
    "    family_vote.loc[df_mat.iloc[i].kmer, possible_regions_mat[i]] = 1\n",
    "for i in range(len(df_both)):\n",
    "    family_vote.loc[df_both.iloc[i].kmer, possible_regions_both[i]] = 1"
   ]
  },
  {
   "cell_type": "markdown",
   "metadata": {},
   "source": [
    "# Match phasings to kmers"
   ]
  },
  {
   "cell_type": "code",
   "execution_count": 41,
   "metadata": {},
   "outputs": [],
   "source": [
    "global_vote = np.zeros((len(kmer_counts), len(global_region_to_idx)))\n",
    "global_vote"
   ]
  },
  {
   "cell_type": "code",
   "execution_count": 47,
   "metadata": {},
   "outputs": [
    {
     "data": {
      "text/plain": [
       "3238440"
      ]
     },
     "execution_count": 47,
     "metadata": {},
     "output_type": "execute_result"
    }
   ],
   "source": [
    "len(fam_region_to_idx)"
   ]
  },
  {
   "cell_type": "code",
   "execution_count": 4,
   "metadata": {},
   "outputs": [],
   "source": [
    "# Load in family region/global region conversion data.\n",
    "with open('/home/groups/dpwall/briannac/alt_haplotypes/intermediate_files/phasings/' + 'fam_regions_to_global_regions_21.json', 'r') as f:\n",
    "    fam_regions_to_global_regions = json.load(f)"
   ]
  },
  {
   "cell_type": "code",
   "execution_count": 59,
   "metadata": {},
   "outputs": [],
   "source": [
    "PHASINGS_DIR='/home/groups/dpwall/briannac/alt_haplotypes/data/phasings/'\n"
   ]
  },
  {
   "cell_type": "code",
   "execution_count": null,
   "metadata": {},
   "outputs": [],
   "source": [
    "# Load in family region/global region conversion data.\n",
    "fam_region_to_idx = np.load(PHASINGS_DIR +  'fam_region_to_idx.npy', allow_pickle=True).item()\n",
    "idx_to_fam_region = np.load(PHASINGS_DIR +  'idx_to_fam_region.npy', allow_pickle=True).item()\n",
    "global_region_to_idx = np.load(PHASINGS_DIR +  'global_region_to_idx.npy', allow_pickle=True).item()\n",
    "idx_to_global_region = np.load(PHASINGS_DIR +  'idx_to_global_region.npy', allow_pickle=True).item()\n",
    "\n",
    "fam_region_to_global_region = np.load(PHASINGS_DIR + 'fam_regions_to_global_regions.npy', allow_pickle=True).item()"
   ]
  },
  {
   "cell_type": "code",
   "execution_count": 1,
   "metadata": {},
   "outputs": [
    {
     "ename": "NameError",
     "evalue": "name 'global_region_to_idx' is not defined",
     "output_type": "error",
     "traceback": [
      "\u001b[0;31m---------------------------------------------------------------------------\u001b[0m",
      "\u001b[0;31mNameError\u001b[0m                                 Traceback (most recent call last)",
      "\u001b[0;32m<ipython-input-1-9b02a1082c55>\u001b[0m in \u001b[0;36m<module>\u001b[0;34m\u001b[0m\n\u001b[0;32m----> 1\u001b[0;31m \u001b[0mlen\u001b[0m\u001b[0;34m(\u001b[0m\u001b[0mglobal_region_to_idx\u001b[0m\u001b[0;34m)\u001b[0m\u001b[0;34m\u001b[0m\u001b[0m\n\u001b[0m",
      "\u001b[0;31mNameError\u001b[0m: name 'global_region_to_idx' is not defined"
     ]
    }
   ],
   "source": [
    "len(global_region_to_idx)"
   ]
  },
  {
   "cell_type": "markdown",
   "metadata": {},
   "source": [
    "# Create table/dictionary to convert family region to global region"
   ]
  },
  {
   "cell_type": "code",
   "execution_count": 4,
   "metadata": {},
   "outputs": [],
   "source": [
    "# Load in phased regions.\n",
    "import pandas as pd\n",
    "import numpy as np\n",
    "import sys\n",
    "import json\n",
    "import tqdm\n",
    "from collections import Counter\n",
    "FINAL_PHASINGS_DIR='/home/groups/dpwall/briannac/alt_haplotypes/data/phasings'\n",
    "\n",
    "\n",
    "start_ends = pd.read_pickle(FINAL_PHASINGS_DIR + '/family_regions.df')\n",
    "family_region_to_global_regions_dict = {}"
   ]
  },
  {
   "cell_type": "code",
   "execution_count": 39,
   "metadata": {},
   "outputs": [],
   "source": [
    "with open(FINAL_PHASINGS_DIR + '/fam_regions_to_global_regions.json', 'w') as f:\n",
    "    json.dump(family_region_to_global_regions_dict, f)        \n",
    "        \n",
    "# Combine all dictionaries.\n",
    "#fam_regions_to_global_regions_full_dict = {}\n",
    "#for chrom in range(22):\n",
    "#    with open(PHASINGS_DIR + '/fam_regions_to_global_regions_%s.json' % chrom, 'r') as fp:\n",
    "#        new_dict = json.load(fp)\n",
    "#    fam_regions_to_global_regions_full_dict.update(new_dict)\n",
    "\n",
    "#with open(FINAL_PHASINGS_DIR + '/fam_regions_to_global_regions.json', 'w') as f:\n",
    "#    json.dump(family_region_to_global_regions_dict, f)"
   ]
  },
  {
   "cell_type": "code",
   "execution_count": 147,
   "metadata": {},
   "outputs": [
    {
     "name": "stdout",
     "output_type": "stream",
     "text": [
      "saving...\n"
     ]
    }
   ],
   "source": [
    "print('saving...')\n",
    "with open(PHASINGS_DIR + '/fam_regions_to_global_regions_%s.json' % chrom, 'w') as f:\n",
    "    json.dump(family_region_to_global_regions_dict, f)"
   ]
  },
  {
   "cell_type": "code",
   "execution_count": 54,
   "metadata": {},
   "outputs": [],
   "source": [
    "mappings = np.load('/home/groups/dpwall/briannac/alt_haplotypes/data/phasings/fam_regions_to_global_regions.npy', allow_pickle=True)"
   ]
  }
 ],
 "metadata": {
  "kernelspec": {
   "display_name": "py_36_env",
   "language": "python",
   "name": "py_36_env"
  },
  "language_info": {
   "codemirror_mode": {
    "name": "ipython",
    "version": 3
   },
   "file_extension": ".py",
   "mimetype": "text/x-python",
   "name": "python",
   "nbconvert_exporter": "python",
   "pygments_lexer": "ipython3",
   "version": "3.6.1"
  }
 },
 "nbformat": 4,
 "nbformat_minor": 4
}
