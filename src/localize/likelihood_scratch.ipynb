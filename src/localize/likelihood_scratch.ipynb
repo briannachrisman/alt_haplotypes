{
 "cells": [
  {
   "cell_type": "code",
   "execution_count": 3,
   "metadata": {},
   "outputs": [],
   "source": [
    "with open('/home/groups/dpwall/briannac/alt_haplotypes/data/phasings/phased_fams/phased_fams_all.pickle', 'rb') as f:\n",
    "    phased_fam_dict = pickle.load(f)"
   ]
  },
  {
   "cell_type": "code",
   "execution_count": 8,
   "metadata": {},
   "outputs": [
    {
     "data": {
      "text/plain": [
       "727"
      ]
     },
     "execution_count": 8,
     "metadata": {},
     "output_type": "execute_result"
    }
   ],
   "source": [
    "len(phased_fam_dict)"
   ]
  },
  {
   "cell_type": "code",
   "execution_count": 183,
   "metadata": {},
   "outputs": [
    {
     "name": "stdout",
     "output_type": "stream",
     "text": [
      "Loading likelihoods...\n",
      "Matrix multiplication...\n",
      "0.506\n",
      "0.532\n",
      "8839650.0\n",
      "Loading likelihoods...\n",
      "Matrix multiplication...\n",
      "0.283\n",
      "0.298\n",
      "8431557.0\n",
      "Loading likelihoods...\n",
      "Matrix multiplication...\n",
      "0.341\n",
      "0.372\n",
      "8148720.0\n",
      "Loading likelihoods...\n",
      "Matrix multiplication...\n",
      "0.462\n",
      "0.49000000000000005\n",
      "8070650.0\n",
      "Loading likelihoods...\n",
      "Matrix multiplication...\n",
      "0.8\n",
      "0.8\n",
      "9812460.0\n",
      "Loading likelihoods...\n",
      "Matrix multiplication...\n",
      "0.806\n",
      "0.806\n",
      "7881183.5\n",
      "Loading likelihoods...\n",
      "Matrix multiplication...\n",
      "0.9\n",
      "0.9\n",
      "7314290.0\n",
      "Loading likelihoods...\n",
      "Matrix multiplication...\n",
      "0.8\n",
      "0.8\n",
      "9121411.0\n",
      "Loading likelihoods...\n",
      "Matrix multiplication...\n"
     ]
    },
    {
     "ename": "KeyboardInterrupt",
     "evalue": "",
     "output_type": "error",
     "traceback": [
      "\u001b[0;31m---------------------------------------------------------------------------\u001b[0m",
      "\u001b[0;31mKeyboardInterrupt\u001b[0m                         Traceback (most recent call last)",
      "\u001b[0;32m<ipython-input-183-dadb1abcfcbe>\u001b[0m in \u001b[0;36m<module>\u001b[0;34m\u001b[0m\n\u001b[1;32m     17\u001b[0m \u001b[0;34m\u001b[0m\u001b[0m\n\u001b[1;32m     18\u001b[0m     \u001b[0mlocalized_regions\u001b[0m \u001b[0;34m=\u001b[0m \u001b[0mdict\u001b[0m\u001b[0;34m(\u001b[0m\u001b[0;34m)\u001b[0m\u001b[0;34m\u001b[0m\u001b[0m\n\u001b[0;32m---> 19\u001b[0;31m     \u001b[0mlikelihoods\u001b[0m \u001b[0;34m=\u001b[0m \u001b[0mnp\u001b[0m\u001b[0;34m.\u001b[0m\u001b[0mmatmul\u001b[0m\u001b[0;34m(\u001b[0m\u001b[0mL\u001b[0m\u001b[0;34m,\u001b[0m \u001b[0mregions_t\u001b[0m\u001b[0;34m)\u001b[0m\u001b[0;34m\u001b[0m\u001b[0m\n\u001b[0m\u001b[1;32m     20\u001b[0m \u001b[0;34m\u001b[0m\u001b[0m\n\u001b[1;32m     21\u001b[0m     \u001b[0mstart_idx\u001b[0m \u001b[0;34m=\u001b[0m  \u001b[0mstart\u001b[0m\u001b[0;34m-\u001b[0m\u001b[0mnth_start\u001b[0m\u001b[0;34m\u001b[0m\u001b[0m\n",
      "\u001b[0;31mKeyboardInterrupt\u001b[0m: "
     ]
    }
   ],
   "source": [
    "stds = [.05, .1, .15, .2, .25, .5, 1]\n",
    "x = 0\n",
    "full_df = np.zeros((n_rows,3*len(stds) + 4))\n",
    "for start in np.arange(nth_start,nth_start + n_rows, max_chunk)[4:]:\n",
    "    x = x + 1\n",
    "    print('Loading likelihoods...')\n",
    "    L = np.loadtxt(LIKELIHOOD_FILE_DIR + 'likelihood_matrix_phasings_kmers.tsv' ,\n",
    "                  delimiter='\\t',max_rows=max_chunk, skiprows=start)\n",
    "    print(\"Matrix multiplication...\")\n",
    "    \n",
    "    kmer_counts = pd.read_table('/home/groups/dpwall/briannac/alt_haplotypes/data/known_kmer_counts.tsv',\n",
    "                            header=None, index_col=0, nrows=max_chunk,skiprows=start)\n",
    "\n",
    "    kmer_names = pd.read_table(\n",
    "        '/home/groups/dpwall/briannac/alt_haplotypes/data/known_kmers.txt',\n",
    "    sep='\\t', header=None, nrows=max_chunk, skiprows=start)\n",
    "    \n",
    "    localized_regions = dict()\n",
    "    likelihoods = np.matmul(L, regions_t)\n",
    "    \n",
    "    start_idx =  start-nth_start\n",
    "\n",
    "    m = [MADRegion(L, 25) for L in likelihoods]\n",
    "    A = pd.DataFrame(m)\n",
    "    A['kmer'] = kmer_chrom\n",
    "    A['loci'] = kmer_loci\n",
    "    A[np.isnan(A)] = -1\n",
    "    print(np.mean(A[0]==-1))\n",
    "    print(np.mean((A[0]==A.kmer) & (abs(A.loci-A[1])<100000)) + np.mean(A[0]==-1))\n",
    "    print(np.nanmedian(abs(A[A[1]!=-1][1]-A[A[1]!=-1][2])))"
   ]
  },
  {
   "cell_type": "code",
   "execution_count": 268,
   "metadata": {},
   "outputs": [],
   "source": [
    "def LRegion(L, p_thresh=.001):\n",
    "    '''\n",
    "        Returns the the smallest and largest position where the likelihood is <=1 standard deivation away from the maximum likelihood.\n",
    "                Parameters:\n",
    "                        L (array): Array of likelihoods for each global genomic region.\n",
    "                        std_thresh (float): Number of standard deviations away from the maximum likelihood to consider.\n",
    "\n",
    "                Returns:\n",
    "                        interval (tuple): The start and end idxs.\n",
    "        '''\n",
    "    \n",
    "    #L_log = L/np.log2(np.exp(1))\n",
    "#    idxs = np.where((L_log-np.max(L_log))>=-10)[0]\n",
    "    idxs = np.where(L>=(np.median(L)+4*np.std(L)))[0]\n",
    "    if len(idxs)==0: return (np.nan, np.nan, np.nan)\n",
    "    start = idxs[0]\n",
    "    end = idxs[-1]\n",
    "    start = idx_to_global_region[start]\n",
    "    end = idx_to_global_region[end]\n",
    "    start_chr = int(start.split('.')[0].replace('chr', '').replace('X', '23').replace('Y', '24'))\n",
    "    end_chr = int(end.split('.')[0].replace('chr', '').replace('X', '23').replace('Y', '24'))\n",
    "    start_loci = int(start.split('.')[1])\n",
    "    end_loci = int(end.split('.')[-1])\n",
    "    if start_chr!=end_chr: return (np.nan, np.nan, np.nan)\n",
    "    return (start_chr, start_loci, end_loci)"
   ]
  },
  {
   "cell_type": "code",
   "execution_count": 265,
   "metadata": {},
   "outputs": [],
   "source": [
    "def MADRegion(L, p_thresh=.001):\n",
    "    '''\n",
    "        Returns the the smallest and largest position where the likelihood is <=1 standard deivation away from the maximum likelihood.\n",
    "                Parameters:\n",
    "                        L (array): Array of likelihoods for each global genomic region.\n",
    "                        std_thresh (float): Number of standard deviations away from the maximum likelihood to consider.\n",
    "\n",
    "                Returns:\n",
    "                        interval (tuple): The start and end idxs.\n",
    "        '''\n",
    "    median = np.median(L)\n",
    "    mad = np.std(L)\n",
    "    idxs = np.where(L>(median+2*mad))[0]\n",
    "    if len(idxs)==0: return (np.nan, np.nan, np.nan)\n",
    "    start = idxs[0]\n",
    "    end = idxs[-1]\n",
    "    start = idx_to_global_region[start]\n",
    "    end = idx_to_global_region[end]\n",
    "    start_chr = int(start.split('.')[0].replace('chr', '').replace('X', '23').replace('Y', '24'))\n",
    "    end_chr = int(end.split('.')[0].replace('chr', '').replace('X', '23').replace('Y', '24'))\n",
    "    start_loci = int(start.split('.')[1])\n",
    "    end_loci = int(end.split('.')[-1])\n",
    "    if start_chr!=end_chr: return (np.nan, np.nan, np.nan)\n",
    "    return (start_chr, start_loci, end_loci)"
   ]
  },
  {
   "cell_type": "code",
   "execution_count": 269,
   "metadata": {},
   "outputs": [
    {
     "name": "stdout",
     "output_type": "stream",
     "text": [
      "0.662\n",
      "0.728\n",
      "43764637.0\n"
     ]
    }
   ],
   "source": [
    "m = [LRegion(L, 2) for L in likelihoods]\n",
    "A = pd.DataFrame(m)\n",
    "kmer_chrom = [int(c.split('_')[0].replace('chr', '').replace('X', '23').replace('Y', '24')) for c in kmer_names[1]]\n",
    "kmer_loci = [int(c.split(':')[1].split('-')[0]) + l for c,l in zip(kmer_names[2], kmer_names[3])]\n",
    "A['kmer'] = kmer_chrom\n",
    "A['loci'] = kmer_loci\n",
    "A[np.isnan(A)] = -1\n",
    "print(np.mean(A[0]==-1))\n",
    "print(np.mean((A[0]==A.kmer) & (abs(A.loci-A[1])<10000000)) + np.mean(A[0]==-1))\n",
    "print(np.nanmedian(abs(A[A[1]!=-1][1]-A[A[1]!=-1][2])))"
   ]
  },
  {
   "cell_type": "code",
   "execution_count": 270,
   "metadata": {},
   "outputs": [
    {
     "data": {
      "text/html": [
       "<div>\n",
       "<style scoped>\n",
       "    .dataframe tbody tr th:only-of-type {\n",
       "        vertical-align: middle;\n",
       "    }\n",
       "\n",
       "    .dataframe tbody tr th {\n",
       "        vertical-align: top;\n",
       "    }\n",
       "\n",
       "    .dataframe thead th {\n",
       "        text-align: right;\n",
       "    }\n",
       "</style>\n",
       "<table border=\"1\" class=\"dataframe\">\n",
       "  <thead>\n",
       "    <tr style=\"text-align: right;\">\n",
       "      <th></th>\n",
       "      <th>0</th>\n",
       "      <th>1</th>\n",
       "      <th>2</th>\n",
       "      <th>kmer</th>\n",
       "      <th>loci</th>\n",
       "    </tr>\n",
       "  </thead>\n",
       "  <tbody>\n",
       "    <tr>\n",
       "      <th>0</th>\n",
       "      <td>-1.0</td>\n",
       "      <td>-1.0</td>\n",
       "      <td>-1.0</td>\n",
       "      <td>15</td>\n",
       "      <td>66106530</td>\n",
       "    </tr>\n",
       "    <tr>\n",
       "      <th>1</th>\n",
       "      <td>-1.0</td>\n",
       "      <td>-1.0</td>\n",
       "      <td>-1.0</td>\n",
       "      <td>15</td>\n",
       "      <td>66106531</td>\n",
       "    </tr>\n",
       "    <tr>\n",
       "      <th>2</th>\n",
       "      <td>-1.0</td>\n",
       "      <td>-1.0</td>\n",
       "      <td>-1.0</td>\n",
       "      <td>15</td>\n",
       "      <td>66106532</td>\n",
       "    </tr>\n",
       "    <tr>\n",
       "      <th>3</th>\n",
       "      <td>-1.0</td>\n",
       "      <td>-1.0</td>\n",
       "      <td>-1.0</td>\n",
       "      <td>15</td>\n",
       "      <td>66106533</td>\n",
       "    </tr>\n",
       "    <tr>\n",
       "      <th>4</th>\n",
       "      <td>-1.0</td>\n",
       "      <td>-1.0</td>\n",
       "      <td>-1.0</td>\n",
       "      <td>15</td>\n",
       "      <td>66106534</td>\n",
       "    </tr>\n",
       "    <tr>\n",
       "      <th>...</th>\n",
       "      <td>...</td>\n",
       "      <td>...</td>\n",
       "      <td>...</td>\n",
       "      <td>...</td>\n",
       "      <td>...</td>\n",
       "    </tr>\n",
       "    <tr>\n",
       "      <th>995</th>\n",
       "      <td>15.0</td>\n",
       "      <td>50216624.0</td>\n",
       "      <td>87161275.0</td>\n",
       "      <td>15</td>\n",
       "      <td>66107525</td>\n",
       "    </tr>\n",
       "    <tr>\n",
       "      <th>996</th>\n",
       "      <td>15.0</td>\n",
       "      <td>56033754.0</td>\n",
       "      <td>89532940.0</td>\n",
       "      <td>15</td>\n",
       "      <td>66107526</td>\n",
       "    </tr>\n",
       "    <tr>\n",
       "      <th>997</th>\n",
       "      <td>15.0</td>\n",
       "      <td>59535102.0</td>\n",
       "      <td>89532940.0</td>\n",
       "      <td>15</td>\n",
       "      <td>66107527</td>\n",
       "    </tr>\n",
       "    <tr>\n",
       "      <th>998</th>\n",
       "      <td>15.0</td>\n",
       "      <td>59161336.0</td>\n",
       "      <td>88466979.0</td>\n",
       "      <td>15</td>\n",
       "      <td>66107528</td>\n",
       "    </tr>\n",
       "    <tr>\n",
       "      <th>999</th>\n",
       "      <td>15.0</td>\n",
       "      <td>59161336.0</td>\n",
       "      <td>88466979.0</td>\n",
       "      <td>15</td>\n",
       "      <td>66107529</td>\n",
       "    </tr>\n",
       "  </tbody>\n",
       "</table>\n",
       "<p>1000 rows × 5 columns</p>\n",
       "</div>"
      ],
      "text/plain": [
       "        0           1           2  kmer      loci\n",
       "0    -1.0        -1.0        -1.0    15  66106530\n",
       "1    -1.0        -1.0        -1.0    15  66106531\n",
       "2    -1.0        -1.0        -1.0    15  66106532\n",
       "3    -1.0        -1.0        -1.0    15  66106533\n",
       "4    -1.0        -1.0        -1.0    15  66106534\n",
       "..    ...         ...         ...   ...       ...\n",
       "995  15.0  50216624.0  87161275.0    15  66107525\n",
       "996  15.0  56033754.0  89532940.0    15  66107526\n",
       "997  15.0  59535102.0  89532940.0    15  66107527\n",
       "998  15.0  59161336.0  88466979.0    15  66107528\n",
       "999  15.0  59161336.0  88466979.0    15  66107529\n",
       "\n",
       "[1000 rows x 5 columns]"
      ]
     },
     "execution_count": 270,
     "metadata": {},
     "output_type": "execute_result"
    }
   ],
   "source": [
    "A"
   ]
  },
  {
   "cell_type": "code",
   "execution_count": 231,
   "metadata": {},
   "outputs": [
    {
     "data": {
      "text/plain": [
       "0             15.0\n",
       "1       66066646.0\n",
       "2       66130179.0\n",
       "kmer          15.0\n",
       "loci    44858837.0\n",
       "Name: 100, dtype: float64"
      ]
     },
     "execution_count": 231,
     "metadata": {},
     "output_type": "execute_result"
    }
   ],
   "source": [
    "A.iloc[100]"
   ]
  },
  {
   "cell_type": "code",
   "execution_count": 232,
   "metadata": {},
   "outputs": [
    {
     "data": {
      "text/html": [
       "<div>\n",
       "<style scoped>\n",
       "    .dataframe tbody tr th:only-of-type {\n",
       "        vertical-align: middle;\n",
       "    }\n",
       "\n",
       "    .dataframe tbody tr th {\n",
       "        vertical-align: top;\n",
       "    }\n",
       "\n",
       "    .dataframe thead th {\n",
       "        text-align: right;\n",
       "    }\n",
       "</style>\n",
       "<table border=\"1\" class=\"dataframe\">\n",
       "  <thead>\n",
       "    <tr style=\"text-align: right;\">\n",
       "      <th></th>\n",
       "      <th>0</th>\n",
       "      <th>1</th>\n",
       "      <th>2</th>\n",
       "      <th>kmer</th>\n",
       "      <th>loci</th>\n",
       "    </tr>\n",
       "  </thead>\n",
       "  <tbody>\n",
       "    <tr>\n",
       "      <th>0</th>\n",
       "      <td>3.0</td>\n",
       "      <td>133864804.0</td>\n",
       "      <td>140823538.0</td>\n",
       "      <td>15</td>\n",
       "      <td>44858737</td>\n",
       "    </tr>\n",
       "    <tr>\n",
       "      <th>1</th>\n",
       "      <td>-1.0</td>\n",
       "      <td>-1.0</td>\n",
       "      <td>-1.0</td>\n",
       "      <td>15</td>\n",
       "      <td>44858738</td>\n",
       "    </tr>\n",
       "    <tr>\n",
       "      <th>2</th>\n",
       "      <td>3.0</td>\n",
       "      <td>133819172.0</td>\n",
       "      <td>140821876.0</td>\n",
       "      <td>15</td>\n",
       "      <td>44858739</td>\n",
       "    </tr>\n",
       "    <tr>\n",
       "      <th>3</th>\n",
       "      <td>3.0</td>\n",
       "      <td>133820731.0</td>\n",
       "      <td>140399202.0</td>\n",
       "      <td>15</td>\n",
       "      <td>44858740</td>\n",
       "    </tr>\n",
       "    <tr>\n",
       "      <th>4</th>\n",
       "      <td>3.0</td>\n",
       "      <td>139310755.0</td>\n",
       "      <td>140399202.0</td>\n",
       "      <td>15</td>\n",
       "      <td>44858741</td>\n",
       "    </tr>\n",
       "    <tr>\n",
       "      <th>...</th>\n",
       "      <td>...</td>\n",
       "      <td>...</td>\n",
       "      <td>...</td>\n",
       "      <td>...</td>\n",
       "      <td>...</td>\n",
       "    </tr>\n",
       "    <tr>\n",
       "      <th>995</th>\n",
       "      <td>15.0</td>\n",
       "      <td>66066161.0</td>\n",
       "      <td>66567888.0</td>\n",
       "      <td>15</td>\n",
       "      <td>44860305</td>\n",
       "    </tr>\n",
       "    <tr>\n",
       "      <th>996</th>\n",
       "      <td>15.0</td>\n",
       "      <td>66066161.0</td>\n",
       "      <td>66939451.0</td>\n",
       "      <td>15</td>\n",
       "      <td>44860306</td>\n",
       "    </tr>\n",
       "    <tr>\n",
       "      <th>997</th>\n",
       "      <td>15.0</td>\n",
       "      <td>66066161.0</td>\n",
       "      <td>66939451.0</td>\n",
       "      <td>15</td>\n",
       "      <td>44860307</td>\n",
       "    </tr>\n",
       "    <tr>\n",
       "      <th>998</th>\n",
       "      <td>15.0</td>\n",
       "      <td>65589988.0</td>\n",
       "      <td>66939451.0</td>\n",
       "      <td>15</td>\n",
       "      <td>44860308</td>\n",
       "    </tr>\n",
       "    <tr>\n",
       "      <th>999</th>\n",
       "      <td>15.0</td>\n",
       "      <td>65411287.0</td>\n",
       "      <td>66157026.0</td>\n",
       "      <td>15</td>\n",
       "      <td>44860309</td>\n",
       "    </tr>\n",
       "  </tbody>\n",
       "</table>\n",
       "<p>1000 rows × 5 columns</p>\n",
       "</div>"
      ],
      "text/plain": [
       "        0            1            2  kmer      loci\n",
       "0     3.0  133864804.0  140823538.0    15  44858737\n",
       "1    -1.0         -1.0         -1.0    15  44858738\n",
       "2     3.0  133819172.0  140821876.0    15  44858739\n",
       "3     3.0  133820731.0  140399202.0    15  44858740\n",
       "4     3.0  139310755.0  140399202.0    15  44858741\n",
       "..    ...          ...          ...   ...       ...\n",
       "995  15.0   66066161.0   66567888.0    15  44860305\n",
       "996  15.0   66066161.0   66939451.0    15  44860306\n",
       "997  15.0   66066161.0   66939451.0    15  44860307\n",
       "998  15.0   65589988.0   66939451.0    15  44860308\n",
       "999  15.0   65411287.0   66157026.0    15  44860309\n",
       "\n",
       "[1000 rows x 5 columns]"
      ]
     },
     "execution_count": 232,
     "metadata": {},
     "output_type": "execute_result"
    }
   ],
   "source": [
    "A"
   ]
  },
  {
   "cell_type": "code",
   "execution_count": 158,
   "metadata": {},
   "outputs": [
    {
     "data": {
      "text/plain": [
       "[<matplotlib.lines.Line2D at 0x7f7f002ba278>]"
      ]
     },
     "execution_count": 158,
     "metadata": {},
     "output_type": "execute_result"
    },
    {
     "data": {
      "image/png": "[encoded data removed]",
      "text/plain": [
       "<Figure size 432x288 with 1 Axes>"
      ]
     },
     "metadata": {
      "needs_background": "light"
     },
     "output_type": "display_data"
    }
   ],
   "source": [
    "stds = [np.std(l) for l in likelihoods]\n",
    "meds = [np.median(l) for l in likelihoods]\n",
    "\n",
    "maxs = [np.max(l) for l in likelihoods]\n",
    "#plt.plot(maxs)\n",
    "#plt.plot(stds)\n",
    "plt.plot(meds, stds, '.')"
   ]
  },
  {
   "cell_type": "code",
   "execution_count": 92,
   "metadata": {},
   "outputs": [],
   "source": [
    "from scipy.stats import chi2"
   ]
  },
  {
   "cell_type": "code",
   "execution_count": 105,
   "metadata": {},
   "outputs": [
    {
     "data": {
      "text/plain": [
       "[<matplotlib.lines.Line2D at 0x7f7efa9689b0>]"
      ]
     },
     "execution_count": 105,
     "metadata": {},
     "output_type": "execute_result"
    },
    {
     "data": {
      "image/png": "[encoded data removed]",
      "text/plain": [
       "<Figure size 432x288 with 1 Axes>"
      ]
     },
     "metadata": {
      "needs_background": "light"
     },
     "output_type": "display_data"
    }
   ],
   "source": [
    "np.log(2)"
   ]
  },
  {
   "cell_type": "code",
   "execution_count": 246,
   "metadata": {},
   "outputs": [
    {
     "data": {
      "text/plain": [
       "96726.89275375933"
      ]
     },
     "execution_count": 246,
     "metadata": {},
     "output_type": "execute_result"
    }
   ],
   "source": [
    "chi2.ppf(.95, 96005)"
   ]
  },
  {
   "cell_type": "code",
   "execution_count": 100,
   "metadata": {},
   "outputs": [
    {
     "data": {
      "image/png": "[encoded data removed]",
      "text/plain": [
       "<Figure size 432x288 with 1 Axes>"
      ]
     },
     "metadata": {
      "needs_background": "light"
     },
     "output_type": "display_data"
    }
   ],
   "source": [
    "plt.hist(likelihoods[0]-max(likelihoods[0]), bins=100)\n",
    "plt.show()"
   ]
  },
  {
   "cell_type": "code",
   "execution_count": 48,
   "metadata": {},
   "outputs": [
    {
     "data": {
      "text/plain": [
       "-2.8365012677171206"
      ]
     },
     "execution_count": 48,
     "metadata": {},
     "output_type": "execute_result"
    }
   ],
   "source": [
    "np.log2(.14)"
   ]
  },
  {
   "cell_type": "code",
   "execution_count": 5,
   "metadata": {},
   "outputs": [],
   "source": [
    "if True:\n",
    "    start_idx =  start-nth_start\n",
    "\n",
    "    for i, std in enumerate(stds):\n",
    "        idx = 4 + 3*i\n",
    "        full_df[start_idx:(start_idx+len(L)),idx:(idx+3)] = [GlobalInterval(l,std)  for l in likelihoods] #[np.array(l) for l in localized_regions]\n",
    "\n",
    "\n",
    "    # Ground truth values.\n",
    "    kmer_chrom = [int(c.split('_')[0].replace('chr', '').replace('X', '23').replace('Y', '24')) for c in kmer_names[1]]\n",
    "    kmer_loci = [int(c.split(':')[1].split('-')[0]) + l for c,l in zip(kmer_names[2], kmer_names[3])]\n",
    "    full_df[start_idx:(start_idx+len(L)),0] = [int(c.split('_')[0].replace('chr', '').replace('X', '23').replace('Y', '24')) for c in kmer_names[1]]\n",
    "    full_df[start_idx:(start_idx+len(L)),1] = [int(c.split(':')[1].split('-')[0]) + l for c,l in zip(kmer_names[2], kmer_names[3])]\n",
    "\n",
    "    # Some metrics about the ground truth kmers.\n",
    "    full_df[start_idx:(start_idx+len(L)),2] = kmer_counts.apply(axis=1, func=lambda x: round(x[x!=0].median(), 1))\n",
    "    full_df[start_idx:(start_idx+len(L)),3] = np.round((kmer_counts>0).mean(axis=1), 3)\n",
    "\n",
    "    \n",
    "    "
   ]
  },
  {
   "cell_type": "code",
   "execution_count": null,
   "metadata": {},
   "outputs": [],
   "source": [
    "def GlobalInterval(L, std_thresh=1):\n",
    "    '''\n",
    "        Returns the the smallest and largest position where the likelihood is <=1 standard deivation away from the maximum likelihood.\n",
    "                Parameters:\n",
    "                        L (array): Array of likelihoods for each global genomic region.\n",
    "                        std_thresh (float): Number of standard deviations away from the maximum likelihood to consider.\n",
    "\n",
    "                Returns:\n",
    "                        interval (tuple): The start and end idxs.\n",
    "        '''    \n",
    "    thresh = np.max(L) - std_thresh*np.std(L)\n",
    "    if len(np.where(L>=thresh)[0])==0: return (np.nan, np.nan, np.nan)\n",
    "    start = np.where(L>=thresh)[0][0]\n",
    "    end = np.where(L>=thresh)[0][-1]\n",
    "    start = idx_to_global_region[start]\n",
    "    end = idx_to_global_region[end]\n",
    "    start_chr = int(start.split('.')[0].replace('chr', '').replace('X', '23').replace('Y', '24'))\n",
    "    end_chr = int(end.split('.')[0].replace('chr', '').replace('X', '23').replace('Y', '24'))\n",
    "    start_loci = int(start.split('.')[1])\n",
    "    end_loci = int(end.split('.')[-1])\n",
    "    if start_chr!=end_chr: return (np.nan, np.nan, np.nan)\n",
    "    return (start_chr, start_loci, end_loci)\n",
    "\n",
    "\n",
    "def LRegion(L, p_thresh=.001):\n",
    "    '''\n",
    "        Returns the the smallest and largest position where the likelihood is <=1 standard deivation away from the maximum likelihood.\n",
    "                Parameters:\n",
    "                        L (array): Array of likelihoods for each global genomic region.\n",
    "                        std_thresh (float): Number of standard deviations away from the maximum likelihood to consider.\n",
    "\n",
    "                Returns:\n",
    "                        interval (tuple): The start and end idxs.\n",
    "        '''\n",
    "    L_log = L/np.log2(np.exp(1))\n",
    "    if len(np.where((L_log-np.max(L_log))<=1.92)[0])==0: return (np.nan, np.nan, np.nan)\n",
    "    start = np.where((L_log-np.max(L_log))<=1.92)[0][0]\n",
    "    end = np.where((L_log-np.max(L_log))<=1.92)[0][-1]\n",
    "    start = idx_to_global_region[start]\n",
    "    end = idx_to_global_region[end]\n",
    "    start_chr = int(start.split('.')[0].replace('chr', '').replace('X', '23').replace('Y', '24'))\n",
    "    end_chr = int(end.split('.')[0].replace('chr', '').replace('X', '23').replace('Y', '24'))\n",
    "    start_loci = int(start.split('.')[1])\n",
    "    end_loci = int(end.split('.')[-1])\n",
    "    if start_chr!=end_chr: return (np.nan, np.nan, np.nan)\n",
    "    return (start_chr, start_loci, end_loci)\n"
   ]
  },
  {
   "cell_type": "code",
   "execution_count": 111,
   "metadata": {},
   "outputs": [
    {
     "data": {
      "text/plain": [
       "2.718281828459045"
      ]
     },
     "execution_count": 111,
     "metadata": {},
     "output_type": "execute_result"
    }
   ],
   "source": [
    "np.exp(1)"
   ]
  },
  {
   "cell_type": "code",
   "execution_count": 71,
   "metadata": {},
   "outputs": [
    {
     "data": {
      "text/plain": [
       "167"
      ]
     },
     "execution_count": 71,
     "metadata": {},
     "output_type": "execute_result"
    }
   ],
   "source": [
    "l = likelihoods[1]\n",
    "sum((max(l)-l)<=-np.log2(.146))"
   ]
  },
  {
   "cell_type": "code",
   "execution_count": 38,
   "metadata": {},
   "outputs": [],
   "source": [
    "from scipy import stats\n",
    "#MAD = stats.median_absolute_deviation"
   ]
  },
  {
   "cell_type": "code",
   "execution_count": 88,
   "metadata": {},
   "outputs": [
    {
     "name": "stdout",
     "output_type": "stream",
     "text": [
      "0.04\n",
      "0.9490000000000001\n",
      "323299.0\n"
     ]
    }
   ],
   "source": [
    "#g = [GlobalInterval(L, .1) for L in likelihoods]\n",
    "m = [LRegion(L, .146) for L in likelihoods]\n",
    "A = pd.DataFrame(m)\n",
    "A['kmer'] = kmer_chrom\n",
    "A['loci'] = kmer_loci\n",
    "print(np.mean(np.isnan(A[0])))\n",
    "print(np.mean((A[0]==A.kmer))+np.mean(np.isnan(A[0])))# & (abs(A.loci-A[])<1000000))\n",
    "print(np.nanmedian(abs(A[1]-A[2])))"
   ]
  },
  {
   "cell_type": "code",
   "execution_count": 15,
   "metadata": {},
   "outputs": [
    {
     "name": "stdout",
     "output_type": "stream",
     "text": [
      "0.04\n",
      "0.909\n"
     ]
    },
    {
     "data": {
      "text/plain": [
       "323299.0"
      ]
     },
     "execution_count": 15,
     "metadata": {},
     "output_type": "execute_result"
    }
   ],
   "source": [
    "A = pd.DataFrame(m)\n",
    "A['kmer'] = kmer_chrom\n",
    "A['loci'] = kmer_loci\n",
    "print(np.mean(np.isnan(A[0])))\n",
    "print(np.mean((A[0]==A.kmer)))# & (abs(A.loci-A[])<1000000))\n",
    "np.nanmedian(abs(A[1]-A[2]))"
   ]
  },
  {
   "cell_type": "code",
   "execution_count": 245,
   "metadata": {},
   "outputs": [
    {
     "data": {
      "text/plain": [
       "96005"
      ]
     },
     "execution_count": 245,
     "metadata": {},
     "output_type": "execute_result"
    }
   ],
   "source": [
    "len(set(likelihoods[0]))"
   ]
  },
  {
   "cell_type": "code",
   "execution_count": 52,
   "metadata": {},
   "outputs": [
    {
     "data": {
      "text/plain": [
       "[<matplotlib.lines.Line2D at 0x7fb8e43d2208>]"
      ]
     },
     "execution_count": 52,
     "metadata": {},
     "output_type": "execute_result"
    },
    {
     "data": {
      "image/png": "[encoded data removed]",
      "text/plain": [
       "<Figure size 432x288 with 1 Axes>"
      ]
     },
     "metadata": {
      "needs_background": "light"
     },
     "output_type": "display_data"
    },
    {
     "data": {
      "image/png": "[encoded data removed]",
      "text/plain": [
       "<Figure size 432x288 with 1 Axes>"
      ]
     },
     "metadata": {
      "needs_background": "light"
     },
     "output_type": "display_data"
    }
   ],
   "source": [
    "l = likelihoods[0]\n",
    "MAD = stats.median_abs_deviation(l)\n",
    "median = np.median(l)\n",
    "plt.plot(l)\n",
    "plt.figure()\n",
    "plt.plot((l-median)/MAD >=10)"
   ]
  },
  {
   "cell_type": "code",
   "execution_count": 11,
   "metadata": {},
   "outputs": [],
   "source": [
    "def GlobalInterval(L, std_thresh=1):\n",
    "    '''\n",
    "        Returns the the smallest and largest position where the likelihood is <=1 standard deivation away from the maximum likelihood.\n",
    "                Parameters:\n",
    "                        L (array): Array of likelihoods for each global genomic region.\n",
    "                        std_thresh (float): Number of standard deviations away from the maximum likelihood to consider.\n",
    "\n",
    "                Returns:\n",
    "                        interval (tuple): The start and end idxs.\n",
    "        '''    \n",
    "    thresh = np.max(L) - std_thresh*np.std(L)\n",
    "    if len(np.where(L>=thresh)[0])==0: return (np.nan, np.nan, np.nan)\n",
    "    start = np.where(L>=thresh)[0][0]\n",
    "    end = np.where(L>=thresh)[0][-1]\n",
    "    start = idx_to_global_region[start]\n",
    "    end = idx_to_global_region[end]\n",
    "    start_chr = int(start.split('.')[0].replace('chr', '').replace('X', '23').replace('Y', '24'))\n",
    "    end_chr = int(end.split('.')[0].replace('chr', '').replace('X', '23').replace('Y', '24'))\n",
    "    start_loci = int(start.split('.')[1])\n",
    "    end_loci = int(end.split('.')[-1])\n",
    "    if start_chr!=end_chr: return (np.nan, np.nan, np.nan)\n",
    "    return (start_chr, start_loci, end_loci)\n",
    "\n",
    "stds = [.05, .1, .15, .2, .25, .5, 1]\n",
    "full_df = np.zeros((n_rows,3*len(stds) + 4))\n",
    "for start in np.arange(nth_start,nth_start + n_rows, max_chunk):\n",
    "    \n",
    "    print('Loading likelihoods...')\n",
    "    L = np.loadtxt(LIKELIHOOD_FILE_DIR + 'likelihood_matrix_phasings_kmers.tsv' ,\n",
    "                  delimiter='\\t',max_rows=max_chunk, skiprows=start)\n",
    "    print(\"Matrix multiplication...\")\n",
    "    \n",
    "    \n",
    "    kmer_counts = pd.read_table('/home/groups/dpwall/briannac/alt_haplotypes/data/known_kmer_counts.tsv',\n",
    "                            header=None, index_col=0, nrows=max_chunk,skiprows=start)\n",
    "\n",
    "    kmer_names = pd.read_table(\n",
    "        '/home/groups/dpwall/briannac/alt_haplotypes/data/known_kmers.txt',\n",
    "    sep='\\t', header=None, nrows=max_chunk, skiprows=start)\n",
    "    \n",
    "    \n",
    "    localized_regions = dict()\n",
    "    likelihoods = np.matmul(L, regions_t)\n",
    "    start_idx =  start-nth_start\n",
    "\n",
    "    for i, std in enumerate(stds):\n",
    "        idx = 4 + 3*i\n",
    "        full_df[start_idx:(start_idx+len(L)),idx:(idx+3)] = [GlobalInterval(l,std)  for l in likelihoods] #[np.array(l) for l in localized_regions]\n",
    "\n",
    "\n",
    "    # Ground truth values.\n",
    "    kmer_chrom = [int(c.split('_')[0].replace('chr', '').replace('X', '23').replace('Y', '24')) for c in kmer_names[1]]\n",
    "    kmer_loci = [int(c.split(':')[1].split('-')[0]) + l for c,l in zip(kmer_names[2], kmer_names[3])]\n",
    "    full_df[start_idx:(start_idx+len(L)),0] = [int(c.split('_')[0].replace('chr', '').replace('X', '23').replace('Y', '24')) for c in kmer_names[1]]\n",
    "    full_df[start_idx:(start_idx+len(L)),1] = [int(c.split(':')[1].split('-')[0]) + l for c,l in zip(kmer_names[2], kmer_names[3])]\n",
    "\n",
    "    # Some metrics about the ground truth kmers.\n",
    "    full_df[start_idx:(start_idx+len(L)),2] = kmer_counts.apply(axis=1, func=lambda x: round(x[x!=0].median(), 1))\n",
    "    full_df[start_idx:(start_idx+len(L)),3] = np.round((kmer_counts>0).mean(axis=1), 3)\n",
    "\n",
    "\n",
    "    \n",
    "    if len(L) < max_chunk: break\n",
    "    \n",
    "header = ['chrom_true', 'loci_true', 'median_of_nonzeros', 'prevalence']\n",
    "for std in stds:\n",
    "    header = header + ['chrom_pred_%s' % str(std), 'start_pred_%s' % str(std), 'end_pred_%s' % str(std)]\n",
    "    \n",
    "np.savetxt(LOCALIZED_FILE_DIR + 'localized_%03d.txt' % N , np.array(full_df),\n",
    "           header='\\t'.join(header), delimiter='\\t')\n",
    "print('saved to ', LOCALIZED_FILE_DIR + ('localized_%03d.txt' % N))"
   ]
  },
  {
   "cell_type": "markdown",
   "metadata": {},
   "source": [
    "# Load Data"
   ]
  },
  {
   "cell_type": "code",
   "execution_count": 2,
   "metadata": {},
   "outputs": [],
   "source": [
    "# Load in family region/global region conversion data.\n",
    "fam_region_to_idx = np.load(PHASINGS_DIR +  'fam_region_to_idx.npy', allow_pickle=True).item()\n",
    "idx_to_fam_region = np.load(PHASINGS_DIR +  'idx_to_fam_region.npy', allow_pickle=True).item()\n",
    "global_region_to_idx = np.load(PHASINGS_DIR +  'global_region_to_idx.npy', allow_pickle=True).item()\n",
    "idx_to_global_region = np.load(PHASINGS_DIR +  'idx_to_global_region.npy', allow_pickle=True).item()\n",
    "fam_idx_to_global_idx = np.load(PHASINGS_DIR + 'fam_regions_to_global_regions.npy', allow_pickle=True)\n",
    "family_info = pd.read_pickle(PHASINGS_DIR + 'fam_list.df')\n",
    "\n",
    "\n",
    "# Info from BAM mappings.\n",
    "\n",
    "bam_mappings = pd.read_csv(BAM_MAPPINGS_FILE, sep='\\t', index_col=1)\n",
    "bam_mappings = bam_mappings[bam_mappings['status']=='Passed_QC_analysis_ready']\n"
   ]
  },
  {
   "cell_type": "markdown",
   "metadata": {},
   "source": [
    "## Simulated k-mer counts."
   ]
  },
  {
   "cell_type": "code",
   "execution_count": 3,
   "metadata": {},
   "outputs": [],
   "source": [
    "#kmer_counts = pd.read_table(KMER_COUNTS_FILE, index_col=0)\n",
    "#kmer_counts = kmer_counts[((kmer_counts>0).mean(axis=1)>.05) & ((kmer_counts>0).mean(axis=1)<.5)]\n",
    "#kmer_counts.index = [(int(i.split(',')[0].replace('(', '')), float(i.split(',')[1].replace(')', ''))) for i in kmer_counts.index]\n"
   ]
  },
  {
   "cell_type": "markdown",
   "metadata": {},
   "source": [
    "## Alternative Haplotypes from Decoy Sequence"
   ]
  },
  {
   "cell_type": "code",
   "execution_count": 3,
   "metadata": {},
   "outputs": [
    {
     "name": "stdout",
     "output_type": "stream",
     "text": [
      "503\n"
     ]
    }
   ],
   "source": [
    "# Load in k-mer counts.\n",
    "KMERS_FILE = '/home/groups/dpwall/briannac/alt_haplotypes/data/known_kmers.txt'\n",
    "KMER_COUNTS_FILE = '/home/groups/dpwall/briannac/alt_haplotypes/data/known_kmer_counts.tsv'\n",
    "\n",
    "ref_genome = {r.id:r.description.split('  ')[4].replace('rg:', '') for r in SeqIO.parse(\n",
    "    '/home/groups/dpwall/briannac/general_data/reference_genomes/GRCh38_reference_genome/GRCh38_full_analysis_set_plus_decoy_hla.fa', 'fasta') if 'alt' in r.id}\n",
    "\n",
    "kmer_counts = pd.read_table(KMER_COUNTS_FILE, header=None, index_col=0, nrows=1000,skiprows=10000)\n",
    "kmer_names = pd.read_table(KMERS_FILE, header=None, index_col=0, nrows=1000,skiprows=10000)\n",
    "kmer_counts.index = [(i,ref_genome[j]) for i,j in zip(kmer_names.index, kmer_names[1])]\n",
    "kmer_counts.columns = bam_mappings.index\n",
    "kmer_counts = kmer_counts[((kmer_counts>0).mean(axis=1)>.05) & ((kmer_counts>0).mean(axis=1)<.5)]\n",
    "print(len(kmer_counts))"
   ]
  },
  {
   "cell_type": "code",
   "execution_count": 4,
   "metadata": {},
   "outputs": [],
   "source": [
    "# Normalize k-mer counts by average sample depth.\n",
    "\n",
    "kmer_length=100\n",
    "PARENT_DIR = '/home/groups/dpwall/briannac/blood_microbiome/'\n",
    "ihart_flagstat_file = PARENT_DIR + 'data/ihart_flagstat.csv'\n",
    "flagstat = pd.read_csv(ihart_flagstat_file, index_col=0)\n",
    "flagstat = flagstat.loc[set(flagstat.index).intersection(bam_mappings.index)]\n",
    "bam_mappings = bam_mappings.loc[flagstat.index]\n",
    "total_mapped_reads = flagstat.ProperPair*((flagstat.Total_Reads-flagstat.Supplementary-flagstat.Duplicates)/flagstat.Total_Reads)\n",
    "avg_coverage = total_mapped_reads*150/(6.27e9*(bam_mappings.sex_numeric.astype(float)==1.0) + 6.37e9*(bam_mappings.sex_numeric.astype(float)==2.0))\n",
    "avg_n_100mers = (150-kmer_length)/(150/avg_coverage)\n",
    "kmer_depth_dict = {k:avg_n_100mers[k] for k in avg_n_100mers.keys()}\n",
    "kmer_counts = kmer_counts[flagstat.index]\n",
    "\n",
    "avg_k_depth = np.mean(list(kmer_depth_dict.values()))\n",
    "norm_mult = np.array([avg_k_depth/kmer_depth_dict[c] for c in kmer_counts.columns])\n",
    "kmer_counts_normed = kmer_counts.apply(lambda x: round(x*norm_mult), axis=1).astype(int)"
   ]
  },
  {
   "cell_type": "code",
   "execution_count": 14,
   "metadata": {},
   "outputs": [],
   "source": [
    "from scipy.stats import poisson\n",
    "import time\n",
    "import pandas as pd\n",
    "import numpy as np\n",
    "from tqdm import tqdm\n",
    "from Bio import SeqIO\n",
    "from collections import Counter\n",
    "import matplotlib.pyplot as plt\n",
    "from glob import glob\n",
    "import json\n",
    "import pickle\n",
    "\n",
    "def GlobalInterval(L, std_thresh=1):\n",
    "    '''\n",
    "        Returns the the smallest and largest position where the likelihood is <=1 standard deivation away from the maximum likelihood.\n",
    "                Parameters:\n",
    "                        L (array): Array of likelihoods for each global genomic region.\n",
    "                        std_thresh (float): Number of standard deviations away from the maximum likelihood to consider.\n",
    "\n",
    "                Returns:\n",
    "                        interval (tuple): The start and end idxs.\n",
    "        '''    \n",
    "    thresh = np.max(L) - std_thresh*np.std(L)\n",
    "    if len(np.where(L>thresh)[0])==0: return (0, 100000)\n",
    "    start = np.where(L>thresh)[0][0]\n",
    "    end = np.where(L>thresh)[0][-1]\n",
    "    return (start, end)\n",
    "\n",
    "\n",
    "class MLE:\n",
    "    def __init__(self, avg_kmer_depth, poisson_cache_length, eps=0, phasing_error=.05):\n",
    "        self.poisson_cache = [[], []]\n",
    "        self.avg_kmer_depth=avg_kmer_depth\n",
    "        self.poisson_cache[0] = [poisson.pmf(k=k, mu=avg_kmer_depth) for k in range(poisson_cache_length)]\n",
    "        self.poisson_cache[1] = [poisson.pmf(k=k, mu=2*avg_kmer_depth) for k in range(poisson_cache_length)]\n",
    "        self.cached_family_log_likelihood = dict()\n",
    "        self.eps = eps\n",
    "        self.phasing_error=phasing_error\n",
    "        with open('/home/groups/dpwall/briannac/alt_haplotypes/data/phasings/phased_fams/phased_fams_all.pickle', 'rb') as f:\n",
    "            self.phased_fam_dict = pickle.load(f)\n",
    "        #with open('/home/groups/dpwall/briannac/alt_haplotypes/data/localize/family_probability_cache.pickle', 'rb') as f:\n",
    "        #    self.family_probability_cache = pickle.load(f)\n",
    "\n",
    "            \n",
    "    def cached_poisson_pmf(self,k,g):\n",
    "        if (g==0) & (k!=0):\n",
    "            return self.eps\n",
    "        if (k==0) & (g==0): \n",
    "            return 1-3*self.eps #poisson.pmf(g*avg_kmer_depth, k)\n",
    "        else:\n",
    "            return min(max(self.poisson_cache[g-1][k], self.eps), 1-3*self.eps)\n",
    "\n",
    "        \n",
    "        \n",
    "    def family_log_likelihood(self,k_m, k_p, k_cs, phases_ch):\n",
    "\n",
    "        '''\n",
    "        Returns the probability of a k-mer distribution in a family given the each member's kmer counts and the children's phasings. Note: takes about 1 second per 50K family-regions.\n",
    "\n",
    "                Parameters:\n",
    "                        k_m (int): mom_kmer_count (int): A decimal integer\n",
    "                        k_p (int): dad_kmer_count (int): Another decimal integer\n",
    "                        phases_ch (list): A list of of tuples representing each child's phasings (mom's chromome, dad's chromosme) {(0,0), (0,1), (1,0), (1,1)}\n",
    "                        avg_kmer_depth (int): Mean for avg k-mer depth of poisson distribution.\n",
    "\n",
    "                Returns:\n",
    "                        log likelihood (float): The log of the probability of the family's k-mer distribution given the famiy genotypes.\n",
    "        '''    \n",
    "        #key = (k_m, k_p, tuple(k_cs.values()), phases_ch)\n",
    "        #if key in self.family_probability_cache: return self.family_probability_cache[key]\n",
    "        #else: return eps\n",
    "        #key = tuple(sorted([(k_m, k_p, k,g[0], g[1]) for k,g in zip(k_cs, phases_ch)]))\n",
    "        #key = (k_m, k_p, tuple(k_cs.values), phases_ch) #tuple([(k_m, k_p, k,g[0], g[1]) for k,g in zip(k_cs, phases_ch)])\n",
    "        #if key not in self.family_probability_cache: return np.log2(.00001)\n",
    "        #else: return self.family_probability_cache[key]\n",
    "        # TODO ADD TO KEY\n",
    "        #if key in self.cached_family_log_likelihood: log_P = self.cached_family_log_likelihood[key]\n",
    "        #else:\n",
    "        if True:\n",
    "            possible_gs = [(0,0), (1,1), (0,1), (1,0)]\n",
    "            return np.log2(sum([self.cached_poisson_pmf(k_m,sum(g_m))*self.cached_poisson_pmf(k_p,sum(g_p))*\n",
    "                                    np.prod([self.cached_poisson_pmf(k_c, g_m[phase_ch[0]]+g_p[phase_ch[1]]) \n",
    "                                             for k_c, phase_ch in zip(k_cs, phases_ch)]) for g_p in possible_gs for g_m in possible_gs]))\n",
    "            log_P = log_P_ch#-log_P_m-log_P_p\n",
    "            #self.cached_family_log_likelihood[key] = log_P\n",
    "\n",
    "        #    if log_P>0: print(\"ERROR: log likelihood cannot be > 0\")\n",
    "        return log_P\n",
    "    \n",
    "    \n",
    "    def GlobalLikelihood(self,kmer_count, bam_mappings, family_info, global_region_to_idx, fam_region_to_idx, fam_idx_to_global_idx, MAX_FAMS=None):\n",
    "        global_likelihoods = [] #np.zeros(len(global_region_to_idx)) \n",
    "        fams_included = sorted(list(set(bam_mappings.loc[np.array(kmer_count[1].keys())[kmer_count[1].values>-1]].family).intersection(self.phased_fam_dict.keys())))\n",
    "        if MAX_FAMS: fams_included = list(fams_included)[:min(MAX_FAMS, len(fams_included))]\n",
    "        for fam in fams_included:\n",
    "            t = time.time()\n",
    "            \n",
    "            # Initialize global likelihood\n",
    "            global_likelihood = np.zeros(len(global_region_to_idx)) \n",
    "\n",
    "\n",
    "            # Extract mom, dad, and child sample_ids.\n",
    "            children = family_info.loc[fam].sib_samples\n",
    "            mom = family_info.loc[fam].mother_sample\n",
    "            dad = family_info.loc[fam].father_sample\n",
    "            \n",
    "            #pdb.set_trace()\n",
    "            fam_bad = False\n",
    "            if mom not in set(bam_mappings.index): continue\n",
    "            if dad not in set(bam_mappings.index): continue\n",
    "            for ch in children:\n",
    "                if ch not in set(bam_mappings.index):\n",
    "                    fam_bad = True\n",
    "                    break\n",
    "            if fam_bad: continue\n",
    "            \n",
    "            phased_fam = self.phased_fam_dict[fam]\n",
    "            print(fam)\n",
    "\n",
    "            \n",
    "            #print(time.time()-t, 'init')\n",
    "\n",
    "            t = time.time()\n",
    "\n",
    "            # Compute likelihood of family's k-mer distribution for each phasing configuration.\n",
    "            fam_likelihood = np.zeros(len(phased_fam))\n",
    "            phasings = [tuple(phased_fam[children].iloc[i].values) for i in range(len(phased_fam))]\n",
    "            possible_phasings = set(phasings)\n",
    "            # Convert family likelihood region to global region. \n",
    "            phasing_ps = np.array([self.family_log_likelihood(kmer_count[1][mom], kmer_count[1][dad], kmer_count[1][children].values, phase) \n",
    "                          for phase in possible_phasings])\n",
    "            #phasing_ps = self.phasing_error*(sum(phasing_ps) - phasing_ps) + (1-self.phasing_error)*phasing_ps\n",
    "            for phase, phase_p in zip(possible_phasings, phasing_ps):   \n",
    "                idx = np.where([p==phase for p in phasings])[0]\n",
    "                fam_likelihood[idx] = phase_p\n",
    "            #print(tme.time()-t, 'compute lik')\n",
    "\n",
    "            #for phase in possible_phasings:\n",
    "            #    idx = np.where([p==phase for p in phasings])[0]\n",
    "            #    fam_likelihood[idx] = self.family_log_likelihood(kmer_count[1][mom], kmer_count[1][dad], kmer_count[1][children], phase) #for i in range(len(phased_fam))\n",
    "            #print(min(fam_likelihood), max(fam_likelihood))\n",
    "            \n",
    "            \n",
    "            # Convert family likelihood region to global region. \n",
    "            t=time.time()\n",
    "            for i,l in enumerate(fam_likelihood):\n",
    "                global_idxs = fam_idx_to_global_idx[fam_region_to_idx[phased_fam.index[i]]]\n",
    "                global_likelihood[global_idxs] =  l\n",
    "            #print(time.time()-t, 'fam to global')\n",
    "            t = time.time()\n",
    "            # For regions with unknown phasings in the current family, default to the mode likelihood across the rest of the genome.\n",
    "            global_likelihood[global_likelihood==0] = mode(\n",
    "                global_likelihood[global_likelihood!=0]).mode[0]\n",
    "            global_likelihoods = global_likelihoods + [global_likelihood]\n",
    "        return np.array(global_likelihoods).sum(axis=0)\n"
   ]
  },
  {
   "cell_type": "code",
   "execution_count": 15,
   "metadata": {},
   "outputs": [
    {
     "name": "stdout",
     "output_type": "stream",
     "text": [
      "AU0001\n",
      "AU0012\n",
      "AU0021\n",
      "AU0022\n",
      "AU0027\n",
      "AU0028\n",
      "AU0030\n",
      "AU0033\n",
      "AU0037\n",
      "AU0041\n",
      "AU0043\n",
      "AU0048\n",
      "AU0053\n",
      "AU0063\n",
      "AU0084\n",
      "AU0092\n",
      "AU0093\n",
      "AU0095\n",
      "AU0109\n",
      "AU0115\n",
      "AU0120\n",
      "AU0123\n",
      "AU0127\n",
      "AU0132\n",
      "AU0133\n",
      "AU0134\n",
      "AU0137\n",
      "AU0145\n",
      "AU0148\n",
      "AU0150\n",
      "AU0157\n",
      "AU0162\n",
      "AU0164\n",
      "AU0167\n",
      "AU0169\n",
      "AU0175\n",
      "AU0176\n",
      "AU0178\n",
      "AU0179\n",
      "AU0184\n",
      "AU0188\n",
      "AU0190\n",
      "AU0193\n",
      "AU0196\n",
      "AU0199\n",
      "AU0200\n",
      "AU0201\n",
      "AU0208\n",
      "AU0210\n",
      "AU0215\n",
      "AU0222\n",
      "AU0226\n",
      "AU0231\n",
      "AU0235\n",
      "AU0236\n",
      "AU0242\n",
      "AU0247\n",
      "AU0250\n",
      "AU0254\n",
      "AU0255\n",
      "AU0258\n",
      "AU0259\n",
      "AU0262\n",
      "AU0265\n",
      "AU0267\n",
      "AU0268\n",
      "AU0273\n",
      "AU0282\n",
      "AU0285\n",
      "AU0289\n",
      "AU0293\n",
      "AU0299\n",
      "AU0305\n",
      "AU0306\n",
      "AU0311\n",
      "AU0316\n",
      "AU0325\n",
      "AU0329\n",
      "AU0331\n",
      "AU0334\n",
      "AU0336\n",
      "AU0338\n",
      "AU0340\n",
      "AU0350\n",
      "AU0356\n",
      "AU0364\n",
      "AU0370\n",
      "AU0371\n",
      "AU0379\n",
      "AU0380\n",
      "AU0388\n",
      "AU0412\n",
      "AU0423\n",
      "AU0430\n",
      "AU0432\n",
      "AU0439\n",
      "AU0459\n",
      "AU0483\n",
      "AU0487\n",
      "AU0531\n",
      "True Location: chr1:198370083-198725175 Predicted Region: 01.195703728 - 01.202059265\n"
     ]
    },
    {
     "data": {
      "image/png": "[encoded data removed]",
      "text/plain": [
       "<Figure size 432x288 with 1 Axes>"
      ]
     },
     "metadata": {
      "needs_background": "light"
     },
     "output_type": "display_data"
    }
   ],
   "source": [
    "mle = MLE(5.83, 100, eps=0, phasing_error=0)\n",
    "aa = []\n",
    "for k in kmer_counts_normed[::100][5:].iterrows():\n",
    "    a = mle.GlobalLikelihood(k, bam_mappings, family_info,\n",
    "                         global_region_to_idx, fam_region_to_idx, fam_idx_to_global_idx,MAX_FAMS=100)\n",
    "    aa = aa + [a]\n",
    "    start, end = GlobalInterval(a)\n",
    "    if idx_to_global_region[start][:2]!=idx_to_global_region[end][:2]:\n",
    "        print('True Location:',  k[0][1], 'Could not localize k-mer.')\n",
    "    else:\n",
    "        print('True Location:',  k[0][1], 'Predicted Region:', \n",
    "          '.'.join(idx_to_global_region[start].split('.')[:2]), '-', '.'.join(np.array(idx_to_global_region[end].split('.'))[[0,2]]))\n",
    "    plt.plot(a[5000:15000])\n",
    "    plt.ylabel('Log Likelihood')\n",
    "    plt.xlabel('Global Region')\n",
    "    plt.show()"
   ]
  },
  {
   "cell_type": "code",
   "execution_count": 16,
   "metadata": {},
   "outputs": [
    {
     "data": {
      "image/png": "[encoded data removed]",
      "text/plain": [
       "<Figure size 432x288 with 1 Axes>"
      ]
     },
     "metadata": {
      "needs_background": "light"
     },
     "output_type": "display_data"
    }
   ],
   "source": [
    "plt.plot(a)\n",
    "plt.ylabel('Log Likelihood')\n",
    "plt.xlabel('Global Region')\n",
    "plt.show()"
   ]
  },
  {
   "cell_type": "code",
   "execution_count": 245,
   "metadata": {},
   "outputs": [
    {
     "data": {
      "image/png": "[encoded data removed]",
      "text/plain": [
       "<Figure size 432x288 with 1 Axes>"
      ]
     },
     "metadata": {
      "needs_background": "light"
     },
     "output_type": "display_data"
    }
   ],
   "source": [
    "if True:\n",
    "        #plt.figure(figsize=(20,8))\n",
    "        plt.plot(a[5])\n",
    "        plt.ylabel('Log Likelihood')\n",
    "        plt.xlabel('Global Region')\n",
    "        plt.show()"
   ]
  },
  {
   "cell_type": "code",
   "execution_count": 228,
   "metadata": {},
   "outputs": [
    {
     "data": {
      "text/plain": [
       "[<matplotlib.lines.Line2D at 0x7f7b7d0ec2b0>]"
      ]
     },
     "execution_count": 228,
     "metadata": {},
     "output_type": "execute_result"
    },
    {
     "data": {
      "image/png": "[encoded data removed]",
      "text/plain": [
       "<Figure size 432x288 with 1 Axes>"
      ]
     },
     "metadata": {
      "needs_background": "light"
     },
     "output_type": "display_data"
    }
   ],
   "source": [
    "plt.plot(np.array(a)[[0,1,2,3,4,5,6],12000:22000].sum(axis=0))"
   ]
  },
  {
   "cell_type": "code",
   "execution_count": 246,
   "metadata": {},
   "outputs": [
    {
     "data": {
      "text/plain": [
       "[<matplotlib.lines.Line2D at 0x7f7b8017b780>]"
      ]
     },
     "execution_count": 246,
     "metadata": {},
     "output_type": "execute_result"
    },
    {
     "data": {
      "image/png": "[encoded data removed]",
      "text/plain": [
       "<Figure size 432x288 with 1 Axes>"
      ]
     },
     "metadata": {
      "needs_background": "light"
     },
     "output_type": "display_data"
    }
   ],
   "source": [
    "plt.plot(a[8])"
   ]
  },
  {
   "cell_type": "code",
   "execution_count": 274,
   "metadata": {},
   "outputs": [
    {
     "data": {
      "text/plain": [
       "Counter({-11.312311316681368: 128603,\n",
       "         -11.308091272507918: 47988,\n",
       "         -2.9056363821312927: 35039,\n",
       "         -2.901416337957841: 13683})"
      ]
     },
     "execution_count": 274,
     "metadata": {},
     "output_type": "execute_result"
    }
   ],
   "source": [
    "Counter(a[0])"
   ]
  }
 ],
 "metadata": {
  "kernelspec": {
   "display_name": "py_36_env",
   "language": "python",
   "name": "py_36_env"
  },
  "language_info": {
   "codemirror_mode": {
    "name": "ipython",
    "version": 3
   },
   "file_extension": ".py",
   "mimetype": "text/x-python",
   "name": "python",
   "nbconvert_exporter": "python",
   "pygments_lexer": "ipython3",
   "version": "3.6.1"
  }
 },
 "nbformat": 4,
 "nbformat_minor": 4
}
