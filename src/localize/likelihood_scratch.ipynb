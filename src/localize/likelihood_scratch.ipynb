{
 "cells": [
  {
   "cell_type": "code",
   "execution_count": 11,
   "metadata": {},
   "outputs": [],
   "source": [
    "import time\n",
    "import pandas as pd\n",
    "import numpy as np\n",
    "from tqdm import tqdm\n",
    "from Bio import SeqIO\n",
    "from collections import Counter\n",
    "import matplotlib.pyplot as plt\n",
    "from glob import glob\n",
    "import json\n",
    "import sys\n",
    "from scipy.stats import mode\n",
    "sys.path.append('/home/groups/dpwall/briannac/alt_haplotypes/src/localize')\n",
    "\n",
    "from MLE import *\n",
    "\n",
    "PHASINGS_DIR='/home/groups/dpwall/briannac/alt_haplotypes/data/phasings/'\n",
    "BAM_MAPPINGS_FILE = '/home/groups/dpwall/briannac/general_data/bam_mappings.csv'\n",
    "KMER_COUNTS_FILE = '/home/groups/dpwall/briannac/alt_haplotypes/results/simulated_data/kmer_counts.tsv'\n"
   ]
  },
  {
   "cell_type": "markdown",
   "metadata": {},
   "source": [
    "# Load Data"
   ]
  },
  {
   "cell_type": "code",
   "execution_count": 2,
   "metadata": {},
   "outputs": [],
   "source": [
    "# Load in family region/global region conversion data.\n",
    "fam_region_to_idx = np.load(PHASINGS_DIR +  'fam_region_to_idx.npy', allow_pickle=True).item()\n",
    "idx_to_fam_region = np.load(PHASINGS_DIR +  'idx_to_fam_region.npy', allow_pickle=True).item()\n",
    "global_region_to_idx = np.load(PHASINGS_DIR +  'global_region_to_idx.npy', allow_pickle=True).item()\n",
    "idx_to_global_region = np.load(PHASINGS_DIR +  'idx_to_global_region.npy', allow_pickle=True).item()\n",
    "fam_idx_to_global_idx = np.load(PHASINGS_DIR + 'fam_regions_to_global_regions.npy', allow_pickle=True)\n",
    "family_info = pd.read_pickle(PHASINGS_DIR + 'fam_list.df')\n",
    "\n",
    "\n",
    "# Info from BAM mappings.\n",
    "\n",
    "bam_mappings = pd.read_csv(BAM_MAPPINGS_FILE, sep='\\t', index_col=1)\n",
    "bam_mappings = bam_mappings[bam_mappings['status']=='Passed_QC_analysis_ready']\n"
   ]
  },
  {
   "cell_type": "markdown",
   "metadata": {},
   "source": [
    "## Simulated k-mer counts."
   ]
  },
  {
   "cell_type": "code",
   "execution_count": 3,
   "metadata": {},
   "outputs": [],
   "source": [
    "#kmer_counts = pd.read_table(KMER_COUNTS_FILE, index_col=0)\n",
    "#kmer_counts = kmer_counts[((kmer_counts>0).mean(axis=1)>.05) & ((kmer_counts>0).mean(axis=1)<.5)]\n",
    "#kmer_counts.index = [(int(i.split(',')[0].replace('(', '')), float(i.split(',')[1].replace(')', ''))) for i in kmer_counts.index]\n"
   ]
  },
  {
   "cell_type": "markdown",
   "metadata": {},
   "source": [
    "## Alternative Haplotypes from Decoy Sequence"
   ]
  },
  {
   "cell_type": "code",
   "execution_count": 3,
   "metadata": {},
   "outputs": [
    {
     "name": "stdout",
     "output_type": "stream",
     "text": [
      "503\n"
     ]
    }
   ],
   "source": [
    "# Load in k-mer counts.\n",
    "KMERS_FILE = '/home/groups/dpwall/briannac/alt_haplotypes/data/known_kmers.txt'\n",
    "KMER_COUNTS_FILE = '/home/groups/dpwall/briannac/alt_haplotypes/data/known_kmer_counts.tsv'\n",
    "\n",
    "ref_genome = {r.id:r.description.split('  ')[4].replace('rg:', '') for r in SeqIO.parse(\n",
    "    '/home/groups/dpwall/briannac/general_data/reference_genomes/GRCh38_reference_genome/GRCh38_full_analysis_set_plus_decoy_hla.fa', 'fasta') if 'alt' in r.id}\n",
    "\n",
    "kmer_counts = pd.read_table(KMER_COUNTS_FILE, header=None, index_col=0, nrows=1000,skiprows=10000)\n",
    "kmer_names = pd.read_table(KMERS_FILE, header=None, index_col=0, nrows=1000,skiprows=10000)\n",
    "kmer_counts.index = [(i,ref_genome[j]) for i,j in zip(kmer_names.index, kmer_names[1])]\n",
    "kmer_counts.columns = bam_mappings.index\n",
    "kmer_counts = kmer_counts[((kmer_counts>0).mean(axis=1)>.05) & ((kmer_counts>0).mean(axis=1)<.5)]\n",
    "print(len(kmer_counts))"
   ]
  },
  {
   "cell_type": "code",
   "execution_count": 4,
   "metadata": {},
   "outputs": [],
   "source": [
    "# Normalize k-mer counts by average sample depth.\n",
    "\n",
    "kmer_length=100\n",
    "PARENT_DIR = '/home/groups/dpwall/briannac/blood_microbiome/'\n",
    "ihart_flagstat_file = PARENT_DIR + 'data/ihart_flagstat.csv'\n",
    "flagstat = pd.read_csv(ihart_flagstat_file, index_col=0)\n",
    "flagstat = flagstat.loc[set(flagstat.index).intersection(bam_mappings.index)]\n",
    "bam_mappings = bam_mappings.loc[flagstat.index]\n",
    "total_mapped_reads = flagstat.ProperPair*((flagstat.Total_Reads-flagstat.Supplementary-flagstat.Duplicates)/flagstat.Total_Reads)\n",
    "avg_coverage = total_mapped_reads*150/(6.27e9*(bam_mappings.sex_numeric.astype(float)==1.0) + 6.37e9*(bam_mappings.sex_numeric.astype(float)==2.0))\n",
    "avg_n_100mers = (150-kmer_length)/(150/avg_coverage)\n",
    "kmer_depth_dict = {k:avg_n_100mers[k] for k in avg_n_100mers.keys()}\n",
    "kmer_counts = kmer_counts[flagstat.index]\n",
    "\n",
    "avg_k_depth = np.mean(list(kmer_depth_dict.values()))\n",
    "norm_mult = np.array([avg_k_depth/kmer_depth_dict[c] for c in kmer_counts.columns])\n",
    "kmer_counts_normed = kmer_counts.apply(lambda x: round(x*norm_mult), axis=1).astype(int)"
   ]
  },
  {
   "cell_type": "code",
   "execution_count": 14,
   "metadata": {},
   "outputs": [],
   "source": [
    "from scipy.stats import poisson\n",
    "import time\n",
    "import pandas as pd\n",
    "import numpy as np\n",
    "from tqdm import tqdm\n",
    "from Bio import SeqIO\n",
    "from collections import Counter\n",
    "import matplotlib.pyplot as plt\n",
    "from glob import glob\n",
    "import json\n",
    "import pickle\n",
    "\n",
    "def GlobalInterval(L, std_thresh=1):\n",
    "    '''\n",
    "        Returns the the smallest and largest position where the likelihood is <=1 standard deivation away from the maximum likelihood.\n",
    "                Parameters:\n",
    "                        L (array): Array of likelihoods for each global genomic region.\n",
    "                        std_thresh (float): Number of standard deviations away from the maximum likelihood to consider.\n",
    "\n",
    "                Returns:\n",
    "                        interval (tuple): The start and end idxs.\n",
    "        '''    \n",
    "    thresh = np.max(L) - std_thresh*np.std(L)\n",
    "    if len(np.where(L>thresh)[0])==0: return (0, 100000)\n",
    "    start = np.where(L>thresh)[0][0]\n",
    "    end = np.where(L>thresh)[0][-1]\n",
    "    return (start, end)\n",
    "\n",
    "\n",
    "class MLE:\n",
    "    def __init__(self, avg_kmer_depth, poisson_cache_length, eps=0, phasing_error=.05):\n",
    "        self.poisson_cache = [[], []]\n",
    "        self.avg_kmer_depth=avg_kmer_depth\n",
    "        self.poisson_cache[0] = [poisson.pmf(k=k, mu=avg_kmer_depth) for k in range(poisson_cache_length)]\n",
    "        self.poisson_cache[1] = [poisson.pmf(k=k, mu=2*avg_kmer_depth) for k in range(poisson_cache_length)]\n",
    "        self.cached_family_log_likelihood = dict()\n",
    "        self.eps = eps\n",
    "        self.phasing_error=phasing_error\n",
    "        with open('/home/groups/dpwall/briannac/alt_haplotypes/data/phasings/phased_fams/phased_fams_all.pickle', 'rb') as f:\n",
    "            self.phased_fam_dict = pickle.load(f)\n",
    "        #with open('/home/groups/dpwall/briannac/alt_haplotypes/data/localize/family_probability_cache.pickle', 'rb') as f:\n",
    "        #    self.family_probability_cache = pickle.load(f)\n",
    "\n",
    "            \n",
    "    def cached_poisson_pmf(self,k,g):\n",
    "        if (g==0) & (k!=0):\n",
    "            return self.eps\n",
    "        if (k==0) & (g==0): \n",
    "            return 1-3*self.eps #poisson.pmf(g*avg_kmer_depth, k)\n",
    "        else:\n",
    "            return min(max(self.poisson_cache[g-1][k], self.eps), 1-3*self.eps)\n",
    "\n",
    "        \n",
    "        \n",
    "    def family_log_likelihood(self,k_m, k_p, k_cs, phases_ch):\n",
    "\n",
    "        '''\n",
    "        Returns the probability of a k-mer distribution in a family given the each member's kmer counts and the children's phasings. Note: takes about 1 second per 50K family-regions.\n",
    "\n",
    "                Parameters:\n",
    "                        k_m (int): mom_kmer_count (int): A decimal integer\n",
    "                        k_p (int): dad_kmer_count (int): Another decimal integer\n",
    "                        phases_ch (list): A list of of tuples representing each child's phasings (mom's chromome, dad's chromosme) {(0,0), (0,1), (1,0), (1,1)}\n",
    "                        avg_kmer_depth (int): Mean for avg k-mer depth of poisson distribution.\n",
    "\n",
    "                Returns:\n",
    "                        log likelihood (float): The log of the probability of the family's k-mer distribution given the famiy genotypes.\n",
    "        '''    \n",
    "        #key = (k_m, k_p, tuple(k_cs.values()), phases_ch)\n",
    "        #if key in self.family_probability_cache: return self.family_probability_cache[key]\n",
    "        #else: return eps\n",
    "        #key = tuple(sorted([(k_m, k_p, k,g[0], g[1]) for k,g in zip(k_cs, phases_ch)]))\n",
    "        #key = (k_m, k_p, tuple(k_cs.values), phases_ch) #tuple([(k_m, k_p, k,g[0], g[1]) for k,g in zip(k_cs, phases_ch)])\n",
    "        #if key not in self.family_probability_cache: return np.log2(.00001)\n",
    "        #else: return self.family_probability_cache[key]\n",
    "        # TODO ADD TO KEY\n",
    "        #if key in self.cached_family_log_likelihood: log_P = self.cached_family_log_likelihood[key]\n",
    "        #else:\n",
    "        if True:\n",
    "            possible_gs = [(0,0), (1,1), (0,1), (1,0)]\n",
    "            return np.log2(sum([self.cached_poisson_pmf(k_m,sum(g_m))*self.cached_poisson_pmf(k_p,sum(g_p))*\n",
    "                                    np.prod([self.cached_poisson_pmf(k_c, g_m[phase_ch[0]]+g_p[phase_ch[1]]) \n",
    "                                             for k_c, phase_ch in zip(k_cs, phases_ch)]) for g_p in possible_gs for g_m in possible_gs]))\n",
    "            log_P = log_P_ch#-log_P_m-log_P_p\n",
    "            #self.cached_family_log_likelihood[key] = log_P\n",
    "\n",
    "        #    if log_P>0: print(\"ERROR: log likelihood cannot be > 0\")\n",
    "        return log_P\n",
    "    \n",
    "    \n",
    "    def GlobalLikelihood(self,kmer_count, bam_mappings, family_info, global_region_to_idx, fam_region_to_idx, fam_idx_to_global_idx, MAX_FAMS=None):\n",
    "        global_likelihoods = [] #np.zeros(len(global_region_to_idx)) \n",
    "        fams_included = sorted(list(set(bam_mappings.loc[np.array(kmer_count[1].keys())[kmer_count[1].values>-1]].family).intersection(self.phased_fam_dict.keys())))\n",
    "        if MAX_FAMS: fams_included = list(fams_included)[:min(MAX_FAMS, len(fams_included))]\n",
    "        for fam in fams_included:\n",
    "            t = time.time()\n",
    "            \n",
    "            # Initialize global likelihood\n",
    "            global_likelihood = np.zeros(len(global_region_to_idx)) \n",
    "\n",
    "\n",
    "            # Extract mom, dad, and child sample_ids.\n",
    "            children = family_info.loc[fam].sib_samples\n",
    "            mom = family_info.loc[fam].mother_sample\n",
    "            dad = family_info.loc[fam].father_sample\n",
    "            \n",
    "            #pdb.set_trace()\n",
    "            fam_bad = False\n",
    "            if mom not in set(bam_mappings.index): continue\n",
    "            if dad not in set(bam_mappings.index): continue\n",
    "            for ch in children:\n",
    "                if ch not in set(bam_mappings.index):\n",
    "                    fam_bad = True\n",
    "                    break\n",
    "            if fam_bad: continue\n",
    "            \n",
    "            phased_fam = self.phased_fam_dict[fam]\n",
    "            print(fam)\n",
    "\n",
    "            \n",
    "            #print(time.time()-t, 'init')\n",
    "\n",
    "            t = time.time()\n",
    "\n",
    "            # Compute likelihood of family's k-mer distribution for each phasing configuration.\n",
    "            fam_likelihood = np.zeros(len(phased_fam))\n",
    "            phasings = [tuple(phased_fam[children].iloc[i].values) for i in range(len(phased_fam))]\n",
    "            possible_phasings = set(phasings)\n",
    "            # Convert family likelihood region to global region. \n",
    "            phasing_ps = np.array([self.family_log_likelihood(kmer_count[1][mom], kmer_count[1][dad], kmer_count[1][children].values, phase) \n",
    "                          for phase in possible_phasings])\n",
    "            #phasing_ps = self.phasing_error*(sum(phasing_ps) - phasing_ps) + (1-self.phasing_error)*phasing_ps\n",
    "            for phase, phase_p in zip(possible_phasings, phasing_ps):   \n",
    "                idx = np.where([p==phase for p in phasings])[0]\n",
    "                fam_likelihood[idx] = phase_p\n",
    "            #print(tme.time()-t, 'compute lik')\n",
    "\n",
    "            #for phase in possible_phasings:\n",
    "            #    idx = np.where([p==phase for p in phasings])[0]\n",
    "            #    fam_likelihood[idx] = self.family_log_likelihood(kmer_count[1][mom], kmer_count[1][dad], kmer_count[1][children], phase) #for i in range(len(phased_fam))\n",
    "            #print(min(fam_likelihood), max(fam_likelihood))\n",
    "            \n",
    "            \n",
    "            # Convert family likelihood region to global region. \n",
    "            t=time.time()\n",
    "            for i,l in enumerate(fam_likelihood):\n",
    "                global_idxs = fam_idx_to_global_idx[fam_region_to_idx[phased_fam.index[i]]]\n",
    "                global_likelihood[global_idxs] =  l\n",
    "            #print(time.time()-t, 'fam to global')\n",
    "            t = time.time()\n",
    "            # For regions with unknown phasings in the current family, default to the mode likelihood across the rest of the genome.\n",
    "            global_likelihood[global_likelihood==0] = mode(\n",
    "                global_likelihood[global_likelihood!=0]).mode[0]\n",
    "            global_likelihoods = global_likelihoods + [global_likelihood]\n",
    "        return np.array(global_likelihoods).sum(axis=0)\n"
   ]
  },
  {
   "cell_type": "code",
   "execution_count": 15,
   "metadata": {},
   "outputs": [
    {
     "name": "stdout",
     "output_type": "stream",
     "text": [
      "AU0001\n",
      "AU0012\n",
      "AU0021\n",
      "AU0022\n",
      "AU0027\n",
      "AU0028\n",
      "AU0030\n",
      "AU0033\n",
      "AU0037\n",
      "AU0041\n",
      "AU0043\n",
      "AU0048\n",
      "AU0053\n",
      "AU0063\n",
      "AU0084\n",
      "AU0092\n",
      "AU0093\n",
      "AU0095\n",
      "AU0109\n",
      "AU0115\n",
      "AU0120\n",
      "AU0123\n",
      "AU0127\n",
      "AU0132\n",
      "AU0133\n",
      "AU0134\n",
      "AU0137\n",
      "AU0145\n",
      "AU0148\n",
      "AU0150\n",
      "AU0157\n",
      "AU0162\n",
      "AU0164\n",
      "AU0167\n",
      "AU0169\n",
      "AU0175\n",
      "AU0176\n",
      "AU0178\n",
      "AU0179\n",
      "AU0184\n",
      "AU0188\n",
      "AU0190\n",
      "AU0193\n",
      "AU0196\n",
      "AU0199\n",
      "AU0200\n",
      "AU0201\n",
      "AU0208\n",
      "AU0210\n",
      "AU0215\n",
      "AU0222\n",
      "AU0226\n",
      "AU0231\n",
      "AU0235\n",
      "AU0236\n",
      "AU0242\n",
      "AU0247\n",
      "AU0250\n",
      "AU0254\n",
      "AU0255\n",
      "AU0258\n",
      "AU0259\n",
      "AU0262\n",
      "AU0265\n",
      "AU0267\n",
      "AU0268\n",
      "AU0273\n",
      "AU0282\n",
      "AU0285\n",
      "AU0289\n",
      "AU0293\n",
      "AU0299\n",
      "AU0305\n",
      "AU0306\n",
      "AU0311\n",
      "AU0316\n",
      "AU0325\n",
      "AU0329\n",
      "AU0331\n",
      "AU0334\n",
      "AU0336\n",
      "AU0338\n",
      "AU0340\n",
      "AU0350\n",
      "AU0356\n",
      "AU0364\n",
      "AU0370\n",
      "AU0371\n",
      "AU0379\n",
      "AU0380\n",
      "AU0388\n",
      "AU0412\n",
      "AU0423\n",
      "AU0430\n",
      "AU0432\n",
      "AU0439\n",
      "AU0459\n",
      "AU0483\n",
      "AU0487\n",
      "AU0531\n",
      "True Location: chr1:198370083-198725175 Predicted Region: 01.195703728 - 01.202059265\n"
     ]
    },
    {
     "data": {
      "image/png": "[encoded data removed]",
      "text/plain": [
       "<Figure size 432x288 with 1 Axes>"
      ]
     },
     "metadata": {
      "needs_background": "light"
     },
     "output_type": "display_data"
    }
   ],
   "source": [
    "mle = MLE(5.83, 100, eps=0, phasing_error=0)\n",
    "aa = []\n",
    "for k in kmer_counts_normed[::100][5:].iterrows():\n",
    "    a = mle.GlobalLikelihood(k, bam_mappings, family_info,\n",
    "                         global_region_to_idx, fam_region_to_idx, fam_idx_to_global_idx,MAX_FAMS=100)\n",
    "    aa = aa + [a]\n",
    "    start, end = GlobalInterval(a)\n",
    "    if idx_to_global_region[start][:2]!=idx_to_global_region[end][:2]:\n",
    "        print('True Location:',  k[0][1], 'Could not localize k-mer.')\n",
    "    else:\n",
    "        print('True Location:',  k[0][1], 'Predicted Region:', \n",
    "          '.'.join(idx_to_global_region[start].split('.')[:2]), '-', '.'.join(np.array(idx_to_global_region[end].split('.'))[[0,2]]))\n",
    "    plt.plot(a[5000:15000])\n",
    "    plt.ylabel('Log Likelihood')\n",
    "    plt.xlabel('Global Region')\n",
    "    plt.show()"
   ]
  },
  {
   "cell_type": "code",
   "execution_count": 16,
   "metadata": {},
   "outputs": [
    {
     "data": {
      "image/png": "[encoded data removed]",
      "text/plain": [
       "<Figure size 432x288 with 1 Axes>"
      ]
     },
     "metadata": {
      "needs_background": "light"
     },
     "output_type": "display_data"
    }
   ],
   "source": [
    "plt.plot(a)\n",
    "plt.ylabel('Log Likelihood')\n",
    "plt.xlabel('Global Region')\n",
    "plt.show()"
   ]
  },
  {
   "cell_type": "code",
   "execution_count": 245,
   "metadata": {},
   "outputs": [
    {
     "data": {
      "image/png": "[encoded data removed]",
      "text/plain": [
       "<Figure size 432x288 with 1 Axes>"
      ]
     },
     "metadata": {
      "needs_background": "light"
     },
     "output_type": "display_data"
    }
   ],
   "source": [
    "if True:\n",
    "        #plt.figure(figsize=(20,8))\n",
    "        plt.plot(a[5])\n",
    "        plt.ylabel('Log Likelihood')\n",
    "        plt.xlabel('Global Region')\n",
    "        plt.show()"
   ]
  },
  {
   "cell_type": "code",
   "execution_count": 228,
   "metadata": {},
   "outputs": [
    {
     "data": {
      "text/plain": [
       "[<matplotlib.lines.Line2D at 0x7f7b7d0ec2b0>]"
      ]
     },
     "execution_count": 228,
     "metadata": {},
     "output_type": "execute_result"
    },
    {
     "data": {
      "image/png": "[encoded data removed]",
      "text/plain": [
       "<Figure size 432x288 with 1 Axes>"
      ]
     },
     "metadata": {
      "needs_background": "light"
     },
     "output_type": "display_data"
    }
   ],
   "source": [
    "plt.plot(np.array(a)[[0,1,2,3,4,5,6],12000:22000].sum(axis=0))"
   ]
  },
  {
   "cell_type": "code",
   "execution_count": 246,
   "metadata": {},
   "outputs": [
    {
     "data": {
      "text/plain": [
       "[<matplotlib.lines.Line2D at 0x7f7b8017b780>]"
      ]
     },
     "execution_count": 246,
     "metadata": {},
     "output_type": "execute_result"
    },
    {
     "data": {
      "image/png": "[encoded data removed]",
      "text/plain": [
       "<Figure size 432x288 with 1 Axes>"
      ]
     },
     "metadata": {
      "needs_background": "light"
     },
     "output_type": "display_data"
    }
   ],
   "source": [
    "plt.plot(a[8])"
   ]
  },
  {
   "cell_type": "code",
   "execution_count": 274,
   "metadata": {},
   "outputs": [
    {
     "data": {
      "text/plain": [
       "Counter({-11.312311316681368: 128603,\n",
       "         -11.308091272507918: 47988,\n",
       "         -2.9056363821312927: 35039,\n",
       "         -2.901416337957841: 13683})"
      ]
     },
     "execution_count": 274,
     "metadata": {},
     "output_type": "execute_result"
    }
   ],
   "source": [
    "Counter(a[0])"
   ]
  }
 ],
 "metadata": {
  "kernelspec": {
   "display_name": "py_36_env",
   "language": "python",
   "name": "py_36_env"
  },
  "language_info": {
   "codemirror_mode": {
    "name": "ipython",
    "version": 3
   },
   "file_extension": ".py",
   "mimetype": "text/x-python",
   "name": "python",
   "nbconvert_exporter": "python",
   "pygments_lexer": "ipython3",
   "version": "3.6.1"
  }
 },
 "nbformat": 4,
 "nbformat_minor": 4
}
