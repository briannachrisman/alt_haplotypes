{
 "cells": [
  {
   "cell_type": "code",
   "execution_count": 10,
   "metadata": {},
   "outputs": [],
   "source": [
    "import glob\n",
    "import pandas as pd"
   ]
  },
  {
   "cell_type": "code",
   "execution_count": 30,
   "metadata": {},
   "outputs": [
    {
     "data": {
      "text/plain": [
       "'0,5,6,17,48,49,53,59,92,93,95,101,103,109,122,155,161,177,187,195,200,226,227,228,232,233,239,240,245,256,263,275,287,303,309,310,312,319,322,325,326,328,334,357,378,384,386,400,401,413,423,424,432,433,441,453,459,470,475,479,497,506,507,508,513,526,527,546,547,573,582,589,592,593,626,628,630,631,635,636,651,655,666,677,693,696,697,701,711,724,728,731,733,734,735,750,756,769,771,775,780,785,795,800,802,804,807,808,809,810,811,816,817,820,822,824,826,829,830,831,832,833,834,835,837,838,841,843,844,845,846,847,848,849,850,851,856,858,859,861,864,865,866,868,871,872,873,874'"
      ]
     },
     "execution_count": 30,
     "metadata": {},
     "output_type": "execute_result"
    }
   ],
   "source": [
    "fams_done = [g.split('_fam')[-1].replace('.tsv', '') for g in glob.glob(\n",
    "    '/home/groups/dpwall/briannac/alt_haplotypes/intermediate_files/family_likelihoods/ground_truth/likelihood_matrix_phasings_kmers_fam*.tsv')]\n",
    "','.join([str(i) for i in list(set({i for i in range(875)}).difference(sorted([int(f) + 1 for f in fams_done])))])"
   ]
  },
  {
   "cell_type": "code",
   "execution_count": 35,
   "metadata": {},
   "outputs": [],
   "source": [
    "family_info = pd.read_pickle('/home/groups/dpwall/briannac/alt_haplotypes/data/phasings/fam_list.df')\n",
    "family_info['idx']  = [i for i in range(len(family_info))]\n",
    "fam_idxs = family_info.iloc[[int(f) for f in fams]]\n",
    "idxs_possible = set(['%.03d' %f for f in fam_idxs.loc[set(phased_fams).intersection(fam_idxs.index)].idx.values])"
   ]
  },
  {
   "cell_type": "code",
   "execution_count": 36,
   "metadata": {},
   "outputs": [
    {
     "data": {
      "text/plain": [
       "set()"
      ]
     },
     "execution_count": 36,
     "metadata": {},
     "output_type": "execute_result"
    }
   ],
   "source": [
    "idxs_possible.difference(fams_done)"
   ]
  }
 ],
 "metadata": {
  "kernelspec": {
   "display_name": "py_36_env",
   "language": "python",
   "name": "py_36_env"
  },
  "language_info": {
   "codemirror_mode": {
    "name": "ipython",
    "version": 3
   },
   "file_extension": ".py",
   "mimetype": "text/x-python",
   "name": "python",
   "nbconvert_exporter": "python",
   "pygments_lexer": "ipython3",
   "version": "3.6.1"
  }
 },
 "nbformat": 4,
 "nbformat_minor": 4
}
