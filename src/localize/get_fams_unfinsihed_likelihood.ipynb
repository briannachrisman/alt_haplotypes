{
 "cells": [
  {
   "cell_type": "code",
   "execution_count": 1,
   "metadata": {},
   "outputs": [],
   "source": [
    "import glob\n",
    "import pandas as pd"
   ]
  },
  {
   "cell_type": "code",
   "execution_count": 2,
   "metadata": {},
   "outputs": [
    {
     "data": {
      "text/plain": [
       "41"
      ]
     },
     "execution_count": 2,
     "metadata": {},
     "output_type": "execute_result"
    }
   ],
   "source": [
    "fams_done = [g.split('_fam')[-1].replace('.tsv', '') for g in glob.glob(\n",
    "    '/home/groups/dpwall/briannac/alt_haplotypes/intermediate_files/family_likelihoods/unmapped/likelihood_matrix_phasings_kmers_fam*.tsv')]\n",
    "\n",
    "fams_poss = [g.split('_fam')[-1].replace('.tsv', '') for g in glob.glob(\n",
    "    '/home/groups/dpwall/briannac/alt_haplotypes/intermediate_files/family_likelihoods/unplaced_decoy_seqs/likelihood_matrix_phasings_kmers_fam*.tsv')]\n",
    "unfinished = [str(i+1) for i in set([int(f) for f in fams_poss]).difference(sorted([int(f)  for f in fams_done]))]#.difference([222,375,9,39,198,369,75,212]))])\n",
    "len(unfinished)"
   ]
  },
  {
   "cell_type": "code",
   "execution_count": 35,
   "metadata": {},
   "outputs": [],
   "source": [
    "family_info = pd.read_pickle('/home/groups/dpwall/briannac/alt_haplotypes/data/phasings/fam_list.df')\n",
    "family_info['idx']  = [i for i in range(len(family_info))]\n",
    "fam_idxs = family_info.iloc[[int(f) for f in fams]]\n",
    "idxs_possible = set(['%.03d' %f for f in fam_idxs.loc[set(phased_fams).intersection(fam_idxs.index)].idx.values])"
   ]
  },
  {
   "cell_type": "code",
   "execution_count": 4,
   "metadata": {},
   "outputs": [
    {
     "data": {
      "text/plain": [
       "193"
      ]
     },
     "execution_count": 4,
     "metadata": {},
     "output_type": "execute_result"
    }
   ],
   "source": [
    "len([str(i+1) for i in list(set({i for i in range(875)}).difference(sorted([int(f)  for f in fams_done])))])"
   ]
  },
  {
   "cell_type": "code",
   "execution_count": 5,
   "metadata": {},
   "outputs": [
    {
     "data": {
      "text/plain": [
       "'10,19,30,40,61,76,83,99,107,124,134,199,223,249,268,294,348,370,376,408,415,426,438,443,471,476,482,490,503,518,549,560,564,575,588,608,627,654,718,722,764'"
      ]
     },
     "execution_count": 5,
     "metadata": {},
     "output_type": "execute_result"
    }
   ],
   "source": []
  },
  {
   "cell_type": "code",
   "execution_count": null,
   "metadata": {},
   "outputs": [],
   "source": []
  }
 ],
 "metadata": {
  "kernelspec": {
   "display_name": "py_36_env",
   "language": "python",
   "name": "py_36_env"
  },
  "language_info": {
   "codemirror_mode": {
    "name": "ipython",
    "version": 3
   },
   "file_extension": ".py",
   "mimetype": "text/x-python",
   "name": "python",
   "nbconvert_exporter": "python",
   "pygments_lexer": "ipython3",
   "version": "3.6.1"
  }
 },
 "nbformat": 4,
 "nbformat_minor": 4
}
