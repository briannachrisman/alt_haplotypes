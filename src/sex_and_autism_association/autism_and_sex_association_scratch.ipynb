{
 "cells": [
  {
   "cell_type": "code",
   "execution_count": 1,
   "metadata": {},
   "outputs": [],
   "source": [
    "import pandas as pd\n",
    "import sys\n",
    "import numpy as np\n",
    "import tqdm\n",
    "import scipy.stats as stats\n",
    "import matplotlib.pyplot as plt\n",
    "\n",
    "FIG_DIR = '/home/groups/dpwall/briannac/alt_haplotypes/results/autism_and_sex_association/'"
   ]
  },
  {
   "cell_type": "markdown",
   "metadata": {},
   "source": [
    "# Unfinished files."
   ]
  },
  {
   "cell_type": "code",
   "execution_count": 2,
   "metadata": {},
   "outputs": [
    {
     "data": {
      "text/plain": [
       "set()"
      ]
     },
     "execution_count": 2,
     "metadata": {},
     "output_type": "execute_result"
    }
   ],
   "source": [
    "import glob\n",
    "finished = [int(i.split('_')[-1][:4]) for i in glob.glob('/home/groups/dpwall/briannac/alt_haplotypes/intermediate_files/pvals_asd/pvals_asd_*.tsv')]\n",
    "set(range(160)).difference(finished)\n",
    "# Looks like everthing finished."
   ]
  },
  {
   "cell_type": "code",
   "execution_count": 2,
   "metadata": {},
   "outputs": [],
   "source": [
    "bam_mappings = pd.read_table('/home/groups/dpwall/briannac/general_data/bam_mappings.csv', index_col=1)\n",
    "bam_mappings = bam_mappings[bam_mappings.status=='Passed_QC_analysis_ready']\n",
    "bam_mappings = bam_mappings.drop('09C86428')"
   ]
  },
  {
   "cell_type": "markdown",
   "metadata": {},
   "source": [
    "# Sex Association"
   ]
  },
  {
   "cell_type": "code",
   "execution_count": 4,
   "metadata": {},
   "outputs": [
    {
     "name": "stderr",
     "output_type": "stream",
     "text": [
      "/home/users/briannac/.local/lib/python3.6/site-packages/numpy/lib/arraysetops.py:569: FutureWarning: elementwise comparison failed; returning scalar instead, but in the future will perform elementwise comparison\n",
      "  mask |= (ar1 == a)\n"
     ]
    },
    {
     "data": {
      "text/html": [
       "<div>\n",
       "<style scoped>\n",
       "    .dataframe tbody tr th:only-of-type {\n",
       "        vertical-align: middle;\n",
       "    }\n",
       "\n",
       "    .dataframe tbody tr th {\n",
       "        vertical-align: top;\n",
       "    }\n",
       "\n",
       "    .dataframe thead th {\n",
       "        text-align: right;\n",
       "    }\n",
       "</style>\n",
       "<table border=\"1\" class=\"dataframe\">\n",
       "  <thead>\n",
       "    <tr style=\"text-align: right;\">\n",
       "      <th></th>\n",
       "      <th>1</th>\n",
       "      <th>2</th>\n",
       "    </tr>\n",
       "    <tr>\n",
       "      <th>0</th>\n",
       "      <th></th>\n",
       "      <th></th>\n",
       "    </tr>\n",
       "  </thead>\n",
       "  <tbody>\n",
       "    <tr>\n",
       "      <th>0</th>\n",
       "      <td>0.111016</td>\n",
       "      <td>1.139665</td>\n",
       "    </tr>\n",
       "    <tr>\n",
       "      <th>5</th>\n",
       "      <td>0.995817</td>\n",
       "      <td>1.000000</td>\n",
       "    </tr>\n",
       "    <tr>\n",
       "      <th>8</th>\n",
       "      <td>0.157299</td>\n",
       "      <td>0.994778</td>\n",
       "    </tr>\n",
       "    <tr>\n",
       "      <th>10</th>\n",
       "      <td>0.103605</td>\n",
       "      <td>0.989529</td>\n",
       "    </tr>\n",
       "    <tr>\n",
       "      <th>14</th>\n",
       "      <td>0.317311</td>\n",
       "      <td>1.002618</td>\n",
       "    </tr>\n",
       "    <tr>\n",
       "      <th>...</th>\n",
       "      <td>...</td>\n",
       "      <td>...</td>\n",
       "    </tr>\n",
       "    <tr>\n",
       "      <th>999993</th>\n",
       "      <td>0.014306</td>\n",
       "      <td>0.984334</td>\n",
       "    </tr>\n",
       "    <tr>\n",
       "      <th>999995</th>\n",
       "      <td>0.998525</td>\n",
       "      <td>1.000000</td>\n",
       "    </tr>\n",
       "    <tr>\n",
       "      <th>999996</th>\n",
       "      <td>0.157299</td>\n",
       "      <td>0.994778</td>\n",
       "    </tr>\n",
       "    <tr>\n",
       "      <th>999997</th>\n",
       "      <td>0.317311</td>\n",
       "      <td>1.002618</td>\n",
       "    </tr>\n",
       "    <tr>\n",
       "      <th>999998</th>\n",
       "      <td>0.317311</td>\n",
       "      <td>1.002618</td>\n",
       "    </tr>\n",
       "  </tbody>\n",
       "</table>\n",
       "<p>85966205 rows × 2 columns</p>\n",
       "</div>"
      ],
      "text/plain": [
       "               1         2\n",
       "0                         \n",
       "0       0.111016  1.139665\n",
       "5       0.995817  1.000000\n",
       "8       0.157299  0.994778\n",
       "10      0.103605  0.989529\n",
       "14      0.317311  1.002618\n",
       "...          ...       ...\n",
       "999993  0.014306  0.984334\n",
       "999995  0.998525  1.000000\n",
       "999996  0.157299  0.994778\n",
       "999997  0.317311  1.002618\n",
       "999998  0.317311  1.002618\n",
       "\n",
       "[85966205 rows x 2 columns]"
      ]
     },
     "execution_count": 4,
     "metadata": {},
     "output_type": "execute_result"
    }
   ],
   "source": [
    "# Get pairings.\n",
    "samples = bam_mappings.index\n",
    "affected_pairs = []\n",
    "unaffected_pairs = []\n",
    "for f in set(bam_mappings.family):\n",
    "    fam = bam_mappings[(bam_mappings.family==f) & (bam_mappings.relationship=='sibling')]\n",
    "    #random\n",
    "    #sex_numeric = fam.sex_numeric.copy()\n",
    "    #np.random.shuffle(sex_numeric)\n",
    "    #fam.sex_numeric = sex_numeric\n",
    "    affected_females = fam[(fam.sex_numeric=='2.0') & (fam.derived_affected_status=='autism')]\n",
    "    affected_males = fam[(fam.sex_numeric=='1.0') & (fam.derived_affected_status=='autism')]\n",
    "    unaffected_females = fam[(fam.sex_numeric=='2.0') & (pd.isna(fam.derived_affected_status))]\n",
    "    unaffected_males = fam[(fam.sex_numeric=='1.0') & (pd.isna(fam.derived_affected_status))]\n",
    "    \n",
    "    affected_pairs = affected_pairs + [(i,j) for i in affected_females.index for j in affected_males.index if ((i in samples) and (j in samples))]\n",
    "    unaffected_pairs = unaffected_pairs + [(i,j) for i in unaffected_females.index for j in unaffected_males.index if ((i in samples) and (j in samples))]\n",
    "males = [m for f,m in (affected_pairs + unaffected_pairs)]\n",
    "females = [f for f,m in (affected_pairs + unaffected_pairs)]    \n",
    "\n",
    "pvals_sex = pd.read_table('/home/groups/dpwall/briannac/alt_haplotypes/results/autism_and_sex_association/pvals_sex.tsv', sep='\\t', index_col=0, header=None)\n",
    "pvals_sex\n"
   ]
  },
  {
   "cell_type": "code",
   "execution_count": null,
   "metadata": {},
   "outputs": [],
   "source": []
  },
  {
   "cell_type": "code",
   "execution_count": 4,
   "metadata": {},
   "outputs": [],
   "source": [
    "pvals_sex[1] = [max(p,1e-20) for p in pvals_sex[1]] # Clip pvalues.\n",
    "pvals_sex[2] = [max(e,-2) if e<0 else min(e,2) for e in np.log2(pvals_sex[2])] # Clip pvalues.\n"
   ]
  },
  {
   "cell_type": "code",
   "execution_count": 5,
   "metadata": {},
   "outputs": [
    {
     "data": {
      "image/png": "[encoded data removed]",
      "text/plain": [
       "<Figure size 504x288 with 1 Axes>"
      ]
     },
     "metadata": {
      "needs_background": "light"
     },
     "output_type": "display_data"
    }
   ],
   "source": [
    "#pvals_sex = pd.read_table('/home/groups/dpwall/briannac/alt_haplotypes/results/autism_and_sex_association/pvals_sex.tsv', sep='\\t', index_col=0, header=None)\n",
    "#kmer_covs_sex = pd.read_table('/home/groups/dpwall/briannac/alt_haplotypes/results/autism_and_sex_association/sig_covs_sex.tsv', sep='\\t', index_col=0, header=None)\n",
    "#kmer_covs_sex.columns = bam_mappings.index\n",
    "\n",
    "cutoff = .05/len(pvals_sex)\n",
    "no_sig =pvals_sex[pvals_sex[1]>=cutoff].sample(frac=.01)\n",
    "yes_sig = pvals_sex[pvals_sex[1]<cutoff].sample(frac=.01)\n",
    "\n",
    "f, ax = plt.subplots(figsize=(7,4))\n",
    "plt.scatter(no_sig[2], -np.log10(no_sig[1]),\n",
    "            s=-np.log10(no_sig[1]), color='#8687d1')\n",
    "plt.scatter(yes_sig[2], -np.log10(yes_sig[1]),\n",
    "            s=-np.log10(yes_sig[1]), color='#ff9900')\n",
    "\n",
    "ax.spines['top'].set_visible(False)\n",
    "ax.spines['right'].set_visible(False)\n",
    "#ax.spines['bottom'].set_visible(False)\n",
    "#ax.spines['left'].set_visible(False)\n",
    "plt.xlabel('log2(P(M>=F)/P(F>=M))')\n",
    "plt.ylabel('-log10(p)')\n",
    "plt.title('K-mer count association with sex')\n",
    "plt.savefig(FIG_DIR + 'kmer_count_association_w_sex.svg', transparent=True)\n",
    "plt.savefig(FIG_DIR + 'kmer_count_association_w_sex.pdf', transparent=True)\n",
    "plt.show()"
   ]
  },
  {
   "cell_type": "markdown",
   "metadata": {},
   "source": [
    "# Autism"
   ]
  },
  {
   "cell_type": "code",
   "execution_count": 9,
   "metadata": {},
   "outputs": [
    {
     "name": "stdout",
     "output_type": "stream",
     "text": [
      "test\n"
     ]
    }
   ],
   "source": [
    "print(\"test\")"
   ]
  },
  {
   "cell_type": "code",
   "execution_count": 3,
   "metadata": {},
   "outputs": [],
   "source": [
    "samples = bam_mappings.index\n",
    "male_pairs = []\n",
    "female_pairs = []\n",
    "for f in set(bam_mappings.family):\n",
    "    fam = bam_mappings[(bam_mappings.family==f) & (bam_mappings.relationship=='sibling')]\n",
    "    affected_females = fam[(fam.sex_numeric=='2.0') & (fam.derived_affected_status=='autism')]\n",
    "    affected_males = fam[(fam.sex_numeric=='1.0') & (fam.derived_affected_status=='autism')]\n",
    "    unaffected_females = fam[(fam.sex_numeric=='2.0') & (pd.isna(fam.derived_affected_status))]\n",
    "    unaffected_males = fam[(fam.sex_numeric=='1.0') & (pd.isna(fam.derived_affected_status))]\n",
    "    \n",
    "    male_pairs = male_pairs + [(i,j) for i in affected_males.index for j in unaffected_males.index if ((i in samples) and (j in samples))]\n",
    "    female_pairs = female_pairs + [(i,j) for i in affected_females.index for j in unaffected_females.index if ((i in samples) and (j in samples))]\n",
    "affecteds = [a for a,u in (male_pairs + female_pairs)]\n",
    "unaffecteds = [u for a,u in (male_pairs + female_pairs)]    "
   ]
  },
  {
   "cell_type": "code",
   "execution_count": 4,
   "metadata": {},
   "outputs": [
    {
     "name": "stderr",
     "output_type": "stream",
     "text": [
      "/home/users/briannac/.local/lib/python3.6/site-packages/numpy/lib/arraysetops.py:569: FutureWarning: elementwise comparison failed; returning scalar instead, but in the future will perform elementwise comparison\n",
      "  mask |= (ar1 == a)\n"
     ]
    }
   ],
   "source": [
    "pvals_asd = pd.read_table('/home/groups/dpwall/briannac/alt_haplotypes/results/autism_and_sex_association/pvals_asd.tsv', sep='\\t', index_col=0, header=None)"
   ]
  },
  {
   "cell_type": "code",
   "execution_count": 7,
   "metadata": {},
   "outputs": [
    {
     "data": {
      "image/png": "[encoded data removed]",
      "text/plain": [
       "<Figure size 504x288 with 1 Axes>"
      ]
     },
     "metadata": {
      "needs_background": "light"
     },
     "output_type": "display_data"
    }
   ],
   "source": [
    "#pvals_asd = pd.read_table('/home/groups/dpwall/briannac/alt_haplotypes/results/autism_and_sex_association/pvals_asd.tsv', sep='\\t', index_col=0, header=None)\n",
    "#sampled_df=pd.concat([pvals_asd[pvals_asd[1]>=1e-8].sample(frac=.1),pvals_asd[pvals_asd[1]<1e-8]])\n",
    "#kmer_covs_asd = pd.read_table('/home/groups/dpwall/briannac/alt_haplotypes/results/autism_and_sex_association/sig_covs_asd.tsv', sep='\\t', index_col=0, header=None)\n",
    "#kmer_covs_asd.columns = bam_mappings.index\n",
    "cutoff = .05/len(pvals_asd)\n",
    "no_sig =pvals_asd[pvals_asd[1]>=cutoff].sample(frac=.001)\n",
    "yes_sig = pvals_asd[pvals_asd[1]<cutoff]\n",
    "\n",
    "\n",
    "f, ax = plt.subplots(figsize=(7,4))\n",
    "\n",
    "plt.scatter(np.log2(no_sig[2]), -np.log10(no_sig[1]),\n",
    "            s=-np.log10(no_sig[1]), color='#8687d1')\n",
    "plt.scatter(np.log2(yes_sig[2]), -np.log10(yes_sig[1]),\n",
    "            s=-np.log10(yes_sig[1]), color='#ff9900')\n",
    "ax.spines['top'].set_visible(False)\n",
    "ax.spines['right'].set_visible(False)\n",
    "ax.spines['bottom'].set_visible(False)\n",
    "ax.spines['left'].set_visible(False)\n",
    "\n",
    "plt.xlabel('log2(P(ASD>=NT)/P(ASD>=NT))')\n",
    "plt.ylabel('-log10(p)')\n",
    "plt.title('K-mer count association with asd')\n",
    "plt.savefig(FIG_DIR + 'kmer_count_association_w_asd.svg', transparent=True)\n",
    "plt.savefig(FIG_DIR + 'kmer_count_association_w_asd.pdf', transparent=True)\n",
    "plt.show()"
   ]
  },
  {
   "cell_type": "code",
   "execution_count": 37,
   "metadata": {},
   "outputs": [],
   "source": [
    "kmer_covs_asd = pd.read_table('/home/groups/dpwall/briannac/alt_haplotypes/results/autism_and_sex_association/sig_covs_asd.tsv', sep='\\t', index_col=0, header=None)\n",
    "kmer_covs_asd.columns = bam_mappings.index\n"
   ]
  },
  {
   "cell_type": "code",
   "execution_count": 44,
   "metadata": {},
   "outputs": [
    {
     "data": {
      "text/plain": [
       "(array([404.,   0.,   0.,   0.,   0.,   0.,   0.,  62.,   0.,   0.,   0.,\n",
       "         26.,   0.,   0.,   0.,   9.,   0.,   0.,   4.]),\n",
       " array([0.        , 0.26315789, 0.52631579, 0.78947368, 1.05263158,\n",
       "        1.31578947, 1.57894737, 1.84210526, 2.10526316, 2.36842105,\n",
       "        2.63157895, 2.89473684, 3.15789474, 3.42105263, 3.68421053,\n",
       "        3.94736842, 4.21052632, 4.47368421, 4.73684211, 5.        ]),\n",
       " <BarContainer object of 19 artists>)"
      ]
     },
     "execution_count": 44,
     "metadata": {},
     "output_type": "execute_result"
    },
    {
     "data": {
      "image/png": "[encoded data removed]",
      "text/plain": [
       "<Figure size 432x288 with 1 Axes>"
      ]
     },
     "metadata": {
      "needs_background": "light"
     },
     "output_type": "display_data"
    }
   ],
   "source": [
    "bins = np.linspace(min(kmer_covs_asd[affecteds].iloc[0].values),\n",
    "                   max(kmer_covs_asd[affecteds].iloc[0].values),\n",
    "                   20)\n",
    "plt.hist(kmer_covs_asd[affecteds].iloc[0].values, alpha=.3, bins=bins) \n",
    "plt.hist(kmer_covs_asd[unaffecteds].iloc[0].values, alpha=.3, bins=bins)\n"
   ]
  },
  {
   "cell_type": "code",
   "execution_count": 41,
   "metadata": {},
   "outputs": [
    {
     "data": {
      "text/plain": [
       "(array([[1., 0., 0., ..., 0., 0., 0.],\n",
       "        [1., 0., 0., ..., 0., 0., 0.],\n",
       "        [1., 0., 0., ..., 0., 0., 0.],\n",
       "        ...,\n",
       "        [1., 0., 0., ..., 0., 0., 0.],\n",
       "        [1., 0., 0., ..., 0., 0., 0.],\n",
       "        [1., 0., 0., ..., 0., 0., 0.]]),\n",
       " array([0. , 0.7, 1.4, 2.1, 2.8, 3.5, 4.2, 4.9, 5.6, 6.3, 7. ]),\n",
       " <a list of 512 BarContainer objects>)"
      ]
     },
     "execution_count": 41,
     "metadata": {},
     "output_type": "execute_result"
    },
    {
     "data": {
      "image/png": "[encoded data removed]",
      "text/plain": [
       "<Figure size 432x288 with 1 Axes>"
      ]
     },
     "metadata": {
      "needs_background": "light"
     },
     "output_type": "display_data"
    }
   ],
   "source": [
    "plt.hist(kmer_covs_asd[unaffecteds].iloc[0].values)"
   ]
  },
  {
   "cell_type": "code",
   "execution_count": null,
   "metadata": {},
   "outputs": [],
   "source": []
  }
 ],
 "metadata": {
  "kernelspec": {
   "display_name": "py_36_env",
   "language": "python",
   "name": "py_36_env"
  },
  "language_info": {
   "codemirror_mode": {
    "name": "ipython",
    "version": 3
   },
   "file_extension": ".py",
   "mimetype": "text/x-python",
   "name": "python",
   "nbconvert_exporter": "python",
   "pygments_lexer": "ipython3",
   "version": "3.6.1"
  }
 },
 "nbformat": 4,
 "nbformat_minor": 4
}
