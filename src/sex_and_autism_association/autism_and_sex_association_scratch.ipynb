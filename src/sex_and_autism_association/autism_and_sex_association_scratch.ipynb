{
 "cells": [
  {
   "cell_type": "code",
   "execution_count": 1,
   "metadata": {},
   "outputs": [],
   "source": [
    "import pandas as pd\n",
    "import sys\n",
    "import numpy as np\n",
    "import tqdm\n",
    "import scipy.stats as stats\n",
    "import matplotlib.pyplot as plt\n",
    "\n",
    "FIG_DIR = '/home/groups/dpwall/briannac/alt_haplotypes/results/autism_and_sex_association/'"
   ]
  },
  {
   "cell_type": "markdown",
   "metadata": {},
   "source": [
    "# Unfinished files."
   ]
  },
  {
   "cell_type": "code",
   "execution_count": 2,
   "metadata": {},
   "outputs": [],
   "source": [
    "import glob\n",
    "#finished = [int(i.split('_')[-1][:4]) for i in glob.glob('/home/groups/dpwall/briannac/alt_haplotypes/intermediate_files/pvals_asd/pvals_asd_*.tsv')]\n",
    "#set(range(160)).difference(finished)\n",
    "# Looks like everthing finished."
   ]
  },
  {
   "cell_type": "code",
   "execution_count": 3,
   "metadata": {},
   "outputs": [],
   "source": [
    "bam_mappings = pd.read_table('/home/groups/dpwall/briannac/general_data/bam_mappings.csv', index_col=1)\n",
    "bam_mappings = bam_mappings[bam_mappings.status=='Passed_QC_analysis_ready']\n",
    "bam_mappings = bam_mappings.drop('09C86428')"
   ]
  },
  {
   "cell_type": "markdown",
   "metadata": {},
   "source": [
    "# Sex Association"
   ]
  },
  {
   "cell_type": "code",
   "execution_count": 5,
   "metadata": {},
   "outputs": [
    {
     "data": {
      "text/html": [
       "<div>\n",
       "<style scoped>\n",
       "    .dataframe tbody tr th:only-of-type {\n",
       "        vertical-align: middle;\n",
       "    }\n",
       "\n",
       "    .dataframe tbody tr th {\n",
       "        vertical-align: top;\n",
       "    }\n",
       "\n",
       "    .dataframe thead th {\n",
       "        text-align: right;\n",
       "    }\n",
       "</style>\n",
       "<table border=\"1\" class=\"dataframe\">\n",
       "  <thead>\n",
       "    <tr style=\"text-align: right;\">\n",
       "      <th></th>\n",
       "      <th>1</th>\n",
       "      <th>2</th>\n",
       "    </tr>\n",
       "    <tr>\n",
       "      <th>0</th>\n",
       "      <th></th>\n",
       "      <th></th>\n",
       "    </tr>\n",
       "  </thead>\n",
       "  <tbody>\n",
       "    <tr>\n",
       "      <th>0</th>\n",
       "      <td>0.111016</td>\n",
       "      <td>1.139665</td>\n",
       "    </tr>\n",
       "    <tr>\n",
       "      <th>5</th>\n",
       "      <td>0.995817</td>\n",
       "      <td>1.000000</td>\n",
       "    </tr>\n",
       "    <tr>\n",
       "      <th>8</th>\n",
       "      <td>0.157299</td>\n",
       "      <td>0.994778</td>\n",
       "    </tr>\n",
       "    <tr>\n",
       "      <th>10</th>\n",
       "      <td>0.103605</td>\n",
       "      <td>0.989529</td>\n",
       "    </tr>\n",
       "    <tr>\n",
       "      <th>14</th>\n",
       "      <td>0.317311</td>\n",
       "      <td>1.002618</td>\n",
       "    </tr>\n",
       "    <tr>\n",
       "      <th>...</th>\n",
       "      <td>...</td>\n",
       "      <td>...</td>\n",
       "    </tr>\n",
       "    <tr>\n",
       "      <th>861677</th>\n",
       "      <td>0.157299</td>\n",
       "      <td>1.005249</td>\n",
       "    </tr>\n",
       "    <tr>\n",
       "      <th>861678</th>\n",
       "      <td>0.157299</td>\n",
       "      <td>0.994778</td>\n",
       "    </tr>\n",
       "    <tr>\n",
       "      <th>861679</th>\n",
       "      <td>0.687813</td>\n",
       "      <td>0.965368</td>\n",
       "    </tr>\n",
       "    <tr>\n",
       "      <th>861680</th>\n",
       "      <td>0.317311</td>\n",
       "      <td>0.997389</td>\n",
       "    </tr>\n",
       "    <tr>\n",
       "      <th>861681</th>\n",
       "      <td>0.649646</td>\n",
       "      <td>0.997375</td>\n",
       "    </tr>\n",
       "  </tbody>\n",
       "</table>\n",
       "<p>1000000 rows × 2 columns</p>\n",
       "</div>"
      ],
      "text/plain": [
       "               1         2\n",
       "0                         \n",
       "0       0.111016  1.139665\n",
       "5       0.995817  1.000000\n",
       "8       0.157299  0.994778\n",
       "10      0.103605  0.989529\n",
       "14      0.317311  1.002618\n",
       "...          ...       ...\n",
       "861677  0.157299  1.005249\n",
       "861678  0.157299  0.994778\n",
       "861679  0.687813  0.965368\n",
       "861680  0.317311  0.997389\n",
       "861681  0.649646  0.997375\n",
       "\n",
       "[1000000 rows x 2 columns]"
      ]
     },
     "execution_count": 5,
     "metadata": {},
     "output_type": "execute_result"
    }
   ],
   "source": [
    "# Get pairings.\n",
    "samples = bam_mappings.index\n",
    "affected_pairs = []\n",
    "unaffected_pairs = []\n",
    "for f in set(bam_mappings.family):\n",
    "    fam = bam_mappings[(bam_mappings.family==f) & (bam_mappings.relationship=='sibling')]\n",
    "    #random\n",
    "    #sex_numeric = fam.sex_numeric.copy()\n",
    "    #np.random.shuffle(sex_numeric)\n",
    "    #fam.sex_numeric = sex_numeric\n",
    "    affected_females = fam[(fam.sex_numeric=='2.0') & (fam.derived_affected_status=='autism')]\n",
    "    affected_males = fam[(fam.sex_numeric=='1.0') & (fam.derived_affected_status=='autism')]\n",
    "    unaffected_females = fam[(fam.sex_numeric=='2.0') & (pd.isna(fam.derived_affected_status))]\n",
    "    unaffected_males = fam[(fam.sex_numeric=='1.0') & (pd.isna(fam.derived_affected_status))]\n",
    "    \n",
    "    affected_pairs = affected_pairs + [(i,j) for i in affected_females.index for j in affected_males.index if ((i in samples) and (j in samples))]\n",
    "    unaffected_pairs = unaffected_pairs + [(i,j) for i in unaffected_females.index for j in unaffected_males.index if ((i in samples) and (j in samples))]\n",
    "males = [m for f,m in (affected_pairs + unaffected_pairs)]\n",
    "females = [f for f,m in (affected_pairs + unaffected_pairs)]    \n",
    "\n",
    "pvals_sex = pd.read_table('/home/groups/dpwall/briannac/alt_haplotypes/results/autism_and_sex_association/pvals_se.tsv',\n",
    "                          sep='\\t', index_col=0, header=None, nrows=1000000)\n",
    "pvals_sex\n"
   ]
  },
  {
   "cell_type": "code",
   "execution_count": 12,
   "metadata": {},
   "outputs": [],
   "source": [
    "pvals_sex[1] = [max(p,1e-20) for p in pvals_sex[1]] # Clip pvalues.\n",
    "pvals_sex[2] = [max(e,-2) if e<0 else min(e,2) for e in np.log2(pvals_sex[2])] # Clip pvalues.\n"
   ]
  },
  {
   "cell_type": "code",
   "execution_count": 5,
   "metadata": {},
   "outputs": [
    {
     "data": {
      "image/png": "[encoded data removed]",
      "text/plain": [
       "<Figure size 504x288 with 1 Axes>"
      ]
     },
     "metadata": {
      "needs_background": "light"
     },
     "output_type": "display_data"
    }
   ],
   "source": [
    "#pvals_sex = pd.read_table('/home/groups/dpwall/briannac/alt_haplotypes/results/autism_and_sex_association/pvals_sex.tsv', sep='\\t', index_col=0, header=None)\n",
    "#kmer_covs_sex = pd.read_table('/home/groups/dpwall/briannac/alt_haplotypes/results/autism_and_sex_association/sig_covs_sex.tsv', sep='\\t', index_col=0, header=None)\n",
    "#kmer_covs_sex.columns = bam_mappings.index\n",
    "\n",
    "cutoff = .05/len(pvals_sex)\n",
    "no_sig =pvals_sex[pvals_sex[1]>=cutoff].sample(frac=.01)\n",
    "yes_sig = pvals_sex[pvals_sex[1]<cutoff].sample(frac=.01)\n",
    "\n",
    "f, ax = plt.subplots(figsize=(7,4))\n",
    "plt.scatter(no_sig[2], -np.log10(no_sig[1]),\n",
    "            s=-np.log10(no_sig[1]), color='#8687d1')\n",
    "plt.scatter(yes_sig[2], -np.log10(yes_sig[1]),\n",
    "            s=-np.log10(yes_sig[1]), color='#ff9900')\n",
    "\n",
    "ax.spines['top'].set_visible(False)\n",
    "ax.spines['right'].set_visible(False)\n",
    "#ax.spines['bottom'].set_visible(False)\n",
    "#ax.spines['left'].set_visible(False)\n",
    "plt.xlabel('log2(P(M>=F)/P(F>=M))')\n",
    "plt.ylabel('-log10(p)')\n",
    "plt.title('K-mer count association with sex')\n",
    "plt.savefig(FIG_DIR + 'kmer_count_association_w_sex.svg', transparent=True)\n",
    "plt.savefig(FIG_DIR + 'kmer_count_association_w_sex.pdf', transparent=True)\n",
    "plt.show()"
   ]
  },
  {
   "cell_type": "markdown",
   "metadata": {},
   "source": [
    "# Autism"
   ]
  },
  {
   "cell_type": "code",
   "execution_count": 4,
   "metadata": {},
   "outputs": [],
   "source": [
    "samples = bam_mappings.index\n",
    "male_pairs = []\n",
    "female_pairs = []\n",
    "for f in set(bam_mappings.family):\n",
    "    fam = bam_mappings[(bam_mappings.family==f) & (bam_mappings.relationship=='sibling')]\n",
    "    affected_females = fam[(fam.sex_numeric=='2.0') & (fam.derived_affected_status=='autism')]\n",
    "    affected_males = fam[(fam.sex_numeric=='1.0') & (fam.derived_affected_status=='autism')]\n",
    "    unaffected_females = fam[(fam.sex_numeric=='2.0') & (pd.isna(fam.derived_affected_status))]\n",
    "    unaffected_males = fam[(fam.sex_numeric=='1.0') & (pd.isna(fam.derived_affected_status))]\n",
    "    male_pairs = male_pairs + [(i,j) for i in affected_males.index for j in unaffected_males.index if ((i in samples) and (j in samples))]\n",
    "    female_pairs = female_pairs + [(i,j) for i in affected_females.index for j in unaffected_females.index if ((i in samples) and (j in samples))]\n",
    "affecteds = [a for a,u in (male_pairs + female_pairs)]\n",
    "unaffecteds = [u for a,u in (male_pairs + female_pairs)]    "
   ]
  },
  {
   "cell_type": "code",
   "execution_count": 5,
   "metadata": {},
   "outputs": [
    {
     "name": "stderr",
     "output_type": "stream",
     "text": [
      "/home/users/briannac/.local/lib/python3.6/site-packages/numpy/lib/arraysetops.py:569: FutureWarning: elementwise comparison failed; returning scalar instead, but in the future will perform elementwise comparison\n",
      "  mask |= (ar1 == a)\n"
     ]
    }
   ],
   "source": [
    "pvals_asd = pd.read_table('/home/groups/dpwall/briannac/alt_haplotypes/results/autism_and_sex_association/pvals_asd.tsv', \n",
    "                          sep='\\t', index_col=0, header=None)"
   ]
  },
  {
   "cell_type": "code",
   "execution_count": 6,
   "metadata": {},
   "outputs": [
    {
     "data": {
      "image/png": "[encoded data removed]",
      "text/plain": [
       "<Figure size 432x288 with 1 Axes>"
      ]
     },
     "metadata": {
      "needs_background": "light"
     },
     "output_type": "display_data"
    }
   ],
   "source": [
    "plt.hist(-np.log10(pvals_asd[1]), bins=100)\n",
    "plt.yscale('log')"
   ]
  },
  {
   "cell_type": "code",
   "execution_count": 7,
   "metadata": {},
   "outputs": [
    {
     "name": "stdout",
     "output_type": "stream",
     "text": [
      "61664 8\n"
     ]
    },
    {
     "data": {
      "image/png": "[encoded data removed]",
      "text/plain": [
       "<Figure size 504x288 with 1 Axes>"
      ]
     },
     "metadata": {
      "needs_background": "light"
     },
     "output_type": "display_data"
    }
   ],
   "source": [
    "#pvals_asd = pd.read_table('/home/groups/dpwall/briannac/alt_haplotypes/results/autism_and_sex_association/pvals_asd.tsv', sep='\\t', index_col=0, header=None)\n",
    "#sampled_df=pd.concat([pvals_asd[pvals_asd[1]>=1e-8].sample(frac=.1),pvals_asd[pvals_asd[1]<1e-8]])\n",
    "#kmer_covs_asd = pd.read_table('/home/groups/dpwall/briannac/alt_haplotypes/results/autism_and_sex_association/sig_covs_asd.tsv', sep='\\t', index_col=0, header=None)\n",
    "#kmer_covs_asd.columns = bam_mappings.index\n",
    "cutoff = .05/len(pvals_asd)\n",
    "no_sig =pvals_asd[pvals_asd[1]>=cutoff].sample(frac=.001)\n",
    "yes_sig = pvals_asd[pvals_asd[1]<cutoff]\n",
    "\n",
    "print(len(no_sig), len(yes_sig))\n",
    "f, ax = plt.subplots(figsize=(7,4))\n",
    "\n",
    "plt.scatter(np.log2(no_sig[2]), -np.log10(no_sig[1]),\n",
    "            s=-np.log10(no_sig[1]), color='#8687d1')\n",
    "plt.scatter(np.log2(yes_sig[2]), -np.log10(yes_sig[1]),\n",
    "            s=-np.log10(yes_sig[1]), color='#ff9900')\n",
    "ax.spines['top'].set_visible(False)\n",
    "ax.spines['right'].set_visible(False)\n",
    "ax.spines['bottom'].set_visible(False)\n",
    "ax.spines['left'].set_visible(False)\n",
    "\n",
    "plt.xlabel('log2(P(ASD>=NT)/P(ASD>=NT))')\n",
    "plt.ylabel('-log10(p)')\n",
    "plt.title('K-mer count association with asd')\n",
    "plt.savefig(FIG_DIR + 'kmer_count_association_w_asd.svg', transparent=True)\n",
    "plt.savefig(FIG_DIR + 'kmer_count_association_w_asd.pdf', transparent=True)\n",
    "plt.show()"
   ]
  },
  {
   "cell_type": "code",
   "execution_count": 8,
   "metadata": {},
   "outputs": [
    {
     "data": {
      "text/html": [
       "<div>\n",
       "<style scoped>\n",
       "    .dataframe tbody tr th:only-of-type {\n",
       "        vertical-align: middle;\n",
       "    }\n",
       "\n",
       "    .dataframe tbody tr th {\n",
       "        vertical-align: top;\n",
       "    }\n",
       "\n",
       "    .dataframe thead th {\n",
       "        text-align: right;\n",
       "    }\n",
       "</style>\n",
       "<table border=\"1\" class=\"dataframe\">\n",
       "  <thead>\n",
       "    <tr style=\"text-align: right;\">\n",
       "      <th></th>\n",
       "      <th>1</th>\n",
       "      <th>2</th>\n",
       "    </tr>\n",
       "    <tr>\n",
       "      <th>0</th>\n",
       "      <th></th>\n",
       "      <th></th>\n",
       "    </tr>\n",
       "  </thead>\n",
       "  <tbody>\n",
       "    <tr>\n",
       "      <th>8254887</th>\n",
       "      <td>5.563854e-10</td>\n",
       "      <td>1.097192</td>\n",
       "    </tr>\n",
       "    <tr>\n",
       "      <th>19817481</th>\n",
       "      <td>1.969863e-10</td>\n",
       "      <td>1.101952</td>\n",
       "    </tr>\n",
       "    <tr>\n",
       "      <th>25867526</th>\n",
       "      <td>2.101994e-10</td>\n",
       "      <td>1.094421</td>\n",
       "    </tr>\n",
       "    <tr>\n",
       "      <th>28610779</th>\n",
       "      <td>4.637679e-10</td>\n",
       "      <td>0.855372</td>\n",
       "    </tr>\n",
       "    <tr>\n",
       "      <th>60763356</th>\n",
       "      <td>3.476784e-10</td>\n",
       "      <td>1.092077</td>\n",
       "    </tr>\n",
       "    <tr>\n",
       "      <th>84763372</th>\n",
       "      <td>2.109938e-10</td>\n",
       "      <td>1.094421</td>\n",
       "    </tr>\n",
       "    <tr>\n",
       "      <th>89802626</th>\n",
       "      <td>5.372326e-10</td>\n",
       "      <td>1.089744</td>\n",
       "    </tr>\n",
       "    <tr>\n",
       "      <th>96666970</th>\n",
       "      <td>6.641373e-10</td>\n",
       "      <td>1.099783</td>\n",
       "    </tr>\n",
       "  </tbody>\n",
       "</table>\n",
       "</div>"
      ],
      "text/plain": [
       "                     1         2\n",
       "0                               \n",
       "8254887   5.563854e-10  1.097192\n",
       "19817481  1.969863e-10  1.101952\n",
       "25867526  2.101994e-10  1.094421\n",
       "28610779  4.637679e-10  0.855372\n",
       "60763356  3.476784e-10  1.092077\n",
       "84763372  2.109938e-10  1.094421\n",
       "89802626  5.372326e-10  1.089744\n",
       "96666970  6.641373e-10  1.099783"
      ]
     },
     "execution_count": 8,
     "metadata": {},
     "output_type": "execute_result"
    }
   ],
   "source": [
    "yes_sig"
   ]
  },
  {
   "cell_type": "code",
   "execution_count": 9,
   "metadata": {},
   "outputs": [
    {
     "data": {
      "text/plain": [
       "'83,199,259,287,608,848,899,967'"
      ]
     },
     "execution_count": 9,
     "metadata": {},
     "output_type": "execute_result"
    }
   ],
   "source": [
    "','.join([str(int(s)) for s in np.ceil(yes_sig.index/100000)])"
   ]
  },
  {
   "cell_type": "code",
   "execution_count": 10,
   "metadata": {},
   "outputs": [
    {
     "data": {
      "text/plain": [
       "24"
      ]
     },
     "execution_count": 10,
     "metadata": {},
     "output_type": "execute_result"
    }
   ],
   "source": [
    "sum(pvals_asd[1]<(.05/10000000))"
   ]
  },
  {
   "cell_type": "code",
   "execution_count": 23,
   "metadata": {},
   "outputs": [],
   "source": [
    "# EH DONT DO THIS\n",
    "#kmer_covs_asd = pd.read_table('/home/groups/dpwall/briannac/alt_haplotypes/results/autism_and_sex_association/sig_covs_asd.tsv', \n",
    "#                              sep='\\t', index_col=0, header=None)\n",
    "#kmer_covs_asd.columns = bam_mappings.index\n"
   ]
  },
  {
   "cell_type": "code",
   "execution_count": null,
   "metadata": {},
   "outputs": [],
   "source": []
  },
  {
   "cell_type": "code",
   "execution_count": 69,
   "metadata": {},
   "outputs": [
    {
     "ename": "ParserError",
     "evalue": "Error tokenizing data. C error: no error message set",
     "output_type": "error",
     "traceback": [
      "\u001b[0;31m---------------------------------------------------------------------------\u001b[0m",
      "\u001b[0;31mParserError\u001b[0m                               Traceback (most recent call last)",
      "\u001b[0;32m<ipython-input-69-98c99f28dd9b>\u001b[0m in \u001b[0;36m<module>\u001b[0;34m\u001b[0m\n\u001b[1;32m      4\u001b[0m \u001b[0mcols_in_df\u001b[0m \u001b[0;34m=\u001b[0m \u001b[0mbam_mappings\u001b[0m\u001b[0;34m.\u001b[0m\u001b[0mloc\u001b[0m\u001b[0;34m[\u001b[0m\u001b[0msamples\u001b[0m\u001b[0;34m]\u001b[0m\u001b[0;34m.\u001b[0m\u001b[0mcounter_idx\u001b[0m\u001b[0;34m.\u001b[0m\u001b[0mvalues\u001b[0m\u001b[0;34m\u001b[0m\u001b[0m\n\u001b[1;32m      5\u001b[0m kmer_counts = pd.read_table('/home/groups/dpwall/briannac/alt_haplotypes/intermediate_files/counts/unmapped_filt.tsv',\n\u001b[0;32m----> 6\u001b[0;31m                             header=None, usecols=1+cols_in_df, skiprows=lambda x: x not in yes_sig.index, nrows=max(yes_sig.index))\n\u001b[0m\u001b[1;32m      7\u001b[0m \u001b[0mkmer_counts\u001b[0m\u001b[0;34m.\u001b[0m\u001b[0mcolumns\u001b[0m \u001b[0;34m=\u001b[0m \u001b[0msamples\u001b[0m\u001b[0;34m\u001b[0m\u001b[0m\n",
      "\u001b[0;32m~/.local/lib/python3.6/site-packages/pandas/io/parsers.py\u001b[0m in \u001b[0;36mparser_f\u001b[0;34m(filepath_or_buffer, sep, delimiter, header, names, index_col, usecols, squeeze, prefix, mangle_dupe_cols, dtype, engine, converters, true_values, false_values, skipinitialspace, skiprows, skipfooter, nrows, na_values, keep_default_na, na_filter, verbose, skip_blank_lines, parse_dates, infer_datetime_format, keep_date_col, date_parser, dayfirst, cache_dates, iterator, chunksize, compression, thousands, decimal, lineterminator, quotechar, quoting, doublequote, escapechar, comment, encoding, dialect, error_bad_lines, warn_bad_lines, delim_whitespace, low_memory, memory_map, float_precision)\u001b[0m\n\u001b[1;32m    674\u001b[0m         )\n\u001b[1;32m    675\u001b[0m \u001b[0;34m\u001b[0m\u001b[0m\n\u001b[0;32m--> 676\u001b[0;31m         \u001b[0;32mreturn\u001b[0m \u001b[0m_read\u001b[0m\u001b[0;34m(\u001b[0m\u001b[0mfilepath_or_buffer\u001b[0m\u001b[0;34m,\u001b[0m \u001b[0mkwds\u001b[0m\u001b[0;34m)\u001b[0m\u001b[0;34m\u001b[0m\u001b[0m\n\u001b[0m\u001b[1;32m    677\u001b[0m \u001b[0;34m\u001b[0m\u001b[0m\n\u001b[1;32m    678\u001b[0m     \u001b[0mparser_f\u001b[0m\u001b[0;34m.\u001b[0m\u001b[0m__name__\u001b[0m \u001b[0;34m=\u001b[0m \u001b[0mname\u001b[0m\u001b[0;34m\u001b[0m\u001b[0m\n",
      "\u001b[0;32m~/.local/lib/python3.6/site-packages/pandas/io/parsers.py\u001b[0m in \u001b[0;36m_read\u001b[0;34m(filepath_or_buffer, kwds)\u001b[0m\n\u001b[1;32m    452\u001b[0m \u001b[0;34m\u001b[0m\u001b[0m\n\u001b[1;32m    453\u001b[0m     \u001b[0;32mtry\u001b[0m\u001b[0;34m:\u001b[0m\u001b[0;34m\u001b[0m\u001b[0m\n\u001b[0;32m--> 454\u001b[0;31m         \u001b[0mdata\u001b[0m \u001b[0;34m=\u001b[0m \u001b[0mparser\u001b[0m\u001b[0;34m.\u001b[0m\u001b[0mread\u001b[0m\u001b[0;34m(\u001b[0m\u001b[0mnrows\u001b[0m\u001b[0;34m)\u001b[0m\u001b[0;34m\u001b[0m\u001b[0m\n\u001b[0m\u001b[1;32m    455\u001b[0m     \u001b[0;32mfinally\u001b[0m\u001b[0;34m:\u001b[0m\u001b[0;34m\u001b[0m\u001b[0m\n\u001b[1;32m    456\u001b[0m         \u001b[0mparser\u001b[0m\u001b[0;34m.\u001b[0m\u001b[0mclose\u001b[0m\u001b[0;34m(\u001b[0m\u001b[0;34m)\u001b[0m\u001b[0;34m\u001b[0m\u001b[0m\n",
      "\u001b[0;32m~/.local/lib/python3.6/site-packages/pandas/io/parsers.py\u001b[0m in \u001b[0;36mread\u001b[0;34m(self, nrows)\u001b[0m\n\u001b[1;32m   1131\u001b[0m     \u001b[0;32mdef\u001b[0m \u001b[0mread\u001b[0m\u001b[0;34m(\u001b[0m\u001b[0mself\u001b[0m\u001b[0;34m,\u001b[0m \u001b[0mnrows\u001b[0m\u001b[0;34m=\u001b[0m\u001b[0;32mNone\u001b[0m\u001b[0;34m)\u001b[0m\u001b[0;34m:\u001b[0m\u001b[0;34m\u001b[0m\u001b[0m\n\u001b[1;32m   1132\u001b[0m         \u001b[0mnrows\u001b[0m \u001b[0;34m=\u001b[0m \u001b[0m_validate_integer\u001b[0m\u001b[0;34m(\u001b[0m\u001b[0;34m\"nrows\"\u001b[0m\u001b[0;34m,\u001b[0m \u001b[0mnrows\u001b[0m\u001b[0;34m)\u001b[0m\u001b[0;34m\u001b[0m\u001b[0m\n\u001b[0;32m-> 1133\u001b[0;31m         \u001b[0mret\u001b[0m \u001b[0;34m=\u001b[0m \u001b[0mself\u001b[0m\u001b[0;34m.\u001b[0m\u001b[0m_engine\u001b[0m\u001b[0;34m.\u001b[0m\u001b[0mread\u001b[0m\u001b[0;34m(\u001b[0m\u001b[0mnrows\u001b[0m\u001b[0;34m)\u001b[0m\u001b[0;34m\u001b[0m\u001b[0m\n\u001b[0m\u001b[1;32m   1134\u001b[0m \u001b[0;34m\u001b[0m\u001b[0m\n\u001b[1;32m   1135\u001b[0m         \u001b[0;31m# May alter columns / col_dict\u001b[0m\u001b[0;34m\u001b[0m\u001b[0;34m\u001b[0m\u001b[0m\n",
      "\u001b[0;32m~/.local/lib/python3.6/site-packages/pandas/io/parsers.py\u001b[0m in \u001b[0;36mread\u001b[0;34m(self, nrows)\u001b[0m\n\u001b[1;32m   2035\u001b[0m     \u001b[0;32mdef\u001b[0m \u001b[0mread\u001b[0m\u001b[0;34m(\u001b[0m\u001b[0mself\u001b[0m\u001b[0;34m,\u001b[0m \u001b[0mnrows\u001b[0m\u001b[0;34m=\u001b[0m\u001b[0;32mNone\u001b[0m\u001b[0;34m)\u001b[0m\u001b[0;34m:\u001b[0m\u001b[0;34m\u001b[0m\u001b[0m\n\u001b[1;32m   2036\u001b[0m         \u001b[0;32mtry\u001b[0m\u001b[0;34m:\u001b[0m\u001b[0;34m\u001b[0m\u001b[0m\n\u001b[0;32m-> 2037\u001b[0;31m             \u001b[0mdata\u001b[0m \u001b[0;34m=\u001b[0m \u001b[0mself\u001b[0m\u001b[0;34m.\u001b[0m\u001b[0m_reader\u001b[0m\u001b[0;34m.\u001b[0m\u001b[0mread\u001b[0m\u001b[0;34m(\u001b[0m\u001b[0mnrows\u001b[0m\u001b[0;34m)\u001b[0m\u001b[0;34m\u001b[0m\u001b[0m\n\u001b[0m\u001b[1;32m   2038\u001b[0m         \u001b[0;32mexcept\u001b[0m \u001b[0mStopIteration\u001b[0m\u001b[0;34m:\u001b[0m\u001b[0;34m\u001b[0m\u001b[0m\n\u001b[1;32m   2039\u001b[0m             \u001b[0;32mif\u001b[0m \u001b[0mself\u001b[0m\u001b[0;34m.\u001b[0m\u001b[0m_first_chunk\u001b[0m\u001b[0;34m:\u001b[0m\u001b[0;34m\u001b[0m\u001b[0m\n",
      "\u001b[0;32mpandas/_libs/parsers.pyx\u001b[0m in \u001b[0;36mpandas._libs.parsers.TextReader.read\u001b[0;34m()\u001b[0m\n",
      "\u001b[0;32mpandas/_libs/parsers.pyx\u001b[0m in \u001b[0;36mpandas._libs.parsers.TextReader._read_low_memory\u001b[0;34m()\u001b[0m\n",
      "\u001b[0;32mpandas/_libs/parsers.pyx\u001b[0m in \u001b[0;36mpandas._libs.parsers.TextReader._read_rows\u001b[0;34m()\u001b[0m\n",
      "\u001b[0;32mpandas/_libs/parsers.pyx\u001b[0m in \u001b[0;36mpandas._libs.parsers.TextReader._tokenize_rows\u001b[0;34m()\u001b[0m\n",
      "\u001b[0;32mpandas/_libs/parsers.pyx\u001b[0m in \u001b[0;36mpandas._libs.parsers.raise_parser_error\u001b[0;34m()\u001b[0m\n",
      "\u001b[0;31mParserError\u001b[0m: Error tokenizing data. C error: no error message set"
     ]
    }
   ],
   "source": [
    "# Info from BAM mappings.\n",
    "bam_mappings['counter_idx'] = [i for i in range(len(bam_mappings))]\n",
    "samples = affecteds+unaffecteds\n",
    "cols_in_df = bam_mappings.loc[samples].counter_idx.values\n",
    "kmer_counts = pd.read_table('/home/groups/dpwall/briannac/alt_haplotypes/intermediate_files/counts/unmapped_filt.tsv',\n",
    "                            header=None, usecols=1+cols_in_df, skiprows=lambda x: x not in yes_sig.index, nrows=max(yes_sig.index))\n",
    "kmer_counts.columns = samples"
   ]
  },
  {
   "cell_type": "code",
   "execution_count": 30,
   "metadata": {},
   "outputs": [
    {
     "data": {
      "text/plain": [
       "{'bodies': [<matplotlib.collections.PolyCollection at 0x7fad5007d6a0>,\n",
       "  <matplotlib.collections.PolyCollection at 0x7fad5007d940>],\n",
       " 'cmaxes': <matplotlib.collections.LineCollection at 0x7fad5007d5f8>,\n",
       " 'cmins': <matplotlib.collections.LineCollection at 0x7fad5007de80>,\n",
       " 'cbars': <matplotlib.collections.LineCollection at 0x7fad500a51d0>}"
      ]
     },
     "execution_count": 30,
     "metadata": {},
     "output_type": "execute_result"
    },
    {
     "data": {
      "image/png": "[encoded data removed]",
      "text/plain": [
       "<Figure size 432x288 with 1 Axes>"
      ]
     },
     "metadata": {
      "needs_background": "light"
     },
     "output_type": "display_data"
    }
   ],
   "source": [
    "#kmer_counts = pd.read_table('/home/groups/dpwall/briannac/alt_haplotypes/results/autism_and_sex_association/sig_covs_asd.tsv', \n",
    "#                              sep='\\t', index_col=0, header=None)\n",
    "#kmer_counts.columns = bam_mappings.index\n",
    "\n",
    "for i in range(len(kmer_counts)):\n",
    "    plt.violinplot([kmer_counts[affecteds].iloc[0].values, kmer_counts[unaffecteds].iloc[0].values])#, alpha=.3, bins=bins) \n",
    "    plt.show()\n"
   ]
  },
  {
   "cell_type": "code",
   "execution_count": null,
   "metadata": {},
   "outputs": [],
   "source": []
  }
 ],
 "metadata": {
  "kernelspec": {
   "display_name": "py_36_env",
   "language": "python",
   "name": "py_36_env"
  },
  "language_info": {
   "codemirror_mode": {
    "name": "ipython",
    "version": 3
   },
   "file_extension": ".py",
   "mimetype": "text/x-python",
   "name": "python",
   "nbconvert_exporter": "python",
   "pygments_lexer": "ipython3",
   "version": "3.6.1"
  }
 },
 "nbformat": 4,
 "nbformat_minor": 4
}
