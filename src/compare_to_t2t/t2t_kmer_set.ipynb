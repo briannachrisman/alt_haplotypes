{
 "cells": [
  {
   "cell_type": "code",
   "execution_count": 1,
   "metadata": {},
   "outputs": [],
   "source": [
    "from Bio import SeqIO\n",
    "import pandas as pd\n",
    "from collections import Counter\n",
    "import numpy as np"
   ]
  },
  {
   "cell_type": "code",
   "execution_count": 3,
   "metadata": {},
   "outputs": [],
   "source": [
    "from Bio import SeqIO\n",
    "import pandas as pd\n",
    "from collections import Counter\n",
    "import numpy as np\n",
    "records = [r for r in SeqIO.parse(\n",
    "    '/home/groups/dpwall/briannac/general_data/reference_genomes/t2t/chm13.draft_v1.1.fasta', 'fasta')]\n",
    "t2t_kmers = dict()\n",
    "for chrom,r in enumerate(records[8:9]):\n",
    "    seq = r.seq\n",
    "    for loci in range(len(r)-100):\n",
    "        k = str(seq[loci:(loci+100)])\n",
    "        if k in t2t_kmers:\n",
    "            t2t_kmers[k] = t2t_kmers[k] + [(chrom, loci)]\n",
    "        else:\n",
    "            from Bio import SeqIO\n",
    "import pandas as pd\n",
    "from collections import Counter\n",
    "import numpy as npt2t_kmers[k] = [(chrom, loci)]\n",
    "            \n",
    "np.save('/home/groups/dpwall/briannac/alt_haplotypes/intermediate_files/t2t_comparison/t2t_kmers.npy', t2t_kmers)"
   ]
  },
  {
   "cell_type": "code",
   "execution_count": 8,
   "metadata": {},
   "outputs": [],
   "source": [
    "unmapped_seqs = pd.read_table('/home/groups/dpwall/briannac/alt_haplotypes/data/kmers_unmapped_prev_and_median_filt.txt', \n",
    "                 nrows=100000, header=None)[0].values\n",
    "for i,s in enumerate(unmapped_seqs):\n",
    "    complement = s.replace('A', 't').replace('T', 'a').replace('G', 'c').replace('C', 'g').replace(\n",
    "        'a', 'A').replace('t', 'T').replace('c', 'C').replace('g', 'G')\n",
    "    for seq_string in [s, s[::-1], complement, complement[::-1]]:\n",
    "        if seq_string in t2t_kmers: print(i,t2t_kmers[seq_string])"
   ]
  },
  {
   "cell_type": "code",
   "execution_count": 66,
   "metadata": {},
   "outputs": [
    {
     "data": {
      "text/plain": [
       "array([0, 1])"
      ]
     },
     "execution_count": 66,
     "metadata": {},
     "output_type": "execute_result"
    }
   ],
   "source": []
  },
  {
   "cell_type": "code",
   "execution_count": 45,
   "metadata": {},
   "outputs": [
    {
     "name": "stdout",
     "output_type": "stream",
     "text": [
      "30937 [(0, 2300765)]\n",
      "39619 [(0, 2300785)]\n",
      "52945 [(0, 2300773)]\n",
      "66612 [(0, 6722464)]\n",
      "79693 [(0, 6722534)]\n"
     ]
    }
   ],
   "source": [
    "unmapped_seqs = pd.read_table('/home/groups/dpwall/briannac/alt_haplotypes/data/kmers_unmapped_prev_and_median_filt.txt', \n",
    "                 nrows=100000, header=None)[0].values\n",
    "\n",
    "for i,s in enumerate(unmapped_seqs):\n",
    "    complement = s.replace('A', 't').replace('T', 'a').replace('G', 'c').replace('C', 'g').replace(\n",
    "        'a', 'A').replace('t', 'T').replace('c', 'C').replace('g', 'G')\n",
    "    for seq_string in [s, s[::-1], complement, complement[::-1]]:\n",
    "        if seq_string in t2t_kmers: print(i,t2t_kmers[seq_string])"
   ]
  },
  {
   "cell_type": "code",
   "execution_count": 51,
   "metadata": {},
   "outputs": [
    {
     "data": {
      "text/plain": [
       "0          6.000\n",
       "1          0.581\n",
       "2          9.000\n",
       "3    2201527.000\n",
       "4    2355672.000\n",
       "Name: 30937, dtype: float64"
      ]
     },
     "execution_count": 51,
     "metadata": {},
     "output_type": "execute_result"
    }
   ],
   "source": [
    "c = pd.read_table(\n",
    "    '/home/groups/dpwall/briannac/alt_haplotypes/results/approximate_regions/localized_unmapped.tsv',\n",
    "    comment='#', header=None, nrows=100000)\n",
    "c.iloc[30937]"
   ]
  },
  {
   "cell_type": "code",
   "execution_count": 55,
   "metadata": {},
   "outputs": [
    {
     "data": {
      "text/plain": [
       "0          3.000\n",
       "1          0.355\n",
       "2          9.000\n",
       "3    6742122.000\n",
       "4    7376457.000\n",
       "Name: 79693, dtype: float64"
      ]
     },
     "execution_count": 55,
     "metadata": {},
     "output_type": "execute_result"
    }
   ],
   "source": [
    "c.iloc[79693]"
   ]
  },
  {
   "cell_type": "code",
   "execution_count": null,
   "metadata": {},
   "outputs": [],
   "source": []
  }
 ],
 "metadata": {
  "kernelspec": {
   "display_name": "py_36_env",
   "language": "python",
   "name": "py_36_env"
  },
  "language_info": {
   "codemirror_mode": {
    "name": "ipython",
    "version": 3
   },
   "file_extension": ".py",
   "mimetype": "text/x-python",
   "name": "python",
   "nbconvert_exporter": "python",
   "pygments_lexer": "ipython3",
   "version": "3.6.1"
  }
 },
 "nbformat": 4,
 "nbformat_minor": 4
}
