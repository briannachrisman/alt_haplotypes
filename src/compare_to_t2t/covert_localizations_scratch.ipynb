{
 "cells": [
  {
   "cell_type": "code",
   "execution_count": 234,
   "metadata": {},
   "outputs": [
    {
     "name": "stdout",
     "output_type": "stream",
     "text": [
      "9643\n"
     ]
    }
   ],
   "source": [
    "import pandas as pd\n",
    "import numpy as np\n",
    "import sys\n",
    "\n",
    "localized = pd.read_table('/home/groups/dpwall/briannac/alt_haplotypes/intermediate_files/localize/unmapped/localized_start_with_Y.bed', header=None, nrows=10000)\n",
    "localized_end = pd.read_table('/home/groups/dpwall/briannac/alt_haplotypes/intermediate_files/localize/unmapped/localized_end_with_Y.bed', header=None, nrows=10000)\n",
    "\n",
    "localized.columns = ['chrom', 'start', 'NULL', 'idx']\n",
    "localized.drop('NULL', axis=1, inplace=True)\n",
    "localized['end'] = localized_end[1]\n",
    "localized = localized[localized.chrom!='chr24']\n",
    "localized['chrom'] = localized['chrom'].replace('chr23', 'chrX')\n",
    "\n",
    "localized[['chrom', 'start', 'end', 'idx']].to_csv(\n",
    "    '/home/groups/dpwall/briannac/alt_haplotypes/intermediate_files/localize/unmapped/localized_regions_hg38_for_conversion.bed',\n",
    "    header=None, sep='\\t', index=None)\n",
    "print(len(localized))"
   ]
  },
  {
   "cell_type": "code",
   "execution_count": 240,
   "metadata": {},
   "outputs": [
    {
     "name": "stdout",
     "output_type": "stream",
     "text": [
      "3902 localized_regions_T2T_liftover_fail.bed\n"
     ]
    },
    {
     "name": "stderr",
     "output_type": "stream",
     "text": [
      "Reading liftover chains\n",
      "Mapping coordinates\n"
     ]
    }
   ],
   "source": [
    "%%bash\n",
    "cd /home/groups/dpwall/briannac/alt_haplotypes/intermediate_files/localize/unmapped/\n",
    "CHAIN=$MY_HOME/alt_haplotypes/intermediate_files/t2t_comparison/grch38.t2t-chm13-v1.1.over.chain.gz\n",
    "\n",
    "/oak/stanford/groups/dpwall/computeEnvironments/liftOver -ends=100000 localized_regions_hg38_for_conversion.bed $CHAIN localized_regions_T2T.bed localized_regions_T2T_liftover_fail.bed\n",
    "wc -l localized_regions_T2T_liftover_fail.bed"
   ]
  },
  {
   "cell_type": "code",
   "execution_count": 238,
   "metadata": {},
   "outputs": [
    {
     "data": {
      "text/html": [
       "<div>\n",
       "<style scoped>\n",
       "    .dataframe tbody tr th:only-of-type {\n",
       "        vertical-align: middle;\n",
       "    }\n",
       "\n",
       "    .dataframe tbody tr th {\n",
       "        vertical-align: top;\n",
       "    }\n",
       "\n",
       "    .dataframe thead th {\n",
       "        text-align: right;\n",
       "    }\n",
       "</style>\n",
       "<table border=\"1\" class=\"dataframe\">\n",
       "  <thead>\n",
       "    <tr style=\"text-align: right;\">\n",
       "      <th></th>\n",
       "      <th>0</th>\n",
       "      <th>1</th>\n",
       "      <th>2</th>\n",
       "      <th>3</th>\n",
       "    </tr>\n",
       "  </thead>\n",
       "  <tbody>\n",
       "    <tr>\n",
       "      <th>0</th>\n",
       "      <td>chr12</td>\n",
       "      <td>7684933</td>\n",
       "      <td>7686826</td>\n",
       "      <td>10</td>\n",
       "    </tr>\n",
       "    <tr>\n",
       "      <th>1</th>\n",
       "      <td>chr8</td>\n",
       "      <td>31556483</td>\n",
       "      <td>31557290</td>\n",
       "      <td>17</td>\n",
       "    </tr>\n",
       "    <tr>\n",
       "      <th>2</th>\n",
       "      <td>chr9</td>\n",
       "      <td>39509028</td>\n",
       "      <td>78954909</td>\n",
       "      <td>21</td>\n",
       "    </tr>\n",
       "    <tr>\n",
       "      <th>3</th>\n",
       "      <td>chr11</td>\n",
       "      <td>113592231</td>\n",
       "      <td>114154096</td>\n",
       "      <td>41</td>\n",
       "    </tr>\n",
       "    <tr>\n",
       "      <th>4</th>\n",
       "      <td>chr17</td>\n",
       "      <td>18608655</td>\n",
       "      <td>18900148</td>\n",
       "      <td>52</td>\n",
       "    </tr>\n",
       "    <tr>\n",
       "      <th>...</th>\n",
       "      <td>...</td>\n",
       "      <td>...</td>\n",
       "      <td>...</td>\n",
       "      <td>...</td>\n",
       "    </tr>\n",
       "    <tr>\n",
       "      <th>7687</th>\n",
       "      <td>chr4</td>\n",
       "      <td>8131854</td>\n",
       "      <td>14268089</td>\n",
       "      <td>56206</td>\n",
       "    </tr>\n",
       "    <tr>\n",
       "      <th>7688</th>\n",
       "      <td>chr11</td>\n",
       "      <td>98841265</td>\n",
       "      <td>102519584</td>\n",
       "      <td>56209</td>\n",
       "    </tr>\n",
       "    <tr>\n",
       "      <th>7689</th>\n",
       "      <td>chr17</td>\n",
       "      <td>80408435</td>\n",
       "      <td>80784089</td>\n",
       "      <td>56213</td>\n",
       "    </tr>\n",
       "    <tr>\n",
       "      <th>7690</th>\n",
       "      <td>chr9</td>\n",
       "      <td>40018535</td>\n",
       "      <td>41976205</td>\n",
       "      <td>56217</td>\n",
       "    </tr>\n",
       "    <tr>\n",
       "      <th>7691</th>\n",
       "      <td>chr6</td>\n",
       "      <td>32362866</td>\n",
       "      <td>32362867</td>\n",
       "      <td>56221</td>\n",
       "    </tr>\n",
       "  </tbody>\n",
       "</table>\n",
       "<p>7692 rows × 4 columns</p>\n",
       "</div>"
      ],
      "text/plain": [
       "          0          1          2      3\n",
       "0     chr12    7684933    7686826     10\n",
       "1      chr8   31556483   31557290     17\n",
       "2      chr9   39509028   78954909     21\n",
       "3     chr11  113592231  114154096     41\n",
       "4     chr17   18608655   18900148     52\n",
       "...     ...        ...        ...    ...\n",
       "7687   chr4    8131854   14268089  56206\n",
       "7688  chr11   98841265  102519584  56209\n",
       "7689  chr17   80408435   80784089  56213\n",
       "7690   chr9   40018535   41976205  56217\n",
       "7691   chr6   32362866   32362867  56221\n",
       "\n",
       "[7692 rows x 4 columns]"
      ]
     },
     "execution_count": 238,
     "metadata": {},
     "output_type": "execute_result"
    }
   ],
   "source": [
    "a = pd.read_table('/home/groups/dpwall/briannac/alt_haplotypes/intermediate_files/localize/unmapped/localized_regions_T2T.bed', header=None)\n",
    "a"
   ]
  },
  {
   "cell_type": "code",
   "execution_count": 212,
   "metadata": {},
   "outputs": [
    {
     "name": "stdout",
     "output_type": "stream",
     "text": [
      "91061\n"
     ]
    }
   ],
   "source": [
    "import pandas as pd\n",
    "import numpy as np\n",
    "\n",
    "a = pd.read_table('/home/groups/dpwall/briannac/alt_haplotypes/intermediate_files/localize/unmapped/localized_regions_T2T.bed', header=None)\n",
    "a.columns = ['chrom', 'start', 'end', 'read_idx', 'alignment_idx']\n",
    "a['length'] = a.end-a.start\n",
    "#a.drop('alignment_idx', axis=1, inplace=True)\n",
    "a = a.groupby(['read_idx', 'chrom']).aggregate(\n",
    "    {'start': lambda x: (min(x), max(x)),\n",
    "     'end': lambda x: (min(x), max(x)),\n",
    "    'length': sum,\n",
    "    'alignment_idx': lambda x:min(x) })\n",
    "a = a.reset_index()\n",
    "a = a.sort_values(['read_idx', 'length']) ### CHANGE TO ORDER BY LENGTH< ALINGMENT_IDX\n",
    "a = a[~a['read_idx'].duplicated()] ## CHANGE TO KEEP FIRST DUP\n",
    "a.index = a.read_idx\n",
    "a['start_true'] = np.min([a.start.apply(min).values, a.end.apply(min).values], axis=0)\n",
    "a['end_true'] = np.max([a.start.apply(max).values, a.end.apply(max).values], axis=0)\n",
    "a.drop(['start', 'end', 'read_idx', 'length', 'alignment_idx'], axis=1, inplace=True)\n",
    "print(len(a))\n",
    "a.to_csv('/home/groups/dpwall/briannac/alt_haplotypes/intermediate_files/localize/unmapped/localized_regions_T2T_good_ids.bed', header=None, sep='\\t')"
   ]
  },
  {
   "cell_type": "code",
   "execution_count": 214,
   "metadata": {},
   "outputs": [
    {
     "name": "stdout",
     "output_type": "stream",
     "text": [
      "-688773.0\n"
     ]
    }
   ],
   "source": [
    "print(np.median(a.start_true-a.end_true))"
   ]
  },
  {
   "cell_type": "code",
   "execution_count": 179,
   "metadata": {},
   "outputs": [
    {
     "data": {
      "text/plain": [
       "66583"
      ]
     },
     "execution_count": 179,
     "metadata": {},
     "output_type": "execute_result"
    }
   ],
   "source": [
    "len(a)"
   ]
  },
  {
   "cell_type": "code",
   "execution_count": 132,
   "metadata": {},
   "outputs": [
    {
     "data": {
      "text/html": [
       "<div>\n",
       "<style scoped>\n",
       "    .dataframe tbody tr th:only-of-type {\n",
       "        vertical-align: middle;\n",
       "    }\n",
       "\n",
       "    .dataframe tbody tr th {\n",
       "        vertical-align: top;\n",
       "    }\n",
       "\n",
       "    .dataframe thead th {\n",
       "        text-align: right;\n",
       "    }\n",
       "</style>\n",
       "<table border=\"1\" class=\"dataframe\">\n",
       "  <thead>\n",
       "    <tr style=\"text-align: right;\">\n",
       "      <th></th>\n",
       "      <th>chrom</th>\n",
       "      <th>start_true</th>\n",
       "      <th>end_true</th>\n",
       "    </tr>\n",
       "    <tr>\n",
       "      <th>read_idx</th>\n",
       "      <th></th>\n",
       "      <th></th>\n",
       "      <th></th>\n",
       "    </tr>\n",
       "  </thead>\n",
       "  <tbody>\n",
       "    <tr>\n",
       "      <th>0</th>\n",
       "      <td>chr6</td>\n",
       "      <td>32412424</td>\n",
       "      <td>32412472</td>\n",
       "    </tr>\n",
       "    <tr>\n",
       "      <th>10</th>\n",
       "      <td>chr12</td>\n",
       "      <td>7684933</td>\n",
       "      <td>7686826</td>\n",
       "    </tr>\n",
       "    <tr>\n",
       "      <th>17</th>\n",
       "      <td>chr8</td>\n",
       "      <td>31556483</td>\n",
       "      <td>31557290</td>\n",
       "    </tr>\n",
       "    <tr>\n",
       "      <th>21</th>\n",
       "      <td>chr9</td>\n",
       "      <td>39363294</td>\n",
       "      <td>79943610</td>\n",
       "    </tr>\n",
       "    <tr>\n",
       "      <th>35</th>\n",
       "      <td>chr9</td>\n",
       "      <td>39363294</td>\n",
       "      <td>77052112</td>\n",
       "    </tr>\n",
       "    <tr>\n",
       "      <th>...</th>\n",
       "      <td>...</td>\n",
       "      <td>...</td>\n",
       "      <td>...</td>\n",
       "    </tr>\n",
       "    <tr>\n",
       "      <th>56209</th>\n",
       "      <td>chr11</td>\n",
       "      <td>98841265</td>\n",
       "      <td>102519584</td>\n",
       "    </tr>\n",
       "    <tr>\n",
       "      <th>56210</th>\n",
       "      <td>chr9</td>\n",
       "      <td>39363294</td>\n",
       "      <td>41738267</td>\n",
       "    </tr>\n",
       "    <tr>\n",
       "      <th>56213</th>\n",
       "      <td>chr17</td>\n",
       "      <td>80408435</td>\n",
       "      <td>80784089</td>\n",
       "    </tr>\n",
       "    <tr>\n",
       "      <th>56217</th>\n",
       "      <td>chr9</td>\n",
       "      <td>42472048</td>\n",
       "      <td>79943610</td>\n",
       "    </tr>\n",
       "    <tr>\n",
       "      <th>56221</th>\n",
       "      <td>chr6</td>\n",
       "      <td>32362866</td>\n",
       "      <td>32362867</td>\n",
       "    </tr>\n",
       "  </tbody>\n",
       "</table>\n",
       "<p>9122 rows × 3 columns</p>\n",
       "</div>"
      ],
      "text/plain": [
       "          chrom  start_true   end_true\n",
       "read_idx                              \n",
       "0          chr6    32412424   32412472\n",
       "10        chr12     7684933    7686826\n",
       "17         chr8    31556483   31557290\n",
       "21         chr9    39363294   79943610\n",
       "35         chr9    39363294   77052112\n",
       "...         ...         ...        ...\n",
       "56209     chr11    98841265  102519584\n",
       "56210      chr9    39363294   41738267\n",
       "56213     chr17    80408435   80784089\n",
       "56217      chr9    42472048   79943610\n",
       "56221      chr6    32362866   32362867\n",
       "\n",
       "[9122 rows x 3 columns]"
      ]
     },
     "execution_count": 132,
     "metadata": {},
     "output_type": "execute_result"
    }
   ],
   "source": [
    "a"
   ]
  },
  {
   "cell_type": "code",
   "execution_count": 122,
   "metadata": {},
   "outputs": [
    {
     "data": {
      "text/html": [
       "<div>\n",
       "<style scoped>\n",
       "    .dataframe tbody tr th:only-of-type {\n",
       "        vertical-align: middle;\n",
       "    }\n",
       "\n",
       "    .dataframe tbody tr th {\n",
       "        vertical-align: top;\n",
       "    }\n",
       "\n",
       "    .dataframe thead th {\n",
       "        text-align: right;\n",
       "    }\n",
       "</style>\n",
       "<table border=\"1\" class=\"dataframe\">\n",
       "  <thead>\n",
       "    <tr style=\"text-align: right;\">\n",
       "      <th></th>\n",
       "      <th>chrom</th>\n",
       "      <th>start_true</th>\n",
       "      <th>end_true</th>\n",
       "    </tr>\n",
       "    <tr>\n",
       "      <th>read_idx</th>\n",
       "      <th></th>\n",
       "      <th></th>\n",
       "      <th></th>\n",
       "    </tr>\n",
       "  </thead>\n",
       "  <tbody>\n",
       "    <tr>\n",
       "      <th>0</th>\n",
       "      <td>chr6</td>\n",
       "      <td>32412424</td>\n",
       "      <td>32412472</td>\n",
       "    </tr>\n",
       "    <tr>\n",
       "      <th>10</th>\n",
       "      <td>chr12</td>\n",
       "      <td>7684933</td>\n",
       "      <td>7686826</td>\n",
       "    </tr>\n",
       "    <tr>\n",
       "      <th>17</th>\n",
       "      <td>chr8</td>\n",
       "      <td>31556483</td>\n",
       "      <td>31557290</td>\n",
       "    </tr>\n",
       "    <tr>\n",
       "      <th>21</th>\n",
       "      <td>chr9</td>\n",
       "      <td>39363294</td>\n",
       "      <td>79943610</td>\n",
       "    </tr>\n",
       "    <tr>\n",
       "      <th>35</th>\n",
       "      <td>chr9</td>\n",
       "      <td>39363294</td>\n",
       "      <td>77052112</td>\n",
       "    </tr>\n",
       "    <tr>\n",
       "      <th>...</th>\n",
       "      <td>...</td>\n",
       "      <td>...</td>\n",
       "      <td>...</td>\n",
       "    </tr>\n",
       "    <tr>\n",
       "      <th>56209</th>\n",
       "      <td>chr11</td>\n",
       "      <td>98841265</td>\n",
       "      <td>102519584</td>\n",
       "    </tr>\n",
       "    <tr>\n",
       "      <th>56210</th>\n",
       "      <td>chr9</td>\n",
       "      <td>39363294</td>\n",
       "      <td>41738267</td>\n",
       "    </tr>\n",
       "    <tr>\n",
       "      <th>56213</th>\n",
       "      <td>chr17</td>\n",
       "      <td>80408435</td>\n",
       "      <td>80784089</td>\n",
       "    </tr>\n",
       "    <tr>\n",
       "      <th>56217</th>\n",
       "      <td>chr9</td>\n",
       "      <td>42472048</td>\n",
       "      <td>79943610</td>\n",
       "    </tr>\n",
       "    <tr>\n",
       "      <th>56221</th>\n",
       "      <td>chr6</td>\n",
       "      <td>32362866</td>\n",
       "      <td>32362867</td>\n",
       "    </tr>\n",
       "  </tbody>\n",
       "</table>\n",
       "<p>9122 rows × 3 columns</p>\n",
       "</div>"
      ],
      "text/plain": [
       "          chrom  start_true   end_true\n",
       "read_idx                              \n",
       "0          chr6    32412424   32412472\n",
       "10        chr12     7684933    7686826\n",
       "17         chr8    31556483   31557290\n",
       "21         chr9    39363294   79943610\n",
       "35         chr9    39363294   77052112\n",
       "...         ...         ...        ...\n",
       "56209     chr11    98841265  102519584\n",
       "56210      chr9    39363294   41738267\n",
       "56213     chr17    80408435   80784089\n",
       "56217      chr9    42472048   79943610\n",
       "56221      chr6    32362866   32362867\n",
       "\n",
       "[9122 rows x 3 columns]"
      ]
     },
     "execution_count": 122,
     "metadata": {},
     "output_type": "execute_result"
    }
   ],
   "source": [
    "a"
   ]
  },
  {
   "cell_type": "code",
   "execution_count": 101,
   "metadata": {},
   "outputs": [],
   "source": [
    "a = a.sort_values(['read_idx', 'counter'])\n",
    "a = a[~a['read_idx'].duplicated()]"
   ]
  },
  {
   "cell_type": "code",
   "execution_count": 75,
   "metadata": {},
   "outputs": [],
   "source": [
    "a = a[a.chrom!='SPLIT']\n",
    "a['start_true'] = np.min([a.start.apply(min).values, a.end.apply(min).values], axis=0)\n",
    "a['end_true'] = np.max([a.start.apply(max).values, a.end.apply(max).values], axis=0)\n",
    "a.drop(['start', 'end'], axis=1, inplace=True)\n",
    "a.to_csv('/home/groups/dpwall/briannac/alt_haplotypes/intermediate_files/localize/unmapped/localized_regions_T2T_good_ids.bed', header=None, sep='\\t')"
   ]
  },
  {
   "cell_type": "code",
   "execution_count": 76,
   "metadata": {},
   "outputs": [
    {
     "name": "stdout",
     "output_type": "stream",
     "text": [
      "4721\n"
     ]
    }
   ],
   "source": [
    "print(len(a))"
   ]
  },
  {
   "cell_type": "code",
   "execution_count": 77,
   "metadata": {},
   "outputs": [
    {
     "data": {
      "text/plain": [
       "[('chr6', 524),\n",
       " ('chr9', 463),\n",
       " ('chr14', 339),\n",
       " ('chr12', 338),\n",
       " ('chr1', 287),\n",
       " ('chr3', 242),\n",
       " ('chr2', 236),\n",
       " ('chr15', 226),\n",
       " ('chr4', 199),\n",
       " ('chr5', 186)]"
      ]
     },
     "execution_count": 77,
     "metadata": {},
     "output_type": "execute_result"
    }
   ],
   "source": [
    "Counter(a.chrom).most_common(10)"
   ]
  },
  {
   "cell_type": "code",
   "execution_count": 78,
   "metadata": {},
   "outputs": [
    {
     "name": "stdout",
     "output_type": "stream",
     "text": [
      "49927.0\n",
      "4721\n"
     ]
    }
   ],
   "source": [
    "print(np.median(a.end_true-a.start_true))\n",
    "print(len(a))"
   ]
  },
  {
   "cell_type": "code",
   "execution_count": 40,
   "metadata": {},
   "outputs": [
    {
     "name": "stdout",
     "output_type": "stream",
     "text": [
      "saved to /home/groups/dpwall/briannac/alt_haplotypes/intermediate_files/localize/unmapped/localized_0000.bed\n"
     ]
    }
   ],
   "source": [
    "import pandas as pd\n",
    "import numpy as np\n",
    "import sys\n",
    "\n",
    "batch_number = 0 #int(sys.argv[1])\n",
    "localized = pd.read_table('/home/groups/dpwall/briannac/alt_haplotypes/intermediate_files/localize/unmapped/localized_%04d.tsv' % batch_number, comment='#', header=None)\n",
    "localized.index = 100000*batch_number+localized.index\n",
    "localized = localized[~np.isnan(localized[6])][[6,7,8]]\n",
    "localized['chrom'] = [('chr%i'% int(i)).replace('23', 'X') for i in localized[6]]\n",
    "localized['start'] = [int(i) for i in localized[7]]\n",
    "localized['end'] = [int(i) for i in localized[8]]\n",
    "localized = localized[localized.chrom!='chr24']\n",
    "localized['index'] = localized.index\n",
    "localized[['chrom', 'start', 'start', 'index']].to_csv('/home/groups/dpwall/briannac/alt_haplotypes/intermediate_files/localize/unmapped/localized_%04d_start.bed' % batch_number,\n",
    "                                                     header=None, index=None, sep='\\t')\n",
    "localized[['chrom', 'end', 'end', 'index']].to_csv('/home/groups/dpwall/briannac/alt_haplotypes/intermediate_files/localize/unmapped/localized_%04d_end.bed' % batch_number,\n",
    "                                                     header=None, index=None, sep='\\t')\n",
    "print('saved to /home/groups/dpwall/briannac/alt_haplotypes/intermediate_files/localize/unmapped/localized_%04d.bed' % batch_number)"
   ]
  },
  {
   "cell_type": "code",
   "execution_count": 41,
   "metadata": {},
   "outputs": [
    {
     "name": "stdout",
     "output_type": "stream",
     "text": [
      "chr6\t32518741\t32518741\t0\n",
      "chr12\t7670646\t7670646\t10\n",
      "chr8\t31275335\t31275335\t17\n",
      "chr9\t39495523\t39495523\t21\n",
      "chr9\t40571113\t40571113\t35\n",
      "chr6\t31326471\t31326471\t39\n",
      "chr11\t113581871\t113581871\t41\n",
      "chr17\t18661830\t18661830\t52\n",
      "chr15\t65384279\t65384279\t58\n",
      "chr5\t43089925\t43089925\t60\n"
     ]
    }
   ],
   "source": [
    "%%bash\n",
    "head /home/groups/dpwall/briannac/alt_haplotypes/intermediate_files/localize/unmapped/localized_0000_start.bed"
   ]
  },
  {
   "cell_type": "code",
   "execution_count": 43,
   "metadata": {},
   "outputs": [
    {
     "name": "stderr",
     "output_type": "stream",
     "text": [
      "Reading liftover chains\n",
      "Mapping coordinates\n",
      "Reading liftover chains\n",
      "Mapping coordinates\n"
     ]
    }
   ],
   "source": [
    "%%bash\n",
    "\n",
    "CHAIN=$MY_HOME/alt_haplotypes/intermediate_files/t2t_comparison/grch38.t2t-chm13-v1.1.over.chain.gz\n",
    "\n",
    "\n",
    "BED_IN=/home/groups/dpwall/briannac/alt_haplotypes/intermediate_files/localize/unmapped/localized_0000_start.bed\n",
    "BED_OUT=/home/groups/dpwall/briannac/alt_haplotypes/intermediate_files/localize/unmapped/localized_0000_T2T_start.bed\n",
    "BED_UNMAPPED=/home/groups/dpwall/briannac/alt_haplotypes/intermediate_files/localize/unmapped/localized_0000_start_unmapped.bed\n",
    "\n",
    "/oak/stanford/groups/dpwall/computeEnvironments/liftOver $BED_IN $CHAIN $BED_OUT $BED_UNMAPPED\n",
    "\n",
    "\n",
    "BED_IN=/home/groups/dpwall/briannac/alt_haplotypes/intermediate_files/localize/unmapped/localized_0000_end.bed\n",
    "BED_OUT=/home/groups/dpwall/briannac/alt_haplotypes/intermediate_files/localize/unmapped/localized_0000_T2T_end.bed\n",
    "BED_UNMAPPED=/home/groups/dpwall/briannac/alt_haplotypes/intermediate_files/localize/unmapped/localized_0000_end_unmapped.bed\n",
    "\n",
    "/oak/stanford/groups/dpwall/computeEnvironments/liftOver $BED_IN $CHAIN $BED_OUT $BED_UNMAPPED\n",
    "\n",
    "#\\rm $BED_IN\n",
    "#\\rm $BED_UNMAPPED\n"
   ]
  },
  {
   "cell_type": "code",
   "execution_count": 44,
   "metadata": {},
   "outputs": [],
   "source": [
    "import pysam"
   ]
  },
  {
   "cell_type": "code",
   "execution_count": 39,
   "metadata": {},
   "outputs": [
    {
     "name": "stdout",
     "output_type": "stream",
     "text": [
      "#Split in new\n",
      "chr6\t32518741\t32558449\t0\n",
      "#Split in new\n",
      "chr9\t39495523\t67182501\t21\n",
      "#Split in new\n",
      "chr9\t40571113\t68356015\t35\n",
      "#Split in new\n",
      "chr5\t43089925\t53917542\t60\n",
      "#Split in new\n",
      "chr1\t121422747\t145905397\t138\n"
     ]
    }
   ],
   "source": [
    "%%bash\n",
    "head /home/groups/dpwall/briannac/alt_haplotypes/intermediate_files/localize/unmapped/localized_0000_end_unmapped.bed"
   ]
  },
  {
   "cell_type": "code",
   "execution_count": null,
   "metadata": {},
   "outputs": [],
   "source": []
  }
 ],
 "metadata": {
  "kernelspec": {
   "display_name": "py_36_env",
   "language": "python",
   "name": "py_36_env"
  },
  "language_info": {
   "codemirror_mode": {
    "name": "ipython",
    "version": 3
   },
   "file_extension": ".py",
   "mimetype": "text/x-python",
   "name": "python",
   "nbconvert_exporter": "python",
   "pygments_lexer": "ipython3",
   "version": "3.6.1"
  }
 },
 "nbformat": 4,
 "nbformat_minor": 4
}
