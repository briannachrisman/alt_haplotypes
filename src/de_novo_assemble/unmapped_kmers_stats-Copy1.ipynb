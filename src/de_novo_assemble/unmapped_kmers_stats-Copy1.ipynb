{
 "cells": [
  {
   "cell_type": "code",
   "execution_count": 1,
   "metadata": {},
   "outputs": [
    {
     "name": "stdout",
     "output_type": "stream",
     "text": [
      "93.73570065538608 % localized\n"
     ]
    }
   ],
   "source": [
    "import pandas as pd\n",
    "import numpy as np\n",
    "import matplotlib.pyplot as plt\n",
    "from collections import Counter\n",
    "from matplotlib.patches import Rectangle\n",
    "import matplotlib.patches as mpatches\n",
    "from Bio import SeqIO\n",
    "from Bio import Seq\n",
    "import sys\n",
    "\n",
    "from scipy.spatial.distance import pdist\n",
    "from scipy.spatial.distance import squareform\n",
    "from sklearn.metrics.pairwise import pairwise_distances\n",
    "import time\n",
    "\n",
    "from sklearn.metrics import silhouette_score\n",
    "from sklearn.cluster import AgglomerativeClustering\n",
    "import tqdm\n",
    "\n",
    "c = 20 # sys.argv[1] # chromsome\n",
    "DE_NOVO_ASSEMBLE_DIR  = '/home/groups/dpwall/briannac/alt_haplotypes/intermediate_files/de_novo_assemble/'\n",
    "\n",
    "DE_NOVO_ASSEMBLE_CHROM_DIR  = '/home/groups/dpwall/briannac/alt_haplotypes/intermediate_files/de_novo_assemble/chr%s/' % (str(c))\n",
    "\n",
    "localized = pd.read_table('/home/groups/dpwall/briannac/alt_haplotypes/intermediate_files/localize/unmapped/localized.tsv', comment='#')\n",
    "localized.columns = ['# median_of_nonzeros', 'prevelance', 'chrom_pred', 'start_pred', 'end_pred']\n",
    "localized.chrom_pred = [np.nan if np.isnan(i) else round(i) for i in localized.chrom_pred ]\n",
    "print(100*np.mean(~np.isnan(localized.chrom_pred)),'% localized')\n",
    "localized = localized[~np.isnan(localized.chrom_pred)]"
   ]
  },
  {
   "cell_type": "code",
   "execution_count": 2,
   "metadata": {},
   "outputs": [
    {
     "data": {
      "image/png": "[encoded data removed]",
      "text/plain": [
       "<Figure size 432x288 with 1 Axes>"
      ]
     },
     "metadata": {
      "needs_background": "light"
     },
     "output_type": "display_data"
    },
    {
     "data": {
      "text/plain": [
       "[(9.0, 1559093),\n",
       " (23.0, 869772),\n",
       " (22.0, 490749),\n",
       " (1.0, 375476),\n",
       " (21.0, 349185),\n",
       " (14.0, 305479),\n",
       " (15.0, 200419),\n",
       " (20.0, 184175),\n",
       " (4.0, 158599),\n",
       " (13.0, 119928),\n",
       " (5.0, 118789),\n",
       " (7.0, 114667),\n",
       " (10.0, 77431),\n",
       " (17.0, 69948),\n",
       " (2.0, 58094),\n",
       " (3.0, 55505),\n",
       " (6.0, 48999),\n",
       " (8.0, 39373),\n",
       " (11.0, 33505),\n",
       " (12.0, 33447),\n",
       " (18.0, 28270),\n",
       " (19.0, 27002),\n",
       " (16.0, 25029)]"
      ]
     },
     "execution_count": 2,
     "metadata": {},
     "output_type": "execute_result"
    }
   ],
   "source": [
    "plt.hist(np.log10(localized.end_pred-localized.start_pred), bins=100)\n",
    "plt.show()\n",
    "Counter(localized.chrom_pred).most_common()\n",
    "\n",
    "\n",
    "\n"
   ]
  },
  {
   "cell_type": "markdown",
   "metadata": {},
   "source": [
    "# Comparing to hg38 Gaps"
   ]
  },
  {
   "cell_type": "code",
   "execution_count": 3,
   "metadata": {},
   "outputs": [],
   "source": [
    "gaps_df = pd.read_table('/home/groups/dpwall/briannac/general_data/reference_genomes/hg38/hg38_agp_file.tsv', header=None)\n",
    "gaps_df.columns = ['chrom', 'start', 'stop', 'idx', 'type', 'ncbi_idx', 'location', 7, 8]\n",
    "gaps_df = gaps_df[gaps_df.type=='N']"
   ]
  },
  {
   "cell_type": "code",
   "execution_count": 4,
   "metadata": {},
   "outputs": [],
   "source": [
    "sizes_df = pd.read_table('/home/groups/dpwall/briannac/general_data/reference_genomes/hg38_chromsome_sizes.txt', header=None)\n",
    "sizes_df = sizes_df.replace('X', 23).replace('Y', 24).replace('mtDNA', 25)\n",
    "sizes_df[0] = [int(i) for i in sizes_df[0]]\n",
    "sizes_df.sort_values(0, inplace=True)\n",
    "sizes = [int(s.replace(',','')) for s in sizes_df[2]]\n",
    "starts = [np.sum(sizes[:i]) for i in range(len(sizes)+1)]\n",
    "\n",
    "def loci_linear_idx(chrom, loci):\n",
    "    chrom=int(chrom)\n",
    "    #if chrom==24: chrom=23\n",
    "    return starts[chrom-1]+loci"
   ]
  },
  {
   "cell_type": "code",
   "execution_count": 7,
   "metadata": {},
   "outputs": [
    {
     "data": {
      "image/png": "[encoded data removed]",
      "text/plain": [
       "<Figure size 1440x216 with 1 Axes>"
      ]
     },
     "metadata": {
      "needs_background": "light"
     },
     "output_type": "display_data"
    }
   ],
   "source": [
    "f, ax = plt.subplots(figsize=(20,3))\n",
    "localized = localized[~np.isnan(localized.chrom_pred)]\n",
    "linear_locs = [loci_linear_idx(chrom_pred, start_pred) for chrom_pred, start_pred in zip(localized.chrom_pred, localized.start_pred)]\n",
    "nbins = plt.hist(linear_locs, bins=1000, color='r')\n",
    "gaps_df = pd.read_table('/home/groups/dpwall/briannac/general_data/reference_genomes/hg38/hg38_agp_file.tsv', header=None)\n",
    "gaps_df.columns = ['chrom', 'start', 'stop', 'idx', 'type', 'ncbi_idx', 'location', 7, 8]\n",
    "gaps_df = gaps_df[[len(c)<10 for c in gaps_df.chrom]]\n",
    "gaps_df = gaps_df[gaps_df.type=='N']\n",
    "gaps_df.chrom = [c.replace('X', '23').replace('Y', '24') for c in gaps_df.chrom]\n",
    "for start, stop, chrom in zip(gaps_df.start, gaps_df.stop, gaps_df.chrom):\n",
    "    r = Rectangle(xy=(loci_linear_idx(chrom.replace('chr', ''), start), 0),\n",
    "                  height=1.1*max(nbins[0]), width=stop-start, color='grey', alpha=.1)\n",
    "    ax.add_patch(r)\n",
    "    \n",
    "red_patch = mpatches.Patch(color='red')\n",
    "grey_patch = mpatches.Patch(color='grey')\n",
    "\n",
    "p = plt.hist(linear_locs, bins=1000, color='r')\n",
    "for i in range(24):\n",
    "    if i%2==0: color=(.8,.8,.8)\n",
    "    else: color=(.4,.4,.4)\n",
    "    chrom=str(i+1)\n",
    "    if chrom=='23': chrom='X'\n",
    "    if chrom=='24': chrom='Y'\n",
    "    plt.text(x=np.mean(starts[i:(i+2)]), y=-max(p[0])/5, s=chrom, fontsize=9, ha='center')#, rotation=45, va='top', ha='right')\n",
    "    plt.hlines(xmin=starts[i], xmax=starts[i+1], y=-max(p[0])/10, color=color, linestyle='-', linewidth=5)\n",
    "plt.legend([red_patch, grey_patch], ['localization locations', 'gaps in hg38 reference'])\n",
    "ax.spines['bottom'].set_visible(False)\n",
    "ax.spines['right'].set_visible(False)\n",
    "ax.spines['top'].set_visible(False)\n",
    "plt.xlim(starts[0], starts[-1])\n",
    "ax.get_xaxis().set_ticks([])\n",
    "plt.ylabel('# kmers')\n",
    "plt.show()"
   ]
  },
  {
   "cell_type": "code",
   "execution_count": 120,
   "metadata": {},
   "outputs": [
    {
     "name": "stdout",
     "output_type": "stream",
     "text": [
      "10.942413091659546\n"
     ]
    }
   ],
   "source": [
    "c = 20\n",
    "start_ends =  np.array(localized[localized.chrom_pred==c][['start_pred', 'end_pred']])\n",
    "\n",
    "# Distance function\n",
    "def myDist(l1,l2):\n",
    "    return 1-(((l1[-2] >= l2[-2]) & (l1[-2] <= l2[-1])) | ((l2[-2] >= l1[-2]) & (l2[-2] <= l1[-1])))\n",
    "\n",
    "t = time.time()\n",
    "conn = pairwise_distances(X=localized[localized.chrom_pred==c].iloc[:1000], metric=myDist, n_jobs=-1)\n",
    "print(time.time()-t)"
   ]
  },
  {
   "cell_type": "code",
   "execution_count": 160,
   "metadata": {},
   "outputs": [],
   "source": [
    "from scipy.sparse import lil_matrix"
   ]
  },
  {
   "cell_type": "code",
   "execution_count": 232,
   "metadata": {},
   "outputs": [],
   "source": []
  },
  {
   "cell_type": "code",
   "execution_count": 249,
   "metadata": {},
   "outputs": [],
   "source": [
    "# Compute Similarity Matrix\n",
    "l = localized[localized.chrom_pred==c].sort_values(['start_pred', 'end_pred']).iloc[:1000][['start_pred', 'end_pred']]\n",
    "m = lil_matrix(np.zeros((len(l), len(l))))\n",
    "for i in range(len(l)):\n",
    "    start = l.iloc[i].start_pred\n",
    "    for j in range(i,len(l)):\n",
    "        start2 = l.iloc[j].start_pred\n",
    "        end2 = l.iloc[j].end_pred\n",
    "        if (start2 <= start) & (start <=end2):\n",
    "            m[i,j] = 1\n",
    "            m[j,i] = 1\n",
    "        else: break\n"
   ]
  },
  {
   "cell_type": "code",
   "execution_count": 250,
   "metadata": {},
   "outputs": [
    {
     "name": "stderr",
     "output_type": "stream",
     "text": [
      "\n",
      "\n",
      "  0%|          | 0/5 [00:00<?, ?it/s]\u001b[A\u001b[A"
     ]
    },
    {
     "name": "stdout",
     "output_type": "stream",
     "text": [
      "2\n"
     ]
    },
    {
     "name": "stderr",
     "output_type": "stream",
     "text": [
      "/share/software/user/open/py-scikit-learn/0.19.1_py36/lib/python3.6/site-packages/sklearn/cluster/hierarchical.py:193: UserWarning: the number of connected components of the connectivity matrix is 1562 > 1. Completing it to avoid stopping the tree early.\n",
      "  affinity='euclidean')\n",
      "\n",
      "\n",
      " 20%|██        | 1/5 [02:43<10:55, 163.79s/it]\u001b[A\u001b[A"
     ]
    },
    {
     "name": "stdout",
     "output_type": "stream",
     "text": [
      "[0.5588554052289337]\n",
      "3\n"
     ]
    },
    {
     "name": "stderr",
     "output_type": "stream",
     "text": [
      "\n",
      "\n",
      " 40%|████      | 2/5 [05:28<08:12, 164.01s/it]\u001b[A\u001b[A"
     ]
    },
    {
     "name": "stdout",
     "output_type": "stream",
     "text": [
      "[0.5588554052289337, 0.5989524981141393]\n",
      "4\n"
     ]
    },
    {
     "name": "stderr",
     "output_type": "stream",
     "text": [
      "\n",
      "\n",
      " 60%|██████    | 3/5 [08:13<05:28, 164.47s/it]\u001b[A\u001b[A"
     ]
    },
    {
     "name": "stdout",
     "output_type": "stream",
     "text": [
      "[0.5588554052289337, 0.5989524981141393, 0.5360626813711055]\n",
      "5\n"
     ]
    },
    {
     "name": "stderr",
     "output_type": "stream",
     "text": [
      "\n",
      "\n",
      " 80%|████████  | 4/5 [11:01<02:45, 165.34s/it]\u001b[A\u001b[A"
     ]
    },
    {
     "name": "stdout",
     "output_type": "stream",
     "text": [
      "[0.5588554052289337, 0.5989524981141393, 0.5360626813711055, 0.5684937471557998]\n",
      "6\n"
     ]
    },
    {
     "name": "stderr",
     "output_type": "stream",
     "text": [
      "\n",
      "\n",
      "100%|██████████| 5/5 [13:48<00:00, 165.78s/it]\u001b[A\u001b[A"
     ]
    },
    {
     "name": "stdout",
     "output_type": "stream",
     "text": [
      "[0.5588554052289337, 0.5989524981141393, 0.5360626813711055, 0.5684937471557998, 0.5706742448591068]\n"
     ]
    },
    {
     "name": "stderr",
     "output_type": "stream",
     "text": [
      "\n"
     ]
    }
   ],
   "source": [
    "sil = []\n",
    "kmax = 6\n",
    "n_clusters = [c for c in range(2, kmax+1)]\n",
    "#AgglomerativeClustering(n_clusters=2, connectivity=None, compute_full_tree='auto', linkage='ward', distance_threshold=None, compute_distances=False)[source]\n",
    "\n",
    "# Compute sillhouette score for each n_clusters.\n",
    "for k in tqdm.tqdm(n_clusters):\n",
    "    print(k)\n",
    "    alg_clusters =AgglomerativeClustering(n_clusters=k, connectivity=m).fit(l)\n",
    "    labels = alg_clusters.labels_\n",
    "    sil.append(silhouette_score(l, labels, metric = 'euclidean'))\n",
    "    print(sil)"
   ]
  },
  {
   "cell_type": "code",
   "execution_count": 252,
   "metadata": {},
   "outputs": [
    {
     "data": {
      "text/plain": [
       "[<matplotlib.lines.Line2D at 0x7facbbbee9b0>]"
      ]
     },
     "execution_count": 252,
     "metadata": {},
     "output_type": "execute_result"
    },
    {
     "data": {
      "image/png": "[encoded data removed]",
      "text/plain": [
       "<Figure size 432x288 with 1 Axes>"
      ]
     },
     "metadata": {
      "needs_background": "light"
     },
     "output_type": "display_data"
    }
   ],
   "source": [
    "plt.plot(n_clusters[:len(sil)], sil, '-x')\n"
   ]
  },
  {
   "cell_type": "code",
   "execution_count": 264,
   "metadata": {},
   "outputs": [
    {
     "data": {
      "image/png": "[encoded data removed]",
      "text/plain": [
       "<Figure size 432x288 with 1 Axes>"
      ]
     },
     "metadata": {
      "needs_background": "light"
     },
     "output_type": "display_data"
    },
    {
     "data": {
      "image/png": "[encoded data removed]",
      "text/plain": [
       "<Figure size 432x288 with 1 Axes>"
      ]
     },
     "metadata": {
      "needs_background": "light"
     },
     "output_type": "display_data"
    }
   ],
   "source": [
    "plt.plot(n_clusters[:len(sil)], sil, '-x')\n",
    "\n",
    "# Retrain model with optimal clustering. \n",
    "#alg_clusters =AgglomerativeClustering(n_clusters= n_clusters[np.argmax(sil)], connectivity=m).fit(l)\n",
    "alg_clusters = AgglomerativeClustering(n_clusters=n_clusters[np.argmax(sil)], connectivity=m).fit(l)\n",
    "labels = alg_clusters.labels_\n",
    "plt.figure()\n",
    "for ll in set(labels):\n",
    "    plt.plot(l[labels==ll].start_pred, l[labels==ll].end_pred, '.')\n",
    "plt.xlabel('Start')\n",
    "plt.ylabel('End')\n",
    "plt.show()\n"
   ]
  },
  {
   "cell_type": "code",
   "execution_count": 51,
   "metadata": {},
   "outputs": [
    {
     "data": {
      "text/plain": [
       "61552"
      ]
     },
     "execution_count": 51,
     "metadata": {},
     "output_type": "execute_result"
    }
   ],
   "source": [
    "localized_chrom = localized[localized.chrom_pred==c][['start_pred', 'end_pred']]\n",
    "localized_chrom = localized_chrom[~localized_chrom.duplicated()]\n",
    "len(localized_chrom)"
   ]
  },
  {
   "cell_type": "code",
   "execution_count": 30,
   "metadata": {},
   "outputs": [
    {
     "name": "stderr",
     "output_type": "stream",
     "text": [
      "  0%|          | 0/11 [00:00<?, ?it/s]"
     ]
    },
    {
     "name": "stdout",
     "output_type": "stream",
     "text": [
      "2\n"
     ]
    },
    {
     "name": "stderr",
     "output_type": "stream",
     "text": [
      "  9%|▉         | 1/11 [09:13<1:32:10, 553.04s/it]"
     ]
    },
    {
     "name": "stdout",
     "output_type": "stream",
     "text": [
      "3\n"
     ]
    },
    {
     "ename": "KeyboardInterrupt",
     "evalue": "",
     "output_type": "error",
     "traceback": [
      "\u001b[0;31m---------------------------------------------------------------------------\u001b[0m",
      "\u001b[0;31mKeyboardInterrupt\u001b[0m                         Traceback (most recent call last)",
      "\u001b[0;32m<ipython-input-30-083f9ed05271>\u001b[0m in \u001b[0;36m<module>\u001b[0;34m\u001b[0m\n\u001b[1;32m      7\u001b[0m \u001b[0;32mfor\u001b[0m \u001b[0mk\u001b[0m \u001b[0;32min\u001b[0m \u001b[0mtqdm\u001b[0m\u001b[0;34m.\u001b[0m\u001b[0mtqdm\u001b[0m\u001b[0;34m(\u001b[0m\u001b[0mn_clusters\u001b[0m\u001b[0;34m)\u001b[0m\u001b[0;34m:\u001b[0m\u001b[0;34m\u001b[0m\u001b[0m\n\u001b[1;32m      8\u001b[0m     \u001b[0mprint\u001b[0m\u001b[0;34m(\u001b[0m\u001b[0mk\u001b[0m\u001b[0;34m)\u001b[0m\u001b[0;34m\u001b[0m\u001b[0m\n\u001b[0;32m----> 9\u001b[0;31m     \u001b[0malg_clusters\u001b[0m \u001b[0;34m=\u001b[0m\u001b[0mAgglomerativeClustering\u001b[0m\u001b[0;34m(\u001b[0m\u001b[0mn_clusters\u001b[0m\u001b[0;34m=\u001b[0m\u001b[0mk\u001b[0m\u001b[0;34m,\u001b[0m \u001b[0mconnectivity\u001b[0m\u001b[0;34m=\u001b[0m\u001b[0mconn\u001b[0m\u001b[0;34m)\u001b[0m\u001b[0;34m.\u001b[0m\u001b[0mfit\u001b[0m\u001b[0;34m(\u001b[0m\u001b[0mstart_ends\u001b[0m\u001b[0;34m[\u001b[0m\u001b[0;34m:\u001b[0m\u001b[0mlen\u001b[0m\u001b[0;34m(\u001b[0m\u001b[0mconn\u001b[0m\u001b[0;34m)\u001b[0m\u001b[0;34m]\u001b[0m\u001b[0;34m)\u001b[0m\u001b[0;34m\u001b[0m\u001b[0m\n\u001b[0m\u001b[1;32m     10\u001b[0m     \u001b[0mlabels\u001b[0m \u001b[0;34m=\u001b[0m \u001b[0malg_clusters\u001b[0m\u001b[0;34m.\u001b[0m\u001b[0mlabels_\u001b[0m\u001b[0;34m\u001b[0m\u001b[0m\n\u001b[1;32m     11\u001b[0m     \u001b[0msil\u001b[0m\u001b[0;34m.\u001b[0m\u001b[0mappend\u001b[0m\u001b[0;34m(\u001b[0m\u001b[0msilhouette_score\u001b[0m\u001b[0;34m(\u001b[0m\u001b[0mstart_ends\u001b[0m\u001b[0;34m[\u001b[0m\u001b[0;34m:\u001b[0m\u001b[0mlen\u001b[0m\u001b[0;34m(\u001b[0m\u001b[0mconn\u001b[0m\u001b[0;34m)\u001b[0m\u001b[0;34m]\u001b[0m\u001b[0;34m,\u001b[0m \u001b[0mlabels\u001b[0m\u001b[0;34m,\u001b[0m \u001b[0mmetric\u001b[0m \u001b[0;34m=\u001b[0m \u001b[0;34m'euclidean'\u001b[0m\u001b[0;34m)\u001b[0m\u001b[0;34m)\u001b[0m\u001b[0;34m\u001b[0m\u001b[0m\n",
      "\u001b[0;32m/share/software/user/open/py-scikit-learn/0.19.1_py36/lib/python3.6/site-packages/sklearn/cluster/hierarchical.py\u001b[0m in \u001b[0;36mfit\u001b[0;34m(self, X, y)\u001b[0m\n\u001b[1;32m    740\u001b[0m             memory.cache(tree_builder)(X, connectivity,\n\u001b[1;32m    741\u001b[0m                                        \u001b[0mn_clusters\u001b[0m\u001b[0;34m=\u001b[0m\u001b[0mn_clusters\u001b[0m\u001b[0;34m,\u001b[0m\u001b[0;34m\u001b[0m\u001b[0m\n\u001b[0;32m--> 742\u001b[0;31m                                        **kwargs)\n\u001b[0m\u001b[1;32m    743\u001b[0m         \u001b[0;31m# Cut the tree\u001b[0m\u001b[0;34m\u001b[0m\u001b[0;34m\u001b[0m\u001b[0m\n\u001b[1;32m    744\u001b[0m         \u001b[0;32mif\u001b[0m \u001b[0mcompute_full_tree\u001b[0m\u001b[0;34m:\u001b[0m\u001b[0;34m\u001b[0m\u001b[0m\n",
      "\u001b[0;32m/share/software/user/open/py-scikit-learn/0.19.1_py36/lib/python3.6/site-packages/sklearn/externals/joblib/memory.py\u001b[0m in \u001b[0;36m__call__\u001b[0;34m(self, *args, **kwargs)\u001b[0m\n\u001b[1;32m    360\u001b[0m \u001b[0;34m\u001b[0m\u001b[0m\n\u001b[1;32m    361\u001b[0m     \u001b[0;32mdef\u001b[0m \u001b[0m__call__\u001b[0m\u001b[0;34m(\u001b[0m\u001b[0mself\u001b[0m\u001b[0;34m,\u001b[0m \u001b[0;34m*\u001b[0m\u001b[0margs\u001b[0m\u001b[0;34m,\u001b[0m \u001b[0;34m**\u001b[0m\u001b[0mkwargs\u001b[0m\u001b[0;34m)\u001b[0m\u001b[0;34m:\u001b[0m\u001b[0;34m\u001b[0m\u001b[0m\n\u001b[0;32m--> 362\u001b[0;31m         \u001b[0;32mreturn\u001b[0m \u001b[0mself\u001b[0m\u001b[0;34m.\u001b[0m\u001b[0mfunc\u001b[0m\u001b[0;34m(\u001b[0m\u001b[0;34m*\u001b[0m\u001b[0margs\u001b[0m\u001b[0;34m,\u001b[0m \u001b[0;34m**\u001b[0m\u001b[0mkwargs\u001b[0m\u001b[0;34m)\u001b[0m\u001b[0;34m\u001b[0m\u001b[0m\n\u001b[0m\u001b[1;32m    363\u001b[0m \u001b[0;34m\u001b[0m\u001b[0m\n\u001b[1;32m    364\u001b[0m     \u001b[0;32mdef\u001b[0m \u001b[0mcall_and_shelve\u001b[0m\u001b[0;34m(\u001b[0m\u001b[0mself\u001b[0m\u001b[0;34m,\u001b[0m \u001b[0;34m*\u001b[0m\u001b[0margs\u001b[0m\u001b[0;34m,\u001b[0m \u001b[0;34m**\u001b[0m\u001b[0mkwargs\u001b[0m\u001b[0;34m)\u001b[0m\u001b[0;34m:\u001b[0m\u001b[0;34m\u001b[0m\u001b[0m\n",
      "\u001b[0;32m/share/software/user/open/py-scikit-learn/0.19.1_py36/lib/python3.6/site-packages/sklearn/cluster/hierarchical.py\u001b[0m in \u001b[0;36mward_tree\u001b[0;34m(X, connectivity, n_clusters, return_distance)\u001b[0m\n\u001b[1;32m    262\u001b[0m         \u001b[0;34m[\u001b[0m\u001b[0mA\u001b[0m\u001b[0;34m[\u001b[0m\u001b[0ml\u001b[0m\u001b[0;34m]\u001b[0m\u001b[0;34m.\u001b[0m\u001b[0mappend\u001b[0m\u001b[0;34m(\u001b[0m\u001b[0mk\u001b[0m\u001b[0;34m)\u001b[0m \u001b[0;32mfor\u001b[0m \u001b[0ml\u001b[0m \u001b[0;32min\u001b[0m \u001b[0mcoord_col\u001b[0m\u001b[0;34m]\u001b[0m\u001b[0;34m\u001b[0m\u001b[0m\n\u001b[1;32m    263\u001b[0m         \u001b[0mA\u001b[0m\u001b[0;34m.\u001b[0m\u001b[0mappend\u001b[0m\u001b[0;34m(\u001b[0m\u001b[0mcoord_col\u001b[0m\u001b[0;34m)\u001b[0m\u001b[0;34m\u001b[0m\u001b[0m\n\u001b[0;32m--> 264\u001b[0;31m         \u001b[0mcoord_col\u001b[0m \u001b[0;34m=\u001b[0m \u001b[0mnp\u001b[0m\u001b[0;34m.\u001b[0m\u001b[0marray\u001b[0m\u001b[0;34m(\u001b[0m\u001b[0mcoord_col\u001b[0m\u001b[0;34m,\u001b[0m \u001b[0mdtype\u001b[0m\u001b[0;34m=\u001b[0m\u001b[0mnp\u001b[0m\u001b[0;34m.\u001b[0m\u001b[0mintp\u001b[0m\u001b[0;34m,\u001b[0m \u001b[0morder\u001b[0m\u001b[0;34m=\u001b[0m\u001b[0;34m'C'\u001b[0m\u001b[0;34m)\u001b[0m\u001b[0;34m\u001b[0m\u001b[0m\n\u001b[0m\u001b[1;32m    265\u001b[0m         \u001b[0mcoord_row\u001b[0m \u001b[0;34m=\u001b[0m \u001b[0mnp\u001b[0m\u001b[0;34m.\u001b[0m\u001b[0mempty\u001b[0m\u001b[0;34m(\u001b[0m\u001b[0mcoord_col\u001b[0m\u001b[0;34m.\u001b[0m\u001b[0mshape\u001b[0m\u001b[0;34m,\u001b[0m \u001b[0mdtype\u001b[0m\u001b[0;34m=\u001b[0m\u001b[0mnp\u001b[0m\u001b[0;34m.\u001b[0m\u001b[0mintp\u001b[0m\u001b[0;34m,\u001b[0m \u001b[0morder\u001b[0m\u001b[0;34m=\u001b[0m\u001b[0;34m'C'\u001b[0m\u001b[0;34m)\u001b[0m\u001b[0;34m\u001b[0m\u001b[0m\n\u001b[1;32m    266\u001b[0m         \u001b[0mcoord_row\u001b[0m\u001b[0;34m.\u001b[0m\u001b[0mfill\u001b[0m\u001b[0;34m(\u001b[0m\u001b[0mk\u001b[0m\u001b[0;34m)\u001b[0m\u001b[0;34m\u001b[0m\u001b[0m\n",
      "\u001b[0;31mKeyboardInterrupt\u001b[0m: "
     ]
    }
   ],
   "source": [
    "sil = []\n",
    "kmax = 12\n",
    "n_clusters = [c for c in range(2, kmax+1)]\n",
    "#AgglomerativeClustering(n_clusters=2, connectivity=None, compute_full_tree='auto', linkage='ward', distance_threshold=None, compute_distances=False)[source]\n",
    "\n",
    "# Compute sillhouette score for each n_clusters.\n",
    "for k in tqdm.tqdm(n_clusters):\n",
    "    print(k)\n",
    "    alg_clusters =AgglomerativeClustering(n_clusters=k, connectivity=conn).fit(start_ends[:len(conn)])\n",
    "    labels = alg_clusters.labels_\n",
    "    sil.append(silhouette_score(start_ends[:len(conn)], labels, metric = 'euclidean'))\n",
    "    \n",
    "# Optimal number of clusters.    \n",
    "opt_clusters = n_clusters[np.argmax(sil)]\n",
    "print('opt clusters', opt_clusters)\n",
    "plt.figure()\n",
    "plt.plot(n_clusters, sil)\n",
    "plt.show()\n",
    "\n",
    "# Retrain model with optimal clustering. \n",
    "alg_clusters =AgglomerativeClustering(n_clusters=opt_clusters, connectivity=conn).fit(start_ends[:len(conn)])\n",
    "l = alg_clusters.labels_\n",
    "for ll in set(l):\n",
    "    plt.plot(X[:len(conn)][l==ll,0], X[:len(conn)][l==ll,1], '.')\n",
    "plt.xlabel('Start')\n",
    "plt.ylabel('End')\n",
    "plt.show()"
   ]
  },
  {
   "cell_type": "code",
   "execution_count": 36,
   "metadata": {},
   "outputs": [
    {
     "data": {
      "text/plain": [
       "[0.7686789436358942]"
      ]
     },
     "execution_count": 36,
     "metadata": {},
     "output_type": "execute_result"
    }
   ],
   "source": []
  },
  {
   "cell_type": "code",
   "execution_count": 37,
   "metadata": {},
   "outputs": [
    {
     "name": "stdout",
     "output_type": "stream",
     "text": [
      "opt clusters 2\n"
     ]
    },
    {
     "ename": "KeyboardInterrupt",
     "evalue": "",
     "output_type": "error",
     "traceback": [
      "\u001b[0;31m---------------------------------------------------------------------------\u001b[0m",
      "\u001b[0;31mKeyboardInterrupt\u001b[0m                         Traceback (most recent call last)",
      "\u001b[0;32m<ipython-input-37-70c40ad01c8f>\u001b[0m in \u001b[0;36m<module>\u001b[0;34m\u001b[0m\n\u001b[1;32m      1\u001b[0m \u001b[0mopt_clusters\u001b[0m \u001b[0;34m=\u001b[0m \u001b[0mn_clusters\u001b[0m\u001b[0;34m[\u001b[0m\u001b[0mnp\u001b[0m\u001b[0;34m.\u001b[0m\u001b[0margmax\u001b[0m\u001b[0;34m(\u001b[0m\u001b[0msil\u001b[0m\u001b[0;34m)\u001b[0m\u001b[0;34m]\u001b[0m\u001b[0;34m\u001b[0m\u001b[0m\n\u001b[1;32m      2\u001b[0m \u001b[0mprint\u001b[0m\u001b[0;34m(\u001b[0m\u001b[0;34m'opt clusters'\u001b[0m\u001b[0;34m,\u001b[0m \u001b[0mopt_clusters\u001b[0m\u001b[0;34m)\u001b[0m\u001b[0;34m\u001b[0m\u001b[0m\n\u001b[0;32m----> 3\u001b[0;31m \u001b[0malg_clusters\u001b[0m \u001b[0;34m=\u001b[0m\u001b[0mAgglomerativeClustering\u001b[0m\u001b[0;34m(\u001b[0m\u001b[0mn_clusters\u001b[0m\u001b[0;34m=\u001b[0m\u001b[0mopt_clusters\u001b[0m\u001b[0;34m,\u001b[0m \u001b[0mconnectivity\u001b[0m\u001b[0;34m=\u001b[0m\u001b[0mconn\u001b[0m\u001b[0;34m)\u001b[0m\u001b[0;34m.\u001b[0m\u001b[0mfit\u001b[0m\u001b[0;34m(\u001b[0m\u001b[0mstart_ends\u001b[0m\u001b[0;34m[\u001b[0m\u001b[0;34m:\u001b[0m\u001b[0mlen\u001b[0m\u001b[0;34m(\u001b[0m\u001b[0mconn\u001b[0m\u001b[0;34m)\u001b[0m\u001b[0;34m]\u001b[0m\u001b[0;34m)\u001b[0m\u001b[0;34m\u001b[0m\u001b[0m\n\u001b[0m\u001b[1;32m      4\u001b[0m \u001b[0ml\u001b[0m \u001b[0;34m=\u001b[0m \u001b[0malg_clusters\u001b[0m\u001b[0;34m.\u001b[0m\u001b[0mlabels_\u001b[0m\u001b[0;34m\u001b[0m\u001b[0m\n\u001b[1;32m      5\u001b[0m \u001b[0;32mfor\u001b[0m \u001b[0mll\u001b[0m \u001b[0;32min\u001b[0m \u001b[0mset\u001b[0m\u001b[0;34m(\u001b[0m\u001b[0ml\u001b[0m\u001b[0;34m)\u001b[0m\u001b[0;34m:\u001b[0m\u001b[0;34m\u001b[0m\u001b[0m\n",
      "\u001b[0;32m/share/software/user/open/py-scikit-learn/0.19.1_py36/lib/python3.6/site-packages/sklearn/cluster/hierarchical.py\u001b[0m in \u001b[0;36mfit\u001b[0;34m(self, X, y)\u001b[0m\n\u001b[1;32m    740\u001b[0m             memory.cache(tree_builder)(X, connectivity,\n\u001b[1;32m    741\u001b[0m                                        \u001b[0mn_clusters\u001b[0m\u001b[0;34m=\u001b[0m\u001b[0mn_clusters\u001b[0m\u001b[0;34m,\u001b[0m\u001b[0;34m\u001b[0m\u001b[0m\n\u001b[0;32m--> 742\u001b[0;31m                                        **kwargs)\n\u001b[0m\u001b[1;32m    743\u001b[0m         \u001b[0;31m# Cut the tree\u001b[0m\u001b[0;34m\u001b[0m\u001b[0;34m\u001b[0m\u001b[0m\n\u001b[1;32m    744\u001b[0m         \u001b[0;32mif\u001b[0m \u001b[0mcompute_full_tree\u001b[0m\u001b[0;34m:\u001b[0m\u001b[0;34m\u001b[0m\u001b[0m\n",
      "\u001b[0;32m/share/software/user/open/py-scikit-learn/0.19.1_py36/lib/python3.6/site-packages/sklearn/externals/joblib/memory.py\u001b[0m in \u001b[0;36m__call__\u001b[0;34m(self, *args, **kwargs)\u001b[0m\n\u001b[1;32m    360\u001b[0m \u001b[0;34m\u001b[0m\u001b[0m\n\u001b[1;32m    361\u001b[0m     \u001b[0;32mdef\u001b[0m \u001b[0m__call__\u001b[0m\u001b[0;34m(\u001b[0m\u001b[0mself\u001b[0m\u001b[0;34m,\u001b[0m \u001b[0;34m*\u001b[0m\u001b[0margs\u001b[0m\u001b[0;34m,\u001b[0m \u001b[0;34m**\u001b[0m\u001b[0mkwargs\u001b[0m\u001b[0;34m)\u001b[0m\u001b[0;34m:\u001b[0m\u001b[0;34m\u001b[0m\u001b[0m\n\u001b[0;32m--> 362\u001b[0;31m         \u001b[0;32mreturn\u001b[0m \u001b[0mself\u001b[0m\u001b[0;34m.\u001b[0m\u001b[0mfunc\u001b[0m\u001b[0;34m(\u001b[0m\u001b[0;34m*\u001b[0m\u001b[0margs\u001b[0m\u001b[0;34m,\u001b[0m \u001b[0;34m**\u001b[0m\u001b[0mkwargs\u001b[0m\u001b[0;34m)\u001b[0m\u001b[0;34m\u001b[0m\u001b[0m\n\u001b[0m\u001b[1;32m    363\u001b[0m \u001b[0;34m\u001b[0m\u001b[0m\n\u001b[1;32m    364\u001b[0m     \u001b[0;32mdef\u001b[0m \u001b[0mcall_and_shelve\u001b[0m\u001b[0;34m(\u001b[0m\u001b[0mself\u001b[0m\u001b[0;34m,\u001b[0m \u001b[0;34m*\u001b[0m\u001b[0margs\u001b[0m\u001b[0;34m,\u001b[0m \u001b[0;34m**\u001b[0m\u001b[0mkwargs\u001b[0m\u001b[0;34m)\u001b[0m\u001b[0;34m:\u001b[0m\u001b[0;34m\u001b[0m\u001b[0m\n",
      "\u001b[0;32m/share/software/user/open/py-scikit-learn/0.19.1_py36/lib/python3.6/site-packages/sklearn/cluster/hierarchical.py\u001b[0m in \u001b[0;36mward_tree\u001b[0;34m(X, connectivity, n_clusters, return_distance)\u001b[0m\n\u001b[1;32m    240\u001b[0m         \u001b[0;31m# identify the merge\u001b[0m\u001b[0;34m\u001b[0m\u001b[0;34m\u001b[0m\u001b[0m\n\u001b[1;32m    241\u001b[0m         \u001b[0;32mwhile\u001b[0m \u001b[0;32mTrue\u001b[0m\u001b[0;34m:\u001b[0m\u001b[0;34m\u001b[0m\u001b[0m\n\u001b[0;32m--> 242\u001b[0;31m             \u001b[0minert\u001b[0m\u001b[0;34m,\u001b[0m \u001b[0mi\u001b[0m\u001b[0;34m,\u001b[0m \u001b[0mj\u001b[0m \u001b[0;34m=\u001b[0m \u001b[0mheappop\u001b[0m\u001b[0;34m(\u001b[0m\u001b[0minertia\u001b[0m\u001b[0;34m)\u001b[0m\u001b[0;34m\u001b[0m\u001b[0m\n\u001b[0m\u001b[1;32m    243\u001b[0m             \u001b[0;32mif\u001b[0m \u001b[0mused_node\u001b[0m\u001b[0;34m[\u001b[0m\u001b[0mi\u001b[0m\u001b[0;34m]\u001b[0m \u001b[0;32mand\u001b[0m \u001b[0mused_node\u001b[0m\u001b[0;34m[\u001b[0m\u001b[0mj\u001b[0m\u001b[0;34m]\u001b[0m\u001b[0;34m:\u001b[0m\u001b[0;34m\u001b[0m\u001b[0m\n\u001b[1;32m    244\u001b[0m                 \u001b[0;32mbreak\u001b[0m\u001b[0;34m\u001b[0m\u001b[0m\n",
      "\u001b[0;31mKeyboardInterrupt\u001b[0m: "
     ]
    }
   ],
   "source": [
    "opt_clusters = n_clusters[np.argmax(sil)]\n",
    "print('opt clusters', opt_clusters)\n",
    "alg_clusters =AgglomerativeClustering(n_clusters=opt_clusters, connectivity=conn).fit(start_ends[:len(conn)])\n",
    "l = alg_clusters.labels_\n",
    "for ll in set(l):\n",
    "    plt.plot(X[:len(conn)][l==ll,0], X[:len(conn)][l==ll,1], '.')\n",
    "plt.xlabel('Start')\n",
    "plt.ylabel('End')\n",
    "plt.savefig(DE_NOVO_ASSEMBLE_CHROM_DIR + 'clusters.svg', 'svg')\n",
    "plt.show()"
   ]
  },
  {
   "cell_type": "code",
   "execution_count": 204,
   "metadata": {},
   "outputs": [
    {
     "name": "stdout",
     "output_type": "stream",
     "text": [
      "24737336.0 64302325.0\n",
      "13343981.0 56780448.0\n",
      "607446.0 13311119.0\n"
     ]
    }
   ],
   "source": [
    "for l in [0,1,2]:\n",
    "    print(min(X[:len(conn)][alg_clusters.labels_==l,0]), max(X[:len(conn)][alg_clusters.labels_==l,1]))"
   ]
  },
  {
   "cell_type": "code",
   "execution_count": null,
   "metadata": {},
   "outputs": [],
   "source": [
    "kmer_seqs = pd.read_table('/home/groups/dpwall/briannac/alt_haplotypes/intermediate_files/family_likelihoods/kmers_unmapped_prev_and_median_filt.txt', \n",
    "                          nrows=2000000, header=None)\n",
    "kmer_seqs = kmer_seqs.loc[localized.index]\n",
    "kmer_seqs = kmer_seqs[localized.chrom_pred==c].iloc[:len(conn)]\n",
    "#kmer_seqs.loc[localized[localized['chrom_pred']==chrom].sort_values('start_pred').iloc[:100].index].values"
   ]
  },
  {
   "cell_type": "code",
   "execution_count": 143,
   "metadata": {},
   "outputs": [
    {
     "name": "stdout",
     "output_type": "stream",
     "text": [
      "0\n",
      "Written to  /home/groups/dpwall/briannac/alt_haplotypes/intermediate_files/de_novo_assemble/chr20/cluster_0.fasta\n",
      "1\n",
      "Written to  /home/groups/dpwall/briannac/alt_haplotypes/intermediate_files/de_novo_assemble/chr20/cluster_1.fasta\n",
      "2\n",
      "Written to  /home/groups/dpwall/briannac/alt_haplotypes/intermediate_files/de_novo_assemble/chr20/cluster_2.fasta\n"
     ]
    }
   ],
   "source": [
    "for l in set(alg_clusters.labels_):\n",
    "    print(l)\n",
    "    sequences = [SeqIO.SeqRecord(seq = Seq.Seq(seq[0]), id=str(idx)) for idx, seq in kmer_seqs[alg_clusters.labels_==l].iterrows()]\n",
    "    SeqIO.write(sequences,DE_NOVO_ASSEMBLE_CHROM_DIR + \"cluster_%i.fasta\" % (str(c), l), \"fasta\")\n",
    "    print('Written to ', DE_NOVO_ASSEMBLE_CHROM_DIR + \"cluster_%i.fasta\" % (str(c), l))\n"
   ]
  },
  {
   "cell_type": "code",
   "execution_count": 145,
   "metadata": {},
   "outputs": [
    {
     "name": "stderr",
     "output_type": "stream",
     "text": [
      "2021-08-31 14:09:17 - MEGAHIT v1.2.9\n",
      "2021-08-31 14:09:17 - Using megahit_core with POPCNT and BMI2 support\n",
      "2021-08-31 14:09:17 - Convert reads to binary library\n",
      "2021-08-31 14:09:17 - b'INFO  sequence/io/sequence_lib.cpp  :   77 - Lib 0 (/home/groups/dpwall/briannac/alt_haplotypes/intermediate_files/de_novo_assemble/chr20/cluster_0.fasta): se, 345 reads, 100 max length'\n",
      "2021-08-31 14:09:17 - b'INFO  utils/utils.h                 :  152 - Real: 0.0145\\tuser: 0.0000\\tsys: 0.0017\\tmaxrss: 7264'\n",
      "2021-08-31 14:09:17 - k-max reset to: 119 \n",
      "2021-08-31 14:09:17 - Start assembly. Number of CPU threads 128 \n",
      "2021-08-31 14:09:17 - k list: 21,29,39,59,79,99,119 \n",
      "2021-08-31 14:09:17 - Memory used: 973408208486\n",
      "2021-08-31 14:09:17 - Extract solid (k+1)-mers for k = 21 \n",
      "2021-08-31 14:09:19 - Build graph for k = 21 \n",
      "2021-08-31 14:09:20 - Assemble contigs from SdBG for k = 21\n",
      "2021-08-31 14:09:20 - Local assembly for k = 21\n",
      "2021-08-31 14:09:20 - Extract iterative edges from k = 21 to 29 \n",
      "2021-08-31 14:09:20 - Build graph for k = 29 \n",
      "2021-08-31 14:09:21 - Assemble contigs from SdBG for k = 29\n",
      "2021-08-31 14:09:22 - Local assembly for k = 29\n",
      "2021-08-31 14:09:22 - Extract iterative edges from k = 29 to 39 \n",
      "2021-08-31 14:09:22 - Merging to output final contigs \n",
      "2021-08-31 14:09:22 - 3 contigs, total 1029 bp, min 215 bp, max 583 bp, avg 343 bp, N50 583 bp\n",
      "2021-08-31 14:09:22 - ALL DONE. Time elapsed: 5.154884 seconds \n",
      "rm: cannot remove ‘/home/groups/dpwall/briannac/alt_haplotypes/intermediate_files/de_novo_assemble/chr20/cluster_1_assembled’: No such file or directory\n",
      "2021-08-31 14:09:22 - MEGAHIT v1.2.9\n",
      "2021-08-31 14:09:22 - Using megahit_core with POPCNT and BMI2 support\n",
      "2021-08-31 14:09:23 - Convert reads to binary library\n",
      "2021-08-31 14:09:23 - b'INFO  sequence/io/sequence_lib.cpp  :   77 - Lib 0 (/home/groups/dpwall/briannac/alt_haplotypes/intermediate_files/de_novo_assemble/chr20/cluster_1.fasta): se, 2539 reads, 100 max length'\n",
      "2021-08-31 14:09:23 - b'INFO  utils/utils.h                 :  152 - Real: 0.0315\\tuser: 0.0007\\tsys: 0.0026\\tmaxrss: 7268'\n",
      "2021-08-31 14:09:23 - k-max reset to: 119 \n",
      "2021-08-31 14:09:23 - Start assembly. Number of CPU threads 128 \n",
      "2021-08-31 14:09:23 - k list: 21,29,39,59,79,99,119 \n",
      "2021-08-31 14:09:23 - Memory used: 973408208486\n",
      "2021-08-31 14:09:23 - Extract solid (k+1)-mers for k = 21 \n",
      "2021-08-31 14:09:24 - Build graph for k = 21 \n",
      "2021-08-31 14:09:25 - Assemble contigs from SdBG for k = 21\n",
      "2021-08-31 14:09:25 - Local assembly for k = 21\n",
      "2021-08-31 14:09:25 - Extract iterative edges from k = 21 to 29 \n",
      "2021-08-31 14:09:26 - Build graph for k = 29 \n",
      "2021-08-31 14:09:26 - Assemble contigs from SdBG for k = 29\n",
      "2021-08-31 14:09:28 - Local assembly for k = 29\n",
      "2021-08-31 14:09:28 - Extract iterative edges from k = 29 to 39 \n",
      "2021-08-31 14:09:28 - Build graph for k = 39 \n",
      "2021-08-31 14:09:28 - Assemble contigs from SdBG for k = 39\n",
      "2021-08-31 14:09:29 - Local assembly for k = 39\n",
      "2021-08-31 14:09:29 - Extract iterative edges from k = 39 to 59 \n",
      "2021-08-31 14:09:29 - Build graph for k = 59 \n",
      "2021-08-31 14:09:29 - Assemble contigs from SdBG for k = 59\n",
      "2021-08-31 14:09:30 - Local assembly for k = 59\n",
      "2021-08-31 14:09:30 - Extract iterative edges from k = 59 to 79 \n",
      "2021-08-31 14:09:30 - Merging to output final contigs \n",
      "2021-08-31 14:09:30 - 2 contigs, total 1698 bp, min 731 bp, max 967 bp, avg 849 bp, N50 967 bp\n",
      "2021-08-31 14:09:30 - ALL DONE. Time elapsed: 7.830280 seconds \n",
      "rm: cannot remove ‘/home/groups/dpwall/briannac/alt_haplotypes/intermediate_files/de_novo_assemble/chr20/cluster_2_assembled’: No such file or directory\n",
      "2021-08-31 14:09:30 - MEGAHIT v1.2.9\n",
      "2021-08-31 14:09:30 - Using megahit_core with POPCNT and BMI2 support\n",
      "2021-08-31 14:09:30 - Convert reads to binary library\n",
      "2021-08-31 14:09:30 - b'INFO  sequence/io/sequence_lib.cpp  :   77 - Lib 0 (/home/groups/dpwall/briannac/alt_haplotypes/intermediate_files/de_novo_assemble/chr20/cluster_2.fasta): se, 116 reads, 100 max length'\n",
      "2021-08-31 14:09:30 - b'INFO  utils/utils.h                 :  152 - Real: 0.0024\\tuser: 0.0000\\tsys: 0.0018\\tmaxrss: 7272'\n",
      "2021-08-31 14:09:30 - k-max reset to: 119 \n",
      "2021-08-31 14:09:30 - Start assembly. Number of CPU threads 128 \n",
      "2021-08-31 14:09:30 - k list: 21,29,39,59,79,99,119 \n",
      "2021-08-31 14:09:30 - Memory used: 973408208486\n",
      "2021-08-31 14:09:30 - Extract solid (k+1)-mers for k = 21 \n",
      "2021-08-31 14:09:32 - Build graph for k = 21 \n",
      "2021-08-31 14:09:32 - Assemble contigs from SdBG for k = 21\n",
      "2021-08-31 14:09:33 - Local assembly for k = 21\n",
      "2021-08-31 14:09:33 - Extract iterative edges from k = 21 to 29 \n",
      "2021-08-31 14:09:33 - Build graph for k = 29 \n",
      "2021-08-31 14:09:34 - Assemble contigs from SdBG for k = 29\n",
      "2021-08-31 14:09:34 - Local assembly for k = 29\n",
      "2021-08-31 14:09:34 - Extract iterative edges from k = 29 to 39 \n",
      "2021-08-31 14:09:34 - Build graph for k = 39 \n",
      "2021-08-31 14:09:35 - Assemble contigs from SdBG for k = 39\n",
      "2021-08-31 14:09:35 - Local assembly for k = 39\n",
      "2021-08-31 14:09:35 - Extract iterative edges from k = 39 to 59 \n",
      "2021-08-31 14:09:35 - Merging to output final contigs \n",
      "2021-08-31 14:09:35 - 0 contigs, total 0 bp, min 0 bp, max 0 bp, avg 0 bp, N50 0 bp\n",
      "2021-08-31 14:09:35 - ALL DONE. Time elapsed: 5.170878 seconds \n"
     ]
    }
   ],
   "source": [
    "%%bash\n",
    "chrom=20\n",
    "for file in /home/groups/dpwall/briannac/alt_haplotypes/intermediate_files/de_novo_assemble/chr${chrom}/*.fasta ; do\n",
    "\n",
    "    echo \"ASSEMBLING\" ${file}\n",
    "    assembled_dir=${file}/.fasta/_assembled\n",
    "    # Remove previous directory to start clean.\n",
    "    \\rm ${assembled_dir} -r\n",
    "    \n",
    "    # Assemble.\n",
    "    megahit -r $file -o ${assembled_di}\n",
    "done"
   ]
  },
  {
   "cell_type": "code",
   "execution_count": 149,
   "metadata": {},
   "outputs": [
    {
     "name": "stdout",
     "output_type": "stream",
     "text": [
      ">k59_3 flag=1 multi=10.2291 len=967\n",
      "ATATGTGGAATGTGATATATATAACATATAATATATGATATATGATATACAGTATATGATATATAACATACAATATATGATTCCTAATATATATGGTATACAATATATATTTTATGATATGTATTCTATATGTTTTATATTCTGTTATATATAACTATTTGAAATTATATATAACTGTATAATATTTTATGTAAATATGTAATATAATATATATAACTATATAATATATTATATATAACTATATATTATGTTATATATACTTTTATAACATAATTTACATAAAATATCATAATATAATATATATTATATTATTTCATATTACATAATATATATTACATATCACCCAATATAACTAACATACATAATATTATAATATAGATTATATTATGTTATATTAAATATCATATATATCATGTATCATATATTCTATAATATATATTACACATTATATAATATGTATGTTGTCTATTATGTGATATATATAACTATATATATAATTATATTATTATACATATAACTAGATAAACATGTAATTCTACATATTTTCATTTATAATATGTAGAATTATATAATCATATATAATTATTTATATTCTATAAAAAATTTTATCATTATATAAATTATAATATATAAAAATTATAATATGTACTACAAATATATATATTATATATCATATATGATATAGTACCTTTGTTATATATCATAATACATATAAATGTGTATTATGTTATCTATAATTATATAATTTCATATATAAGATGTATAATATGTATCATATATTATATATGTTATGTAATATATATAGTATATATAAGATGACACAGGATAAATATTATATACTATGACATATAAAATATATGAGGTTATATGTTACATATAAGGCATAGCACATAACATGTAATATATATCATATATAATTTTTTTTTAGACAGAATCTTGTCCTGTTGCACAGGGTGGGGTACAATGG\n",
      ">k59_0 flag=1 multi=8.1190 len=731\n",
      "TTATGAGATGGGAAAAAGGGCACCCACAAACATACGTATACATTATGTATATAATAATATACAGTATCATATATATAATATATATAACCTATGTATAATATTGTTTTACATCCTGCATCTTATGTTATATATATTGTATAAAATATAATAATTGATAATATATAAGTTTTATATTTATACAATATGACATATAGTATATATTATAATTTATGACATATATAATATATGTTATATATCATATATAGAATATATTATACGGTTAATATACGTATTAAATATAAATTATACATTATATATATTATATATAATATATCTGTTATATATAATACCCATTATGCATAATATATATATTATGTCTATGTTATATATAGTATAAAACAACATATAATAATATATAATTGTATATATAAAATGCGACATATAATATATATTATATTTTATAACATATGTAATATATATTATATATTATATATAATACGTTGTATGTATAATACCTATATTAAATATATATTATATGACTATGTTATTAATTACATGTCACATGTGTTATATATTATATATTTTACATAGAATATACCGGTTACATACAATATATACTATGTTACCTATAATGTATAATTTATTACATGTAAAATAAAGAATGCAATATATTATGTAAAATTTATAATATACAATATGTGGAATGTGATATATGTAACATATAATATATGATATATGATATACAGTATATG\n"
     ]
    }
   ],
   "source": [
    "%%bash \n",
    "less /home/groups/dpwall/briannac/alt_haplotypes/intermediate_files/de_novo_assemble/chr20/cluster_1_assembled/final.contigs.fa"
   ]
  },
  {
   "cell_type": "markdown",
   "metadata": {},
   "source": [
    "### Gap Statistic for Optimal Clusters"
   ]
  },
  {
   "cell_type": "code",
   "execution_count": 10,
   "metadata": {},
   "outputs": [],
   "source": [
    "import numpy as np\n",
    "import pandas as pd\n",
    "import matplotlib.pyplot as plt\n",
    "from gap_statistic import OptimalK\n",
    "import joblib \n",
    "try:\n",
    "    from sklearn.datasets.samples_generator import make_blobs\n",
    "except ImportError:\n",
    "    from sklearn.datasets import make_blobs\n",
    "import multiprocessing\n",
    "from sklearn.cluster import AgglomerativeClustering\n"
   ]
  },
  {
   "cell_type": "code",
   "execution_count": 11,
   "metadata": {},
   "outputs": [],
   "source": [
    "def special_clustering_func(X, k):\n",
    "    \"\"\" \n",
    "    Special clustering function which uses the MeanShift\n",
    "    model from sklearn.\n",
    "    \n",
    "    These user defined functions *must* take the X and a k \n",
    "    and can take an arbitrary number of other kwargs, which can\n",
    "    be pass with `clusterer_kwargs` when initializing OptimalK\n",
    "    \"\"\"\n",
    "    print(k)\n",
    "    # Here you can do whatever clustering algorithm you heart desires,\n",
    "    # but we'll do a simple wrap of the MeanShift model in sklearn.\n",
    "    \n",
    "    m = AgglomerativeClustering(n_clusters=k,connectivity=conn[:len(X),:len(X)])\n",
    "    m.fit(X)\n",
    "    \n",
    "    # Return the location of each cluster center,\n",
    "    # and the labels for each point.\n",
    "    return [np.mean(X[m.labels_==i,:]) for i in range(k)], m.labels_\n",
    "\n",
    "optimalK = OptimalK(parallel_backend='joblib', clusterer=special_clustering_func, n_jobs=multiprocessing.cpu_count())\n"
   ]
  },
  {
   "cell_type": "code",
   "execution_count": 14,
   "metadata": {},
   "outputs": [
    {
     "data": {
      "text/plain": [
       "1000"
      ]
     },
     "execution_count": 14,
     "metadata": {},
     "output_type": "execute_result"
    }
   ],
   "source": [
    "len(conn)"
   ]
  },
  {
   "cell_type": "code",
   "execution_count": 15,
   "metadata": {},
   "outputs": [
    {
     "name": "stdout",
     "output_type": "stream",
     "text": [
      "Data shape:  (184175, 2)\n",
      "Optimal clusters:  9\n",
      "353.8895266056061\n"
     ]
    }
   ],
   "source": [
    "t = time.time()\n",
    "X = start_ends\n",
    "print('Data shape: ', X.shape)\n",
    "\n",
    "n_clusters = optimalK(X[:len(conn)], cluster_array=np.arange(1, 10))\n",
    "print('Optimal clusters: ', n_clusters)\n",
    "print(time.time()-t)"
   ]
  },
  {
   "cell_type": "code",
   "execution_count": 16,
   "metadata": {},
   "outputs": [
    {
     "name": "stdout",
     "output_type": "stream",
     "text": [
      "9\n"
     ]
    },
    {
     "name": "stderr",
     "output_type": "stream",
     "text": [
      "/share/software/user/open/py-scikit-learn/0.19.1_py36/lib/python3.6/site-packages/sklearn/cluster/hierarchical.py:193: UserWarning: the number of connected components of the connectivity matrix is 1000 > 1. Completing it to avoid stopping the tree early.\n",
      "  affinity='euclidean')\n"
     ]
    }
   ],
   "source": [
    "# Now run clustering with optimal number of clusters.\n",
    "c, l = special_clustering_func(X[:len(conn)], n_clusters)"
   ]
  },
  {
   "cell_type": "code",
   "execution_count": null,
   "metadata": {},
   "outputs": [],
   "source": [
    "l = labels\n",
    "for ll in set(l):\n",
    "    plt.plot(X[:len(conn)][l==ll,0], X[:len(conn)][l==ll,1], '.')\n",
    "plt.xlabel('Start')\n",
    "plt.ylabel('End')\n",
    "plt.show()"
   ]
  },
  {
   "cell_type": "code",
   "execution_count": 59,
   "metadata": {},
   "outputs": [
    {
     "data": {
      "image/png": "[encoded data removed]",
      "text/plain": [
       "<Figure size 1080x36 with 1 Axes>"
      ]
     },
     "metadata": {
      "needs_background": "light"
     },
     "output_type": "display_data"
    }
   ],
   "source": [
    "#sizes_df = pd.read_table('/home/groups/dpwall/briannac/general_data/reference_genomes/hg38_chromsome_sizes.txt', header=None)\n",
    "#sizes = [int(s.replace(',','')) for s in sizes_df[2]]\n",
    "#starts = [np.sum(sizes[:i]) for i in range(23)] + [3041559849]\n",
    "\n",
    "f, ax = plt.subplots(figsize=(15,.5))\n",
    "for i in range(24):\n",
    "    if i%2==0: color=(.8,.8,.8)\n",
    "    else: color=(.4,.4,.4)\n",
    "    chrom=str(i+1)\n",
    "    if chrom=='23': chrom='X'\n",
    "    if chrom=='24': chrom='Y'\n",
    "    plt.text(x=np.mean(starts[i:(i+2)]), y=.4, s=chrom, fontsize=9, ha='center')#, rotation=45, va='top', ha='right')\n",
    "    plt.hlines(xmin=starts[i], xmax=starts[i+1], y=.6, color=color, linestyle='-', linewidth=7)\n",
    "plt.xlim(0,starts[-1]+1e8)\n",
    "ax.axis('off')\n",
    "plt.ylim(.4,.6)\n",
    "plt.tight_layout()\n",
    "plt.show()"
   ]
  },
  {
   "cell_type": "code",
   "execution_count": 56,
   "metadata": {},
   "outputs": [
    {
     "data": {
      "text/plain": [
       "24"
      ]
     },
     "execution_count": 56,
     "metadata": {},
     "output_type": "execute_result"
    }
   ],
   "source": [
    "len(starts)"
   ]
  },
  {
   "cell_type": "code",
   "execution_count": 29,
   "metadata": {},
   "outputs": [
    {
     "data": {
      "text/plain": [
       "Int64Index([31697, 19402, 55645, 71715, 12080, 72096, 32841,  1017, 42133,\n",
       "            56628, 56647,   111, 56297, 16208, 20319, 77871, 94353, 66363,\n",
       "            37899, 98272, 18312, 45328, 20326,  7394, 62779, 55493, 36137,\n",
       "            92959, 94704, 29404, 60081, 86416, 65916, 45621,  6699, 30060,\n",
       "             4968, 77714, 89551, 21955, 48927, 27093, 52945, 30937, 39619,\n",
       "            93048, 83349, 76900, 66312, 14865, 46974, 80446, 29884,  4405,\n",
       "            69861, 17728, 82129, 59738, 63199,   377, 27548, 98812, 73430,\n",
       "            10895, 81430, 23859, 38574,  7503, 41596, 66612, 70101, 79693,\n",
       "            94684, 47263, 43664, 64970,  3572, 83388, 26649, 76596, 70911,\n",
       "            88077, 80738, 18132,  3214, 80230, 29841, 41331,  5009, 85623,\n",
       "             5369, 68911, 31514, 28019, 30945, 47855, 92367, 62534,  3400,\n",
       "            34596],\n",
       "           dtype='int64')"
      ]
     },
     "execution_count": 29,
     "metadata": {},
     "output_type": "execute_result"
    }
   ],
   "source": [
    "localized[localized['chrom_pred']==chrom].sort_values('start_pred').iloc[:100].index"
   ]
  },
  {
   "cell_type": "code",
   "execution_count": 30,
   "metadata": {},
   "outputs": [
    {
     "data": {
      "text/plain": [
       "array([['ACCCGAGTGTAATGGCATGGAATGGAACGGAATGGAATGGGATGGAATGGAATGGTACGGAATAGAATGGAATGGAATGAAATGGAATAGAAAGGAATGG'],\n",
       "       ['CGAGTGGAATGGATTCGAATGGAATGGAATTGAATGGAGTGGACTGGAAAAAACTGGAATCGAATGGATTGGGAATGAATGGAATGGAATGGAATGCACA'],\n",
       "       ['ACCCGAATGGAATGGAATGGATTGGAATGGAATGGAATGGAATCAAGCCCAGCGTAAAGGAATGGAATGGAATGGATTGGACTGGAATTTAATGGAATGG'],\n",
       "       ['AATAGAAGGGAATGGTTTCGAGTGGAATGAAAAGGAATGGAATCAACCAGAGTGGAATGGAATGGAATCGAGTGGAATGGAATGCAATCGAATGGAATGG'],\n",
       "       ['TGGAATTAACACGAATAGAATGGAATGGAATGGATCGGAATGGAATGGAATCAACGTGAGTGCTGGGGATTGGAATGGAATGGAATGCAATGGAATGGAA'],\n",
       "       ['ATTCCGGAAGATTCCATTCCATTGCATTCCATTCCATTCCATTCCCCTGCACTCGCGTTGATTCCATTCCATTCCATTCCATTCCATCCCATTCCATCCC'],\n",
       "       ['AATGGAATAGAATGAAATGGAATTGTGTGGAATGGAATGGAATTGAATGGAGTGTAAAAGAATTGAATAGAATCAACCCGAATAGAATGGAATGTAATGG'],\n",
       "       ['CCATTCCATTACATTCGGATTGATTCTATTCAACTCCCTTACATTCCATTACATTCCATTCCATTCGGGTTGTTCCATTCCATTCCATTCCATTCCCCTC'],\n",
       "       ['ATACCATTCCATTCCATTGTATGCCATTCCATTCCATTCCACTCGGGTTCATTCCATTCCATTCCACTCCATTCCTTTACATTCCATTCCACTCGGGTTA'],\n",
       "       ['AACCCGAGTGCAATGGAGTGGAGAGGAATGGAATGGAATGGAATGGAATGGAAACTACCCGAATGGAATGGAATGTAATGGAGTGTAAGGGAATTGAATA'],\n",
       "       ['ATCCATTCCGCTCCATTCCACTGCACTTCCCTCCACCCCTCTCCACTCCACTTATTTCCATTCCATTCCATCCCATTCCATTCCCCTCCATTCCACTCCA'],\n",
       "       ['AACGGAAAGGAATGGAAAGGAATGGAAAGGAATGAACCCGAATGGAATGCAATGGATTGGAATGGAATGGAATTGAATCAACCCGAGCGGAAAGGAATGG'],\n",
       "       ['AACCCGAGTGGAGTGGAATGGAATGGAATGGTATGGAATGCAATGGAAAAGAATGGAATAGAATCAACCCGAGTAGAAAGCAAAAGAATTTAAAGGAATA'],\n",
       "       ['GGGGAGAGGAATAGAATGGAATGGAGTGGAATTTAATTTAGTGGAAAAGAGAGGAAAGGAATGGAAAAAAATGGAATGGAGTGGAATGTATTGTAGTGCA'],\n",
       "       ['AACTCGAGTGCAATGGAATGGAATGGAATGGAATGGAATTTACAAGAATGGAATGTAAGGGAATTGGATGGAATGGAATGGAATGGAATGTACCCGAATG'],\n",
       "       ['AATGGTACGGAATAGAATGGAATGGAACGAAATGGAATTGAATGGATTCAACCCAATTGGAATGGAATGGAATGGAATGGAATCATTCCGAGTGGAATAG'],\n",
       "       ['AAGATTCCATTCCATTGCATTCCATTCCATTCCATTCCCCTGCACTCGCGTTGATTCCATTCCATTCCATTCCATTCGGATTCATTCTATTCAATTCCCT'],\n",
       "       ['AAAGGAATGGAATGGAATCAACCCGAGTGCAGGGGAATGGAGTGGAATGGAAGGCAATGGAATGGAATCATCCGGAATTGAATGGAATGGAATGGAATGG'],\n",
       "       ['GAATTGAATGGAATGTAATGGAATGGTATGGAATGGAATCAAATCAAGTGGAATGGATTGGAATGGAATGAAATGGAATGGAATGGAATGCTATCATCTA'],\n",
       "       ['GCCACTCCATTCCATTCCACTCCATTCCACTCCACTCCATTCAATTCCCCTCCACTCCATTCCATTCCACTCCAAACCATTCCATTCTATTCCATTCGAC'],\n",
       "       ['TGGAACTGAAAGGTCTCAAGTGGATTGGAATGTAAGGAAGTGGAATGAACTCGAATGGAAAGGAATGGAATGGAATGAAATGCACTGTAATGCAATGGAA'],\n",
       "       ['CACACACACCATACACACCACATGCACATACCAAACAGCATACATACCACACACACAACAGATACCAAACTCATACCACACACACACCACACACACAACA'],\n",
       "       ['GAATCAAATTGAATCGAATCAAATCGAATCACATGGAAACGAATGGAATCAAATGGAATTGAATGGAAAAATTACAATCGAATGGAATCAAATGGAATCA'],\n",
       "       ['CACTCCACCCCACTCCATTCCACTGCACTCCATTGAAGTCCACTCCACTCCGTTGCATTCCATTTCACTCCCCTCCATTTCATTTCACTCCATTGCAATC'],\n",
       "       ['CATTCCTTTCCGCTCGGGTTGATTCAATTCCATTCCATTCCAATCCATTGCATTCCATTCGGGTTCATTCCTTTCCATTCCTTTCCATTCCTTTCCGTTC'],\n",
       "       ['TCCAGGAGATGTCCTGAGCGCCAGCCCCCAAAGCGCACCCCCTCACCCCTTCCCCTTCACCCCCTTCCTCTTCGACTCTCCGGCCCCACCACCACCATCA'],\n",
       "       ['ATGGAAAGGATTTTAATGGAATGGACTCGAATGGTCTGGAATGGAATGGACACGAAAGGAATGGTCTCCAATGGAATGGACTCGAATTGAATGCCATGGA'],\n",
       "       ['AAAGGACTGGAATGGAAAAGAATGGAATTGTATGGAATGCAATGGTATGGATTTGAATGTAATGGAACGGAACGGAATGGAATGGAATGGAATTGACTCC'],\n",
       "       ['AAAGGAATCAACATGAGTGGAATGGAATGGAACGGAATGGAATCAACCCTAGTGGAATGAAATGGAATGTAACGCAATGGGATGGAGGGGAATCAACACG'],\n",
       "       ['CTCCCAGCTACGCTTTTTCGATTGCCACCAGTGAGACACCCTCACACACTGTTCCCAGCTTCACTTCTTTGATCACCACCACCGAGAGCACATCCCACAG'],\n",
       "       ['CATTCCATTCCATTCCACTCTAGTTGATTCTATTCCATTCTATTCCATTCCATTCCAGTCCACTCCATTCCATTGCATTCCACTCGAGTTGATTCCATTC'],\n",
       "       ['CATTCCGTTCCATTCCATGCCATTACACTCGGGTTGATTCCATTCCTTTCCATTCCATTCTTGTTGAATCCATTCCATTCCATTCCATTCCATTCCATTC'],\n",
       "       ['GCTGATGGATGAGCTCCTGGTGAGCCCGTAGTTTCTACAGCAGGGGCAACCTTCCCTAGAAATGGAGGCCCCAGGGTAGCTGGAGTCCTTGGAAGAGGCC'],\n",
       "       ['ATTCCATTCCGTTCCATTCCATTCCACTCGTGTTGATGCCATTATGTTCCTTTCCTTTTCATTCCATTCCATTCTGTTCCATTCCATTCGTGTTGATTAA'],\n",
       "       ['GTAGAATGGATTTGATTCAACCCGAGTGGAATGGAAAGGAATGGTATGGAATGCAGTGGAATGGAATGGAATGGAATAGAATGGAATTGAATCAACACAA'],\n",
       "       ['AATGGAATGGAATGGAACGGTGGAATGAAATGTGAGCTATTAATGAAGTAAAATGCAATGGAATGGAGTGGAGTGGAGTGGAATGAAATGGAATGGAATG'],\n",
       "       ['GTGAAATTGTATGCAGTGGAGTGGAGTGGAGTGGAATGCAGTGGAAAGTTATGGAAAGAAAAGGAATTGAGGTGGAATGGAATGGAATAGAATGGAATAA'],\n",
       "       ['AATTGAATAGAATGGAATCAACCCGAGTGGAAAGGAATGGAATGGAAAGGAATGGAATGGAATGGAATGAAACGGAAAGGAATGGAATAACATGCAATCA'],\n",
       "       ['GTCTATTTCACTCCTCTCCATTCCATTCTACTGCACTCCATTCCACTCCACTTCACTCCTTTCCAACCCACTCCACTCCATTTCACTACACTCCATTCCA'],\n",
       "       ['ACACACCACACACAATCACACACACCACACACATACACATGACACAATCACACACATCACACACATACACACCACACACAATCACACCACACACACACCT'],\n",
       "       ['CACTCCATTGCACTCCACTCCATTCAACTCCACTTCATTCCATTCCATTCCATTCGACTCCACTCCATTCCACTCCACTCCATTCCATTCCTCTTCACTC'],\n",
       "       ['TGGAATGGAATGGAGAGGAATGGAATGGAATGGAATGGAAAGTACCCGAATGGAATGGAATGTAATGGAGTGTAAGGGAATTGAATAGAATCAATCCGAA'],\n",
       "       ['CTGCACTGACTGTTTCTGCTCGCTAAAAGCCCTTCCTCCAGTTCTCACATGGTTGTTTCTTCTTTATGATTCAAATATTGACTCAAACGTTGTCTCCCCA'],\n",
       "       ['ACTGTTTCTGCTCGCTAAAAGCCCTTCCTCCAGTTCTCACATGGTTGTTTCTTCTTTATGATTCAAATATTGACTCAAACGTTGTCTCCCCAGAGAGGCA'],\n",
       "       ['GCCTCTGGGTCTCTGCACTGACTGTTTCTGCTCGCTAAAAGCCCTTCCTCCAGTTCTCACATGGTTGTTTCTTCTTTATGATTCAAATATTGACTCAAAC'],\n",
       "       ['AATGGAGTGGAGGGGAATGGATTCGAATGGAATTGAATGGAGTGGAGTGGAGTAGATTGGAGTGGAGAGGAATCGAGTGGAGTGGAGTGGATTGCAATGG'],\n",
       "       ['TGGAGTGGAATGGAGTGGAAAAGAGTGGAATGGAATGTGGTGGAATAAAATGGAGTGGAGTGGACTGGAGTAGATTGAAATGGAATGCAGAGGAATGGAA'],\n",
       "       ['ATTCCATTGAATTCCATTCCATTCCATTCCCCTGCACTTGGGTTGATTCCATTCCATTCCATTCCATTCCTTTCTGTTCCATTCCTTTCCATTCCATTCC'],\n",
       "       ['AATAGAACCAGCCAGACATCCAGCCAAGCCCGCAAAGCCACCCAGCCAGACCAGCCCACCCAGCCGTGCCAGCCAACCCAGCCACCCCAGCCAGCCCAGC'],\n",
       "       ['CATTCCAATCCATTCCGTTGCACTCGGTTTGATTCCATGCCATTCCAATCCATTCCATTCCATTCCTTTTCATTCCATTTCATTGCAGTCGGGTTGATTC'],\n",
       "       ['AATCAACCCGACTGCAATGAAATGGAATGAAAAGGAATGGAATGGAATGGATTGGAATGGCATGGAATCAAACCGAGTGCAACGGAATGGATTGGAATGG'],\n",
       "       ['AATGCAATGGTATGGAATCATCCGGAATGGAATGGAATAGAATGGAATGCAAAGCAATGGAATCAACTCGATTGCAATGGAATGGAATGGAATGGAAAGG'],\n",
       "       ['ATCCATTTCATTCCATTCGGGTTCATTCCATTCCATTCCTTTCCATTCCGTTCCGTTCCATTCCATTCCATTCCTCTCTTTTTGATTCCACACCATTCCA'],\n",
       "       ['CATTGCATTCCATTCCATTGCATTTGGGTTGATTCCATTCCCTTCCATTCCATTCCATTCCATGCCATTCATTTACATTATACTCCGGTTGATTCCATAG'],\n",
       "       ['CTCCACTCCACTCCACTCCATTCCATTCCTCTCCATTACACTCTAATCCTCTTCTTTCCATTCATTTCCATTTAATCCCAATCCACTCAACTCCATTCCA'],\n",
       "       ['ATTCATTCTATTCAACTCCCTTACTCTCCATTACATTCCATTCCATTCTGGTTGTTCCATTCCATTTCATTCCATTCCACTCCATTCCATTGCACTCGGG'],\n",
       "       ['AATGGAGTCAACCTGAGTGGCAGGGAATGGAAAGGAAAGGAATGGAATCAAATGTAATGGAATAAACCCGAGTGGAATGGAATGAAATGGAATGGAATGG'],\n",
       "       ['TGAAATGGAATGGAATTGAATGGAATGGAATGCCTTCAAACCGAATGGAATGGAAAGGAATGGAATCAACACGAGTGGAATGGAATGGAATGGAATGGAA'],\n",
       "       ['AATGGAATGGAATCAACATGAGTGGCATGGAATGGAAGGGAATGAAATGGAATGGAATGGAATCAACATGAGTGGCATGGAATGGAATGGAATGGAATGG'],\n",
       "       ['AATTTAGTGGTATGGATTCTTATGGAATGGAATGGAATGGAGTTGAGTGGAGTGTAGTTGGGTGGAGTGGAGAGGAGGGGAATGGAGTGGAATGGAATGG'],\n",
       "       ['CATTCCATTCCATTCCATTCCTCTCCATTCTATTGCACTCGGGTTGATTCCATTCCATTGCATTGCATTCCTTTCCATTCAATTCCATTCCGTTCCATTC'],\n",
       "       ['AATGGAATGGAATGGAATGGAGTGTAAAGGAAATTAATAGAATCAACACAAATTGAATGTAACGGAATGGAACGCAATGGAATGGAATGGAATGGAATGG'],\n",
       "       ['AGGGGAGTTTAGTGAAATGGAGTGGAATGGGGTGGAGTGGATTGGAATGAAAGGGACTGGAGTGGTGTGGAGCGGAGTGGAGTGGAGTGGAATGGAGTGG'],\n",
       "       ['ATGGAATGGAATCAACCCGAGGGCAGGGGAATGGAATGGAATAGAATGCAATGGAATGGAATCATCCGGAATGGAATGGAATGGAATGGAATGCAAAGCA'],\n",
       "       ['ATTTAATTGAGCAGAATTGAGGGGAAAGGATTGGAAGGTAGCTGAGTAGAATTGAGGGAAATGGAATGGAAAAAAGTGGAGTGCAAAGGAATGGAAAGGA'],\n",
       "       ['ATGGAATGCAATGGAATGGAATCAACCCGAGAACAATGGAACGGAATGTAATGTAATGTAATGTAAAGGAATGGAATGGAATGGAATGGAATCAACCCGA'],\n",
       "       ['ATGATGATATATGATGATATACACGATATGACATGGTATGATTATATATGATGATATGATATGGTATGATAGATATATAATGATATGATATGGTATGACA'],\n",
       "       ['ATGAAATGGAATGGAATGGAACGGAGTGGAGCAGAGTGGAGTGGAGTGGTGTTGATTAGAATGGATTGGATTACCGTAGAATGGAATGGAATGGAATAGA'],\n",
       "       ['CACCCCACTCCACTCCATTCCTCTGCACTCCATTCCACTCCATTCCACTCAACTCCACTCCACTCCACTCAACTCCATTCCATTCAATTCCATTCTACAC'],\n",
       "       ['AAATAAAAAATAAATAGAGAGGGATTTTTTTTAAAGTAGCTTTGTGTTTTGTGGCTATTGCATCTGGAAGATAAAAATTGATGTAAAGTGTTATACACTT'],\n",
       "       ['CGAAGCCGCTAGCACTACTGCGCAACAAGAAGTGTATAACACTTTACATCAATTTTTATCTTCCAGATGCAATAGCCACAAAACACAAAGCTACTTAAAA'],\n",
       "       ['ATAAAAATTGATGTAAAGTGTTATACACTTCTTGTTGCGCAGTAGTGCTAGCGGCTTCGCTGTTCGGTCCTCGGACCGGCAGCCGCCACTGGTGTTGAGC'],\n",
       "       ['AATGGAGTGGAGTGAAATGGAATATATCGGTGTGCAGTGGAGTGGAATCAATGGTTTTGAATGGAACGGAGTGGAATTGAATGGAGTGGAGTGGAGAGGA'],\n",
       "       ['CACCACCACCACCACCACCATCAGTACCACCATCCCCACCACAGCCATCACCACTTCTACCTGCACCACCACCACCATCACCACCTCCACCACAGTCAAC'],\n",
       "       ['ACTCCACTCCATTTAATTTCTCTCCACTCCGTCCAACGGCATTCGAACATATTCGACTCCATTCCACTCCACTGCATGCCATTCCATTCCACTCCTCTCC'],\n",
       "       ['CCAAAGCAACGGGTCCCACGATGGAGCCTGCTACACTCTTTGAGTAGTGAAATGCAAAAAGCTGAGTGGTGACATTCACCTCTCTGTTTTCTAAGACAGA'],\n",
       "       ['GTAATGAAATGGATTGGAATGAAATGGAATGGAAAGGAATGGAATGGAATGAAATCAACCCGACTGGAATGGAACGGAATGGAATGGCATGGAAAGGAAA'],\n",
       "       ['GTAATTGAATGGACACTAATGGAATGAAATGGAATGGAATGGAATGGAATGGAATTGTCTGGAATGGAATGGAATTGAATGGAAGGGAATGGAATGGACA'],\n",
       "       ['ATGTAATAGAGTGGAATGGAAAGGAATGGAATCAACCAGAGTGGAATGGAAGGGAATGGAATGGAATGGAAACTAATAGAATGGAATCAACCCGAGTGGA'],\n",
       "       ['AACCTGAGTGGCAGGGAATGGAAAGGAAAGGAATGGAATCAAATGTAATGGAATAAACCCGAGTGGAATGGAATGAAATGGAATGGAATGGAGTGGAATC'],\n",
       "       ['AATATATAATGTATAAATATATATTATGGAAATATATAATATATAAATATATATTTCTGACATATATATTATATCAATACATATTTCATATATAATTTGT'],\n",
       "       ['AGGGAATGGAATGCAATGGAATGGATTCAACTTGAATGGAAAGGAAAGAATGGAATCAACACGAGTGGAATGGCATGGATTGGAATGGAATGGAATGGAA'],\n",
       "       ['ATGGAATGGAATGGAATGGAATGCAAAGCAATGGAATCAACTCGATTGCAATGGAATGGAATGGAATGGAAAGGAATAGAATGGAATCAACCCGAGTGCA'],\n",
       "       ['ATGATATATATCATATATATGATATATAATCATATATGATTATCAATCATATATGATATATAATCATATATATGATTATAATCATATATGATATATAATC'],\n",
       "       ['CAGGCATGGAATTGAAAGGCGTGGAGTGGAGTTGAATTGAGAGGAGTGGAATGGAATAGGGTGGATTTTGGTGGAGAATAATGGAAAAGAGTGGAGTGGA'],\n",
       "       ['AAACTCCCCTCTATTCCACTCCACTCCATTCCACTGCATTCCATTCCAGTCCACCCCATTCCATTCCATTCCACCCCATTCCATTCCATTCCATTCCACT'],\n",
       "       ['CTTCCCTTCCATTCCACTCGGGTTGATTCCATTCCTTTCCATTCCACTCGATTACATTCCCTTCTAAGCCACTCGGAGTGATTCCGTTCCATTCTATTCC'],\n",
       "       ['ATGGAATGAAATGGAATGGCAGGGAATGGAATGGAATCAAACCGAGTGCAAAGGAATGGAATGGAATGTAATGGAAGGGAATGGAATGGAATGGATTCAA'],\n",
       "       ['ATATATAGGACTATATATAGGAATATATATAGGAATAAATATATAGGAATATATATAGGAATATATATAGGAATAAATGTATGGGAATATATATAGGAAT'],\n",
       "       ['CCCCTCCAGCCTGCTGCTGGATTAGCTCTTGGTGAGCCAGGAGTTTCTGCAGCAGGCGCAAACTTTCCCAGAAACGGAGTCCCCTGGGGAGCTGGAGGCC'],\n",
       "       ['CCAGTGCACTCCACTCCATTCCATTCCACTCCACTCCATTCCATTCCATTCCATTCCATTCCACTCCATTCCATCCCACTCCACTCCATTCAATCCATCC'],\n",
       "       ['CCACTCTTTTCCACTCCCTTCCATTCCATTCCACTACATTGCAATCCATTCCACCCCACTGTATTTCACTCCACTCCATTCCATTCCCCTCCACTCCACG'],\n",
       "       ['CCCGAATGGAATGGAATGTAATGGAGAGTAAGGGAGTTGAATAGAATCAATCCGAATGAAATGGAATGGAATGCAACGGAATGGAATGGAATGGAATGGA'],\n",
       "       ['TGGAATGGAATGGAATGGAAGTTAATCAACACGAATGGAATGGAACGGAATGGAAAGGAATGGTATGGAATGAAACCCAATGGAATGGAATGGATTGGAA'],\n",
       "       ['AGAGCAATGGAATGGAGTGGAATGGAATGGAATGGAATGGAACAACCCGAATGGAATGGAATGTAATGGAGAGTAAGGGAGATGAATAGAATCAATCCGA'],\n",
       "       ['ATATATTGTATATTATATATCATGTATTATATATCATATATATATCTGGTATAATATATATATCATATACCATATATTTAATATTATATATTATATATAA'],\n",
       "       ['GGCACACACAGACATGCATAGACAGATACACACCACACACAGACACACACCTCACACCCACACCACACACAGACACACAGATACACACACCACACACACA'],\n",
       "       ['GTTCCATTCCATTCCATTACATTCGGATTGATTCTATTCAACTCCCTTACTCTCCATTACATTCCATTCCATTCGGGTTGTTTCATTCCATTCCATTCCA'],\n",
       "       ['AAGGTATGGAACAAAATGGAATAGAATGGAACGTATTGGAGTGGTATGCAGTGGAGTTGAGAGGGGTGGATCAGAGTGCAGTGGAATGGAATAGAATGGA'],\n",
       "       ['AAATTGAATGGAAAGGAATAGAATGGAATTGAATCAACGGGAACGGAATAGAATGGAATGGAATGGAATGGAATGGTATGGAATGGAATGGAATGGAATG']],\n",
       "      dtype=object)"
      ]
     },
     "execution_count": 30,
     "metadata": {},
     "output_type": "execute_result"
    }
   ],
   "source": [
    "chrom=9\n",
    "kmer_seqs = pd.read_table('/home/groups/dpwall/briannac/alt_haplotypes/intermediate_files/family_likelihoods/kmers_unmapped_prev_and_median_filt.txt', \n",
    "                          nrows=100000, header=None)\n",
    "kmer_seqs.loc[localized[localized['chrom_pred']==chrom].sort_values('start_pred').iloc[:100].index].values"
   ]
  },
  {
   "cell_type": "code",
   "execution_count": 25,
   "metadata": {},
   "outputs": [
    {
     "data": {
      "text/html": [
       "<div>\n",
       "<style scoped>\n",
       "    .dataframe tbody tr th:only-of-type {\n",
       "        vertical-align: middle;\n",
       "    }\n",
       "\n",
       "    .dataframe tbody tr th {\n",
       "        vertical-align: top;\n",
       "    }\n",
       "\n",
       "    .dataframe thead th {\n",
       "        text-align: right;\n",
       "    }\n",
       "</style>\n",
       "<table border=\"1\" class=\"dataframe\">\n",
       "  <thead>\n",
       "    <tr style=\"text-align: right;\">\n",
       "      <th></th>\n",
       "      <th>0</th>\n",
       "    </tr>\n",
       "  </thead>\n",
       "  <tbody>\n",
       "    <tr>\n",
       "      <th>0</th>\n",
       "      <td>CATCCCATTCCGTTCCGTTGCATTCCATTCCATTACATTTGGATTG...</td>\n",
       "    </tr>\n",
       "    <tr>\n",
       "      <th>1</th>\n",
       "      <td>ATAGAATATATGATACATGATATATATGATATTTAATATAACATAA...</td>\n",
       "    </tr>\n",
       "    <tr>\n",
       "      <th>2</th>\n",
       "      <td>ACTATATGTCATATTGTATAAATATAAAACTTATATATTATCAATT...</td>\n",
       "    </tr>\n",
       "    <tr>\n",
       "      <th>3</th>\n",
       "      <td>GCATTCTTTATTTTACATGTAATAAATTATACATTATAGGGAACAT...</td>\n",
       "    </tr>\n",
       "    <tr>\n",
       "      <th>4</th>\n",
       "      <td>AATGGAATGGTATGGAAAGGAAAGGAATGTAATTGAATAGAATGGA...</td>\n",
       "    </tr>\n",
       "    <tr>\n",
       "      <th>...</th>\n",
       "      <td>...</td>\n",
       "    </tr>\n",
       "    <tr>\n",
       "      <th>9995</th>\n",
       "      <td>TATAAAAGTATATATAACATAATATATAGTTATATATAATATATTA...</td>\n",
       "    </tr>\n",
       "    <tr>\n",
       "      <th>9996</th>\n",
       "      <td>GAGTGGAATGGAGTGTAGTGGAATGGAGTGGAGTGGAATGGAGCGG...</td>\n",
       "    </tr>\n",
       "    <tr>\n",
       "      <th>9997</th>\n",
       "      <td>ATTTTACATGTAATAAATTATACATTATAGGTAACATAGTATATAG...</td>\n",
       "    </tr>\n",
       "    <tr>\n",
       "      <th>9998</th>\n",
       "      <td>ATTCGGGTAGTTTCCATTGCATTCCATTCCATTCCTCTCTGTTCCA...</td>\n",
       "    </tr>\n",
       "    <tr>\n",
       "      <th>9999</th>\n",
       "      <td>TGGAGTGGAATGGAATGGAATGCAAAACAATGGAATCAACTCGATT...</td>\n",
       "    </tr>\n",
       "  </tbody>\n",
       "</table>\n",
       "<p>10000 rows × 1 columns</p>\n",
       "</div>"
      ],
      "text/plain": [
       "                                                      0\n",
       "0     CATCCCATTCCGTTCCGTTGCATTCCATTCCATTACATTTGGATTG...\n",
       "1     ATAGAATATATGATACATGATATATATGATATTTAATATAACATAA...\n",
       "2     ACTATATGTCATATTGTATAAATATAAAACTTATATATTATCAATT...\n",
       "3     GCATTCTTTATTTTACATGTAATAAATTATACATTATAGGGAACAT...\n",
       "4     AATGGAATGGTATGGAAAGGAAAGGAATGTAATTGAATAGAATGGA...\n",
       "...                                                 ...\n",
       "9995  TATAAAAGTATATATAACATAATATATAGTTATATATAATATATTA...\n",
       "9996  GAGTGGAATGGAGTGTAGTGGAATGGAGTGGAGTGGAATGGAGCGG...\n",
       "9997  ATTTTACATGTAATAAATTATACATTATAGGTAACATAGTATATAG...\n",
       "9998  ATTCGGGTAGTTTCCATTGCATTCCATTCCATTCCTCTCTGTTCCA...\n",
       "9999  TGGAGTGGAATGGAATGGAATGCAAAACAATGGAATCAACTCGATT...\n",
       "\n",
       "[10000 rows x 1 columns]"
      ]
     },
     "execution_count": 25,
     "metadata": {},
     "output_type": "execute_result"
    }
   ],
   "source": [
    "kmer_seqs"
   ]
  },
  {
   "cell_type": "code",
   "execution_count": 65,
   "metadata": {},
   "outputs": [
    {
     "data": {
      "text/html": [
       "<div>\n",
       "<style scoped>\n",
       "    .dataframe tbody tr th:only-of-type {\n",
       "        vertical-align: middle;\n",
       "    }\n",
       "\n",
       "    .dataframe tbody tr th {\n",
       "        vertical-align: top;\n",
       "    }\n",
       "\n",
       "    .dataframe thead th {\n",
       "        text-align: right;\n",
       "    }\n",
       "</style>\n",
       "<table border=\"1\" class=\"dataframe\">\n",
       "  <thead>\n",
       "    <tr style=\"text-align: right;\">\n",
       "      <th></th>\n",
       "      <th>0</th>\n",
       "    </tr>\n",
       "  </thead>\n",
       "  <tbody>\n",
       "    <tr>\n",
       "      <th>0</th>\n",
       "      <td>CATCCCATTCCGTTCCGTTGCATTCCATTCCATTACATTTGGATTG...</td>\n",
       "    </tr>\n",
       "    <tr>\n",
       "      <th>1</th>\n",
       "      <td>ATAGAATATATGATACATGATATATATGATATTTAATATAACATAA...</td>\n",
       "    </tr>\n",
       "    <tr>\n",
       "      <th>2</th>\n",
       "      <td>ACTATATGTCATATTGTATAAATATAAAACTTATATATTATCAATT...</td>\n",
       "    </tr>\n",
       "    <tr>\n",
       "      <th>3</th>\n",
       "      <td>GCATTCTTTATTTTACATGTAATAAATTATACATTATAGGGAACAT...</td>\n",
       "    </tr>\n",
       "    <tr>\n",
       "      <th>4</th>\n",
       "      <td>AATGGAATGGTATGGAAAGGAAAGGAATGTAATTGAATAGAATGGA...</td>\n",
       "    </tr>\n",
       "    <tr>\n",
       "      <th>...</th>\n",
       "      <td>...</td>\n",
       "    </tr>\n",
       "    <tr>\n",
       "      <th>9995</th>\n",
       "      <td>TATAAAAGTATATATAACATAATATATAGTTATATATAATATATTA...</td>\n",
       "    </tr>\n",
       "    <tr>\n",
       "      <th>9996</th>\n",
       "      <td>GAGTGGAATGGAGTGTAGTGGAATGGAGTGGAGTGGAATGGAGCGG...</td>\n",
       "    </tr>\n",
       "    <tr>\n",
       "      <th>9997</th>\n",
       "      <td>ATTTTACATGTAATAAATTATACATTATAGGTAACATAGTATATAG...</td>\n",
       "    </tr>\n",
       "    <tr>\n",
       "      <th>9998</th>\n",
       "      <td>ATTCGGGTAGTTTCCATTGCATTCCATTCCATTCCTCTCTGTTCCA...</td>\n",
       "    </tr>\n",
       "    <tr>\n",
       "      <th>9999</th>\n",
       "      <td>TGGAGTGGAATGGAATGGAATGCAAAACAATGGAATCAACTCGATT...</td>\n",
       "    </tr>\n",
       "  </tbody>\n",
       "</table>\n",
       "<p>10000 rows × 1 columns</p>\n",
       "</div>"
      ],
      "text/plain": [
       "                                                      0\n",
       "0     CATCCCATTCCGTTCCGTTGCATTCCATTCCATTACATTTGGATTG...\n",
       "1     ATAGAATATATGATACATGATATATATGATATTTAATATAACATAA...\n",
       "2     ACTATATGTCATATTGTATAAATATAAAACTTATATATTATCAATT...\n",
       "3     GCATTCTTTATTTTACATGTAATAAATTATACATTATAGGGAACAT...\n",
       "4     AATGGAATGGTATGGAAAGGAAAGGAATGTAATTGAATAGAATGGA...\n",
       "...                                                 ...\n",
       "9995  TATAAAAGTATATATAACATAATATATAGTTATATATAATATATTA...\n",
       "9996  GAGTGGAATGGAGTGTAGTGGAATGGAGTGGAGTGGAATGGAGCGG...\n",
       "9997  ATTTTACATGTAATAAATTATACATTATAGGTAACATAGTATATAG...\n",
       "9998  ATTCGGGTAGTTTCCATTGCATTCCATTCCATTCCTCTCTGTTCCA...\n",
       "9999  TGGAGTGGAATGGAATGGAATGCAAAACAATGGAATCAACTCGATT...\n",
       "\n",
       "[10000 rows x 1 columns]"
      ]
     },
     "execution_count": 65,
     "metadata": {},
     "output_type": "execute_result"
    }
   ],
   "source": [
    "kmer_seqs"
   ]
  },
  {
   "cell_type": "code",
   "execution_count": 1,
   "metadata": {},
   "outputs": [
    {
     "ename": "NameError",
     "evalue": "name 'plt' is not defined",
     "output_type": "error",
     "traceback": [
      "\u001b[0;31m---------------------------------------------------------------------------\u001b[0m",
      "\u001b[0;31mNameError\u001b[0m                                 Traceback (most recent call last)",
      "\u001b[0;32m<ipython-input-1-4913b58b8ed6>\u001b[0m in \u001b[0;36m<module>\u001b[0;34m\u001b[0m\n\u001b[1;32m      1\u001b[0m \u001b[0mchrom\u001b[0m\u001b[0;34m=\u001b[0m\u001b[0;36m14\u001b[0m\u001b[0;34m\u001b[0m\u001b[0m\n\u001b[0;32m----> 2\u001b[0;31m \u001b[0mf\u001b[0m\u001b[0;34m,\u001b[0m \u001b[0max\u001b[0m \u001b[0;34m=\u001b[0m \u001b[0mplt\u001b[0m\u001b[0;34m.\u001b[0m\u001b[0msubplots\u001b[0m\u001b[0;34m(\u001b[0m\u001b[0mfigsize\u001b[0m\u001b[0;34m=\u001b[0m\u001b[0;34m(\u001b[0m\u001b[0;36m20\u001b[0m\u001b[0;34m,\u001b[0m\u001b[0;36m3\u001b[0m\u001b[0;34m)\u001b[0m\u001b[0;34m)\u001b[0m\u001b[0;34m\u001b[0m\u001b[0m\n\u001b[0m\u001b[1;32m      3\u001b[0m \u001b[0mnbins\u001b[0m \u001b[0;34m=\u001b[0m \u001b[0mplt\u001b[0m\u001b[0;34m.\u001b[0m\u001b[0mhist\u001b[0m\u001b[0;34m(\u001b[0m\u001b[0mtest_df\u001b[0m\u001b[0;34m[\u001b[0m\u001b[0mtest_df\u001b[0m\u001b[0;34m[\u001b[0m\u001b[0;36m2\u001b[0m\u001b[0;34m]\u001b[0m\u001b[0;34m==\u001b[0m\u001b[0mchrom\u001b[0m\u001b[0;34m]\u001b[0m\u001b[0;34m[\u001b[0m\u001b[0;36m3\u001b[0m\u001b[0;34m]\u001b[0m\u001b[0;34m,\u001b[0m \u001b[0mbins\u001b[0m\u001b[0;34m=\u001b[0m\u001b[0;36m1000\u001b[0m\u001b[0;34m,\u001b[0m \u001b[0mcolor\u001b[0m\u001b[0;34m=\u001b[0m\u001b[0;34m'blue'\u001b[0m\u001b[0;34m)\u001b[0m\u001b[0;34m\u001b[0m\u001b[0m\n\u001b[1;32m      4\u001b[0m \u001b[0mgaps_df\u001b[0m \u001b[0;34m=\u001b[0m \u001b[0mpd\u001b[0m\u001b[0;34m.\u001b[0m\u001b[0mread_table\u001b[0m\u001b[0;34m(\u001b[0m\u001b[0;34m'/home/groups/dpwall/briannac/general_data/reference_genomes/hg38/hg38_agp_file.tsv'\u001b[0m\u001b[0;34m,\u001b[0m \u001b[0mheader\u001b[0m\u001b[0;34m=\u001b[0m\u001b[0;32mNone\u001b[0m\u001b[0;34m)\u001b[0m\u001b[0;34m\u001b[0m\u001b[0m\n\u001b[1;32m      5\u001b[0m \u001b[0mgaps_df\u001b[0m\u001b[0;34m.\u001b[0m\u001b[0mcolumns\u001b[0m \u001b[0;34m=\u001b[0m \u001b[0;34m[\u001b[0m\u001b[0;34m'chrom'\u001b[0m\u001b[0;34m,\u001b[0m \u001b[0;34m'start'\u001b[0m\u001b[0;34m,\u001b[0m \u001b[0;34m'stop'\u001b[0m\u001b[0;34m,\u001b[0m \u001b[0;34m'idx'\u001b[0m\u001b[0;34m,\u001b[0m \u001b[0;34m'type'\u001b[0m\u001b[0;34m,\u001b[0m \u001b[0;34m'ncbi_idx'\u001b[0m\u001b[0;34m,\u001b[0m \u001b[0;34m'location'\u001b[0m\u001b[0;34m,\u001b[0m \u001b[0;36m7\u001b[0m\u001b[0;34m,\u001b[0m \u001b[0;36m8\u001b[0m\u001b[0;34m]\u001b[0m\u001b[0;34m\u001b[0m\u001b[0m\n",
      "\u001b[0;31mNameError\u001b[0m: name 'plt' is not defined"
     ]
    }
   ],
   "source": [
    "chrom=14\n",
    "f, ax = plt.subplots(figsize=(20,3))\n",
    "nbins = plt.hist(localized[localized['chrom_pred']==chrom][3], bins=1000, color='blue')\n",
    "gaps_df = pd.read_table('/home/groups/dpwall/briannac/general_data/reference_genomes/hg38/hg38_agp_file.tsv', header=None)\n",
    "gaps_df.columns = ['chrom', 'start', 'stop', 'idx', 'type', 'ncbi_idx', 'location', 7, 8]\n",
    "gaps_df = gaps_df[gaps_df.type=='N']\n",
    "gaps_df = gaps_df[gaps_df.chrom==('chr'+str(chrom))]\n",
    "#plt.hist(gaps_df.start, bins=1000)\n",
    "for start, stop in zip(gaps_df.start, gaps_df.stop):\n",
    "    r = Rectangle(xy=(start, 0), height=max(2*nbins[1]), width=stop-start, color='grey', alpha=.3)\n",
    "    ax.add_patch(r)\n",
    "nbins = plt.hist(localized[localized['chrom_pred']==chrom][3], bins=1000, color='blue')\n",
    "\n",
    "#plt.xlim(0,stop)\n",
    "plt.show()"
   ]
  },
  {
   "cell_type": "code",
   "execution_count": 12,
   "metadata": {},
   "outputs": [],
   "source": [
    "BAM_MAPPINGS_FILE = '/home/groups/dpwall/briannac/general_data/bam_mappings.csv'\n",
    "bam_mappings = pd.read_csv(BAM_MAPPINGS_FILE, sep='\\t', index_col=1)\n",
    "bam_mappings = bam_mappings[bam_mappings['status']=='Passed_QC_analysis_ready']"
   ]
  },
  {
   "cell_type": "code",
   "execution_count": 41,
   "metadata": {},
   "outputs": [
    {
     "data": {
      "text/html": [
       "<div>\n",
       "<style scoped>\n",
       "    .dataframe tbody tr th:only-of-type {\n",
       "        vertical-align: middle;\n",
       "    }\n",
       "\n",
       "    .dataframe tbody tr th {\n",
       "        vertical-align: top;\n",
       "    }\n",
       "\n",
       "    .dataframe thead th {\n",
       "        text-align: right;\n",
       "    }\n",
       "</style>\n",
       "<table border=\"1\" class=\"dataframe\">\n",
       "  <thead>\n",
       "    <tr style=\"text-align: right;\">\n",
       "      <th></th>\n",
       "      <th>status</th>\n",
       "      <th>participant_id</th>\n",
       "      <th>family</th>\n",
       "      <th>AGRE Blood</th>\n",
       "      <th>NIMH Blood</th>\n",
       "      <th>relationship</th>\n",
       "      <th>FatherID</th>\n",
       "      <th>MotherID</th>\n",
       "      <th>sex_numeric</th>\n",
       "      <th>derived_affected_status</th>\n",
       "      <th>...</th>\n",
       "      <th>number_of_indels</th>\n",
       "      <th>number_of_homozygous_snvs</th>\n",
       "      <th>number_of_heterozygous_snvs</th>\n",
       "      <th>het_to_hom_ratio</th>\n",
       "      <th>ti_tv_ratio</th>\n",
       "      <th>dbsnp_overlap</th>\n",
       "      <th>concordance_with_genotyping_chip</th>\n",
       "      <th>cryptic_relatedness_check</th>\n",
       "      <th>family_based_average_coverage</th>\n",
       "      <th>familial_relationship_check</th>\n",
       "    </tr>\n",
       "    <tr>\n",
       "      <th>sample_id</th>\n",
       "      <th></th>\n",
       "      <th></th>\n",
       "      <th></th>\n",
       "      <th></th>\n",
       "      <th></th>\n",
       "      <th></th>\n",
       "      <th></th>\n",
       "      <th></th>\n",
       "      <th></th>\n",
       "      <th></th>\n",
       "      <th></th>\n",
       "      <th></th>\n",
       "      <th></th>\n",
       "      <th></th>\n",
       "      <th></th>\n",
       "      <th></th>\n",
       "      <th></th>\n",
       "      <th></th>\n",
       "      <th></th>\n",
       "      <th></th>\n",
       "      <th></th>\n",
       "    </tr>\n",
       "  </thead>\n",
       "  <tbody>\n",
       "    <tr>\n",
       "      <th>02C10540</th>\n",
       "      <td>Passed_QC_analysis_ready</td>\n",
       "      <td>AU1005201</td>\n",
       "      <td>AU1005</td>\n",
       "      <td>HI2393</td>\n",
       "      <td>02C10540</td>\n",
       "      <td>father</td>\n",
       "      <td>0</td>\n",
       "      <td>0</td>\n",
       "      <td>1.0</td>\n",
       "      <td>NaN</td>\n",
       "      <td>...</td>\n",
       "      <td>NaN</td>\n",
       "      <td>NaN</td>\n",
       "      <td>NaN</td>\n",
       "      <td>NaN</td>\n",
       "      <td>NaN</td>\n",
       "      <td>NaN</td>\n",
       "      <td>NaN</td>\n",
       "      <td>NaN</td>\n",
       "      <td>NaN</td>\n",
       "      <td>NaN</td>\n",
       "    </tr>\n",
       "    <tr>\n",
       "      <th>02C10541</th>\n",
       "      <td>Passed_QC_analysis_ready</td>\n",
       "      <td>AU1005202</td>\n",
       "      <td>AU1005</td>\n",
       "      <td>HI2394</td>\n",
       "      <td>02C10541</td>\n",
       "      <td>mother</td>\n",
       "      <td>0</td>\n",
       "      <td>0</td>\n",
       "      <td>2.0</td>\n",
       "      <td>NaN</td>\n",
       "      <td>...</td>\n",
       "      <td>NaN</td>\n",
       "      <td>NaN</td>\n",
       "      <td>NaN</td>\n",
       "      <td>NaN</td>\n",
       "      <td>NaN</td>\n",
       "      <td>NaN</td>\n",
       "      <td>NaN</td>\n",
       "      <td>NaN</td>\n",
       "      <td>NaN</td>\n",
       "      <td>NaN</td>\n",
       "    </tr>\n",
       "    <tr>\n",
       "      <th>02C10542</th>\n",
       "      <td>Passed_QC_analysis_ready</td>\n",
       "      <td>AU1005302</td>\n",
       "      <td>AU1005</td>\n",
       "      <td>HI2395</td>\n",
       "      <td>02C10542</td>\n",
       "      <td>sibling</td>\n",
       "      <td>AU1005201</td>\n",
       "      <td>AU1005202</td>\n",
       "      <td>2.0</td>\n",
       "      <td>broad-spectrum</td>\n",
       "      <td>...</td>\n",
       "      <td>NaN</td>\n",
       "      <td>NaN</td>\n",
       "      <td>NaN</td>\n",
       "      <td>NaN</td>\n",
       "      <td>NaN</td>\n",
       "      <td>NaN</td>\n",
       "      <td>NaN</td>\n",
       "      <td>NaN</td>\n",
       "      <td>NaN</td>\n",
       "      <td>NaN</td>\n",
       "    </tr>\n",
       "    <tr>\n",
       "      <th>02C10543</th>\n",
       "      <td>Passed_QC_analysis_ready</td>\n",
       "      <td>AU1005301</td>\n",
       "      <td>AU1005</td>\n",
       "      <td>HI2396</td>\n",
       "      <td>02C10543</td>\n",
       "      <td>sibling</td>\n",
       "      <td>AU1005201</td>\n",
       "      <td>AU1005202</td>\n",
       "      <td>1.0</td>\n",
       "      <td>autism</td>\n",
       "      <td>...</td>\n",
       "      <td>NaN</td>\n",
       "      <td>NaN</td>\n",
       "      <td>NaN</td>\n",
       "      <td>NaN</td>\n",
       "      <td>NaN</td>\n",
       "      <td>NaN</td>\n",
       "      <td>NaN</td>\n",
       "      <td>NaN</td>\n",
       "      <td>NaN</td>\n",
       "      <td>NaN</td>\n",
       "    </tr>\n",
       "    <tr>\n",
       "      <th>02C10702</th>\n",
       "      <td>Passed_QC_analysis_ready</td>\n",
       "      <td>AU1004202</td>\n",
       "      <td>AU1004</td>\n",
       "      <td>HI2397</td>\n",
       "      <td>02C10702</td>\n",
       "      <td>mother</td>\n",
       "      <td>0</td>\n",
       "      <td>0</td>\n",
       "      <td>2.0</td>\n",
       "      <td>NaN</td>\n",
       "      <td>...</td>\n",
       "      <td>NaN</td>\n",
       "      <td>NaN</td>\n",
       "      <td>NaN</td>\n",
       "      <td>NaN</td>\n",
       "      <td>NaN</td>\n",
       "      <td>NaN</td>\n",
       "      <td>NaN</td>\n",
       "      <td>NaN</td>\n",
       "      <td>NaN</td>\n",
       "      <td>NaN</td>\n",
       "    </tr>\n",
       "    <tr>\n",
       "      <th>...</th>\n",
       "      <td>...</td>\n",
       "      <td>...</td>\n",
       "      <td>...</td>\n",
       "      <td>...</td>\n",
       "      <td>...</td>\n",
       "      <td>...</td>\n",
       "      <td>...</td>\n",
       "      <td>...</td>\n",
       "      <td>...</td>\n",
       "      <td>...</td>\n",
       "      <td>...</td>\n",
       "      <td>...</td>\n",
       "      <td>...</td>\n",
       "      <td>...</td>\n",
       "      <td>...</td>\n",
       "      <td>...</td>\n",
       "      <td>...</td>\n",
       "      <td>...</td>\n",
       "      <td>...</td>\n",
       "      <td>...</td>\n",
       "      <td>...</td>\n",
       "    </tr>\n",
       "    <tr>\n",
       "      <th>MH0143008</th>\n",
       "      <td>Passed_QC_analysis_ready</td>\n",
       "      <td>AU3859201</td>\n",
       "      <td>AU3859</td>\n",
       "      <td>HI11780</td>\n",
       "      <td>MH0143008</td>\n",
       "      <td>father</td>\n",
       "      <td>0</td>\n",
       "      <td>0</td>\n",
       "      <td>1.0</td>\n",
       "      <td>NaN</td>\n",
       "      <td>...</td>\n",
       "      <td>NaN</td>\n",
       "      <td>NaN</td>\n",
       "      <td>NaN</td>\n",
       "      <td>NaN</td>\n",
       "      <td>NaN</td>\n",
       "      <td>NaN</td>\n",
       "      <td>NaN</td>\n",
       "      <td>NaN</td>\n",
       "      <td>NaN</td>\n",
       "      <td>NaN</td>\n",
       "    </tr>\n",
       "    <tr>\n",
       "      <th>MH0143009</th>\n",
       "      <td>Passed_QC_analysis_ready</td>\n",
       "      <td>AU3859202</td>\n",
       "      <td>AU3859</td>\n",
       "      <td>HI11781</td>\n",
       "      <td>MH0143009</td>\n",
       "      <td>mother</td>\n",
       "      <td>0</td>\n",
       "      <td>0</td>\n",
       "      <td>2.0</td>\n",
       "      <td>NaN</td>\n",
       "      <td>...</td>\n",
       "      <td>NaN</td>\n",
       "      <td>NaN</td>\n",
       "      <td>NaN</td>\n",
       "      <td>NaN</td>\n",
       "      <td>NaN</td>\n",
       "      <td>NaN</td>\n",
       "      <td>NaN</td>\n",
       "      <td>NaN</td>\n",
       "      <td>NaN</td>\n",
       "      <td>NaN</td>\n",
       "    </tr>\n",
       "    <tr>\n",
       "      <th>MH0143013</th>\n",
       "      <td>Passed_QC_analysis_ready</td>\n",
       "      <td>AU3859303</td>\n",
       "      <td>AU3859</td>\n",
       "      <td>HI11784</td>\n",
       "      <td>MH0143013</td>\n",
       "      <td>sibling</td>\n",
       "      <td>AU3859201</td>\n",
       "      <td>AU3859202</td>\n",
       "      <td>1.0</td>\n",
       "      <td>NaN</td>\n",
       "      <td>...</td>\n",
       "      <td>NaN</td>\n",
       "      <td>NaN</td>\n",
       "      <td>NaN</td>\n",
       "      <td>NaN</td>\n",
       "      <td>NaN</td>\n",
       "      <td>NaN</td>\n",
       "      <td>NaN</td>\n",
       "      <td>NaN</td>\n",
       "      <td>NaN</td>\n",
       "      <td>NaN</td>\n",
       "    </tr>\n",
       "    <tr>\n",
       "      <th>MH0143018</th>\n",
       "      <td>Passed_QC_analysis_ready</td>\n",
       "      <td>AU3859301</td>\n",
       "      <td>AU3859</td>\n",
       "      <td>HI11782</td>\n",
       "      <td>MH0143018</td>\n",
       "      <td>sibling</td>\n",
       "      <td>AU3859201</td>\n",
       "      <td>AU3859202</td>\n",
       "      <td>1.0</td>\n",
       "      <td>autism</td>\n",
       "      <td>...</td>\n",
       "      <td>NaN</td>\n",
       "      <td>NaN</td>\n",
       "      <td>NaN</td>\n",
       "      <td>NaN</td>\n",
       "      <td>NaN</td>\n",
       "      <td>NaN</td>\n",
       "      <td>NaN</td>\n",
       "      <td>NaN</td>\n",
       "      <td>NaN</td>\n",
       "      <td>NaN</td>\n",
       "    </tr>\n",
       "    <tr>\n",
       "      <th>MH0143019</th>\n",
       "      <td>Passed_QC_analysis_ready</td>\n",
       "      <td>AU3859302</td>\n",
       "      <td>AU3859</td>\n",
       "      <td>HI11783</td>\n",
       "      <td>MH0143019</td>\n",
       "      <td>sibling</td>\n",
       "      <td>AU3859201</td>\n",
       "      <td>AU3859202</td>\n",
       "      <td>2.0</td>\n",
       "      <td>autism</td>\n",
       "      <td>...</td>\n",
       "      <td>NaN</td>\n",
       "      <td>NaN</td>\n",
       "      <td>NaN</td>\n",
       "      <td>NaN</td>\n",
       "      <td>NaN</td>\n",
       "      <td>NaN</td>\n",
       "      <td>NaN</td>\n",
       "      <td>NaN</td>\n",
       "      <td>NaN</td>\n",
       "      <td>NaN</td>\n",
       "    </tr>\n",
       "  </tbody>\n",
       "</table>\n",
       "<p>4568 rows × 73 columns</p>\n",
       "</div>"
      ],
      "text/plain": [
       "                             status participant_id  family AGRE Blood  \\\n",
       "sample_id                                                               \n",
       "02C10540   Passed_QC_analysis_ready      AU1005201  AU1005     HI2393   \n",
       "02C10541   Passed_QC_analysis_ready      AU1005202  AU1005     HI2394   \n",
       "02C10542   Passed_QC_analysis_ready      AU1005302  AU1005     HI2395   \n",
       "02C10543   Passed_QC_analysis_ready      AU1005301  AU1005     HI2396   \n",
       "02C10702   Passed_QC_analysis_ready      AU1004202  AU1004     HI2397   \n",
       "...                             ...            ...     ...        ...   \n",
       "MH0143008  Passed_QC_analysis_ready      AU3859201  AU3859    HI11780   \n",
       "MH0143009  Passed_QC_analysis_ready      AU3859202  AU3859    HI11781   \n",
       "MH0143013  Passed_QC_analysis_ready      AU3859303  AU3859    HI11784   \n",
       "MH0143018  Passed_QC_analysis_ready      AU3859301  AU3859    HI11782   \n",
       "MH0143019  Passed_QC_analysis_ready      AU3859302  AU3859    HI11783   \n",
       "\n",
       "          NIMH Blood relationship   FatherID   MotherID sex_numeric  \\\n",
       "sample_id                                                             \n",
       "02C10540    02C10540       father          0          0         1.0   \n",
       "02C10541    02C10541       mother          0          0         2.0   \n",
       "02C10542    02C10542      sibling  AU1005201  AU1005202         2.0   \n",
       "02C10543    02C10543      sibling  AU1005201  AU1005202         1.0   \n",
       "02C10702    02C10702       mother          0          0         2.0   \n",
       "...              ...          ...        ...        ...         ...   \n",
       "MH0143008  MH0143008       father          0          0         1.0   \n",
       "MH0143009  MH0143009       mother          0          0         2.0   \n",
       "MH0143013  MH0143013      sibling  AU3859201  AU3859202         1.0   \n",
       "MH0143018  MH0143018      sibling  AU3859201  AU3859202         1.0   \n",
       "MH0143019  MH0143019      sibling  AU3859201  AU3859202         2.0   \n",
       "\n",
       "          derived_affected_status  ... number_of_indels  \\\n",
       "sample_id                          ...                    \n",
       "02C10540                      NaN  ...              NaN   \n",
       "02C10541                      NaN  ...              NaN   \n",
       "02C10542           broad-spectrum  ...              NaN   \n",
       "02C10543                   autism  ...              NaN   \n",
       "02C10702                      NaN  ...              NaN   \n",
       "...                           ...  ...              ...   \n",
       "MH0143008                     NaN  ...              NaN   \n",
       "MH0143009                     NaN  ...              NaN   \n",
       "MH0143013                     NaN  ...              NaN   \n",
       "MH0143018                  autism  ...              NaN   \n",
       "MH0143019                  autism  ...              NaN   \n",
       "\n",
       "           number_of_homozygous_snvs number_of_heterozygous_snvs  \\\n",
       "sample_id                                                          \n",
       "02C10540                         NaN                         NaN   \n",
       "02C10541                         NaN                         NaN   \n",
       "02C10542                         NaN                         NaN   \n",
       "02C10543                         NaN                         NaN   \n",
       "02C10702                         NaN                         NaN   \n",
       "...                              ...                         ...   \n",
       "MH0143008                        NaN                         NaN   \n",
       "MH0143009                        NaN                         NaN   \n",
       "MH0143013                        NaN                         NaN   \n",
       "MH0143018                        NaN                         NaN   \n",
       "MH0143019                        NaN                         NaN   \n",
       "\n",
       "          het_to_hom_ratio ti_tv_ratio dbsnp_overlap  \\\n",
       "sample_id                                              \n",
       "02C10540               NaN         NaN           NaN   \n",
       "02C10541               NaN         NaN           NaN   \n",
       "02C10542               NaN         NaN           NaN   \n",
       "02C10543               NaN         NaN           NaN   \n",
       "02C10702               NaN         NaN           NaN   \n",
       "...                    ...         ...           ...   \n",
       "MH0143008              NaN         NaN           NaN   \n",
       "MH0143009              NaN         NaN           NaN   \n",
       "MH0143013              NaN         NaN           NaN   \n",
       "MH0143018              NaN         NaN           NaN   \n",
       "MH0143019              NaN         NaN           NaN   \n",
       "\n",
       "          concordance_with_genotyping_chip cryptic_relatedness_check  \\\n",
       "sample_id                                                              \n",
       "02C10540                               NaN                       NaN   \n",
       "02C10541                               NaN                       NaN   \n",
       "02C10542                               NaN                       NaN   \n",
       "02C10543                               NaN                       NaN   \n",
       "02C10702                               NaN                       NaN   \n",
       "...                                    ...                       ...   \n",
       "MH0143008                              NaN                       NaN   \n",
       "MH0143009                              NaN                       NaN   \n",
       "MH0143013                              NaN                       NaN   \n",
       "MH0143018                              NaN                       NaN   \n",
       "MH0143019                              NaN                       NaN   \n",
       "\n",
       "          family_based_average_coverage  familial_relationship_check  \n",
       "sample_id                                                             \n",
       "02C10540                            NaN                          NaN  \n",
       "02C10541                            NaN                          NaN  \n",
       "02C10542                            NaN                          NaN  \n",
       "02C10543                            NaN                          NaN  \n",
       "02C10702                            NaN                          NaN  \n",
       "...                                 ...                          ...  \n",
       "MH0143008                           NaN                          NaN  \n",
       "MH0143009                           NaN                          NaN  \n",
       "MH0143013                           NaN                          NaN  \n",
       "MH0143018                           NaN                          NaN  \n",
       "MH0143019                           NaN                          NaN  \n",
       "\n",
       "[4568 rows x 73 columns]"
      ]
     },
     "execution_count": 41,
     "metadata": {},
     "output_type": "execute_result"
    }
   ],
   "source": [
    "bam_mappings = bam_mappings.drop('09C86428')"
   ]
  }
 ],
 "metadata": {
  "kernelspec": {
   "display_name": "py_36_env",
   "language": "python",
   "name": "py_36_env"
  },
  "language_info": {
   "codemirror_mode": {
    "name": "ipython",
    "version": 3
   },
   "file_extension": ".py",
   "mimetype": "text/x-python",
   "name": "python",
   "nbconvert_exporter": "python",
   "pygments_lexer": "ipython3",
   "version": "3.6.1"
  }
 },
 "nbformat": 4,
 "nbformat_minor": 5
}
