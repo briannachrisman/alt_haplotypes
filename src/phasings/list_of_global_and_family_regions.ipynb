{
 "cells": [
  {
   "cell_type": "code",
   "execution_count": null,
   "id": "steady-cowboy",
   "metadata": {},
   "outputs": [],
   "source": [
    "# Load in phased regions.\n",
    "import pandas as pd\n",
    "import numpy as np\n",
    "\n",
    "PHASINGS_DIR='/home/groups/dpwall/briannac/alt_haplotypes/intermediate_files/phasings'\n",
    "FINAL_PHASINGS_DIR='/home/groups/dpwall/briannac/alt_haplotypes/data/phasings'\n",
    "\n",
    "# Find all family regions.\n",
    "\n",
    "### Note: For some reason, family_regions.df and starts_stops_chrom.df save funny\n",
    "### if run in script, but work ok if run in python notebook...\n",
    "print('building family regions dataframe...')\n",
    "start_ends = pd.read_table(PHASINGS_DIR + '/regions.tsv', header=None)\n",
    "\n",
    "start_ends.columns = ['chrom', 'start_pos', 'end_pos']\n",
    "start_ends['chrom']  = [c.replace('chr', '') for c in start_ends['chrom']]\n",
    "start_ends.sort_values(['chrom', 'start_pos', 'end_pos'], inplace=True)\n",
    "\n",
    "start_ends.index = ['%s.%s.%s' % (i,j,k) for i,j,k in zip(start_ends.chrom, start_ends.start_pos, start_ends.end_pos)]\n",
    "start_ends.to_pickle(FINAL_PHASINGS_DIR + '/family_regions.df')\n",
    "\n",
    "start_ends\n",
    "\n",
    "# Find all start/ends for global regions.\n",
    "print(\"Building grouped dataframe...\")\n",
    "grouped = start_ends.groupby('chrom').aggregate(lambda x: sorted(list(set(x))))\n",
    "grouped['positions'] = [sorted(list(set(g[1].start_pos).union(set(g[1].end_pos)))) for g in grouped.iterrows()]\n",
    "grouped['starts'] = [g[1].positions[:-1] for g in grouped.iterrows()]\n",
    "grouped['ends'] = [g[1].positions[1:] for g in grouped.iterrows()]\n",
    "grouped.drop(['start_pos', 'end_pos', 'positions'], axis=1, inplace=True)\n",
    "grouped.to_pickle(FINAL_PHASINGS_DIR + '/starts_stops_chrom.df')\n",
    "\n",
    "# Create dictionary of family region / index.\n",
    "print('building dictionary of family regions/idx...')\n",
    "fam_region_to_idx = {i:j for i,j in zip(start_ends.index, list(range(len(start_ends))))}\n",
    "idx_to_fam_region = {j:i for i,j in zip(start_ends.index, list(range(len(start_ends))))}\n",
    "np.save(FINAL_PHASINGS_DIR + '/fam_region_to_idx.npy', fam_region_to_idx)\n",
    "np.save(FINAL_PHASINGS_DIR + '/idx_to_fam_region.npy', idx_to_fam_region)\n",
    "\n",
    "# Create dictionary of global region / index\n",
    "print('building dictionary of global regions/idx...')\n",
    "global_regions = ['%s.%i.%i' % (i[0], i[1].starts[s], i[1].ends[s]) for i in grouped.iterrows() for s in range(len(i[1].starts))]\n",
    "idx_to_global_region = {i:region for i,region in enumerate(global_regions)}\n",
    "global_region_to_idx = {region:i for i,region in enumerate(global_regions)}\n",
    "np.save(FINAL_PHASINGS_DIR + '/idx_to_global_region.npy', idx_to_global_region)\n",
    "np.save(FINAL_PHASINGS_DIR + '/global_region_to_idx.npy', global_region_to_idx)"
   ]
  },
  {
   "cell_type": "code",
   "execution_count": 1,
   "id": "abstract-format",
   "metadata": {},
   "outputs": [
    {
     "name": "stdout",
     "output_type": "stream",
     "text": [
      "loading dataframes and dicts...\n"
     ]
    }
   ],
   "source": [
    "import pandas as pd\n",
    "import numpy as np\n",
    "\n",
    "PHASINGS_DIR='/home/groups/dpwall/briannac/alt_haplotypes/intermediate_files/phasings'\n",
    "FINAL_PHASINGS_DIR='/home/groups/dpwall/briannac/alt_haplotypes/data/phasings'\n",
    "\n",
    "print('loading dataframes and dicts...')\n",
    "global_region_to_idx = np.load(FINAL_PHASINGS_DIR + '/global_region_to_idx.npy', allow_pickle=True).item()\n",
    "family_region_to_idx = np.load(FINAL_PHASINGS_DIR + '/fam_region_to_idx.npy', allow_pickle=True).item()\n",
    "grouped = pd.read_pickle(FINAL_PHASINGS_DIR + '/starts_stops_chrom.df')\n",
    "start_ends = pd.read_pickle(FINAL_PHASINGS_DIR + '/family_regions.df')"
   ]
  },
  {
   "cell_type": "code",
   "execution_count": 2,
   "id": "beautiful-balloon",
   "metadata": {},
   "outputs": [
    {
     "data": {
      "text/plain": [
       "102044110"
      ]
     },
     "execution_count": 2,
     "metadata": {},
     "output_type": "execute_result"
    }
   ],
   "source": [
    "len(start_ends)"
   ]
  },
  {
   "cell_type": "code",
   "execution_count": 4,
   "id": "ordinary-syndication",
   "metadata": {},
   "outputs": [
    {
     "data": {
      "text/html": [
       "<div>\n",
       "<style scoped>\n",
       "    .dataframe tbody tr th:only-of-type {\n",
       "        vertical-align: middle;\n",
       "    }\n",
       "\n",
       "    .dataframe tbody tr th {\n",
       "        vertical-align: top;\n",
       "    }\n",
       "\n",
       "    .dataframe thead th {\n",
       "        text-align: right;\n",
       "    }\n",
       "</style>\n",
       "<table border=\"1\" class=\"dataframe\">\n",
       "  <thead>\n",
       "    <tr style=\"text-align: right;\">\n",
       "      <th></th>\n",
       "      <th>chrom</th>\n",
       "      <th>start_pos</th>\n",
       "      <th>end_pos</th>\n",
       "    </tr>\n",
       "  </thead>\n",
       "  <tbody>\n",
       "    <tr>\n",
       "      <th>1.1.13273</th>\n",
       "      <td>1</td>\n",
       "      <td>1</td>\n",
       "      <td>13273</td>\n",
       "    </tr>\n",
       "    <tr>\n",
       "      <th>1.1.13274</th>\n",
       "      <td>1</td>\n",
       "      <td>1</td>\n",
       "      <td>13274</td>\n",
       "    </tr>\n",
       "    <tr>\n",
       "      <th>1.1.13551</th>\n",
       "      <td>1</td>\n",
       "      <td>1</td>\n",
       "      <td>13551</td>\n",
       "    </tr>\n",
       "    <tr>\n",
       "      <th>1.1.14672</th>\n",
       "      <td>1</td>\n",
       "      <td>1</td>\n",
       "      <td>14672</td>\n",
       "    </tr>\n",
       "    <tr>\n",
       "      <th>1.1.49298</th>\n",
       "      <td>1</td>\n",
       "      <td>1</td>\n",
       "      <td>49298</td>\n",
       "    </tr>\n",
       "    <tr>\n",
       "      <th>...</th>\n",
       "      <td>...</td>\n",
       "      <td>...</td>\n",
       "      <td>...</td>\n",
       "    </tr>\n",
       "    <tr>\n",
       "      <th>1.248936570.248956422</th>\n",
       "      <td>1</td>\n",
       "      <td>248936570</td>\n",
       "      <td>248956422</td>\n",
       "    </tr>\n",
       "    <tr>\n",
       "      <th>1.248936944.248956422</th>\n",
       "      <td>1</td>\n",
       "      <td>248936944</td>\n",
       "      <td>248956422</td>\n",
       "    </tr>\n",
       "    <tr>\n",
       "      <th>1.248938893.248956422</th>\n",
       "      <td>1</td>\n",
       "      <td>248938893</td>\n",
       "      <td>248956422</td>\n",
       "    </tr>\n",
       "    <tr>\n",
       "      <th>1.248939011.248956422</th>\n",
       "      <td>1</td>\n",
       "      <td>248939011</td>\n",
       "      <td>248956422</td>\n",
       "    </tr>\n",
       "    <tr>\n",
       "      <th>1.248939309.248956422</th>\n",
       "      <td>1</td>\n",
       "      <td>248939309</td>\n",
       "      <td>248956422</td>\n",
       "    </tr>\n",
       "  </tbody>\n",
       "</table>\n",
       "<p>7815437 rows × 3 columns</p>\n",
       "</div>"
      ],
      "text/plain": [
       "                      chrom  start_pos    end_pos\n",
       "1.1.13273                 1          1      13273\n",
       "1.1.13274                 1          1      13274\n",
       "1.1.13551                 1          1      13551\n",
       "1.1.14672                 1          1      14672\n",
       "1.1.49298                 1          1      49298\n",
       "...                     ...        ...        ...\n",
       "1.248936570.248956422     1  248936570  248956422\n",
       "1.248936944.248956422     1  248936944  248956422\n",
       "1.248938893.248956422     1  248938893  248956422\n",
       "1.248939011.248956422     1  248939011  248956422\n",
       "1.248939309.248956422     1  248939309  248956422\n",
       "\n",
       "[7815437 rows x 3 columns]"
      ]
     },
     "execution_count": 4,
     "metadata": {},
     "output_type": "execute_result"
    }
   ],
   "source": [
    "len(start_ends[start_ends.chrom=='1'])"
   ]
  },
  {
   "cell_type": "code",
   "execution_count": 9,
   "id": "based-permit",
   "metadata": {},
   "outputs": [
    {
     "data": {
      "text/plain": [
       "array([13, 14, 10, 22, 12,  8,  9,  6,  7,  5,  4, 21,  3,  2,  1, 20, 19,\n",
       "       18, 17, 15, 16,  0, 11])"
      ]
     },
     "execution_count": 9,
     "metadata": {},
     "output_type": "execute_result"
    }
   ],
   "source": [
    "np.argsort([len(s) for s in grouped.starts])"
   ]
  },
  {
   "cell_type": "markdown",
   "id": "official-supervision",
   "metadata": {},
   "source": [
    "###### df = pd.read_table('/oak/stanford/groups/dpwall/users/kpaskov/PhasingFamilies/phased_ihart.ms2_del/AU4089.phased.txt')"
   ]
  }
 ],
 "metadata": {
  "kernelspec": {
   "display_name": "py_36_env",
   "language": "python",
   "name": "py_36_env"
  },
  "language_info": {
   "codemirror_mode": {
    "name": "ipython",
    "version": 3
   },
   "file_extension": ".py",
   "mimetype": "text/x-python",
   "name": "python",
   "nbconvert_exporter": "python",
   "pygments_lexer": "ipython3",
   "version": "3.6.1"
  }
 },
 "nbformat": 4,
 "nbformat_minor": 5
}
