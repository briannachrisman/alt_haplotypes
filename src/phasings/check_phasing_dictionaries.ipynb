{
 "cells": [
  {
   "cell_type": "code",
   "execution_count": 40,
   "metadata": {},
   "outputs": [],
   "source": [
    "import numpy as np\n",
    "import pandas as pd\n",
    "PHASINGS_DIR='/home/groups/dpwall/briannac/alt_haplotypes/data/phasings/'\n",
    "\n",
    "fam_region_to_idx = np.load(PHASINGS_DIR +  'fam_region_to_idx.npy', allow_pickle=True).item()\n",
    "idx_to_fam_region = np.load(PHASINGS_DIR +  'idx_to_fam_region.npy', allow_pickle=True).item()\n",
    "global_region_to_idx = np.load(PHASINGS_DIR +  'global_region_to_idx.npy', allow_pickle=True).item()\n",
    "idx_to_global_region = np.load(PHASINGS_DIR +  'idx_to_global_region.npy', allow_pickle=True).item()\n",
    "fam_region_to_global_region = np.load(PHASINGS_DIR + 'fam_regions_to_global_regions.npy', allow_pickle=True)\n",
    "family_info = pd.read_pickle(PHASINGS_DIR + 'fam_list.df')\n",
    "global_region_to_fam_region = np.load(PHASINGS_DIR + 'global_region_to_fam_regions.npy', allow_pickle=True)\n"
   ]
  },
  {
   "cell_type": "markdown",
   "metadata": {},
   "source": [
    "# Check if global and fam regions are in order."
   ]
  },
  {
   "cell_type": "code",
   "execution_count": 14,
   "metadata": {},
   "outputs": [
    {
     "name": "stdout",
     "output_type": "stream",
     "text": [
      "01.248832525.248956422 02.000000001.000123233\n",
      "02.242146559.242193529 03.000000001.000021068\n",
      "03.198160419.198295559 04.000000001.000114531\n",
      "04.190175257.190214555 05.000000001.000020632\n",
      "05.181354402.181538259 06.000000001.000128733\n",
      "06.170736416.170805979 07.000000001.000038425\n",
      "07.159238859.159345973 08.000000001.000189793\n",
      "08.145042140.145138636 09.000000001.000039459\n",
      "09.138204895.138394717 10.000000001.000080882\n",
      "10.133660134.133797422 11.000000001.000159954\n",
      "11.135062773.135086622 12.000000001.000020170\n",
      "12.133263363.133275309 13.000000001.016087203\n",
      "13.114338767.114364328 14.000000001.018223748\n",
      "14.106827220.107043718 15.000000001.017030691\n",
      "15.101939084.101991189 16.000000001.000040605\n",
      "16.090177933.090338345 17.000000001.000147945\n",
      "17.083206566.083257441 18.000000001.000049639\n",
      "18.080257175.080373285 19.000000001.000293072\n",
      "19.058532381.058617616 20.000000001.000093706\n",
      "20.064318652.064444167 21.000000001.005038861\n",
      "21.046635445.046709983 22.000000001.010617132\n",
      "22.050787086.050818468 XX.000000001.000118332\n"
     ]
    }
   ],
   "source": [
    "i = 0\n",
    "for i in idx_to_fam_region:\n",
    "    if i ==0: continue\n",
    "    if idx_to_fam_region[i-1][:2]!=idx_to_fam_region[i][:2]: print(idx_to_fam_region[i-1], idx_to_fam_region[i])\n",
    "        \n",
    "  "
   ]
  },
  {
   "cell_type": "code",
   "execution_count": 15,
   "metadata": {},
   "outputs": [
    {
     "name": "stdout",
     "output_type": "stream",
     "text": [
      "01.248922186.248956422 02.000000001.000123233\n",
      "02.242158879.242193529 03.000000001.000021068\n",
      "03.198171044.198295559 04.000000001.000114531\n",
      "04.190175588.190214555 05.000000001.000020632\n",
      "05.181354402.181538259 06.000000001.000127490\n",
      "06.170741700.170805979 07.000000001.000036128\n",
      "07.159238859.159345973 08.000000001.000094830\n",
      "08.145042140.145138636 09.000000001.000039044\n",
      "09.138214704.138394717 10.000000001.000080882\n",
      "10.133660134.133797422 11.000000001.000128379\n",
      "11.135062773.135086622 12.000000001.000019239\n",
      "12.133263363.133275309 13.000000001.016087203\n",
      "13.114347530.114364328 14.000000001.016122995\n",
      "14.106827220.107043718 15.000000001.017030691\n",
      "15.101980338.101991189 16.000000001.000018850\n",
      "16.090198977.090338345 17.000000001.000147945\n",
      "17.083232231.083257441 18.000000001.000049639\n",
      "18.080257175.080373285 19.000000001.000252541\n",
      "19.058567730.058617616 20.000000001.000088108\n",
      "20.064321739.064444167 21.000000001.005038861\n",
      "21.046635445.046709983 22.000000001.010617132\n",
      "22.050797551.050818468 XX.000000001.000118332\n"
     ]
    }
   ],
   "source": [
    "i = 0\n",
    "for i in idx_to_global_region:\n",
    "    if i ==0: continue\n",
    "    if idx_to_global_region[i-1][:2]!=idx_to_global_region[i][:2]: print(idx_to_global_region[i-1], idx_to_global_region[i])"
   ]
  },
  {
   "cell_type": "markdown",
   "metadata": {},
   "source": [
    "**Good to go.**\n",
    "\n",
    "# Check that individual fam-to-global dictionaries look good.\n"
   ]
  },
  {
   "cell_type": "code",
   "execution_count": 36,
   "metadata": {},
   "outputs": [
    {
     "name": "stdout",
     "output_type": "stream",
     "text": [
      "01.000000001.000054490 01.248922186.248956422\n",
      "02.000000001.000123233 02.242158879.242193529\n",
      "03.000000001.000021068 03.198171044.198295559\n",
      "04.000000001.000114531 04.190175588.190214555\n",
      "05.000000001.000020632 05.181354402.181538259\n",
      "06.000000001.000127490 06.170741700.170805979\n",
      "07.000000001.000036128 07.159238859.159345973\n",
      "08.000000001.000094830 08.145042140.145138636\n",
      "09.000000001.000039044 09.138214704.138394717\n",
      "10.000000001.000080882 10.133660134.133797422\n",
      "11.000000001.000128379 11.135062773.135086622\n",
      "12.000000001.000019239 12.133263363.133275309\n",
      "13.000000001.016087203 13.114347530.114364328\n",
      "14.000000001.016122995 14.106827220.107043718\n",
      "15.000000001.017030691 15.101980338.101991189\n",
      "16.000000001.000018850 16.090198977.090338345\n",
      "17.000000001.000147945 17.083232231.083257441\n",
      "18.000000001.000049639 18.080257175.080373285\n",
      "19.000000001.000252541 19.058567730.058617616\n",
      "20.000000001.000088108 20.064321739.064444167\n",
      "21.000000001.005038861 21.046635445.046709983\n",
      "22.000000001.010617132 22.050797551.050818468\n",
      "XX.000000001.000118332 XX.155993566.156040895\n"
     ]
    }
   ],
   "source": [
    "# Check that individual fam-to-global dictionaries look good.\n",
    "\n",
    "PHASINGS_DIR='/home/groups/dpwall/briannac/alt_haplotypes/intermediate_files/phasings'\n",
    "\n",
    "for chrom in range(1,23):\n",
    "    fam_region_to_global_chrom = np.load(PHASINGS_DIR + '/fam_regions_to_global_region_%02d.npy' % chrom, allow_pickle=True)\n",
    "    print(idx_to_global_region[min([i for  j in fam_region_to_global_chrom for i in j])], \n",
    "          idx_to_global_region[max([i for  j in fam_region_to_global_chrom for i in j])])\n",
    "\n",
    "chrom='XX'\n",
    "fam_region_to_global_chrom = np.load(PHASINGS_DIR + '/fam_regions_to_global_region_%s.npy' % chrom, allow_pickle=True)\n",
    "\n",
    "print(idx_to_global_region[min([i for  j in fam_region_to_global_chrom for i in j])], \n",
    "      idx_to_global_region[max([i for  j in fam_region_to_global_chrom for i in j])])"
   ]
  },
  {
   "cell_type": "markdown",
   "metadata": {},
   "source": [
    "**Good to go**"
   ]
  },
  {
   "cell_type": "markdown",
   "metadata": {},
   "source": [
    "# Check that dictionary of fam_regions --> global_regions seems right."
   ]
  },
  {
   "cell_type": "code",
   "execution_count": 46,
   "metadata": {},
   "outputs": [
    {
     "name": "stdout",
     "output_type": "stream",
     "text": [
      "If no messages above this, success\n"
     ]
    }
   ],
   "source": [
    "for i,global_regions in enumerate(fam_region_to_global_region):\n",
    "    # If first and last global region for given fam region do not correspond to the same chromosome, error.\n",
    "    if idx_to_global_region[global_regions[0]][:2]!=idx_to_global_region[global_regions[-1]][:2]:\n",
    "        print(idx_to_global_region[global_regions[0]], idx_to_global_region[global_regions[-1]])\n",
    "    # If family region and first global region do not correspond to the same chromosme, error.\n",
    "    if idx_to_global_region[global_regions[0]][:2]!=idx_to_fam_region[i][:2]:\n",
    "        print(i,idx_to_global_region[global_regions[0]], idx_to_fam_region[i])\n",
    "    break\n",
    "print(\"If no messages above this, success\")"
   ]
  },
  {
   "cell_type": "code",
   "execution_count": 47,
   "metadata": {},
   "outputs": [
    {
     "name": "stdout",
     "output_type": "stream",
     "text": [
      "If no messages above this, success\n"
     ]
    }
   ],
   "source": [
    "for i,fam_regions in enumerate(global_region_to_fam_region):\n",
    "    # If first and last fam region for given fam region do not correspond to the same chromosome, error.\n",
    "    if idx_to_fam_region[fam_regions[0]][:2]!=idx_to_fam_region[fam_regions[-1]][:2]:\n",
    "        print(idx_to_fam_region[fam_regions[0]], idx_to_fam_region[fam_regions[-1]])\n",
    "    # If global region and first fam region do not correspond to the same chromosme, error.\n",
    "    if idx_to_fam_region[fam_regions[0]][:2]!=idx_to_global_region[i][:2]:\n",
    "        print(i,idx_to_fam_region[fam_regions[0]], idx_to_global_region[i])\n",
    "print(\"If no messages above this, success\")"
   ]
  }
 ],
 "metadata": {
  "kernelspec": {
   "display_name": "py_36_env",
   "language": "python",
   "name": "py_36_env"
  },
  "language_info": {
   "codemirror_mode": {
    "name": "ipython",
    "version": 3
   },
   "file_extension": ".py",
   "mimetype": "text/x-python",
   "name": "python",
   "nbconvert_exporter": "python",
   "pygments_lexer": "ipython3",
   "version": "3.6.1"
  }
 },
 "nbformat": 4,
 "nbformat_minor": 5
}
