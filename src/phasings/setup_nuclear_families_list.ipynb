{
 "cells": [
  {
   "cell_type": "code",
   "execution_count": 1,
   "metadata": {},
   "outputs": [],
   "source": [
    "import pandas as pd\n",
    "from collections import Counter\n",
    "import numpy as np\n",
    "import matplotlib.pyplot as plt\n",
    "from glob import glob\n",
    "import json\n",
    "\n",
    "BAM_MAPPINGS_FILE = '/home/groups/dpwall/briannac/general_data/bam_mappings.csv'\n"
   ]
  },
  {
   "cell_type": "markdown",
   "metadata": {},
   "source": [
    "# Setup dataframe of nuclear families"
   ]
  },
  {
   "cell_type": "code",
   "execution_count": 4,
   "metadata": {},
   "outputs": [],
   "source": [
    "bam_mappings = pd.read_csv(BAM_MAPPINGS_FILE, sep='\\t', index_col=1)\n",
    "bam_mappings = bam_mappings[bam_mappings['status']=='Passed_QC_analysis_ready']\n",
    "sample_id_to_participant = {sample_id:participant_id for participant_id, sample_id in zip(bam_mappings.participant_id, bam_mappings.index)}\n",
    "#bam_mappings = bam_mappings[['_' not in s for s in list(bam_mappings.index)]]"
   ]
  },
  {
   "cell_type": "code",
   "execution_count": 5,
   "metadata": {},
   "outputs": [
    {
     "data": {
      "text/html": [
       "<div>\n",
       "<style scoped>\n",
       "    .dataframe tbody tr th:only-of-type {\n",
       "        vertical-align: middle;\n",
       "    }\n",
       "\n",
       "    .dataframe tbody tr th {\n",
       "        vertical-align: top;\n",
       "    }\n",
       "\n",
       "    .dataframe thead th {\n",
       "        text-align: right;\n",
       "    }\n",
       "</style>\n",
       "<table border=\"1\" class=\"dataframe\">\n",
       "  <thead>\n",
       "    <tr style=\"text-align: right;\">\n",
       "      <th></th>\n",
       "      <th>status</th>\n",
       "      <th>participant_id</th>\n",
       "      <th>family</th>\n",
       "      <th>AGRE Blood</th>\n",
       "      <th>NIMH Blood</th>\n",
       "      <th>relationship</th>\n",
       "      <th>FatherID</th>\n",
       "      <th>MotherID</th>\n",
       "      <th>sex_numeric</th>\n",
       "      <th>derived_affected_status</th>\n",
       "      <th>...</th>\n",
       "      <th>number_of_indels</th>\n",
       "      <th>number_of_homozygous_snvs</th>\n",
       "      <th>number_of_heterozygous_snvs</th>\n",
       "      <th>het_to_hom_ratio</th>\n",
       "      <th>ti_tv_ratio</th>\n",
       "      <th>dbsnp_overlap</th>\n",
       "      <th>concordance_with_genotyping_chip</th>\n",
       "      <th>cryptic_relatedness_check</th>\n",
       "      <th>family_based_average_coverage</th>\n",
       "      <th>familial_relationship_check</th>\n",
       "    </tr>\n",
       "    <tr>\n",
       "      <th>sample_id</th>\n",
       "      <th></th>\n",
       "      <th></th>\n",
       "      <th></th>\n",
       "      <th></th>\n",
       "      <th></th>\n",
       "      <th></th>\n",
       "      <th></th>\n",
       "      <th></th>\n",
       "      <th></th>\n",
       "      <th></th>\n",
       "      <th></th>\n",
       "      <th></th>\n",
       "      <th></th>\n",
       "      <th></th>\n",
       "      <th></th>\n",
       "      <th></th>\n",
       "      <th></th>\n",
       "      <th></th>\n",
       "      <th></th>\n",
       "      <th></th>\n",
       "      <th></th>\n",
       "    </tr>\n",
       "  </thead>\n",
       "  <tbody>\n",
       "  </tbody>\n",
       "</table>\n",
       "<p>0 rows × 73 columns</p>\n",
       "</div>"
      ],
      "text/plain": [
       "Empty DataFrame\n",
       "Columns: [status, participant_id, family, AGRE Blood, NIMH Blood, relationship, FatherID, MotherID, sex_numeric, derived_affected_status, Zygosity_value, zygosity_number, race, race_ethnic, batch_name, notes, alternate_id, family_status, gwas_determined_sex, ngs_determined_sex, project_name, sequencing_center, seq_type, exome_enrichment, bio_seq_source, library_prep_kit, number_of_library_preps, race_detail, gwas_race, gwas_id, gwas_file_loc, geno_chip, sequencing_plate, sequencing_plate_alt_id, sequencing_well, bioinformatic_pipeline, reference_genome, platform_technology, platform, chem_ver, insert_size, seq_core_processing_software, multiplexed_samples, number_of_reads, duplicate_sample, duplicate_percent_match, average_read_length, read_clipping_stats, percent_duplicates, percent_reads_aligned, average_cumulative_coverage, average_exonic_coverage, percent_of_target_regions_>1x, percent_of_target_regions_>10x, percent_of_target_regions_>20x, percent_of_target_regions_>30x, percent_of_target_regions_>40x, percent_of_target_exonic_regions_>1x, percent_of_target_exonic_regions_>10x, percent_of_target_exonic_regions_>20x, percent_of_target_exonic_regions_>30x, percent_of_target_exonic_regions_>40x, number_of_snvs, number_of_indels, number_of_homozygous_snvs, number_of_heterozygous_snvs, het_to_hom_ratio, ti_tv_ratio, dbsnp_overlap, concordance_with_genotyping_chip, cryptic_relatedness_check, family_based_average_coverage, familial_relationship_check]\n",
       "Index: []\n",
       "\n",
       "[0 rows x 73 columns]"
      ]
     },
     "execution_count": 5,
     "metadata": {},
     "output_type": "execute_result"
    }
   ],
   "source": [
    "bam_mappings[bam_mappings['status']!='Passed_QC_analysis_ready']"
   ]
  },
  {
   "cell_type": "code",
   "execution_count": 6,
   "metadata": {},
   "outputs": [],
   "source": [
    "#family_idxs = bam_mappings[bam_mappings.relationship=='sibling'].groupby(['family', 'MotherID', 'FatherID']).aggregate(sum).index\n",
    "fam_info_list = []\n",
    "fams_phased = [f.split('/')[-1].replace('.phased.txt', '') for f in glob('/oak/stanford/groups/dpwall/users/kpaskov/PhasingFamilies/phased_ihart/*.phased.txt')]\n",
    "family_idxs = bam_mappings[bam_mappings.relationship=='sibling'].groupby(['family', 'MotherID', 'FatherID']).count()\n",
    "fam_not_in_phasing = []\n",
    "parent_not_in_ihart = []\n",
    "for fam, mother_id, father_id in family_idxs.index:\n",
    "    if fam not in fams_phased:\n",
    "        fam_not_in_phasing = fam_not_in_phasing + [fam]\n",
    "        continue\n",
    "    elif sum(bam_mappings.participant_id==mother_id)==0:\n",
    "        parent_not_in_ihart = parent_not_in_ihart + [fam]\n",
    "        continue\n",
    "    elif sum(bam_mappings.participant_id==father_id)==0:\n",
    "        parent_not_in_ihart = parent_not_in_ihart + [fam]\n",
    "        continue    \n",
    "    mother_sample = bam_mappings[bam_mappings.participant_id==mother_id].index[0]\n",
    "    father_sample = bam_mappings[bam_mappings.participant_id==father_id].index[0]\n",
    "    sib_samples = list(bam_mappings[(bam_mappings.FatherID==father_id) & (bam_mappings.MotherID==mother_id)].index)\n",
    "    family_idx = '%s.%s.%s' % (fam, mother_id, father_id)\n",
    "    fam_info_list = fam_info_list + [[family_idx, fam, mother_sample, father_sample, sib_samples]]"
   ]
  },
  {
   "cell_type": "code",
   "execution_count": 7,
   "metadata": {},
   "outputs": [],
   "source": [
    "fam_info_df = pd.DataFrame(fam_info_list, columns = ['fam_identifier', 'fam', 'mother_sample', 'father_sample', 'sib_samples'])\n",
    "fam_info_df.index=fam_info_df.fam\n",
    "fam_info_df.to_pickle('/home/groups/dpwall/briannac/alt_haplotypes/data/phasings/fam_list.df')"
   ]
  },
  {
   "cell_type": "code",
   "execution_count": 24,
   "metadata": {},
   "outputs": [],
   "source": [
    "pd.DataFrame(list(fam_info_df.mother_sample) + list(fam_info_df.father_sample) + list(np.concatenate(fam_info_df.sib_samples))).to_csv('/home/groups/dpwall/briannac/alt_haplotypes/data/phasings/samples.tsv', header=None, index=None)"
   ]
  }
 ],
 "metadata": {
  "kernelspec": {
   "display_name": "py_36_env",
   "language": "python",
   "name": "py_36_env"
  },
  "language_info": {
   "codemirror_mode": {
    "name": "ipython",
    "version": 3
   },
   "file_extension": ".py",
   "mimetype": "text/x-python",
   "name": "python",
   "nbconvert_exporter": "python",
   "pygments_lexer": "ipython3",
   "version": "3.6.1"
  }
 },
 "nbformat": 4,
 "nbformat_minor": 4
}
