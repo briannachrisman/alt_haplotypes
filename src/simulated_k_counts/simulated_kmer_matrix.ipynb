{
 "cells": [
  {
   "cell_type": "markdown",
   "metadata": {},
   "source": [
    "# Maximum Likelihood Formulation\n",
    "\n",
    "\n",
    "$P(K|r) = \\prod_{f} P(K_f|r)  $    ***We want to find the region $r$ that maximizes P(K).***\n",
    "\n",
    "$P(K_f|r) = \\sum_{g_m,g_p \\epsilon G} P(g_p|k_p)P(g_m|k_m) \\prod_{c}P(k_{c}|g_{phase}(g_{p}, g_{m})) $  Expression for likelihood of family k-mer distribution.\n",
    "\n",
    "$P(g_i|k) = \\frac{P(k|g_i)}{\\sum_{g_i\\epsilon G} P(k|g_i)}  $  \n",
    "\n",
    "Convert to log probability.\n",
    "\n",
    "$log(P(K|r)) =  \\sum_{fams}  \\left ( log \\sum_{g_{m_f}}\\sum_{g_{p_f}} \\prod_{c_f} P(k_{c_f}|g_p,g_m) - log \\sum_{g_{p_f}} P(k_{p_f}|g_{p_f}) -  log \\sum_{g_{m_f}} P(k_{m_f}|g_{m_f}) \\right )$\n",
    "\n",
    "$G = \\left \\{ 0/0,0/1,1/0,1/1 \\right \\}  $  Set of possible phased genotypes for k-mer.\n",
    "\n",
    "$K$ = Distribution of a k-mer \n",
    "\n",
    "$r$ = region \n",
    "\n",
    "$f$ = family \n",
    "\n",
    "$c$ = children \n",
    "\n",
    "$g$ = phased genotype of k-mer \n",
    "\n",
    "$G$ = set of possible phased genotypes \n",
    "\n",
    "$g_{phase}$ = Phasing dictionary from Kelley's algorithm "
   ]
  },
  {
   "cell_type": "code",
   "execution_count": 5,
   "metadata": {},
   "outputs": [],
   "source": [
    "from scipy.stats import poisson\n",
    "import time\n",
    "import pandas as pd\n",
    "import numpy as np\n",
    "from tqdm import tqdm\n",
    "from Bio import SeqIO\n",
    "import pandas as pd\n",
    "from collections import Counter\n",
    "import numpy as np\n",
    "import matplotlib.pyplot as plt\n",
    "from glob import glob\n",
    "import json\n",
    "\n",
    "PHASINGS_DIR='/home/groups/dpwall/briannac/alt_haplotypes/data/phasings/'\n",
    "BAM_MAPPINGS_FILE = '/home/groups/dpwall/briannac/general_data/bam_mappings.csv'\n",
    "KMER_COUNTS_FILE = '/home/groups/dpwall/briannac/alt_haplotypes/intermediate_files/ground_truth/sample_kmer_matrix/kmers.filt.tsv'\n",
    "KMERS_FILE = '/home/groups/dpwall/briannac/alt_haplotypes/intermediate_files/ground_truth/sample_kmer_matrix/known_alt_haplotype_kmers_filt.txt'"
   ]
  },
  {
   "cell_type": "markdown",
   "metadata": {},
   "source": [
    "# Set up k-mer simulation"
   ]
  },
  {
   "cell_type": "code",
   "execution_count": 19,
   "metadata": {},
   "outputs": [],
   "source": [
    "# Load in family region/global region conversion data.\n",
    "fam_region_to_idx = np.load(PHASINGS_DIR +  'fam_region_to_idx.npy', allow_pickle=True).item()\n",
    "idx_to_fam_region = np.load(PHASINGS_DIR +  'idx_to_fam_region.npy', allow_pickle=True).item()\n",
    "global_region_to_idx = np.load(PHASINGS_DIR +  'global_region_to_idx.npy', allow_pickle=True).item()\n",
    "idx_to_global_region = np.load(PHASINGS_DIR +  'idx_to_global_region.npy', allow_pickle=True).item()\n",
    "fam_region_to_global_region = np.load(PHASINGS_DIR + 'fam_regions_to_global_regions.npy', allow_pickle=True)\n",
    "family_info = pd.read_pickle(PHASINGS_DIR + 'fam_list.df')\n",
    "global_region_to_fam_region = np.load(PHASINGS_DIR + 'global_region_to_fam_regions.npy', allow_pickle=True)\n",
    "\n",
    "\n",
    "# Info from BAM mappings.\n",
    "bam_mappings = pd.read_csv(BAM_MAPPINGS_FILE, sep='\\t', index_col=1)\n",
    "bam_mappings = bam_mappings[bam_mappings['status']=='Passed_QC_analysis_ready']\n",
    "sample_id_to_participant = {sample_id:participant_id for participant_id, sample_id in zip(bam_mappings.participant_id, bam_mappings.index)}\n",
    "\n",
    "\n",
    "# SET SEED\n",
    "np.random.seed(42)"
   ]
  },
  {
   "cell_type": "code",
   "execution_count": 20,
   "metadata": {},
   "outputs": [],
   "source": [
    "def simulate_kmer_family(phased_genotypes_children, kmer_pop_freq, avg_reads_fam):\n",
    "    genotype_m = (np.random.random()<kmer_pop_freq, np.random.random()<kmer_pop_freq)\n",
    "    genotype_p = (np.random.random()<kmer_pop_freq, np.random.random()<kmer_pop_freq)\n",
    "    children_genotypes = [(genotype_m[g_m], genotype_p[g_p]) for g_m, g_p in phased_genotypes_children]\n",
    "    kmer_counts = [np.random.poisson(sum(genotype_m)*avg_reads_fam), np.random.poisson(sum(genotype_p)*avg_reads_fam)] + [np.random.poisson(sum(g)*avg_reads_fam) for g in children_genotypes]\n",
    "    return [k if k>1 else 0 for k in kmer_counts]"
   ]
  },
  {
   "cell_type": "code",
   "execution_count": 30,
   "metadata": {},
   "outputs": [],
   "source": [
    "N_KMERS_TO_SIMULATE = 1000\n",
    "selected_kmers = np.random.choice([i for i in range(len(global_region_to_idx))], N_KMERS_TO_SIMULATE, replace=False)\n",
    "kmer_freq = {k: np.random.random() for k in selected_kmers}\n",
    "freqs = [kmer_freq[global_idx] for global_idx in kmer_freq]\n",
    "family_idxs = [[idx_to_fam_region[i] for i in global_region_to_fam_region[global_idx]] for global_idx in kmer_freq]"
   ]
  },
  {
   "cell_type": "code",
   "execution_count": 31,
   "metadata": {},
   "outputs": [
    {
     "name": "stderr",
     "output_type": "stream",
     "text": [
      " 71%|███████   | 517/728 [02:35<00:58,  3.60it/s]"
     ]
    },
    {
     "name": "stdout",
     "output_type": "stream",
     "text": [
      "AU008003_mat\n"
     ]
    },
    {
     "name": "stderr",
     "output_type": "stream",
     "text": [
      "100%|██████████| 728/728 [03:41<00:00,  3.28it/s]\n"
     ]
    }
   ],
   "source": [
    "avg_read_count = 7.05 \n",
    "fams_included = list(set(family_info.index).intersection([i.replace('.txt', '').split('/')[-1] for i in glob('/home/groups/dpwall/briannac/alt_haplotypes/data/phasings/phased_fams/*.txt')]))\n",
    "f = family_idxs[0]\n",
    "kmer_counts = []\n",
    "columns = []\n",
    "for fam in tqdm(list(fams_included)):  \n",
    "    # Extract mom, dad, and child sample_ids.\n",
    "    children = family_info.loc[fam].sib_samples\n",
    "    mom = family_info.loc[fam].mother_sample\n",
    "    dad = family_info.loc[fam].father_sample\n",
    "    \n",
    "    phased_fam = pd.read_csv('/home/groups/dpwall/briannac/alt_haplotypes/data/phasings/phased_fams/%s.txt' % fam,sep='\\t')\n",
    "    \n",
    "    # Skip this family if children are missing.\n",
    "    children_missing = False\n",
    "    for ch in children:\n",
    "        if sample_id_to_participant[ch] + '_mat' not in phased_fam.columns: \n",
    "            children_missing=True\n",
    "            print(sample_id_to_participant[ch]+'_mat')\n",
    "    if children_missing: continue\n",
    "\n",
    "    \n",
    "    phased_fam.index = ['%s.%09d.%09d' % (('0' + chrom[3:])[-2:].replace('0X', 'XX'), start, end) for chrom, start, end in phased_fam[['chrom', 'start_pos', 'end_pos']].values]\n",
    "    \n",
    "    # Find family regions that global regions correspond to (if no family region ie phasing is unknown, then pick a random region.)\n",
    "    fam_regions = [list(set(phased_fam.index).intersection(f)) for f in family_idxs]\n",
    "    fam_regions = [r[0] if len(r)>0 else np.random.choice(phased_fam.index) for r in fam_regions]\n",
    "    # Set up phasing dataframe.\n",
    "    phased_genotypes_children = [[(phased_fam[sample_id_to_participant[ch]+'_mat'].loc[r],phased_fam[sample_id_to_participant[ch]+'_pat'].loc[r]-2) for ch in children] for r in fam_regions]\n",
    "    kmer_counts = kmer_counts + np.array([simulate_kmer_family(phased_genotype_children, kmer_pop_freq, avg_read_count) for \n",
    "                                           phased_genotype_children, kmer_pop_freq in zip(phased_genotypes_children, freqs)]).T.tolist()\n",
    "    columns = columns + [mom, dad] + children"
   ]
  },
  {
   "cell_type": "code",
   "execution_count": 32,
   "metadata": {},
   "outputs": [],
   "source": [
    "df = pd.DataFrame(kmer_counts).T\n",
    "df.columns = columns\n",
    "df.index = ((i,kmer_freq[i]) for i in selected_kmers)\n",
    "df.to_csv('/home/groups/dpwall/briannac/alt_haplotypes/results/simulated_data/kmer_counts.tsv', sep='\\t')"
   ]
  }
 ],
 "metadata": {
  "kernelspec": {
   "display_name": "py_36_env",
   "language": "python",
   "name": "py_36_env"
  },
  "language_info": {
   "codemirror_mode": {
    "name": "ipython",
    "version": 3
   },
   "file_extension": ".py",
   "mimetype": "text/x-python",
   "name": "python",
   "nbconvert_exporter": "python",
   "pygments_lexer": "ipython3",
   "version": "3.6.1"
  }
 },
 "nbformat": 4,
 "nbformat_minor": 4
}
