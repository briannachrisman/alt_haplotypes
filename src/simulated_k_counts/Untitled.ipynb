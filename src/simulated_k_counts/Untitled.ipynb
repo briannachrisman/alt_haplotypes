{
 "cells": [
  {
   "cell_type": "code",
   "execution_count": 1,
   "metadata": {},
   "outputs": [],
   "source": [
    "import time\n",
    "import pandas as pd\n",
    "import numpy as np\n",
    "from tqdm import tqdm\n",
    "from Bio import SeqIO\n",
    "from collections import Counter\n",
    "import matplotlib.pyplot as plt\n",
    "from glob import glob\n",
    "import json\n",
    "import sys\n",
    "\n",
    "sys.path.append('/home/groups/dpwall/briannac/alt_haplotypes/src/localize')\n",
    "\n",
    "from MLE import *\n",
    "\n",
    "PHASINGS_DIR='/home/groups/dpwall/briannac/alt_haplotypes/data/phasings/'\n",
    "BAM_MAPPINGS_FILE = '/home/groups/dpwall/briannac/general_data/bam_mappings.csv'\n",
    "KMER_COUNTS_FILE = '/home/groups/dpwall/briannac/alt_haplotypes/results/simulated_data/kmer_counts.tsv'"
   ]
  },
  {
   "cell_type": "markdown",
   "metadata": {},
   "source": [
    "# Load Data"
   ]
  },
  {
   "cell_type": "code",
   "execution_count": 2,
   "metadata": {},
   "outputs": [],
   "source": [
    "# Load in family region/global region conversion data.\n",
    "fam_region_to_idx = np.load(PHASINGS_DIR +  'fam_region_to_idx.npy', allow_pickle=True).item()\n",
    "idx_to_fam_region = np.load(PHASINGS_DIR +  'idx_to_fam_region.npy', allow_pickle=True).item()\n",
    "global_region_to_idx = np.load(PHASINGS_DIR +  'global_region_to_idx.npy', allow_pickle=True).item()\n",
    "idx_to_global_region = np.load(PHASINGS_DIR +  'idx_to_global_region.npy', allow_pickle=True).item()\n",
    "fam_idx_to_global_idx = np.load(PHASINGS_DIR + 'fam_regions_to_global_regions.npy', allow_pickle=True)\n",
    "family_info = pd.read_pickle(PHASINGS_DIR + 'fam_list.df')\n",
    "\n",
    "# Info from BAM mappings.\n",
    "bam_mappings = pd.read_csv(BAM_MAPPINGS_FILE, sep='\\t', index_col=1)\n",
    "bam_mappings = bam_mappings[bam_mappings['status']=='Passed_QC_analysis_ready']"
   ]
  },
  {
   "cell_type": "markdown",
   "metadata": {},
   "source": [
    "## Simulated k-mer counts."
   ]
  },
  {
   "cell_type": "code",
   "execution_count": 3,
   "metadata": {},
   "outputs": [],
   "source": [
    "kmer_counts = pd.read_table(KMER_COUNTS_FILE, index_col=0)\n",
    "kmer_counts = kmer_counts[((kmer_counts>0).mean(axis=1)>.05) & ((kmer_counts>0).mean(axis=1)<.5)]\n",
    "kmer_counts.index = [(int(i.split(',')[0].replace('(', '')), float(i.split(',')[1].replace(')', ''))) for i in kmer_counts.index]"
   ]
  },
  {
   "cell_type": "markdown",
   "metadata": {},
   "source": [
    "## Alternative Haplotypes from Decoy Sequence"
   ]
  },
  {
   "cell_type": "code",
   "execution_count": 4,
   "metadata": {},
   "outputs": [],
   "source": [
    "# Load in k-mer counts.\n",
    "KMERS_FILE = '/home/groups/dpwall/briannac/alt_haplotypes/intermediate_files/ground_truth/sample_kmer_matrix/known_alt_haplotype_kmers_filt.txt'\n",
    "KMER_COUNTS_FILE = '/home/groups/dpwall/briannac/alt_haplotypes/intermediate_files/ground_truth/sample_kmer_matrix/kmers.filt.tsv'\n",
    "\n",
    "ref_genome = {r.id:r.description.split('  ')[4].replace('rg:', '') for r in SeqIO.parse(\n",
    "    '/home/groups/dpwall/briannac/general_data/reference_genomes/GRCh38_reference_genome/GRCh38_full_analysis_set_plus_decoy_hla.fa', 'fasta') if 'alt' in r.id}\n",
    "\n",
    "kmer_counts = pd.read_table(KMER_COUNTS_FILE, header=None, index_col=0, nrows=100000, skiprows=10000)\n",
    "kmer_names = pd.read_table(KMERS_FILE, header=None, index_col=0, nrows=100000, skiprows=10000)\n",
    "kmer_counts.index = [(i,ref_genome[j]) for i,j in zip(kmer_names.index, kmer_names[1])]\n",
    "kmer_counts.columns = bam_mappings.index\n",
    "kmer_counts = kmer_counts[((kmer_counts>0).mean(axis=1)>.05) & ((kmer_counts>0).mean(axis=1)<.5)]"
   ]
  },
  {
   "cell_type": "code",
   "execution_count": 182,
   "metadata": {},
   "outputs": [],
   "source": [
    "from scipy.stats import poisson\n",
    "import time\n",
    "import pandas as pd\n",
    "import numpy as np\n",
    "from tqdm import tqdm\n",
    "from Bio import SeqIO\n",
    "from collections import Counter\n",
    "import matplotlib.pyplot as plt\n",
    "from glob import glob\n",
    "import json\n",
    "import pickle\n",
    "\n",
    "def GlobalInterval(L, prob_thresh=.95):\n",
    "    '''\n",
    "        Returns the tightest genomic region where the probability of a k-mer occuring is at least prob_thresh, given the likelihoods L at each region.\n",
    "                Parameters:\n",
    "                        L (array): Array of likelihoods for each global genomic region.\n",
    "                        prob_thresh (float): Minimum probability that a set of genomic regions contains a k-mer.\n",
    "\n",
    "                Returns:\n",
    "                        interval (tuple): The start and end idxs of the tightest global genomic region where the probability of a k-mer residing is at least prob_thresh.\n",
    "        '''    \n",
    "    \n",
    "    P = 2**(L-max(L))\n",
    "    P = P/sum(P)\n",
    "    cumsum = np.cumsum(P)\n",
    "    smallest_end = np.where(cumsum>prob_thresh)[0][0]\n",
    "    cumsum = np.cumsum(P[::-1])[::-1]\n",
    "    largest_start = np.where(cumsum>prob_thresh)[0][-1]\n",
    "    #return (largest_start, smallest_end)\n",
    "    if idx_to_global_region[smallest_end][:2] != idx_to_global_region[largest_start][:2]:  return (largest_start, smallest_end) # > 1000: return (0, len(idx_to_global_region)-1)\n",
    "    shortest_segment = min(smallest_end, len(P)-largest_start)\n",
    "    interval = (np.nan,np.nan)\n",
    "    for start in [s for s in range(largest_start)][::-1]:\n",
    "        for end in range(smallest_end, start+shortest_segment):\n",
    "            if (sum(P[start:end])>prob_thresh) & ((end-start)<shortest_segment):\n",
    "                shortest_segment = end-start\n",
    "                interval = (start,end)\n",
    "                prob = sum(P[start:end])\n",
    "                break\n",
    "        if (smallest_end-start)>=shortest_segment: break\n",
    "    return (start, end)\n",
    "\n",
    "\n",
    "\n",
    "\n",
    "class MLE:\n",
    "    def __init__(self, avg_kmer_depth, poisson_cache_length, eps=0, phasing_error=.05):\n",
    "        self.poisson_cache = [[], []]\n",
    "        self.avg_kmer_depth=avg_kmer_depth\n",
    "        self.poisson_cache[0] = [poisson.pmf(k=k, mu=avg_kmer_depth) for k in range(poisson_cache_length)]\n",
    "        self.poisson_cache[1] = [poisson.pmf(k=k, mu=2*avg_kmer_depth) for k in range(poisson_cache_length)]\n",
    "        self.cached_family_log_likelihood = dict()\n",
    "        self.eps = eps\n",
    "        self.phasing_error=phasing_error\n",
    "        with open('/home/groups/dpwall/briannac/alt_haplotypes/data/phasings/phased_fams/phased_fams_all.pickle', 'rb') as f:\n",
    "            self.phased_fam_dict = pickle.load(f)\n",
    "\n",
    "            \n",
    "    def cached_poisson_pmf(self,k,g):\n",
    "        if (g==0) & (k!=0):\n",
    "            return self.eps\n",
    "        if (k==0) & (g==0): \n",
    "            return 1-3*self.eps #poisson.pmf(g*avg_kmer_depth, k)\n",
    "        else:\n",
    "            return min(max(self.poisson_cache[g-1][k], self.eps), 1-3*self.eps)\n",
    "    \n",
    "    \n",
    "    \n",
    "    \n",
    "    \n",
    "    def family_log_likelihood(self,k_m, k_p, k_cs, phases_ch):\n",
    "\n",
    "        '''\n",
    "        Returns the probability of a k-mer distribution in a family given the each member's kmer counts and the children's phasings. Note: takes about 1 second per 50K family-regions.\n",
    "\n",
    "                Parameters:\n",
    "                        k_m (int): mom_kmer_count (int): A decimal integer\n",
    "                        k_p (int): dad_kmer_count (int): Another decimal integer\n",
    "                        phases_ch (list): A list of of tuples representing each child's phasings (mom's chromome, dad's chromosme) {(0,0), (0,1), (1,0), (1,1)}\n",
    "                        avg_kmer_depth (int): Mean for avg k-mer depth of poisson distribution.\n",
    "\n",
    "                Returns:\n",
    "                        log likelihood (float): The log of the probability of the family's k-mer distribution given the famiy genotypes.\n",
    "        '''    \n",
    "\n",
    "        #key = tuple(sorted([(k_m, k_p, k,g[0], g[1]) for k,g in zip(k_cs, phases_ch)]))\n",
    "        key = tuple([(k_m, k_p, k,g[0], g[1]) for k,g in zip(k_cs, phases_ch)])\n",
    "        # TODO ADD TO KEY\n",
    "        #if key in self.cached_family_log_likelihood: log_P = self.cached_family_log_likelihood[key]\n",
    "        #else:\n",
    "        if True:\n",
    "            possible_gs = [(0,0), (1,1), (0,1), (1,0)]\n",
    "            #log_P_m = np.log2(sum([self.cached_poisson_pmf(k_m, g) for g in [0,1,1,2]]))\n",
    "            #log_P_p= np.log2(sum([self.cached_poisson_pmf(k_p, g) for g in [0,1,1,2]]))\n",
    "            log_P_ch = np.log2(sum([self.cached_poisson_pmf(k_m,sum(g_m))*self.cached_poisson_pmf(k_p,sum(g_p))*\n",
    "                                    np.prod([self.cached_poisson_pmf(k_c, g_m[phase_ch[0]]+g_p[phase_ch[1]]) \n",
    "                                             for k_c, phase_ch in zip(k_cs, phases_ch)]) for g_p in possible_gs for g_m in possible_gs]))\n",
    "            log_P = log_P_ch#-log_P_m-log_P_p\n",
    "            #self.cached_family_log_likelihood[key] = log_P\n",
    "\n",
    "            if log_P>0: print(\"ERROR: log likelihood cannot be > 0\")\n",
    "        return log_P\n",
    "    \n",
    "    \n",
    "    \n",
    "    \n",
    "    \n",
    "    def GlobalLikelihood(self,kmer_count, bam_mappings, family_info, global_region_to_idx, fam_region_to_idx, fam_idx_to_global_idx, MAX_FAMS=None):\n",
    "        global_likelihoods = [] #np.zeros(len(global_region_to_idx)) \n",
    "        fams_included = set(bam_mappings.loc[np.array(kmer_count[1].keys())[kmer_count[1].values>0]].family).intersection(self.phased_fam_dict.keys())\n",
    "        if MAX_FAMS: fams_included = list(fams_included)[:min(MAX_FAMS, len(fams_included))]\n",
    "        for fam in fams_included:\n",
    "            \n",
    "            # Initialize global likelihood\n",
    "            global_likelihood = np.zeros(len(global_region_to_idx)) \n",
    "\n",
    "\n",
    "            # Extract mom, dad, and child sample_ids.\n",
    "            children = family_info.loc[fam].sib_samples\n",
    "            mom = family_info.loc[fam].mother_sample\n",
    "            dad = family_info.loc[fam].father_sample\n",
    "            phased_fam = self.phased_fam_dict[fam]\n",
    "\n",
    "            # Compute likelihood of family's k-mer distribution for each phasing configuration.\n",
    "            fam_likelihood = np.zeros(len(phased_fam))\n",
    "            phasings = [tuple(phased_fam[children].iloc[i].values) for i in range(len(phased_fam))]\n",
    "            possible_phasings = set(phasings)\n",
    "            phasing_ps = np.array([2**self.family_log_likelihood(kmer_count[1][mom], kmer_count[1][dad], kmer_count[1][children], phase) \n",
    "                          for phase in possible_phasings])\n",
    "            phasing_ps = self.phasing_error*(sum(phasing_ps) - phasing_ps) + (1-self.phasing_error)*phasing_ps\n",
    "            for phase, phase_p in zip(possible_phasings, phasing_ps):   \n",
    "                idx = np.where([p==phase for p in phasings])[0]\n",
    "                fam_likelihood[idx] = np.log2(phase_p)\n",
    "            \n",
    "            \n",
    "            #for phase in possible_phasings:\n",
    "            #    idx = np.where([p==phase for p in phasings])[0]\n",
    "            #    fam_likelihood[idx] = self.family_log_likelihood(kmer_count[1][mom], kmer_count[1][dad], kmer_count[1][children], phase) #for i in range(len(phased_fam))\n",
    "            #print(min(fam_likelihood), max(fam_likelihood))\n",
    "            \n",
    "            \n",
    "            # Convert family likelihood region to global region. \n",
    "            for i,l in enumerate(fam_likelihood):\n",
    "                global_idxs = fam_idx_to_global_idx[fam_region_to_idx[phased_fam.index[i]]]\n",
    "                global_likelihood[global_idxs] =  l\n",
    "                \n",
    "            # For regions with unknown phasings in the current family, default to the median likelihood across the rest of the genome.\n",
    "            global_likelihood[global_likelihood==0] = np.median(global_likelihood[global_likelihood!=0])\n",
    "            global_likelihoods = global_likelihoods + [global_likelihood]\n",
    "\n",
    "        return np.array(global_likelihoods).sum(axis=0)\n"
   ]
  },
  {
   "cell_type": "code",
   "execution_count": 194,
   "metadata": {},
   "outputs": [],
   "source": [
    "avg_kmer_depth = 5.5\n",
    "eps = .0001\n",
    "poisson_cache_length = 30\n",
    "with open('/home/groups/dpwall/briannac/alt_haplotypes/data/phasings/phased_fams/phased_fams_all.pickle', 'rb') as f:\n",
    "    phased_fam_dict = pickle.load(f)\n",
    "\n",
    "all_family_phasings = set()\n",
    "for f in phased_fam_dict:\n",
    "    fam_phases = phased_fam_dict[f]\n",
    "    all_family_phasings = all_family_phasings.union(set([tuple(v) for v in fam_phases.values]))\n",
    "    \n",
    "    \n",
    "poisson_cache = [[], []]\n",
    "avg_kmer_depth=avg_kmer_depth\n",
    "poisson_cache[0] = [poisson.pmf(k=k, mu=avg_kmer_depth) for k in range(poisson_cache_length)]\n",
    "poisson_cache[1] = [poisson.pmf(k=k, mu=2*avg_kmer_depth) for k in range(poisson_cache_length)]\n",
    "\n",
    "def cached_poisson_pmf(k,g):\n",
    "    if (g==0) & (k!=0):\n",
    "        return eps\n",
    "    if (k==0) & (g==0): \n",
    "        return 1-3*eps #poisson.pmf(g*avg_kmer_depth, k)\n",
    "    else:\n",
    "        return min(max(poisson_cache[g-1][k], eps), 1-3*eps)"
   ]
  },
  {
   "cell_type": "code",
   "execution_count": 195,
   "metadata": {},
   "outputs": [
    {
     "name": "stdout",
     "output_type": "stream",
     "text": [
      "0\n",
      "1\n",
      "2\n"
     ]
    },
    {
     "ename": "KeyboardInterrupt",
     "evalue": "",
     "output_type": "error",
     "traceback": [
      "\u001b[0;31m---------------------------------------------------------------------------\u001b[0m",
      "\u001b[0;31mKeyboardInterrupt\u001b[0m                         Traceback (most recent call last)",
      "\u001b[0;32m<ipython-input-195-27fce55a88c1>\u001b[0m in \u001b[0;36m<module>\u001b[0;34m\u001b[0m\n\u001b[1;32m     14\u001b[0m                      \u001b[0mcached_poisson_pmf\u001b[0m\u001b[0;34m(\u001b[0m\u001b[0mk_p\u001b[0m\u001b[0;34m,\u001b[0m\u001b[0msum\u001b[0m\u001b[0;34m(\u001b[0m\u001b[0mg_p\u001b[0m\u001b[0;34m)\u001b[0m\u001b[0;34m)\u001b[0m\u001b[0;34m*\u001b[0m\u001b[0;34m\u001b[0m\u001b[0m\n\u001b[1;32m     15\u001b[0m                      np.prod([cached_poisson_pmf(k_c, g_m[phase_ch[0]]+g_p[phase_ch[1]]) for k_c, phase_ch in zip(k_cs, phases_ch)]\n\u001b[0;32m---> 16\u001b[0;31m                             ) for g_p in possible_gs for g_m in possible_gs])\n\u001b[0m\u001b[1;32m     17\u001b[0m                 \u001b[0;31m#family_probability[(k_m, k_p, k_cs, phases_ch)] = P_ch#/P_m/P_p\u001b[0m\u001b[0;34m\u001b[0m\u001b[0;34m\u001b[0m\u001b[0m\n",
      "\u001b[0;32m<ipython-input-195-27fce55a88c1>\u001b[0m in \u001b[0;36m<listcomp>\u001b[0;34m(.0)\u001b[0m\n\u001b[1;32m     14\u001b[0m                      \u001b[0mcached_poisson_pmf\u001b[0m\u001b[0;34m(\u001b[0m\u001b[0mk_p\u001b[0m\u001b[0;34m,\u001b[0m\u001b[0msum\u001b[0m\u001b[0;34m(\u001b[0m\u001b[0mg_p\u001b[0m\u001b[0;34m)\u001b[0m\u001b[0;34m)\u001b[0m\u001b[0;34m*\u001b[0m\u001b[0;34m\u001b[0m\u001b[0m\n\u001b[1;32m     15\u001b[0m                      np.prod([cached_poisson_pmf(k_c, g_m[phase_ch[0]]+g_p[phase_ch[1]]) for k_c, phase_ch in zip(k_cs, phases_ch)]\n\u001b[0;32m---> 16\u001b[0;31m                             ) for g_p in possible_gs for g_m in possible_gs])\n\u001b[0m\u001b[1;32m     17\u001b[0m                 \u001b[0;31m#family_probability[(k_m, k_p, k_cs, phases_ch)] = P_ch#/P_m/P_p\u001b[0m\u001b[0;34m\u001b[0m\u001b[0;34m\u001b[0m\u001b[0m\n",
      "\u001b[0;32m<ipython-input-195-27fce55a88c1>\u001b[0m in \u001b[0;36m<listcomp>\u001b[0;34m(.0)\u001b[0m\n\u001b[1;32m     13\u001b[0m                     [cached_poisson_pmf(k_m,sum(g_m))*\n\u001b[1;32m     14\u001b[0m                      \u001b[0mcached_poisson_pmf\u001b[0m\u001b[0;34m(\u001b[0m\u001b[0mk_p\u001b[0m\u001b[0;34m,\u001b[0m\u001b[0msum\u001b[0m\u001b[0;34m(\u001b[0m\u001b[0mg_p\u001b[0m\u001b[0;34m)\u001b[0m\u001b[0;34m)\u001b[0m\u001b[0;34m*\u001b[0m\u001b[0;34m\u001b[0m\u001b[0m\n\u001b[0;32m---> 15\u001b[0;31m                      np.prod([cached_poisson_pmf(k_c, g_m[phase_ch[0]]+g_p[phase_ch[1]]) for k_c, phase_ch in zip(k_cs, phases_ch)]\n\u001b[0m\u001b[1;32m     16\u001b[0m                             ) for g_p in possible_gs for g_m in possible_gs])\n\u001b[1;32m     17\u001b[0m                 \u001b[0;31m#family_probability[(k_m, k_p, k_cs, phases_ch)] = P_ch#/P_m/P_p\u001b[0m\u001b[0;34m\u001b[0m\u001b[0;34m\u001b[0m\u001b[0m\n",
      "\u001b[0;32m<ipython-input-194-aa2556ff8643>\u001b[0m in \u001b[0;36mcached_poisson_pmf\u001b[0;34m(k, g)\u001b[0m\n\u001b[1;32m     22\u001b[0m         \u001b[0;32mreturn\u001b[0m \u001b[0;36m1\u001b[0m\u001b[0;34m-\u001b[0m\u001b[0;36m3\u001b[0m\u001b[0;34m*\u001b[0m\u001b[0meps\u001b[0m \u001b[0;31m#poisson.pmf(g*avg_kmer_depth, k)\u001b[0m\u001b[0;34m\u001b[0m\u001b[0m\n\u001b[1;32m     23\u001b[0m     \u001b[0;32melse\u001b[0m\u001b[0;34m:\u001b[0m\u001b[0;34m\u001b[0m\u001b[0m\n\u001b[0;32m---> 24\u001b[0;31m         \u001b[0;32mreturn\u001b[0m \u001b[0mmin\u001b[0m\u001b[0;34m(\u001b[0m\u001b[0mmax\u001b[0m\u001b[0;34m(\u001b[0m\u001b[0mpoisson_cache\u001b[0m\u001b[0;34m[\u001b[0m\u001b[0mg\u001b[0m\u001b[0;34m-\u001b[0m\u001b[0;36m1\u001b[0m\u001b[0;34m]\u001b[0m\u001b[0;34m[\u001b[0m\u001b[0mk\u001b[0m\u001b[0;34m]\u001b[0m\u001b[0;34m,\u001b[0m \u001b[0meps\u001b[0m\u001b[0;34m)\u001b[0m\u001b[0;34m,\u001b[0m \u001b[0;36m1\u001b[0m\u001b[0;34m-\u001b[0m\u001b[0;36m3\u001b[0m\u001b[0;34m*\u001b[0m\u001b[0meps\u001b[0m\u001b[0;34m)\u001b[0m\u001b[0;34m\u001b[0m\u001b[0m\n\u001b[0m",
      "\u001b[0;31mKeyboardInterrupt\u001b[0m: "
     ]
    }
   ],
   "source": [
    "import itertools\n",
    "possible_gs = [(0,0),(0,1), (1,0), (1,1)]\n",
    "family_probability_cache = dict()\n",
    "max_count = 10\n",
    "for i,phases_ch in enumerate(all_family_phasings): # Iterate through all children's phasings.\n",
    "    print(i)\n",
    "    for k_m in range(max_count): # Iterate through possible k-mer counts for mom.  (up to 30)\n",
    "        #P_m = sum([mle.cached_poisson_pmf(k_m, g) for g in [0,1,1,2]])\n",
    "        for k_p in range(max_count): # Iterate through possible k-mer counts for dad (up to 30.)\n",
    "            #P_p = sum([mle.cached_poisson_pmf(k_p, g) for g in [0,1,1,2]])\n",
    "            for k_cs in itertools.combinations_with_replacement(range(max_count), len(phases_ch)): # Iterate through possible k-mer counts for children (up to 30.)\n",
    "                family_probability_cache[(k_m, k_p, k_cs, phases_ch)] = sum(\n",
    "                    [cached_poisson_pmf(k_m,sum(g_m))*\n",
    "                     cached_poisson_pmf(k_p,sum(g_p))*\n",
    "                     np.prod([cached_poisson_pmf(k_c, g_m[phase_ch[0]]+g_p[phase_ch[1]]) for k_c, phase_ch in zip(k_cs, phases_ch)]\n",
    "                            ) for g_p in possible_gs for g_m in possible_gs])\n",
    "                #family_probability[(k_m, k_p, k_cs, phases_ch)] = P_ch#/P_m/P_p"
   ]
  },
  {
   "cell_type": "markdown",
   "metadata": {},
   "source": [
    "# Bayesian Estimation"
   ]
  },
  {
   "cell_type": "code",
   "execution_count": 192,
   "metadata": {},
   "outputs": [
    {
     "ename": "SyntaxError",
     "evalue": "unexpected EOF while parsing (<ipython-input-192-6c52e4f49972>, line 1)",
     "output_type": "error",
     "traceback": [
      "\u001b[0;36m  File \u001b[0;32m\"<ipython-input-192-6c52e4f49972>\"\u001b[0;36m, line \u001b[0;32m1\u001b[0m\n\u001b[0;31m    sum([cached_poisson_pmf(k_m,sum(g_m))*cached_poisson_pmf(k_p,sum(g_p))\u001b[0m\n\u001b[0m                                                                          ^\u001b[0m\n\u001b[0;31mSyntaxError\u001b[0m\u001b[0;31m:\u001b[0m unexpected EOF while parsing\n"
     ]
    }
   ],
   "source": [
    "sum([cached_poisson_pmf(k_m,sum(g_m))*cached_poisson_pmf(k_p,sum(g_p))\n",
    "     \n",
    "     \n",
    "     "
   ]
  },
  {
   "cell_type": "code",
   "execution_count": 183,
   "metadata": {},
   "outputs": [
    {
     "ename": "TypeError",
     "evalue": "'int' object is not subscriptable",
     "output_type": "error",
     "traceback": [
      "\u001b[0;31m---------------------------------------------------------------------------\u001b[0m",
      "\u001b[0;31mTypeError\u001b[0m                                 Traceback (most recent call last)",
      "\u001b[0;32m<ipython-input-183-d5d33abbcaff>\u001b[0m in \u001b[0;36m<module>\u001b[0;34m\u001b[0m\n\u001b[1;32m      6\u001b[0m     \u001b[0maa\u001b[0m \u001b[0;34m=\u001b[0m \u001b[0maa\u001b[0m \u001b[0;34m+\u001b[0m \u001b[0;34m[\u001b[0m\u001b[0ma\u001b[0m\u001b[0;34m]\u001b[0m\u001b[0;34m\u001b[0m\u001b[0m\n\u001b[1;32m      7\u001b[0m     \u001b[0mstart\u001b[0m\u001b[0;34m,\u001b[0m \u001b[0mend\u001b[0m \u001b[0;34m=\u001b[0m \u001b[0mGlobalInterval\u001b[0m\u001b[0;34m(\u001b[0m\u001b[0ma\u001b[0m\u001b[0;34m,\u001b[0m \u001b[0;36m.95\u001b[0m\u001b[0;34m)\u001b[0m\u001b[0;34m\u001b[0m\u001b[0m\n\u001b[0;32m----> 8\u001b[0;31m     \u001b[0;32mif\u001b[0m \u001b[0mstart\u001b[0m\u001b[0;34m[\u001b[0m\u001b[0;34m:\u001b[0m\u001b[0;36m2\u001b[0m\u001b[0;34m]\u001b[0m\u001b[0;34m!=\u001b[0m\u001b[0mend\u001b[0m\u001b[0;34m[\u001b[0m\u001b[0;34m:\u001b[0m\u001b[0;36m2\u001b[0m\u001b[0;34m]\u001b[0m\u001b[0;34m:\u001b[0m\u001b[0;34m\u001b[0m\u001b[0m\n\u001b[0m\u001b[1;32m      9\u001b[0m         \u001b[0mprint\u001b[0m\u001b[0;34m(\u001b[0m\u001b[0;34m'True Location:'\u001b[0m\u001b[0;34m,\u001b[0m  \u001b[0mk\u001b[0m\u001b[0;34m[\u001b[0m\u001b[0;36m0\u001b[0m\u001b[0;34m]\u001b[0m\u001b[0;34m[\u001b[0m\u001b[0;36m1\u001b[0m\u001b[0;34m]\u001b[0m\u001b[0;34m,\u001b[0m \u001b[0;34m'Could not localize chromosome with 95% confidence.'\u001b[0m\u001b[0;34m)\u001b[0m\u001b[0;34m\u001b[0m\u001b[0m\n\u001b[1;32m     10\u001b[0m     \u001b[0;32melse\u001b[0m\u001b[0;34m:\u001b[0m\u001b[0;34m\u001b[0m\u001b[0m\n",
      "\u001b[0;31mTypeError\u001b[0m: 'int' object is not subscriptable"
     ]
    }
   ],
   "source": [
    "mle = MLE(5.5, 100, eps=0, phasing_error=.05)\n",
    "aa = []\n",
    "for k in kmer_counts.iloc[::1000].iterrows():\n",
    "    a = mle.GlobalLikelihood(k, bam_mappings, family_info,\n",
    "                         global_region_to_idx, fam_region_to_idx, fam_idx_to_global_idx)#, MAX_FAMS=100)\n",
    "    aa = aa + [a]\n",
    "    start, end = GlobalInterval(a, .95)\n",
    "    if idx_to_global_region[start][:2]!=idx_to_global_region[end][:2]:\n",
    "        print('True Location:',  k[0][1], 'Could not localize chromosome with 95% confidence.')\n",
    "    else:\n",
    "        print('True Location:',  k[0][1], 'Predicted Region:', \n",
    "          '.'.join(idx_to_global_region[start].split('.')[:2]), '-', '.'.join(np.array(idx_to_global_region[end].split('.'))[[0,2]]))\n",
    "    plt.plot(a)\n",
    "    plt.ylabel('Log Likelihood')\n",
    "    plt.xlabel('Global Region')\n",
    "    plt.show()"
   ]
  },
  {
   "cell_type": "code",
   "execution_count": 186,
   "metadata": {},
   "outputs": [
    {
     "ename": "IndentationError",
     "evalue": "unindent does not match any outer indentation level (<tokenize>, line 3)",
     "output_type": "error",
     "traceback": [
      "\u001b[0;36m  File \u001b[0;32m\"<tokenize>\"\u001b[0;36m, line \u001b[0;32m3\u001b[0m\n\u001b[0;31m    else:\u001b[0m\n\u001b[0m    ^\u001b[0m\n\u001b[0;31mIndentationError\u001b[0m\u001b[0;31m:\u001b[0m unindent does not match any outer indentation level\n"
     ]
    }
   ],
   "source": [
    "if True:\n",
    "    if idx_to_global_region[start][:2]!=idx_to_global_region[end][:2]:\n",
    "        print('True Location:',  k[0][1], 'Could not localize chromosome with 95% confidence.')\n",
    "    else:\n",
    "        print('True Location:',  k[0][1], 'Predicted Region:', \n",
    "          '.'.join(idx_to_global_region[start].split('.')[:2]), '-', '.'.join(np.array(idx_to_global_region[end].split('.'))[[0,2]]))\n",
    "    plt.plot(a)\n",
    "    plt.ylabel('Log Likelihood')\n",
    "    plt.xlabel('Global Region')\n",
    "    plt.show()"
   ]
  },
  {
   "cell_type": "code",
   "execution_count": null,
   "metadata": {},
   "outputs": [],
   "source": []
  }
 ],
 "metadata": {
  "kernelspec": {
   "display_name": "py_36_env",
   "language": "python",
   "name": "py_36_env"
  },
  "language_info": {
   "codemirror_mode": {
    "name": "ipython",
    "version": 3
   },
   "file_extension": ".py",
   "mimetype": "text/x-python",
   "name": "python",
   "nbconvert_exporter": "python",
   "pygments_lexer": "ipython3",
   "version": "3.6.1"
  }
 },
 "nbformat": 4,
 "nbformat_minor": 4
}
