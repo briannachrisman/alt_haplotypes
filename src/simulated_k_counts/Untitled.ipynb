{
 "cells": [
  {
   "cell_type": "code",
   "execution_count": 105,
   "metadata": {},
   "outputs": [],
   "source": [
    "import time\n",
    "import pandas as pd\n",
    "import numpy as np\n",
    "from tqdm import tqdm\n",
    "from Bio import SeqIO\n",
    "from collections import Counter\n",
    "import matplotlib.pyplot as plt\n",
    "from glob import glob\n",
    "import json\n",
    "import sys\n",
    "\n",
    "sys.path.append('/home/groups/dpwall/briannac/alt_haplotypes/src/localize')\n",
    "\n",
    "#from MLE import *\n",
    "\n",
    "PHASINGS_DIR='/home/groups/dpwall/briannac/alt_haplotypes/data/phasings/'\n",
    "BAM_MAPPINGS_FILE = '/home/groups/dpwall/briannac/general_data/bam_mappings.csv'\n",
    "KMER_COUNTS_FILE = '/home/groups/dpwall/briannac/alt_haplotypes/results/simulated_data/kmer_counts.tsv'"
   ]
  },
  {
   "cell_type": "code",
   "execution_count": 147,
   "metadata": {},
   "outputs": [],
   "source": [
    "from scipy.stats import poisson\n",
    "import time\n",
    "import pandas as pd\n",
    "import numpy as np\n",
    "from tqdm import tqdm\n",
    "from Bio import SeqIO\n",
    "from collections import Counter\n",
    "import matplotlib.pyplot as plt\n",
    "from glob import glob\n",
    "import json\n",
    "\n",
    "\n",
    "from scipy.stats import poisson\n",
    "import time\n",
    "import pandas as pd\n",
    "import numpy as np\n",
    "from tqdm import tqdm\n",
    "from Bio import SeqIO\n",
    "from collections import Counter\n",
    "import matplotlib.pyplot as plt\n",
    "from glob import glob\n",
    "import json\n",
    "\n",
    "def GlobalInterval(L, prob_thresh=.95):\n",
    "    print('global babay')\n",
    "    '''\n",
    "        Returns the tightest genomic region where the probability of a k-mer occuring is at least prob_thresh, given the likelihoods L at each region.\n",
    "                Parameters:\n",
    "                        L (array): Array of likelihoods for each global genomic region.\n",
    "                        prob_thresh (float): Minimum probability that a set of genomic regions contains a k-mer.\n",
    "\n",
    "                Returns:\n",
    "                        interval (tuple): The start and end idxs of the tightest global genomic region where the probability of a k-mer residing is at least prob_thresh.\n",
    "        '''    \n",
    "    \n",
    "    P = 2**(L-max(L))\n",
    "    P = P/sum(P)\n",
    "    cumsum = np.cumsum(P)\n",
    "    smallest_end = np.where(cumsum>prob_thresh)[0][0]\n",
    "    cumsum = np.cumsum(P[::-1])[::-1]\n",
    "    largest_start = np.where(cumsum>prob_thresh)[0][-1]\n",
    "\n",
    "    shortest_segment = min(smallest_end, len(P)-largest_start)\n",
    "    interval = (np.nan,np.nan)\n",
    "    for start in [s for s in range(largest_start)][::-1]:\n",
    "        for end in range(smallest_end, start+shortest_segment):\n",
    "            if (sum(P[start:end])>prob_thresh) & ((end-start)<shortest_segment):\n",
    "                shortest_segment = end-start\n",
    "                interval = (start,end)\n",
    "                prob = sum(P[start:end])\n",
    "                break\n",
    "        if (smallest_end-start)>=shortest_segment: break\n",
    "    return (start, end)\n",
    "\n",
    "\n",
    "\n",
    "\n",
    "class MLE:\n",
    "    def __init__(self, avg_kmer_depth, poisson_cache_length, eps=0):\n",
    "        print('initializing')\n",
    "        self.poisson_cache = [[], []]\n",
    "        self.avg_kmer_depth=avg_kmer_depth\n",
    "        self.poisson_cache[0] = [poisson.pmf(k=k, mu=avg_kmer_depth) for k in range(poisson_cache_length)]\n",
    "        self.poisson_cache[1] = [poisson.pmf(k=k, mu=2*avg_kmer_depth) for k in range(poisson_cache_length)]\n",
    "        self.cached_family_log_likelihood = dict()\n",
    "        self.eps = eps\n",
    "        \n",
    "        \n",
    "        \n",
    "        \n",
    "        \n",
    "    def cached_poisson_pmf(self,k,g):\n",
    "        if (g==0) & (k!=0):\n",
    "            return self.eps\n",
    "        if (k==0) & (g==0): \n",
    "            return 1-3*self.eps #poisson.pmf(g*avg_kmer_depth, k)\n",
    "        else:\n",
    "            return min(max(self.poisson_cache[g-1][k], self.eps), 1-3*self.eps)\n",
    "    \n",
    "    \n",
    "    \n",
    "    \n",
    "    \n",
    "    def family_log_likelihood(self,k_m, k_p, k_cs, phases_ch):\n",
    "\n",
    "        '''\n",
    "        Returns the probability of a k-mer distribution in a family given the each member's kmer counts and the children's phasings. Note: takes about 1 second per 50K family-regions.\n",
    "\n",
    "                Parameters:\n",
    "                        k_m (int): mom_kmer_count (int): A decimal integer\n",
    "                        k_p (int): dad_kmer_count (int): Another decimal integer\n",
    "                        phases_ch (list): A list of of tuples representing each child's phasings (mom's chromome, dad's chromosme) {(0,0), (0,1), (1,0), (1,1)}\n",
    "                        avg_kmer_depth (int): Mean for avg k-mer depth of poisson distribution.\n",
    "\n",
    "                Returns:\n",
    "                        log likelihood (float): The log of the probability of the family's k-mer distribution given the famiy genotypes.\n",
    "        '''    \n",
    "\n",
    "        key = tuple(sorted([(k_m, k_p, k,g[0], g[1]) for k,g in zip(k_cs, phases_ch)]))\n",
    "        if key in self.cached_family_log_likelihood: log_P = self.cached_family_log_likelihood[key]\n",
    "        else:\n",
    "            possible_gs = [(0,0), (1,1), (0,1), (1,0)]\n",
    "            log_P_m = np.log2(sum([self.cached_poisson_pmf(k_m, g) for g in [0,1,1,2]]))\n",
    "            log_P_p= np.log2(sum([self.cached_poisson_pmf(k_p, g) for g in [0,1,1,2]]))\n",
    "            log_P_ch = np.log2(sum([self.cached_poisson_pmf(k_m,sum(g_m))*self.cached_poisson_pmf(k_p,sum(g_p))*\n",
    "                                    np.prod([self.cached_poisson_pmf(k_c, g_m[phase_ch[0]]+g_p[phase_ch[1]]) \n",
    "                                             for k_c, phase_ch in zip(k_cs, phases_ch)]) for g_p in possible_gs for g_m in possible_gs]))\n",
    "            log_P = log_P_ch-log_P_m-log_P_p\n",
    "            self.cached_family_log_likelihood[key] = log_P\n",
    "\n",
    "            if log_P>0: print(\"ERROR: log likelihood cannot be > 0\")\n",
    "        return log_P\n",
    "    \n",
    "    \n",
    "    \n",
    "    \n",
    "    \n",
    "    def GlobalLikelihood(self,kmer_counts, bam_mappings, family_info, global_region_to_idx, fam_region_to_idx, fam_idx_to_global_idx, MAX_FAMS=100):\n",
    "        final_likelihoods = {}\n",
    "        families_in_file = [i.replace('.txt', '').split('/')[-1] for i in glob(\n",
    "            '/home/groups/dpwall/briannac/alt_haplotypes/data/phasings/phased_fams/*.txt')]\n",
    "        sample_id_to_participant = {sample_id:participant_id for participant_id, sample_id in zip(bam_mappings.participant_id, bam_mappings.index)}\n",
    "        for k in kmer_counts.iterrows():\n",
    "            print(k[0])\n",
    "            global_likelihoods = [] #np.zeros(len(global_region_to_idx)) \n",
    "            fams_included = set(bam_mappings.loc[kmer_counts.columns[k[1]>0]].family).intersection(family_info.index).intersection(families_in_file)\n",
    "            for fam in (list(fams_included)[:MAX_FAMS]):  \n",
    "                global_likelihood = np.zeros(len(global_region_to_idx)) \n",
    "\n",
    "\n",
    "                # Extract mom, dad, and child sample_ids.\n",
    "                children = family_info.loc[fam].sib_samples\n",
    "                mom = family_info.loc[fam].mother_sample\n",
    "                dad = family_info.loc[fam].father_sample\n",
    "                phased_fam = pd.read_csv('/home/groups/dpwall/briannac/alt_haplotypes/data/phasings/phased_fams/%s.txt' % fam,\n",
    "                                         sep='\\t')\n",
    "\n",
    "                # Skip family if dataframe is weird.\n",
    "                missing_children=False\n",
    "                for ch in children:\n",
    "                    if sample_id_to_participant[ch] + '_mat' not in phased_fam.columns: \n",
    "                        missing_children=True\n",
    "                        break\n",
    "                if missing_children: continue\n",
    "                \n",
    "                # Set up phasing dataframe.\n",
    "                for ch in children:\n",
    "                    phased_fam[ch] = [(m,d-2) for m,d in zip(phased_fam[sample_id_to_participant[ch]+'_mat'], phased_fam[sample_id_to_participant[ch]+'_pat'])]\n",
    "                phased_fam.index = ['%s.%09d.%09d' % (('0' + chrom[3:])[-2:].replace('0X', 'XX'), start, end) for chrom, start, end in phased_fam[['chrom', 'start_pos', 'end_pos']].values]\n",
    "                #phased_fam = phased_fam[children]\n",
    "\n",
    "                # Compute family likelihood.\n",
    "                fam_likelihood = [self.family_log_likelihood(k[1][mom], k[1][dad], k[1][children], phased_fam[children].iloc[i]) for i in range(len(phased_fam))]\n",
    "\n",
    "                # Convert family likelihood region to global region. \n",
    "                for i,l in enumerate(fam_likelihood):\n",
    "                    global_idxs = fam_idx_to_global_idx[fam_region_to_idx[phased_fam.index[i]]]\n",
    "                    global_likelihood[global_idxs] =  l\n",
    "                global_likelihood[global_likelihood==0] = np.median(global_likelihood[global_likelihood!=0])\n",
    "                global_likelihoods = global_likelihoods + [global_likelihood]\n",
    "\n",
    "            final_likelihoods[k[0]] = np.array(global_likelihoods).sum(axis=0)\n",
    "            #try:\n",
    "            #    print(GlobalInterval(final_likelihoods[k[0]]))\n",
    "            #except: donothing=True\n",
    "            #print([idx_to_global_region[i] for i in np.argsort(final_likelihood)[::-1][:100:10]])\n",
    "        return final_likelihoods\n",
    "\n"
   ]
  },
  {
   "cell_type": "code",
   "execution_count": 5,
   "metadata": {},
   "outputs": [],
   "source": [
    "# Load in family region/global region conversion data.\n",
    "fam_region_to_idx = np.load(PHASINGS_DIR +  'fam_region_to_idx.npy', allow_pickle=True).item()\n",
    "idx_to_fam_region = np.load(PHASINGS_DIR +  'idx_to_fam_region.npy', allow_pickle=True).item()\n",
    "global_region_to_idx = np.load(PHASINGS_DIR +  'global_region_to_idx.npy', allow_pickle=True).item()\n",
    "idx_to_global_region = np.load(PHASINGS_DIR +  'idx_to_global_region.npy', allow_pickle=True).item()\n",
    "fam_idx_to_global_idx = np.load(PHASINGS_DIR + 'fam_regions_to_global_regions.npy', allow_pickle=True)\n",
    "family_info = pd.read_pickle(PHASINGS_DIR + 'fam_list.df')\n",
    "\n",
    "# Info from BAM mappings.\n",
    "bam_mappings = pd.read_csv(BAM_MAPPINGS_FILE, sep='\\t', index_col=1)\n",
    "bam_mappings = bam_mappings[bam_mappings['status']=='Passed_QC_analysis_ready']\n"
   ]
  },
  {
   "cell_type": "markdown",
   "metadata": {},
   "source": [
    "# Load simulated k-mer counts."
   ]
  },
  {
   "cell_type": "code",
   "execution_count": 63,
   "metadata": {},
   "outputs": [],
   "source": [
    "kmer_counts = pd.read_table(KMER_COUNTS_FILE, index_col=0)\n",
    "kmer_counts = kmer_counts[((kmer_counts>0).mean(axis=1)>.05) & ((kmer_counts>0).mean(axis=1)<.5)]\n",
    "kmer_counts.index = [(int(i.split(',')[0].replace('(', '')), float(i.split(',')[1].replace(')', ''))) for i in kmer_counts.index]"
   ]
  },
  {
   "cell_type": "code",
   "execution_count": 64,
   "metadata": {},
   "outputs": [
    {
     "data": {
      "image/png": "[encoded data removed]",
      "text/plain": [
       "<Figure size 432x288 with 1 Axes>"
      ]
     },
     "metadata": {
      "needs_background": "light"
     },
     "output_type": "display_data"
    }
   ],
   "source": [
    "plt.hist(kmer_counts.iloc[:1000].values.flatten())\n",
    "plt.yscale('log')"
   ]
  },
  {
   "cell_type": "code",
   "execution_count": 65,
   "metadata": {},
   "outputs": [],
   "source": [
    "kmer_counts[kmer_counts==0]=np.nan\n",
    "plt.hist(np.nanmean(kmer_counts, axis=1))"
   ]
  },
  {
   "cell_type": "code",
   "execution_count": 67,
   "metadata": {},
   "outputs": [
    {
     "data": {
      "text/plain": [
       "(array([13., 27., 38., 41., 36., 46., 44., 28., 18., 10.]),\n",
       " array([7.00293255, 7.15044115, 7.29794976, 7.44545836, 7.59296696,\n",
       "        7.74047556, 7.88798417, 8.03549277, 8.18300137, 8.33050997,\n",
       "        8.47801858]),\n",
       " <BarContainer object of 10 artists>)"
      ]
     },
     "execution_count": 67,
     "metadata": {},
     "output_type": "execute_result"
    },
    {
     "data": {
      "image/png": "[encoded data removed]",
      "text/plain": [
       "<Figure size 432x288 with 1 Axes>"
      ]
     },
     "metadata": {
      "needs_background": "light"
     },
     "output_type": "display_data"
    }
   ],
   "source": [
    "plt.hist(np.nanmean(kmer_counts, axis=1))"
   ]
  },
  {
   "cell_type": "markdown",
   "metadata": {},
   "source": [
    "# Ground Truth Kmers"
   ]
  },
  {
   "cell_type": "code",
   "execution_count": 85,
   "metadata": {},
   "outputs": [],
   "source": [
    "# Load in k-mer counts.\n",
    "KMERS_FILE = '/home/groups/dpwall/briannac/alt_haplotypes/intermediate_files/ground_truth/sample_kmer_matrix/known_alt_haplotype_kmers_filt.txt'\n",
    "KMER_COUNTS_FILE = '/home/groups/dpwall/briannac/alt_haplotypes/intermediate_files/ground_truth/sample_kmer_matrix/kmers.filt.tsv'\n",
    "\n",
    "kmer_counts = pd.read_table(KMER_COUNTS_FILE, header=None, index_col=0, nrows=10000, skiprows=100000)\n",
    "kmer_names = pd.read_table(KMERS_FILE, header=None, index_col=0, nrows=10000, skiprows=100000)\n",
    "kmer_counts.index = [(i,j) for i,j in zip(kmer_names.index, kmer_names[1])]\n",
    "kmer_counts.columns = bam_mappings.index\n",
    "kmer_counts = kmer_counts[((kmer_counts>0).mean(axis=1)>.05) & ((kmer_counts>0).mean(axis=1)<.5)]\n",
    "#kmer_names = kmer_names.loc[kmer_counts.index]"
   ]
  },
  {
   "cell_type": "code",
   "execution_count": 165,
   "metadata": {},
   "outputs": [
    {
     "data": {
      "text/plain": [
       "(array([2., 3., 1., 1., 1., 1., 1., 0., 1., 1.]),\n",
       " array([5.11496746, 5.14847072, 5.18197397, 5.21547722, 5.24898048,\n",
       "        5.28248373, 5.31598698, 5.34949024, 5.38299349, 5.41649675,\n",
       "        5.45      ]),\n",
       " <BarContainer object of 10 artists>)"
      ]
     },
     "execution_count": 165,
     "metadata": {},
     "output_type": "execute_result"
    },
    {
     "data": {
      "image/png": "[encoded data removed]",
      "text/plain": [
       "<Figure size 432x288 with 1 Axes>"
      ]
     },
     "metadata": {
      "needs_background": "light"
     },
     "output_type": "display_data"
    }
   ],
   "source": [
    "kmer_counts_filt = kmer_counts[1000:1012].copy()\n",
    "kmer_counts_filt[kmer_counts_filt==0]=np.nan\n",
    "plt.hist(np.nanmean(kmer_counts_filt, axis=1))"
   ]
  },
  {
   "cell_type": "code",
   "execution_count": 8,
   "metadata": {},
   "outputs": [],
   "source": [
    "ref_genome = {r.id:r.description for r in SeqIO.parse(\n",
    "    '/home/groups/dpwall/briannac/general_data/reference_genomes/GRCh38_reference_genome/GRCh38_full_analysis_set_plus_decoy_hla.fa', 'fasta')}"
   ]
  },
  {
   "cell_type": "code",
   "execution_count": 33,
   "metadata": {},
   "outputs": [
    {
     "data": {
      "text/plain": [
       "'chr1_KI270762v1_alt  AC:KI270762.1  gi:568335926  LN:354444  rg:chr1:2448811-2791270  rl:alt-scaffold  M5:b0397179e5a92bb7a3300b68e45a9f72  AS:GRCh38'"
      ]
     },
     "execution_count": 33,
     "metadata": {},
     "output_type": "execute_result"
    }
   ],
   "source": [
    "ref_genome[kmer_counts.index[0][1]]"
   ]
  },
  {
   "cell_type": "code",
   "execution_count": 174,
   "metadata": {},
   "outputs": [
    {
     "data": {
      "text/plain": [
       "{'chr3_GL383526v1_alt', 'chr3_KI270778v1_alt', 'chr3_KI270781v1_alt'}"
      ]
     },
     "execution_count": 174,
     "metadata": {},
     "output_type": "execute_result"
    }
   ],
   "source": [
    "set([i[1] for i in kmer_counts.index[::500]])"
   ]
  },
  {
   "cell_type": "code",
   "execution_count": 175,
   "metadata": {},
   "outputs": [
    {
     "data": {
      "text/plain": [
       "6"
      ]
     },
     "execution_count": 175,
     "metadata": {},
     "output_type": "execute_result"
    }
   ],
   "source": [
    "len(kmer_counts.index[::500])"
   ]
  },
  {
   "cell_type": "markdown",
   "metadata": {},
   "source": [
    "# Load phasings/haplotype information"
   ]
  },
  {
   "cell_type": "code",
   "execution_count": 176,
   "metadata": {},
   "outputs": [
    {
     "name": "stdout",
     "output_type": "stream",
     "text": [
      "initializing\n",
      "('CCTCCTTTCTCAGCAGTGAGGAGGTCTAGGCCTCGGCGGTTTTGAAGAGTCACTGCTGCCAAAGAGTCTAATTGGGATTGTAAAGTAAGGATAGATTTTG', 'chr3_GL383526v1_alt')\n",
      "('CGCTTGAACCTGGAAGGCGGAGGTTGCACTGAGCAGAGATCGTGCCATTGCCAGCCTGGGCAACAAGAGTGAAACTTCGTCTCAAAAAAAAAAAAAAAAA', 'chr3_KI270778v1_alt')\n",
      "('TACTAATATTTTACTTTTTATAAAATATAATAAGCTGTTCCTTATATTTTGTTATGTCATTGAAAAGTTTGAGTTTATGTATCACCAGCCTAAATTATTC', 'chr3_KI270778v1_alt')\n",
      "('CTGAAAGCACCACTACAGATTCTCCAAAGTTTTAAAATTTTGCATATGCTAGGAATTTGAGTAGACATATTGCAAAATCATATTCCATATAGAAGAACCA', 'chr3_KI270778v1_alt')\n",
      "('CTCATCAAATTTAACACATTTGGTGGAATCTTTCAAAAATAAAACAGAACAAAGCAAAAATAGGCAGGCAGAGCAGGTGTTGGCATGTTAAACTTTTCCA', 'chr3_KI270778v1_alt')\n",
      "('TGTGTGTGTGTGTGTGTGTGTGTGTGTGTGTGTATAAAATATGTGTATATATATTATATGTATATATTTAAATATATATTATATGTATATATTTAAAGAT', 'chr3_KI270781v1_alt')\n"
     ]
    }
   ],
   "source": [
    "mle = MLE(5.5, 100, eps=0)\n",
    "a = mle.GlobalLikelihood(kmer_counts.iloc[::500], bam_mappings, family_info,\n",
    "                         global_region_to_idx, fam_region_to_idx, fam_idx_to_global_idx, MAX_FAMS=100)"
   ]
  },
  {
   "cell_type": "code",
   "execution_count": 156,
   "metadata": {},
   "outputs": [],
   "source": [
    "def GlobalInterval(L, prob_thresh=.95):\n",
    "    '''\n",
    "        Returns the tightest genomic region where the probability of a k-mer occuring is at least prob_thresh, given the likelihoods L at each region.\n",
    "                Parameters:\n",
    "                        L (array): Array of likelihoods for each global genomic region.\n",
    "                        prob_thresh (float): Minimum probability that a set of genomic regions contains a k-mer.\n",
    "\n",
    "                Returns:\n",
    "                        interval (tuple): The start and end idxs of the tightest global genomic region where the probability of a k-mer residing is at least prob_thresh.\n",
    "        '''    \n",
    "    \n",
    "    P = 2**(L-max(L))\n",
    "    P = P/sum(P)\n",
    "    cumsum = np.cumsum(P)\n",
    "    smallest_end = np.where(cumsum>prob_thresh)[0][0]\n",
    "    cumsum = np.cumsum(P[::-1])[::-1]\n",
    "    largest_start = np.where(cumsum>prob_thresh)[0][-1]\n",
    "\n",
    "    shortest_segment = min(smallest_end, len(P)-largest_start)\n",
    "    interval = (np.nan,np.nan)\n",
    "    for start in [s for s in range(largest_start)][::-1]:\n",
    "        for end in range(smallest_end, start+shortest_segment):\n",
    "            if (sum(P[start:end])>prob_thresh) & ((end-start)<shortest_segment):\n",
    "                shortest_segment = end-start\n",
    "                interval = (start,end)\n",
    "                prob = sum(P[start:end])\n",
    "                break\n",
    "        if (smallest_end-start)>=shortest_segment: break\n",
    "    return (start, end)"
   ]
  },
  {
   "cell_type": "code",
   "execution_count": 186,
   "metadata": {},
   "outputs": [
    {
     "name": "stdout",
     "output_type": "stream",
     "text": [
      "true location:  chr3:151589366-151759498 MLE prediction:  03.153693244.153693245-03.155083482.155083576\n",
      "true location:  chr3:166300784-166544173 MLE prediction:  03.156516550.156519356-03.167797708.167799060\n",
      "true location:  chr3:166300784-166544173 MLE prediction:  03.165302424.165318566-03.167479269.167500375\n",
      "true location:  chr3:166300784-166544173 MLE prediction:  03.164652044.164660248-03.167446626.167479269\n",
      "true location:  chr3:166300784-166544173 MLE prediction:  03.164660248.164660671-03.167446626.167479269\n",
      "true location:  chr3:184425340-184533338 MLE prediction:  03.184351867.184372478-03.184466254.184489584\n"
     ]
    },
    {
     "data": {
      "image/png": "[encoded data removed]",
      "text/plain": [
       "<Figure size 432x288 with 1 Axes>"
      ]
     },
     "metadata": {
      "needs_background": "light"
     },
     "output_type": "display_data"
    }
   ],
   "source": [
    "for i in range(len(a)):\n",
    "    L =list(a.values())[i]\n",
    "    P = 2**(L-max(L))\n",
    "    plt.plot(P/sum(P), '.')\n",
    "    start, end = GlobalInterval(L, .95)\n",
    "    print('true location: ', ref_genome[list(a.keys())[i][1]].split('  ')[4].replace('rg:', ''),\n",
    "          'MLE prediction: ', idx_to_global_region[start] + '-' + idx_to_global_region[end])"
   ]
  },
  {
   "cell_type": "code",
   "execution_count": 94,
   "metadata": {},
   "outputs": [],
   "source": [
    "def GlobalInterval(L, prob_thresh=.95):\n",
    "    print('global babay')\n",
    "    '''\n",
    "        Returns the tightest genomic region where the probability of a k-mer occuring is at least prob_thresh, given the likelihoods L at each region.\n",
    "                Parameters:\n",
    "                        L (array): Array of likelihoods for each global genomic region.\n",
    "                        prob_thresh (float): Minimum probability that a set of genomic regions contains a k-mer.\n",
    "\n",
    "                Returns:\n",
    "                        interval (tuple): The start and end idxs of the tightest global genomic region where the probability of a k-mer residing is at least prob_thresh.\n",
    "        '''    \n",
    "    \n",
    "    P = 2**(L-max(L))\n",
    "    P = P/sum(P)\n",
    "    cumsum = np.cumsum(P)\n",
    "    smallest_end = np.where(cumsum>prob_thresh)[0][0]\n",
    "    cumsum = np.cumsum(P[::-1])[::-1]\n",
    "    largest_start = np.where(cumsum>prob_thresh)[0][-1]\n",
    "\n",
    "    shortest_segment = min(smallest_end, len(P)-largest_start)\n",
    "    interval = (np.nan,np.nan)\n",
    "    for start in [s for s in range(largest_start)][::-1]:\n",
    "        for end in range(smallest_end, start+shortest_segment):\n",
    "            if (sum(P[start:end])>prob_thresh) & ((end-start)<shortest_segment):\n",
    "                shortest_segment = end-start\n",
    "                interval = (start,end)\n",
    "                prob = sum(P[start:end])\n",
    "                break\n",
    "        if (smallest_end-start)>=shortest_segment: break\n",
    "    return (start, end)"
   ]
  },
  {
   "cell_type": "code",
   "execution_count": 149,
   "metadata": {},
   "outputs": [
    {
     "data": {
      "text/plain": [
       "[<matplotlib.lines.Line2D at 0x7f6232f0aa90>]"
      ]
     },
     "execution_count": 149,
     "metadata": {},
     "output_type": "execute_result"
    },
    {
     "data": {
      "image/png": "[encoded data removed]",
      "text/plain": [
       "<Figure size 432x288 with 1 Axes>"
      ]
     },
     "metadata": {
      "needs_background": "light"
     },
     "output_type": "display_data"
    }
   ],
   "source": [
    "L =list(a.values())[0]\n",
    "P = 2**(L-max(L))\n",
    "plt.plot(P/sum(P), '.')\n"
   ]
  },
  {
   "cell_type": "code",
   "execution_count": 150,
   "metadata": {},
   "outputs": [
    {
     "name": "stdout",
     "output_type": "stream",
     "text": [
      "global babay\n",
      "37546 37704\n"
     ]
    }
   ],
   "source": [
    "start, end = GlobalInterval(L, .95)\n",
    "print(ref_genome[list(a.keys())[0][1]])\n",
    "print(idx_to_global_region[start], idx_to_global_region[end])"
   ]
  },
  {
   "cell_type": "code",
   "execution_count": 151,
   "metadata": {},
   "outputs": [
    {
     "data": {
      "text/plain": [
       "('03.074420335.074427723', '03.075634544.075663659')"
      ]
     },
     "execution_count": 151,
     "metadata": {},
     "output_type": "execute_result"
    }
   ],
   "source": [
    "idx_to_global_region[start], idx_to_global_region[end]"
   ]
  },
  {
   "cell_type": "code",
   "execution_count": 145,
   "metadata": {},
   "outputs": [
    {
     "data": {
      "text/plain": [
       "'chr3_GL383526v1_alt  AC:GL383526.1  gi:302201752  LN:180671  rg:chr3:151589366-151759498  rl:alt-scaffold  M5:620913159e2fbd4e931ac120e3c584c9  AS:GRCh38'"
      ]
     },
     "execution_count": 145,
     "metadata": {},
     "output_type": "execute_result"
    }
   ],
   "source": [
    "ref_genome[list(a.keys())[0][1]]"
   ]
  },
  {
   "cell_type": "code",
   "execution_count": 119,
   "metadata": {},
   "outputs": [
    {
     "name": "stdout",
     "output_type": "stream",
     "text": [
      "(12995, 0.12255943984653905)\n"
     ]
    },
    {
     "data": {
      "text/plain": [
       "[<matplotlib.lines.Line2D at 0x7fbd214fa160>]"
      ]
     },
     "execution_count": 119,
     "metadata": {},
     "output_type": "execute_result"
    },
    {
     "data": {
      "image/png": "[encoded data removed]",
      "text/plain": [
       "<Figure size 432x288 with 1 Axes>"
      ]
     },
     "metadata": {
      "needs_background": "light"
     },
     "output_type": "display_data"
    }
   ],
   "source": [
    "idx = 1\n",
    "key = list(global_likelihoods.keys())[idx]\n",
    "L = global_likelihoods[key]\n",
    "plt.vlines(x=key[0], ymin=min(L), ymax=max(L), color='red', linestyle='dashed')\n",
    "print(key)\n",
    "plt.plot(L)"
   ]
  }
 ],
 "metadata": {
  "kernelspec": {
   "display_name": "py_36_env",
   "language": "python",
   "name": "py_36_env"
  },
  "language_info": {
   "codemirror_mode": {
    "name": "ipython",
    "version": 3
   },
   "file_extension": ".py",
   "mimetype": "text/x-python",
   "name": "python",
   "nbconvert_exporter": "python",
   "pygments_lexer": "ipython3",
   "version": "3.6.1"
  }
 },
 "nbformat": 4,
 "nbformat_minor": 4
}
